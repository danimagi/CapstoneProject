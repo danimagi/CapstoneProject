{
 "cells": [
  {
   "cell_type": "markdown",
   "id": "29905018",
   "metadata": {},
   "source": [
    "# Random Forest Model and Feature Importance"
   ]
  },
  {
   "cell_type": "markdown",
   "id": "0099e47e",
   "metadata": {},
   "source": [
    "In this notebook, we will be fitting a **Random Forest Model** on our sampled clean dataset (with all features). We will begin by fitting on our imbalanced clean dataset to have a baseline AUC score. Then we will fit to our downsampled data."
   ]
  },
  {
   "cell_type": "code",
   "execution_count": 2,
   "id": "20babe94",
   "metadata": {},
   "outputs": [],
   "source": [
    "import numpy as np\n",
    "import pandas as pd\n",
    "from matplotlib import pyplot as plt\n",
    "%matplotlib inline\n",
    "import seaborn as sns\n",
    "\n",
    "from sklearn.model_selection import train_test_split\n",
    "from sklearn.preprocessing import StandardScaler\n",
    "from sklearn.metrics import plot_confusion_matrix, confusion_matrix\n",
    "from sklearn.metrics import classification_report\n",
    "from sklearn.metrics import roc_curve, roc_auc_score\n",
    "from sklearn.metrics import plot_roc_curve\n",
    "\n",
    "from sklearn.ensemble import RandomForestClassifier\n",
    "from sklearn.inspection import permutation_importance\n",
    "from sklearn.model_selection import GridSearchCV\n",
    "\n",
    "from sklearn.inspection import permutation_importance\n",
    "\n",
    "\n",
    "#Some of these packages will generate a ton of warnings...\n",
    "import warnings\n",
    "warnings.filterwarnings(\"ignore\")"
   ]
  },
  {
   "cell_type": "markdown",
   "id": "9918613b",
   "metadata": {},
   "source": [
    "We begin by reading in the pickled train and validation sets from the previous notebook: "
   ]
  },
  {
   "cell_type": "code",
   "execution_count": 10,
   "id": "6d076c1f",
   "metadata": {},
   "outputs": [],
   "source": [
    "# Imbalanced Clean Data \n",
    "X_train = pd.read_pickle('X_train.pkl')\n",
    "y_train = pd.read_pickle(\"y_train.pkl\")\n",
    "\n",
    "X_validation = pd.read_pickle(\"X_validation.pkl\")\n",
    "y_validation = pd.read_pickle(\"y_validation.pkl\")"
   ]
  },
  {
   "cell_type": "markdown",
   "id": "2c1da00e",
   "metadata": {},
   "source": [
    "As well as the pickled downsampled train and validation sets:"
   ]
  },
  {
   "cell_type": "code",
   "execution_count": 7,
   "id": "fcaa8e3e",
   "metadata": {},
   "outputs": [],
   "source": [
    "# Downsampled Data (20% sampling rate)\n",
    "%store -r X_train_down_bal_20\n",
    "%store -r y_train_down_bal_20"
   ]
  },
  {
   "cell_type": "markdown",
   "id": "9f3805ac",
   "metadata": {},
   "source": [
    "---"
   ]
  },
  {
   "cell_type": "markdown",
   "id": "02811770",
   "metadata": {},
   "source": [
    "### Base Random Forest Model -- No Sampling"
   ]
  },
  {
   "cell_type": "markdown",
   "id": "6af38a58",
   "metadata": {},
   "source": [
    "First let's fit our base model on the imbalanced data. We will continue to use AUC as our scoring metric. "
   ]
  },
  {
   "cell_type": "markdown",
   "id": "3a033a29",
   "metadata": {},
   "source": [
    "We will search for the optimal hyperparameters for our base Random Forest model using a grid search. Let's keep the max_depth low to just 2 decisions for a given tree, and have a maximum of 41 estimators (trees) to minimize the iterations of the cv folds."
   ]
  },
  {
   "cell_type": "code",
   "execution_count": 12,
   "id": "252e1b67",
   "metadata": {},
   "outputs": [
    {
     "name": "stdout",
     "output_type": "stream",
     "text": [
      "Fitting 3 folds for each of 10 candidates, totalling 30 fits\n",
      "[CV] END ........................max_depth=1, n_estimators=1; total time=   0.7s\n",
      "[CV] END ........................max_depth=1, n_estimators=1; total time=   0.4s\n",
      "[CV] END ........................max_depth=1, n_estimators=1; total time=   0.4s\n",
      "[CV] END .......................max_depth=1, n_estimators=11; total time=   1.3s\n",
      "[CV] END .......................max_depth=1, n_estimators=11; total time=   1.2s\n",
      "[CV] END .......................max_depth=1, n_estimators=11; total time=   1.0s\n",
      "[CV] END .......................max_depth=1, n_estimators=21; total time=   1.8s\n",
      "[CV] END .......................max_depth=1, n_estimators=21; total time=   1.8s\n",
      "[CV] END .......................max_depth=1, n_estimators=21; total time=   2.1s\n",
      "[CV] END .......................max_depth=1, n_estimators=31; total time=   2.6s\n",
      "[CV] END .......................max_depth=1, n_estimators=31; total time=   2.6s\n",
      "[CV] END .......................max_depth=1, n_estimators=31; total time=   2.9s\n",
      "[CV] END .......................max_depth=1, n_estimators=41; total time=   3.4s\n",
      "[CV] END .......................max_depth=1, n_estimators=41; total time=   3.3s\n",
      "[CV] END .......................max_depth=1, n_estimators=41; total time=   4.3s\n",
      "[CV] END ........................max_depth=2, n_estimators=1; total time=   0.5s\n",
      "[CV] END ........................max_depth=2, n_estimators=1; total time=   0.4s\n",
      "[CV] END ........................max_depth=2, n_estimators=1; total time=   0.5s\n",
      "[CV] END .......................max_depth=2, n_estimators=11; total time=   1.8s\n",
      "[CV] END .......................max_depth=2, n_estimators=11; total time=   2.0s\n",
      "[CV] END .......................max_depth=2, n_estimators=11; total time=   1.5s\n",
      "[CV] END .......................max_depth=2, n_estimators=21; total time=   2.6s\n",
      "[CV] END .......................max_depth=2, n_estimators=21; total time=   2.6s\n",
      "[CV] END .......................max_depth=2, n_estimators=21; total time=   2.7s\n",
      "[CV] END .......................max_depth=2, n_estimators=31; total time=   4.0s\n",
      "[CV] END .......................max_depth=2, n_estimators=31; total time=   4.2s\n",
      "[CV] END .......................max_depth=2, n_estimators=31; total time=   5.4s\n",
      "[CV] END .......................max_depth=2, n_estimators=41; total time=   6.0s\n",
      "[CV] END .......................max_depth=2, n_estimators=41; total time=   6.0s\n",
      "[CV] END .......................max_depth=2, n_estimators=41; total time=   6.7s\n"
     ]
    },
    {
     "data": {
      "text/plain": [
       "GridSearchCV(cv=3, estimator=RandomForestClassifier(),\n",
       "             param_grid={'max_depth': array([1, 2]),\n",
       "                         'n_estimators': array([ 1, 11, 21, 31, 41])},\n",
       "             scoring='roc_auc', verbose=2)"
      ]
     },
     "execution_count": 12,
     "metadata": {},
     "output_type": "execute_result"
    }
   ],
   "source": [
    "# instantiate the model\n",
    "my_rf = RandomForestClassifier()\n",
    "\n",
    "# set the parameters for the grid\n",
    "param_grid = {'n_estimators': np.arange(1, 50, 10), \n",
    "              'max_depth': np.arange(1, 3),\n",
    "             }\n",
    "\n",
    "base_rf = GridSearchCV(my_rf, param_grid = param_grid, scoring='roc_auc', cv=3, verbose = 2)\n",
    "\n",
    "base_rf.fit(X_train, y_train)"
   ]
  },
  {
   "cell_type": "code",
   "execution_count": 20,
   "id": "3364a6e3",
   "metadata": {
    "scrolled": true
   },
   "outputs": [
    {
     "data": {
      "text/plain": [
       "RandomForestClassifier(max_depth=2, n_estimators=41)"
      ]
     },
     "execution_count": 20,
     "metadata": {},
     "output_type": "execute_result"
    }
   ],
   "source": [
    "base_rf.best_estimator_"
   ]
  },
  {
   "cell_type": "markdown",
   "id": "910938aa",
   "metadata": {},
   "source": [
    "The grid search has optimized the number of estimators to be 41. Let's investigate the minimum number of estimators required to still obtain optimal model performance on the validation."
   ]
  },
  {
   "cell_type": "code",
   "execution_count": 13,
   "id": "cfb8197b",
   "metadata": {},
   "outputs": [
    {
     "data": {
      "text/plain": [
       "0.9630114719920165"
      ]
     },
     "execution_count": 13,
     "metadata": {},
     "output_type": "execute_result"
    }
   ],
   "source": [
    "# AUC score on train sets\n",
    "base_rf.score(X_train, y_train)"
   ]
  },
  {
   "cell_type": "code",
   "execution_count": 14,
   "id": "78b19278",
   "metadata": {},
   "outputs": [
    {
     "data": {
      "text/plain": [
       "0.9614613271988397"
      ]
     },
     "execution_count": 14,
     "metadata": {},
     "output_type": "execute_result"
    }
   ],
   "source": [
    "# AUC score on validation sets\n",
    "base_rf.score(X_validation, y_validation)"
   ]
  },
  {
   "cell_type": "code",
   "execution_count": 15,
   "id": "c8ab96fd",
   "metadata": {},
   "outputs": [
    {
     "data": {
      "text/plain": [
       "array([0.70865601, 0.94441292, 0.95302651, 0.94818728, 0.95187676,\n",
       "       0.80125367, 0.94960043, 0.95882975, 0.95910127, 0.96561994])"
      ]
     },
     "execution_count": 15,
     "metadata": {},
     "output_type": "execute_result"
    }
   ],
   "source": [
    "# AUC scores for each fold\n",
    "base_rf.cv_results_[\"mean_test_score\"]"
   ]
  },
  {
   "cell_type": "markdown",
   "id": "68b05e95",
   "metadata": {},
   "source": [
    "With 41 estimators and max depth 2, the base Random Forest model has a best AUC score on the validation of 96% across all 3 cv folds. "
   ]
  },
  {
   "cell_type": "code",
   "execution_count": 16,
   "id": "05681004",
   "metadata": {},
   "outputs": [
    {
     "data": {
      "text/html": [
       "<div>\n",
       "<style scoped>\n",
       "    .dataframe tbody tr th:only-of-type {\n",
       "        vertical-align: middle;\n",
       "    }\n",
       "\n",
       "    .dataframe tbody tr th {\n",
       "        vertical-align: top;\n",
       "    }\n",
       "\n",
       "    .dataframe thead th {\n",
       "        text-align: right;\n",
       "    }\n",
       "</style>\n",
       "<table border=\"1\" class=\"dataframe\">\n",
       "  <thead>\n",
       "    <tr style=\"text-align: right;\">\n",
       "      <th></th>\n",
       "      <th>n_estimators</th>\n",
       "      <th>max_depth</th>\n",
       "      <th>mean_score</th>\n",
       "    </tr>\n",
       "  </thead>\n",
       "  <tbody>\n",
       "    <tr>\n",
       "      <th>0</th>\n",
       "      <td>1</td>\n",
       "      <td>1</td>\n",
       "      <td>0.708656</td>\n",
       "    </tr>\n",
       "    <tr>\n",
       "      <th>1</th>\n",
       "      <td>11</td>\n",
       "      <td>1</td>\n",
       "      <td>0.944413</td>\n",
       "    </tr>\n",
       "    <tr>\n",
       "      <th>2</th>\n",
       "      <td>21</td>\n",
       "      <td>1</td>\n",
       "      <td>0.953027</td>\n",
       "    </tr>\n",
       "    <tr>\n",
       "      <th>3</th>\n",
       "      <td>31</td>\n",
       "      <td>1</td>\n",
       "      <td>0.948187</td>\n",
       "    </tr>\n",
       "    <tr>\n",
       "      <th>4</th>\n",
       "      <td>41</td>\n",
       "      <td>1</td>\n",
       "      <td>0.951877</td>\n",
       "    </tr>\n",
       "  </tbody>\n",
       "</table>\n",
       "</div>"
      ],
      "text/plain": [
       "  n_estimators max_depth  mean_score\n",
       "0            1         1    0.708656\n",
       "1           11         1    0.944413\n",
       "2           21         1    0.953027\n",
       "3           31         1    0.948187\n",
       "4           41         1    0.951877"
      ]
     },
     "execution_count": 16,
     "metadata": {},
     "output_type": "execute_result"
    }
   ],
   "source": [
    "# we cast max_depth to str so that seaborn treats it like a category,\n",
    "# which is better for visuals\n",
    "base_rf_results = pd.DataFrame({\n",
    "    \"n_estimators\": base_rf.cv_results_[\"param_n_estimators\"],\n",
    "    'max_depth': base_rf.cv_results_[\"param_max_depth\"].astype(str),\n",
    "    'mean_score': base_rf.cv_results_[\"mean_test_score\"]\n",
    "})\n",
    "\n",
    "base_rf_results.head()"
   ]
  },
  {
   "cell_type": "code",
   "execution_count": 19,
   "id": "2a8db0a5",
   "metadata": {},
   "outputs": [
    {
     "data": {
      "image/png": "[encoded data removed]",
      "text/plain": [
       "<Figure size 720x504 with 1 Axes>"
      ]
     },
     "metadata": {
      "needs_background": "light"
     },
     "output_type": "display_data"
    }
   ],
   "source": [
    "plt.figure(figsize=(10, 7))\n",
    "sns.lineplot(x=\"n_estimators\", y=\"mean_score\", hue=\"max_depth\", data=base_rf_results)\n",
    "plt.title(\"Random Forest validation performance over different max_depth and n_estimators values\")\n",
    "plt.show()\n"
   ]
  },
  {
   "cell_type": "markdown",
   "id": "74102739",
   "metadata": {},
   "source": [
    "From this visualization we can see that the optimal model performance ocurs when 10 < `n_estimators` < 41 . So, the minimum number of estimators that we can fit our base model without sacrificing loss in model performance is with `n_estimators` = 10."
   ]
  },
  {
   "cell_type": "markdown",
   "id": "58ac407b",
   "metadata": {},
   "source": [
    "Let's try a bigger range for `max_depth` to see if we get a better result."
   ]
  },
  {
   "cell_type": "code",
   "execution_count": 24,
   "id": "5b8abe63",
   "metadata": {
    "scrolled": false
   },
   "outputs": [
    {
     "name": "stdout",
     "output_type": "stream",
     "text": [
      "Fitting 3 folds for each of 9 candidates, totalling 27 fits\n",
      "[CV] END .......................max_depth=1, n_estimators=10; total time=   1.2s\n",
      "[CV] END .......................max_depth=1, n_estimators=10; total time=   1.0s\n",
      "[CV] END .......................max_depth=1, n_estimators=10; total time=   1.0s\n",
      "[CV] END .......................max_depth=2, n_estimators=10; total time=   1.4s\n",
      "[CV] END .......................max_depth=2, n_estimators=10; total time=   1.4s\n",
      "[CV] END .......................max_depth=2, n_estimators=10; total time=   1.4s\n",
      "[CV] END .......................max_depth=3, n_estimators=10; total time=   2.0s\n",
      "[CV] END .......................max_depth=3, n_estimators=10; total time=   2.0s\n",
      "[CV] END .......................max_depth=3, n_estimators=10; total time=   1.7s\n",
      "[CV] END .......................max_depth=4, n_estimators=10; total time=   2.2s\n",
      "[CV] END .......................max_depth=4, n_estimators=10; total time=   2.3s\n",
      "[CV] END .......................max_depth=4, n_estimators=10; total time=   2.0s\n",
      "[CV] END .......................max_depth=5, n_estimators=10; total time=   2.7s\n",
      "[CV] END .......................max_depth=5, n_estimators=10; total time=   2.7s\n",
      "[CV] END .......................max_depth=5, n_estimators=10; total time=   2.6s\n",
      "[CV] END .......................max_depth=6, n_estimators=10; total time=   3.0s\n",
      "[CV] END .......................max_depth=6, n_estimators=10; total time=   3.0s\n",
      "[CV] END .......................max_depth=6, n_estimators=10; total time=   3.1s\n",
      "[CV] END .......................max_depth=7, n_estimators=10; total time=   3.3s\n",
      "[CV] END .......................max_depth=7, n_estimators=10; total time=   3.3s\n",
      "[CV] END .......................max_depth=7, n_estimators=10; total time=   3.3s\n",
      "[CV] END .......................max_depth=8, n_estimators=10; total time=   4.0s\n",
      "[CV] END .......................max_depth=8, n_estimators=10; total time=   3.6s\n",
      "[CV] END .......................max_depth=8, n_estimators=10; total time=   3.6s\n",
      "[CV] END .......................max_depth=9, n_estimators=10; total time=   3.9s\n",
      "[CV] END .......................max_depth=9, n_estimators=10; total time=   4.1s\n",
      "[CV] END .......................max_depth=9, n_estimators=10; total time=   4.4s\n"
     ]
    },
    {
     "data": {
      "text/plain": [
       "GridSearchCV(cv=3, estimator=RandomForestClassifier(),\n",
       "             param_grid={'max_depth': array([1, 2, 3, 4, 5, 6, 7, 8, 9]),\n",
       "                         'n_estimators': [10]},\n",
       "             scoring='roc_auc', verbose=2)"
      ]
     },
     "execution_count": 24,
     "metadata": {},
     "output_type": "execute_result"
    }
   ],
   "source": [
    "# instantiate the model\n",
    "my_rf = RandomForestClassifier()\n",
    "\n",
    "# set the parameters for the grid\n",
    "param_grid = {'n_estimators': [10], # keeping min n_estimator \n",
    "              'max_depth': np.arange(1, 10),\n",
    "             }\n",
    "\n",
    "base_rf_ = GridSearchCV(my_rf, param_grid = param_grid, scoring='roc_auc', cv=3, verbose = 2)\n",
    "\n",
    "base_rf_.fit(X_train, y_train)"
   ]
  },
  {
   "cell_type": "code",
   "execution_count": 25,
   "id": "710ef2e3",
   "metadata": {},
   "outputs": [
    {
     "data": {
      "text/plain": [
       "RandomForestClassifier(max_depth=9, n_estimators=10)"
      ]
     },
     "execution_count": 25,
     "metadata": {},
     "output_type": "execute_result"
    }
   ],
   "source": [
    "base_rf_.best_estimator_"
   ]
  },
  {
   "cell_type": "code",
   "execution_count": 104,
   "id": "090cff48",
   "metadata": {
    "scrolled": true
   },
   "outputs": [
    {
     "data": {
      "text/plain": [
       "0.9888451250059456"
      ]
     },
     "execution_count": 104,
     "metadata": {},
     "output_type": "execute_result"
    }
   ],
   "source": [
    "# AUC score on validation sets\n",
    "base_rf_.score(X_validation, y_validation)"
   ]
  },
  {
   "cell_type": "markdown",
   "id": "678926b1",
   "metadata": {},
   "source": [
    "By increasing the max depth to 9 and decreasing the number of estimators to 10 the model performance has improved having a best AUC score on the validation across all 3 cv folds of 98.88%."
   ]
  },
  {
   "cell_type": "code",
   "execution_count": 34,
   "id": "f70199c5",
   "metadata": {},
   "outputs": [
    {
     "data": {
      "text/html": [
       "<div>\n",
       "<style scoped>\n",
       "    .dataframe tbody tr th:only-of-type {\n",
       "        vertical-align: middle;\n",
       "    }\n",
       "\n",
       "    .dataframe tbody tr th {\n",
       "        vertical-align: top;\n",
       "    }\n",
       "\n",
       "    .dataframe thead th {\n",
       "        text-align: right;\n",
       "    }\n",
       "</style>\n",
       "<table border=\"1\" class=\"dataframe\">\n",
       "  <thead>\n",
       "    <tr style=\"text-align: right;\">\n",
       "      <th></th>\n",
       "      <th>n_estimators</th>\n",
       "      <th>max_depth</th>\n",
       "      <th>mean_score</th>\n",
       "    </tr>\n",
       "  </thead>\n",
       "  <tbody>\n",
       "    <tr>\n",
       "      <th>0</th>\n",
       "      <td>10</td>\n",
       "      <td>1</td>\n",
       "      <td>0.940003</td>\n",
       "    </tr>\n",
       "    <tr>\n",
       "      <th>1</th>\n",
       "      <td>10</td>\n",
       "      <td>2</td>\n",
       "      <td>0.944148</td>\n",
       "    </tr>\n",
       "    <tr>\n",
       "      <th>2</th>\n",
       "      <td>10</td>\n",
       "      <td>3</td>\n",
       "      <td>0.962532</td>\n",
       "    </tr>\n",
       "    <tr>\n",
       "      <th>3</th>\n",
       "      <td>10</td>\n",
       "      <td>4</td>\n",
       "      <td>0.969558</td>\n",
       "    </tr>\n",
       "    <tr>\n",
       "      <th>4</th>\n",
       "      <td>10</td>\n",
       "      <td>5</td>\n",
       "      <td>0.975105</td>\n",
       "    </tr>\n",
       "  </tbody>\n",
       "</table>\n",
       "</div>"
      ],
      "text/plain": [
       "  n_estimators max_depth  mean_score\n",
       "0           10         1    0.940003\n",
       "1           10         2    0.944148\n",
       "2           10         3    0.962532\n",
       "3           10         4    0.969558\n",
       "4           10         5    0.975105"
      ]
     },
     "execution_count": 34,
     "metadata": {},
     "output_type": "execute_result"
    }
   ],
   "source": [
    "base_rf_results2 = pd.DataFrame({\n",
    "    \"n_estimators\": base_rf_.cv_results_[\"param_n_estimators\"],\n",
    "    'max_depth': base_rf_.cv_results_[\"param_max_depth\"].astype(str),\n",
    "    'mean_score': base_rf_.cv_results_[\"mean_test_score\"]\n",
    "})\n",
    "\n",
    "base_rf_results2.head()"
   ]
  },
  {
   "cell_type": "code",
   "execution_count": 38,
   "id": "8fe3b1ef",
   "metadata": {
    "scrolled": false
   },
   "outputs": [
    {
     "data": {
      "image/png": "[encoded data removed]",
      "text/plain": [
       "<Figure size 720x504 with 1 Axes>"
      ]
     },
     "metadata": {
      "needs_background": "light"
     },
     "output_type": "display_data"
    }
   ],
   "source": [
    "plt.figure(figsize=(10, 7))\n",
    "sns.lineplot(x=\"max_depth\", y=\"mean_score\", data=base_rf_results2)\n",
    "plt.title(\"Base Random Forest validation performance over different max_depth for 10 n_estimators\")\n",
    "plt.show()"
   ]
  },
  {
   "cell_type": "markdown",
   "id": "a9ff61c1",
   "metadata": {},
   "source": [
    "We can see that increasing the max_depth from 2 to 9 increases the AUC score on our validation set by about 5%. "
   ]
  },
  {
   "cell_type": "markdown",
   "id": "658d6258",
   "metadata": {},
   "source": [
    "---"
   ]
  },
  {
   "cell_type": "markdown",
   "id": "dba0aaff",
   "metadata": {},
   "source": [
    "### Downsampled Random Forest Model"
   ]
  },
  {
   "cell_type": "markdown",
   "id": "16cc77de",
   "metadata": {},
   "source": [
    "Now that we have our base model, let's fit to our downsampled dataset (least computationally expensive). We will explore options for the following parameters `n_estimators` and `max_depth`. "
   ]
  },
  {
   "cell_type": "code",
   "execution_count": 26,
   "id": "744730d5",
   "metadata": {},
   "outputs": [
    {
     "name": "stdout",
     "output_type": "stream",
     "text": [
      "Fitting 3 folds for each of 36 candidates, totalling 108 fits\n",
      "[CV] END ........................max_depth=1, n_estimators=1; total time=   0.3s\n",
      "[CV] END ........................max_depth=1, n_estimators=1; total time=   0.1s\n",
      "[CV] END ........................max_depth=1, n_estimators=1; total time=   0.1s\n",
      "[CV] END .......................max_depth=1, n_estimators=11; total time=   0.3s\n",
      "[CV] END .......................max_depth=1, n_estimators=11; total time=   0.3s\n",
      "[CV] END .......................max_depth=1, n_estimators=11; total time=   0.3s\n",
      "[CV] END .......................max_depth=1, n_estimators=21; total time=   0.6s\n",
      "[CV] END .......................max_depth=1, n_estimators=21; total time=   0.6s\n",
      "[CV] END .......................max_depth=1, n_estimators=21; total time=   0.6s\n",
      "[CV] END .......................max_depth=1, n_estimators=31; total time=   0.8s\n",
      "[CV] END .......................max_depth=1, n_estimators=31; total time=   0.8s\n",
      "[CV] END .......................max_depth=1, n_estimators=31; total time=   0.8s\n",
      "[CV] END ........................max_depth=2, n_estimators=1; total time=   0.1s\n",
      "[CV] END ........................max_depth=2, n_estimators=1; total time=   0.1s\n",
      "[CV] END ........................max_depth=2, n_estimators=1; total time=   0.1s\n",
      "[CV] END .......................max_depth=2, n_estimators=11; total time=   0.4s\n",
      "[CV] END .......................max_depth=2, n_estimators=11; total time=   0.5s\n",
      "[CV] END .......................max_depth=2, n_estimators=11; total time=   0.5s\n",
      "[CV] END .......................max_depth=2, n_estimators=21; total time=   1.1s\n",
      "[CV] END .......................max_depth=2, n_estimators=21; total time=   1.1s\n",
      "[CV] END .......................max_depth=2, n_estimators=21; total time=   0.8s\n",
      "[CV] END .......................max_depth=2, n_estimators=31; total time=   1.2s\n",
      "[CV] END .......................max_depth=2, n_estimators=31; total time=   1.2s\n",
      "[CV] END .......................max_depth=2, n_estimators=31; total time=   1.1s\n",
      "[CV] END ........................max_depth=3, n_estimators=1; total time=   0.1s\n",
      "[CV] END ........................max_depth=3, n_estimators=1; total time=   0.1s\n",
      "[CV] END ........................max_depth=3, n_estimators=1; total time=   0.1s\n",
      "[CV] END .......................max_depth=3, n_estimators=11; total time=   0.5s\n",
      "[CV] END .......................max_depth=3, n_estimators=11; total time=   0.6s\n",
      "[CV] END .......................max_depth=3, n_estimators=11; total time=   0.5s\n",
      "[CV] END .......................max_depth=3, n_estimators=21; total time=   1.0s\n",
      "[CV] END .......................max_depth=3, n_estimators=21; total time=   1.1s\n",
      "[CV] END .......................max_depth=3, n_estimators=21; total time=   1.0s\n",
      "[CV] END .......................max_depth=3, n_estimators=31; total time=   1.5s\n",
      "[CV] END .......................max_depth=3, n_estimators=31; total time=   1.4s\n",
      "[CV] END .......................max_depth=3, n_estimators=31; total time=   1.4s\n",
      "[CV] END ........................max_depth=4, n_estimators=1; total time=   0.1s\n",
      "[CV] END ........................max_depth=4, n_estimators=1; total time=   0.1s\n",
      "[CV] END ........................max_depth=4, n_estimators=1; total time=   0.1s\n",
      "[CV] END .......................max_depth=4, n_estimators=11; total time=   0.7s\n",
      "[CV] END .......................max_depth=4, n_estimators=11; total time=   0.7s\n",
      "[CV] END .......................max_depth=4, n_estimators=11; total time=   0.7s\n",
      "[CV] END .......................max_depth=4, n_estimators=21; total time=   1.2s\n",
      "[CV] END .......................max_depth=4, n_estimators=21; total time=   1.2s\n",
      "[CV] END .......................max_depth=4, n_estimators=21; total time=   1.2s\n",
      "[CV] END .......................max_depth=4, n_estimators=31; total time=   1.8s\n",
      "[CV] END .......................max_depth=4, n_estimators=31; total time=   1.8s\n",
      "[CV] END .......................max_depth=4, n_estimators=31; total time=   1.7s\n",
      "[CV] END ........................max_depth=5, n_estimators=1; total time=   0.1s\n",
      "[CV] END ........................max_depth=5, n_estimators=1; total time=   0.1s\n",
      "[CV] END ........................max_depth=5, n_estimators=1; total time=   0.1s\n",
      "[CV] END .......................max_depth=5, n_estimators=11; total time=   0.8s\n",
      "[CV] END .......................max_depth=5, n_estimators=11; total time=   0.8s\n",
      "[CV] END .......................max_depth=5, n_estimators=11; total time=   0.8s\n",
      "[CV] END .......................max_depth=5, n_estimators=21; total time=   1.4s\n",
      "[CV] END .......................max_depth=5, n_estimators=21; total time=   2.0s\n",
      "[CV] END .......................max_depth=5, n_estimators=21; total time=   1.9s\n",
      "[CV] END .......................max_depth=5, n_estimators=31; total time=   2.0s\n",
      "[CV] END .......................max_depth=5, n_estimators=31; total time=   2.0s\n",
      "[CV] END .......................max_depth=5, n_estimators=31; total time=   2.7s\n",
      "[CV] END ........................max_depth=6, n_estimators=1; total time=   0.1s\n",
      "[CV] END ........................max_depth=6, n_estimators=1; total time=   0.1s\n",
      "[CV] END ........................max_depth=6, n_estimators=1; total time=   0.2s\n",
      "[CV] END .......................max_depth=6, n_estimators=11; total time=   1.1s\n",
      "[CV] END .......................max_depth=6, n_estimators=11; total time=   1.2s\n",
      "[CV] END .......................max_depth=6, n_estimators=11; total time=   1.1s\n",
      "[CV] END .......................max_depth=6, n_estimators=21; total time=   1.8s\n",
      "[CV] END .......................max_depth=6, n_estimators=21; total time=   2.0s\n",
      "[CV] END .......................max_depth=6, n_estimators=21; total time=   1.6s\n",
      "[CV] END .......................max_depth=6, n_estimators=31; total time=   3.1s\n",
      "[CV] END .......................max_depth=6, n_estimators=31; total time=   2.7s\n",
      "[CV] END .......................max_depth=6, n_estimators=31; total time=   2.4s\n",
      "[CV] END ........................max_depth=7, n_estimators=1; total time=   0.1s\n",
      "[CV] END ........................max_depth=7, n_estimators=1; total time=   0.1s\n",
      "[CV] END ........................max_depth=7, n_estimators=1; total time=   0.1s\n",
      "[CV] END .......................max_depth=7, n_estimators=11; total time=   1.6s\n",
      "[CV] END .......................max_depth=7, n_estimators=11; total time=   1.2s\n",
      "[CV] END .......................max_depth=7, n_estimators=11; total time=   1.0s\n",
      "[CV] END .......................max_depth=7, n_estimators=21; total time=   1.8s\n",
      "[CV] END .......................max_depth=7, n_estimators=21; total time=   1.7s\n",
      "[CV] END .......................max_depth=7, n_estimators=21; total time=   2.3s\n",
      "[CV] END .......................max_depth=7, n_estimators=31; total time=   3.0s\n",
      "[CV] END .......................max_depth=7, n_estimators=31; total time=   3.5s\n",
      "[CV] END .......................max_depth=7, n_estimators=31; total time=   2.5s\n",
      "[CV] END ........................max_depth=8, n_estimators=1; total time=   0.1s\n",
      "[CV] END ........................max_depth=8, n_estimators=1; total time=   0.1s\n",
      "[CV] END ........................max_depth=8, n_estimators=1; total time=   0.1s\n",
      "[CV] END .......................max_depth=8, n_estimators=11; total time=   1.0s\n",
      "[CV] END .......................max_depth=8, n_estimators=11; total time=   1.0s\n",
      "[CV] END .......................max_depth=8, n_estimators=11; total time=   1.0s\n",
      "[CV] END .......................max_depth=8, n_estimators=21; total time=   2.4s\n",
      "[CV] END .......................max_depth=8, n_estimators=21; total time=   2.8s\n",
      "[CV] END .......................max_depth=8, n_estimators=21; total time=   1.9s\n",
      "[CV] END .......................max_depth=8, n_estimators=31; total time=   3.0s\n",
      "[CV] END .......................max_depth=8, n_estimators=31; total time=   3.1s\n",
      "[CV] END .......................max_depth=8, n_estimators=31; total time=   3.3s\n",
      "[CV] END ........................max_depth=9, n_estimators=1; total time=   0.2s\n",
      "[CV] END ........................max_depth=9, n_estimators=1; total time=   0.2s\n",
      "[CV] END ........................max_depth=9, n_estimators=1; total time=   0.3s\n",
      "[CV] END .......................max_depth=9, n_estimators=11; total time=   1.3s\n",
      "[CV] END .......................max_depth=9, n_estimators=11; total time=   1.1s\n"
     ]
    },
    {
     "name": "stdout",
     "output_type": "stream",
     "text": [
      "[CV] END .......................max_depth=9, n_estimators=11; total time=   1.1s\n",
      "[CV] END .......................max_depth=9, n_estimators=21; total time=   2.6s\n",
      "[CV] END .......................max_depth=9, n_estimators=21; total time=   2.6s\n",
      "[CV] END .......................max_depth=9, n_estimators=21; total time=   2.2s\n",
      "[CV] END .......................max_depth=9, n_estimators=31; total time=   3.6s\n",
      "[CV] END .......................max_depth=9, n_estimators=31; total time=   3.7s\n",
      "[CV] END .......................max_depth=9, n_estimators=31; total time=   3.2s\n"
     ]
    },
    {
     "data": {
      "text/plain": [
       "GridSearchCV(cv=3, estimator=RandomForestClassifier(),\n",
       "             param_grid={'max_depth': array([1, 2, 3, 4, 5, 6, 7, 8, 9]),\n",
       "                         'n_estimators': array([ 1, 11, 21, 31])},\n",
       "             scoring='roc_auc', verbose=2)"
      ]
     },
     "execution_count": 26,
     "metadata": {},
     "output_type": "execute_result"
    }
   ],
   "source": [
    "# instantiate the model\n",
    "my_rf = RandomForestClassifier()\n",
    "\n",
    "# set the parameters for the grid\n",
    "param_grid = {'n_estimators': np.arange(1, 40, 10), \n",
    "              'max_depth': np.arange(1, 10),\n",
    "             }\n",
    "\n",
    "up_rf = GridSearchCV(my_rf, param_grid = param_grid, scoring='roc_auc', cv=3, verbose = 2)\n",
    "\n",
    "up_rf.fit(X_train_down_bal_20, y_train_down_bal_20)"
   ]
  },
  {
   "cell_type": "code",
   "execution_count": 27,
   "id": "84a376f5",
   "metadata": {},
   "outputs": [
    {
     "data": {
      "text/plain": [
       "RandomForestClassifier(max_depth=9, n_estimators=21)"
      ]
     },
     "execution_count": 27,
     "metadata": {},
     "output_type": "execute_result"
    }
   ],
   "source": [
    "up_rf.best_estimator_"
   ]
  },
  {
   "cell_type": "code",
   "execution_count": 29,
   "id": "e802aaf4",
   "metadata": {},
   "outputs": [],
   "source": [
    "down_rf_results = pd.DataFrame({\n",
    "    \"n_estimators\": up_rf.cv_results_[\"param_n_estimators\"],\n",
    "    'max_depth': up_rf.cv_results_[\"param_max_depth\"].astype(str),\n",
    "    'mean_score': up_rf.cv_results_[\"mean_test_score\"]\n",
    "})"
   ]
  },
  {
   "cell_type": "code",
   "execution_count": 88,
   "id": "08d5570e",
   "metadata": {
    "scrolled": false
   },
   "outputs": [
    {
     "data": {
      "image/png": "[encoded data removed]",
      "text/plain": [
       "<Figure size 720x504 with 1 Axes>"
      ]
     },
     "metadata": {
      "needs_background": "light"
     },
     "output_type": "display_data"
    }
   ],
   "source": [
    "plt.figure(figsize=(10, 7))\n",
    "sns.lineplot(x=\"n_estimators\", y=\"mean_score\", hue=\"max_depth\", palette=\"hsv\",data=down_rf_results)\n",
    "plt.title(\"Random Forest validation performance over different max_depth and n_estimators values\")\n",
    "plt.show()"
   ]
  },
  {
   "cell_type": "markdown",
   "id": "bd4784e6",
   "metadata": {},
   "source": [
    "Although the grid search tells us that 21 estimators is best, we can see that the minimum number of estimators needed to get a high mean AUC validation score is around 10. "
   ]
  },
  {
   "cell_type": "markdown",
   "id": "86ab6b51",
   "metadata": {},
   "source": [
    "So, let's fit a random forest model with `n_estimators` = 10 and `max_depth`=9."
   ]
  },
  {
   "cell_type": "code",
   "execution_count": 8,
   "id": "d0bd43b2",
   "metadata": {
    "scrolled": true
   },
   "outputs": [
    {
     "data": {
      "text/html": [
       "<style>#sk-container-id-1 {color: black;background-color: white;}#sk-container-id-1 pre{padding: 0;}#sk-container-id-1 div.sk-toggleable {background-color: white;}#sk-container-id-1 label.sk-toggleable__label {cursor: pointer;display: block;width: 100%;margin-bottom: 0;padding: 0.3em;box-sizing: border-box;text-align: center;}#sk-container-id-1 label.sk-toggleable__label-arrow:before {content: \"▸\";float: left;margin-right: 0.25em;color: #696969;}#sk-container-id-1 label.sk-toggleable__label-arrow:hover:before {color: black;}#sk-container-id-1 div.sk-estimator:hover label.sk-toggleable__label-arrow:before {color: black;}#sk-container-id-1 div.sk-toggleable__content {max-height: 0;max-width: 0;overflow: hidden;text-align: left;background-color: #f0f8ff;}#sk-container-id-1 div.sk-toggleable__content pre {margin: 0.2em;color: black;border-radius: 0.25em;background-color: #f0f8ff;}#sk-container-id-1 input.sk-toggleable__control:checked~div.sk-toggleable__content {max-height: 200px;max-width: 100%;overflow: auto;}#sk-container-id-1 input.sk-toggleable__control:checked~label.sk-toggleable__label-arrow:before {content: \"▾\";}#sk-container-id-1 div.sk-estimator input.sk-toggleable__control:checked~label.sk-toggleable__label {background-color: #d4ebff;}#sk-container-id-1 div.sk-label input.sk-toggleable__control:checked~label.sk-toggleable__label {background-color: #d4ebff;}#sk-container-id-1 input.sk-hidden--visually {border: 0;clip: rect(1px 1px 1px 1px);clip: rect(1px, 1px, 1px, 1px);height: 1px;margin: -1px;overflow: hidden;padding: 0;position: absolute;width: 1px;}#sk-container-id-1 div.sk-estimator {font-family: monospace;background-color: #f0f8ff;border: 1px dotted black;border-radius: 0.25em;box-sizing: border-box;margin-bottom: 0.5em;}#sk-container-id-1 div.sk-estimator:hover {background-color: #d4ebff;}#sk-container-id-1 div.sk-parallel-item::after {content: \"\";width: 100%;border-bottom: 1px solid gray;flex-grow: 1;}#sk-container-id-1 div.sk-label:hover label.sk-toggleable__label {background-color: #d4ebff;}#sk-container-id-1 div.sk-serial::before {content: \"\";position: absolute;border-left: 1px solid gray;box-sizing: border-box;top: 0;bottom: 0;left: 50%;z-index: 0;}#sk-container-id-1 div.sk-serial {display: flex;flex-direction: column;align-items: center;background-color: white;padding-right: 0.2em;padding-left: 0.2em;position: relative;}#sk-container-id-1 div.sk-item {position: relative;z-index: 1;}#sk-container-id-1 div.sk-parallel {display: flex;align-items: stretch;justify-content: center;background-color: white;position: relative;}#sk-container-id-1 div.sk-item::before, #sk-container-id-1 div.sk-parallel-item::before {content: \"\";position: absolute;border-left: 1px solid gray;box-sizing: border-box;top: 0;bottom: 0;left: 50%;z-index: -1;}#sk-container-id-1 div.sk-parallel-item {display: flex;flex-direction: column;z-index: 1;position: relative;background-color: white;}#sk-container-id-1 div.sk-parallel-item:first-child::after {align-self: flex-end;width: 50%;}#sk-container-id-1 div.sk-parallel-item:last-child::after {align-self: flex-start;width: 50%;}#sk-container-id-1 div.sk-parallel-item:only-child::after {width: 0;}#sk-container-id-1 div.sk-dashed-wrapped {border: 1px dashed gray;margin: 0 0.4em 0.5em 0.4em;box-sizing: border-box;padding-bottom: 0.4em;background-color: white;}#sk-container-id-1 div.sk-label label {font-family: monospace;font-weight: bold;display: inline-block;line-height: 1.2em;}#sk-container-id-1 div.sk-label-container {text-align: center;}#sk-container-id-1 div.sk-container {/* jupyter's `normalize.less` sets `[hidden] { display: none; }` but bootstrap.min.css set `[hidden] { display: none !important; }` so we also need the `!important` here to be able to override the default hidden behavior on the sphinx rendered scikit-learn.org. See: https://github.com/scikit-learn/scikit-learn/issues/21755 */display: inline-block !important;position: relative;}#sk-container-id-1 div.sk-text-repr-fallback {display: none;}</style><div id=\"sk-container-id-1\" class=\"sk-top-container\"><div class=\"sk-text-repr-fallback\"><pre>RandomForestClassifier(max_depth=9, n_estimators=10, random_state=1)</pre><b>In a Jupyter environment, please rerun this cell to show the HTML representation or trust the notebook. <br />On GitHub, the HTML representation is unable to render, please try loading this page with nbviewer.org.</b></div><div class=\"sk-container\" hidden><div class=\"sk-item\"><div class=\"sk-estimator sk-toggleable\"><input class=\"sk-toggleable__control sk-hidden--visually\" id=\"sk-estimator-id-1\" type=\"checkbox\" checked><label for=\"sk-estimator-id-1\" class=\"sk-toggleable__label sk-toggleable__label-arrow\">RandomForestClassifier</label><div class=\"sk-toggleable__content\"><pre>RandomForestClassifier(max_depth=9, n_estimators=10, random_state=1)</pre></div></div></div></div></div>"
      ],
      "text/plain": [
       "RandomForestClassifier(max_depth=9, n_estimators=10, random_state=1)"
      ]
     },
     "execution_count": 8,
     "metadata": {},
     "output_type": "execute_result"
    }
   ],
   "source": [
    "# Downsampled Random Forest Model with n_estimators = 10 and max_depth = 9\n",
    "down_rf_model=RandomForestClassifier(n_estimators= 10, max_depth=9, random_state=1)\n",
    "down_rf_model.fit(X_train_down_bal_20,y_train_down_bal_20)\n"
   ]
  },
  {
   "cell_type": "markdown",
   "id": "e63d232a",
   "metadata": {},
   "source": [
    "**ROC Curve and AUC Scores**"
   ]
  },
  {
   "cell_type": "markdown",
   "id": "0169700c",
   "metadata": {},
   "source": [
    "We get the soft predictions on both the downsampled train and validation set in order to calculate the respective AUC scores: "
   ]
  },
  {
   "cell_type": "code",
   "execution_count": 11,
   "id": "f0833a71",
   "metadata": {},
   "outputs": [],
   "source": [
    "y_proba_train_down = down_rf_model.predict_proba(X_train_down_bal_20)[:, 1]\n",
    "y_proba_val_down = down_rf_model.predict_proba(X_validation)[:, 1]\n",
    "\n",
    " # Score (AUC)\n",
    "auc_train_down = np.round(roc_auc_score(y_train_down_bal_20, y_proba_train_down), 3)\n",
    "auc_val_down = np.round(roc_auc_score(y_validation, y_proba_val_down), 3)"
   ]
  },
  {
   "cell_type": "code",
   "execution_count": 95,
   "id": "bed488a4",
   "metadata": {},
   "outputs": [
    {
     "name": "stdout",
     "output_type": "stream",
     "text": [
      "The Training AUC score is:  0.992\n",
      "The Validation AUC score is:  0.99\n"
     ]
    }
   ],
   "source": [
    "print(f\"The Training AUC score is:  {auc_train_down}\")\n",
    "print(f\"The Validation AUC score is:  {auc_val_down}\")"
   ]
  },
  {
   "cell_type": "code",
   "execution_count": 96,
   "id": "1f7c7bd5",
   "metadata": {},
   "outputs": [
    {
     "data": {
      "image/png": "[encoded data removed]",
      "text/plain": [
       "<Figure size 1008x360 with 2 Axes>"
      ]
     },
     "metadata": {
      "needs_background": "light"
     },
     "output_type": "display_data"
    }
   ],
   "source": [
    "# Plot ROC curve of Downsampled Random Forest Model using plot_roc_curve\n",
    "\n",
    "fig, axes = plt.subplots(1,2, figsize=(14, 5))\n",
    "plot_roc_curve(down_rf_model, X_train_down_bal_20, y_train_down_bal_20, ax=axes[0], marker='.', label='train')\n",
    "plot_roc_curve(down_rf_model, X_validation, y_validation, ax=axes[1], marker='.', label='validation')\n",
    "plt.show()"
   ]
  },
  {
   "cell_type": "code",
   "execution_count": 103,
   "id": "0ebddbeb",
   "metadata": {
    "scrolled": false
   },
   "outputs": [
    {
     "name": "stdout",
     "output_type": "stream",
     "text": [
      "Confusion matrices: \n",
      "=======================================================\n",
      "\n"
     ]
    },
    {
     "data": {
      "image/png": "[encoded data removed]",
      "text/plain": [
       "<Figure size 720x216 with 4 Axes>"
      ]
     },
     "metadata": {
      "needs_background": "light"
     },
     "output_type": "display_data"
    },
    {
     "name": "stdout",
     "output_type": "stream",
     "text": [
      "\n",
      "Base Random Forest Model on imbalanced data with max_depth=9 and n_estimators=10 classification report: \n",
      "=======================================================\n",
      "               precision    recall  f1-score   support\n",
      "\n",
      "           0       0.98      0.99      0.98    164830\n",
      "           1       0.86      0.82      0.84     16258\n",
      "\n",
      "    accuracy                           0.97    181088\n",
      "   macro avg       0.92      0.90      0.91    181088\n",
      "weighted avg       0.97      0.97      0.97    181088\n",
      "\n",
      "\n",
      " Downsampled Random Forest Model with max_depth=9 and n_estimators=10 classification report: \n",
      "=======================================================\n",
      "               precision    recall  f1-score   support\n",
      "\n",
      "           0       0.99      0.97      0.98    164830\n",
      "           1       0.76      0.95      0.84     16258\n",
      "\n",
      "    accuracy                           0.97    181088\n",
      "   macro avg       0.88      0.96      0.91    181088\n",
      "weighted avg       0.97      0.97      0.97    181088\n",
      "\n"
     ]
    }
   ],
   "source": [
    "# Confusion matrices\n",
    "print_line = \"\\n=======================================================\\n\"\n",
    "\n",
    "print(\"Confusion matrices:\", print_line)\n",
    "\n",
    "fig, axes = plt.subplots(1, 2, figsize=(10, 3))\n",
    "\n",
    "# Base Model on the original imbalanced data with max_depth=9 and n_estimators=10\n",
    "plot_confusion_matrix(base_rf_, X_validation, y_validation, ax=axes[0])\n",
    "axes[0].set_title('Base Imbalanced Random Forest Confusion Matrix')\n",
    "\n",
    "# Model on the 20% upsampled data\n",
    "plot_confusion_matrix(down_rf_model, X_validation, y_validation, ax=axes[1])\n",
    "axes[1].set_title('Downsampled Random Forest Confusion Matrix')\n",
    "\n",
    "plt.show()\n",
    "\n",
    "# base hard predictions\n",
    "y_pred_base_rf_= base_rf_.predict(X_validation)\n",
    "report_base_rf_ = classification_report(y_validation, y_pred_base_rf_)\n",
    "\n",
    "# downsampled hard predictions\n",
    "y_pred_down_rf= down_rf_model.predict(X_validation)\n",
    "report_down_rf = classification_report(y_validation, y_pred_down_rf)\n",
    "\n",
    "\n",
    "print(\"\\nBase Random Forest Model on imbalanced data with max_depth=9 and n_estimators=10 classification report:\", print_line, report_base_rf_)\n",
    "print(\"\\n Downsampled Random Forest Model with max_depth=9 and n_estimators=10 classification report:\", print_line, report_down_rf)\n",
    "\n"
   ]
  },
  {
   "cell_type": "markdown",
   "id": "5f8e910c",
   "metadata": {},
   "source": [
    "In terms of the AUC score on the validation set, both models have a high model performance of 99%. In terms of precision, recall, and f1-score, there is no clear improvement in these metrics on the downsampled model in comparison to the base on the imbalanced data. Recall increased by 13% (from 82% to 95%), f1-score is 84% for both models, and precision went down by 10% (from 86% to 76%). "
   ]
  },
  {
   "cell_type": "markdown",
   "id": "c294668d",
   "metadata": {},
   "source": [
    "---"
   ]
  },
  {
   "cell_type": "markdown",
   "id": "44be31f2",
   "metadata": {},
   "source": [
    "### Final Test Score"
   ]
  },
  {
   "cell_type": "markdown",
   "id": "03af40c7",
   "metadata": {},
   "source": [
    "In this section, we will select our final best model out of Logistic and Random Forest and compare our churn prediction to the test set that we have reserved. Both our base and downsampled Random Forest Models have AUC validation scores of 99% and f1-scores of 84% and were fit with the same hyperpararamters having max depth 9 and 10 estimators."
   ]
  },
  {
   "cell_type": "markdown",
   "id": "b411c495",
   "metadata": {},
   "source": [
    "Let's read in our pickled remainder and test sets:"
   ]
  },
  {
   "cell_type": "code",
   "execution_count": 17,
   "id": "7b3bf2d2",
   "metadata": {},
   "outputs": [],
   "source": [
    "X_remainder= pd.read_pickle('X_remainder.pkl')\n",
    "y_remainder= pd.read_pickle(\"y_remainder.pkl\")\n",
    "\n",
    "X_test= pd.read_pickle(\"X_test.pkl\")\n",
    "y_test = pd.read_pickle('y_test.pkl')"
   ]
  },
  {
   "cell_type": "markdown",
   "id": "ddf3195b",
   "metadata": {},
   "source": [
    "**Best Model Test AUC score and Classification Report**"
   ]
  },
  {
   "cell_type": "markdown",
   "id": "60efd875",
   "metadata": {},
   "source": [
    "We re-fit our best Random Forest Model onto our remainder sets and predict on the test sets."
   ]
  },
  {
   "cell_type": "code",
   "execution_count": 18,
   "id": "754b7d6d",
   "metadata": {
    "scrolled": true
   },
   "outputs": [
    {
     "data": {
      "text/html": [
       "<style>#sk-container-id-2 {color: black;background-color: white;}#sk-container-id-2 pre{padding: 0;}#sk-container-id-2 div.sk-toggleable {background-color: white;}#sk-container-id-2 label.sk-toggleable__label {cursor: pointer;display: block;width: 100%;margin-bottom: 0;padding: 0.3em;box-sizing: border-box;text-align: center;}#sk-container-id-2 label.sk-toggleable__label-arrow:before {content: \"▸\";float: left;margin-right: 0.25em;color: #696969;}#sk-container-id-2 label.sk-toggleable__label-arrow:hover:before {color: black;}#sk-container-id-2 div.sk-estimator:hover label.sk-toggleable__label-arrow:before {color: black;}#sk-container-id-2 div.sk-toggleable__content {max-height: 0;max-width: 0;overflow: hidden;text-align: left;background-color: #f0f8ff;}#sk-container-id-2 div.sk-toggleable__content pre {margin: 0.2em;color: black;border-radius: 0.25em;background-color: #f0f8ff;}#sk-container-id-2 input.sk-toggleable__control:checked~div.sk-toggleable__content {max-height: 200px;max-width: 100%;overflow: auto;}#sk-container-id-2 input.sk-toggleable__control:checked~label.sk-toggleable__label-arrow:before {content: \"▾\";}#sk-container-id-2 div.sk-estimator input.sk-toggleable__control:checked~label.sk-toggleable__label {background-color: #d4ebff;}#sk-container-id-2 div.sk-label input.sk-toggleable__control:checked~label.sk-toggleable__label {background-color: #d4ebff;}#sk-container-id-2 input.sk-hidden--visually {border: 0;clip: rect(1px 1px 1px 1px);clip: rect(1px, 1px, 1px, 1px);height: 1px;margin: -1px;overflow: hidden;padding: 0;position: absolute;width: 1px;}#sk-container-id-2 div.sk-estimator {font-family: monospace;background-color: #f0f8ff;border: 1px dotted black;border-radius: 0.25em;box-sizing: border-box;margin-bottom: 0.5em;}#sk-container-id-2 div.sk-estimator:hover {background-color: #d4ebff;}#sk-container-id-2 div.sk-parallel-item::after {content: \"\";width: 100%;border-bottom: 1px solid gray;flex-grow: 1;}#sk-container-id-2 div.sk-label:hover label.sk-toggleable__label {background-color: #d4ebff;}#sk-container-id-2 div.sk-serial::before {content: \"\";position: absolute;border-left: 1px solid gray;box-sizing: border-box;top: 0;bottom: 0;left: 50%;z-index: 0;}#sk-container-id-2 div.sk-serial {display: flex;flex-direction: column;align-items: center;background-color: white;padding-right: 0.2em;padding-left: 0.2em;position: relative;}#sk-container-id-2 div.sk-item {position: relative;z-index: 1;}#sk-container-id-2 div.sk-parallel {display: flex;align-items: stretch;justify-content: center;background-color: white;position: relative;}#sk-container-id-2 div.sk-item::before, #sk-container-id-2 div.sk-parallel-item::before {content: \"\";position: absolute;border-left: 1px solid gray;box-sizing: border-box;top: 0;bottom: 0;left: 50%;z-index: -1;}#sk-container-id-2 div.sk-parallel-item {display: flex;flex-direction: column;z-index: 1;position: relative;background-color: white;}#sk-container-id-2 div.sk-parallel-item:first-child::after {align-self: flex-end;width: 50%;}#sk-container-id-2 div.sk-parallel-item:last-child::after {align-self: flex-start;width: 50%;}#sk-container-id-2 div.sk-parallel-item:only-child::after {width: 0;}#sk-container-id-2 div.sk-dashed-wrapped {border: 1px dashed gray;margin: 0 0.4em 0.5em 0.4em;box-sizing: border-box;padding-bottom: 0.4em;background-color: white;}#sk-container-id-2 div.sk-label label {font-family: monospace;font-weight: bold;display: inline-block;line-height: 1.2em;}#sk-container-id-2 div.sk-label-container {text-align: center;}#sk-container-id-2 div.sk-container {/* jupyter's `normalize.less` sets `[hidden] { display: none; }` but bootstrap.min.css set `[hidden] { display: none !important; }` so we also need the `!important` here to be able to override the default hidden behavior on the sphinx rendered scikit-learn.org. See: https://github.com/scikit-learn/scikit-learn/issues/21755 */display: inline-block !important;position: relative;}#sk-container-id-2 div.sk-text-repr-fallback {display: none;}</style><div id=\"sk-container-id-2\" class=\"sk-top-container\"><div class=\"sk-text-repr-fallback\"><pre>RandomForestClassifier(max_depth=9, n_estimators=10, random_state=1)</pre><b>In a Jupyter environment, please rerun this cell to show the HTML representation or trust the notebook. <br />On GitHub, the HTML representation is unable to render, please try loading this page with nbviewer.org.</b></div><div class=\"sk-container\" hidden><div class=\"sk-item\"><div class=\"sk-estimator sk-toggleable\"><input class=\"sk-toggleable__control sk-hidden--visually\" id=\"sk-estimator-id-2\" type=\"checkbox\" checked><label for=\"sk-estimator-id-2\" class=\"sk-toggleable__label sk-toggleable__label-arrow\">RandomForestClassifier</label><div class=\"sk-toggleable__content\"><pre>RandomForestClassifier(max_depth=9, n_estimators=10, random_state=1)</pre></div></div></div></div></div>"
      ],
      "text/plain": [
       "RandomForestClassifier(max_depth=9, n_estimators=10, random_state=1)"
      ]
     },
     "execution_count": 18,
     "metadata": {},
     "output_type": "execute_result"
    }
   ],
   "source": [
    "# Best Random Forest Model with n_estimators = 10 and max_depth = 9 fit to remainder\n",
    "RF_model=RandomForestClassifier(n_estimators= 10, max_depth=9, random_state=1)\n",
    "RF_model.fit(X_remainder,y_remainder)"
   ]
  },
  {
   "cell_type": "code",
   "execution_count": 19,
   "id": "2e10d156",
   "metadata": {},
   "outputs": [],
   "source": [
    "#soft test prediction\n",
    "y_proba_test = RF_model.predict_proba(X_test)[:, 1]\n",
    "\n",
    " # Test Score (AUC)\n",
    "auc_test = np.round(roc_auc_score(y_test, y_proba_test), 3)"
   ]
  },
  {
   "cell_type": "code",
   "execution_count": 23,
   "id": "ccefbbae",
   "metadata": {
    "scrolled": true
   },
   "outputs": [
    {
     "name": "stdout",
     "output_type": "stream",
     "text": [
      "\n",
      " Random Forest Model with max_depth=9 and n_estimators=10 Test Classification Report: \n",
      "=======================================================\n",
      "               precision    recall  f1-score   support\n",
      "\n",
      "           0       0.98      0.99      0.98    137469\n",
      "           1       0.86      0.81      0.84     13438\n",
      "\n",
      "    accuracy                           0.97    150907\n",
      "   macro avg       0.92      0.90      0.91    150907\n",
      "weighted avg       0.97      0.97      0.97    150907\n",
      "\n",
      "\n",
      " AUC Test Score: 0.987\n"
     ]
    }
   ],
   "source": [
    "# hard test prediciton\n",
    "y_pred_test = RF_model.predict(X_test)\n",
    "test_report = classification_report(y_test, y_pred_test)\n",
    "print(\"\\n Random Forest Model with max_depth=9 and n_estimators=10 Test Classification Report:\", print_line,test_report)\n",
    "print(\"\\n AUC Test Score:\", auc_test)"
   ]
  },
  {
   "cell_type": "markdown",
   "id": "e8cda61c",
   "metadata": {},
   "source": [
    "Our final model has successfully predicted churn with a 98.7% AUC score on the test set, and has an f1-score of 84%, recall of 81%, and precision of 86%. "
   ]
  },
  {
   "cell_type": "markdown",
   "id": "cf19d33f",
   "metadata": {},
   "source": [
    "---"
   ]
  },
  {
   "cell_type": "markdown",
   "id": "9a26ce4a",
   "metadata": {},
   "source": [
    "### Feature Importance"
   ]
  },
  {
   "cell_type": "markdown",
   "id": "ebcda52a",
   "metadata": {},
   "source": [
    "In this section, we analyze the importance of the features of our Random Forest Model in predicting churn. "
   ]
  },
  {
   "cell_type": "markdown",
   "id": "1a7642bb",
   "metadata": {},
   "source": [
    "#### Base Model"
   ]
  },
  {
   "cell_type": "code",
   "execution_count": 119,
   "id": "a31a3094",
   "metadata": {
    "scrolled": false
   },
   "outputs": [
    {
     "data": {
      "text/html": [
       "<div>\n",
       "<style scoped>\n",
       "    .dataframe tbody tr th:only-of-type {\n",
       "        vertical-align: middle;\n",
       "    }\n",
       "\n",
       "    .dataframe tbody tr th {\n",
       "        vertical-align: top;\n",
       "    }\n",
       "\n",
       "    .dataframe thead th {\n",
       "        text-align: right;\n",
       "    }\n",
       "</style>\n",
       "<table border=\"1\" class=\"dataframe\">\n",
       "  <thead>\n",
       "    <tr style=\"text-align: right;\">\n",
       "      <th></th>\n",
       "      <th>Variable</th>\n",
       "      <th>Importance</th>\n",
       "    </tr>\n",
       "  </thead>\n",
       "  <tbody>\n",
       "    <tr>\n",
       "      <th>0</th>\n",
       "      <td>membership_days</td>\n",
       "      <td>0.327262</td>\n",
       "    </tr>\n",
       "    <tr>\n",
       "      <th>1</th>\n",
       "      <td>mem_exp_month</td>\n",
       "      <td>0.204501</td>\n",
       "    </tr>\n",
       "    <tr>\n",
       "      <th>2</th>\n",
       "      <td>last_log_day</td>\n",
       "      <td>0.127782</td>\n",
       "    </tr>\n",
       "    <tr>\n",
       "      <th>3</th>\n",
       "      <td>is_auto_renew</td>\n",
       "      <td>0.072733</td>\n",
       "    </tr>\n",
       "    <tr>\n",
       "      <th>4</th>\n",
       "      <td>trans_month</td>\n",
       "      <td>0.047893</td>\n",
       "    </tr>\n",
       "    <tr>\n",
       "      <th>5</th>\n",
       "      <td>is_cancel</td>\n",
       "      <td>0.043481</td>\n",
       "    </tr>\n",
       "    <tr>\n",
       "      <th>6</th>\n",
       "      <td>notAutorenew_&amp;_cancel</td>\n",
       "      <td>0.027013</td>\n",
       "    </tr>\n",
       "    <tr>\n",
       "      <th>7</th>\n",
       "      <td>autorenew_&amp;_not_cancel</td>\n",
       "      <td>0.025896</td>\n",
       "    </tr>\n",
       "    <tr>\n",
       "      <th>8</th>\n",
       "      <td>mem_exp_day</td>\n",
       "      <td>0.023296</td>\n",
       "    </tr>\n",
       "    <tr>\n",
       "      <th>9</th>\n",
       "      <td>pay_38</td>\n",
       "      <td>0.019451</td>\n",
       "    </tr>\n",
       "    <tr>\n",
       "      <th>10</th>\n",
       "      <td>trans_year</td>\n",
       "      <td>0.015965</td>\n",
       "    </tr>\n",
       "    <tr>\n",
       "      <th>11</th>\n",
       "      <td>trans_day</td>\n",
       "      <td>0.015906</td>\n",
       "    </tr>\n",
       "    <tr>\n",
       "      <th>12</th>\n",
       "      <td>amt_per_day</td>\n",
       "      <td>0.014449</td>\n",
       "    </tr>\n",
       "    <tr>\n",
       "      <th>13</th>\n",
       "      <td>mem_exp_year</td>\n",
       "      <td>0.005367</td>\n",
       "    </tr>\n",
       "    <tr>\n",
       "      <th>14</th>\n",
       "      <td>discount</td>\n",
       "      <td>0.004645</td>\n",
       "    </tr>\n",
       "    <tr>\n",
       "      <th>15</th>\n",
       "      <td>pay_41</td>\n",
       "      <td>0.003152</td>\n",
       "    </tr>\n",
       "    <tr>\n",
       "      <th>16</th>\n",
       "      <td>total_secs</td>\n",
       "      <td>0.002514</td>\n",
       "    </tr>\n",
       "    <tr>\n",
       "      <th>17</th>\n",
       "      <td>Reg_4</td>\n",
       "      <td>0.002314</td>\n",
       "    </tr>\n",
       "    <tr>\n",
       "      <th>18</th>\n",
       "      <td>mem_exp_weekday</td>\n",
       "      <td>0.002239</td>\n",
       "    </tr>\n",
       "    <tr>\n",
       "      <th>19</th>\n",
       "      <td>Reg_7</td>\n",
       "      <td>0.002186</td>\n",
       "    </tr>\n",
       "    <tr>\n",
       "      <th>20</th>\n",
       "      <td>pay_39</td>\n",
       "      <td>0.002119</td>\n",
       "    </tr>\n",
       "    <tr>\n",
       "      <th>21</th>\n",
       "      <td>trans_weekday</td>\n",
       "      <td>0.001879</td>\n",
       "    </tr>\n",
       "    <tr>\n",
       "      <th>22</th>\n",
       "      <td>is_discount</td>\n",
       "      <td>0.001294</td>\n",
       "    </tr>\n",
       "    <tr>\n",
       "      <th>23</th>\n",
       "      <td>reg_year</td>\n",
       "      <td>0.001206</td>\n",
       "    </tr>\n",
       "    <tr>\n",
       "      <th>24</th>\n",
       "      <td>num_unq</td>\n",
       "      <td>0.001118</td>\n",
       "    </tr>\n",
       "    <tr>\n",
       "      <th>25</th>\n",
       "      <td>pay_40</td>\n",
       "      <td>0.000798</td>\n",
       "    </tr>\n",
       "    <tr>\n",
       "      <th>26</th>\n",
       "      <td>percent_100</td>\n",
       "      <td>0.000769</td>\n",
       "    </tr>\n",
       "    <tr>\n",
       "      <th>27</th>\n",
       "      <td>percent_25</td>\n",
       "      <td>0.000680</td>\n",
       "    </tr>\n",
       "    <tr>\n",
       "      <th>28</th>\n",
       "      <td>percent_50</td>\n",
       "      <td>0.000487</td>\n",
       "    </tr>\n",
       "    <tr>\n",
       "      <th>29</th>\n",
       "      <td>reg_month</td>\n",
       "      <td>0.000469</td>\n",
       "    </tr>\n",
       "    <tr>\n",
       "      <th>30</th>\n",
       "      <td>City_1</td>\n",
       "      <td>0.000464</td>\n",
       "    </tr>\n",
       "    <tr>\n",
       "      <th>31</th>\n",
       "      <td>user__weekday</td>\n",
       "      <td>0.000324</td>\n",
       "    </tr>\n",
       "    <tr>\n",
       "      <th>32</th>\n",
       "      <td>Reg_9</td>\n",
       "      <td>0.000214</td>\n",
       "    </tr>\n",
       "    <tr>\n",
       "      <th>33</th>\n",
       "      <td>Reg_3</td>\n",
       "      <td>0.000133</td>\n",
       "    </tr>\n",
       "    <tr>\n",
       "      <th>34</th>\n",
       "      <td>user__month</td>\n",
       "      <td>0.000000</td>\n",
       "    </tr>\n",
       "    <tr>\n",
       "      <th>35</th>\n",
       "      <td>user__year</td>\n",
       "      <td>0.000000</td>\n",
       "    </tr>\n",
       "  </tbody>\n",
       "</table>\n",
       "</div>"
      ],
      "text/plain": [
       "                  Variable  Importance\n",
       "0          membership_days    0.327262\n",
       "1            mem_exp_month    0.204501\n",
       "2             last_log_day    0.127782\n",
       "3            is_auto_renew    0.072733\n",
       "4              trans_month    0.047893\n",
       "5                is_cancel    0.043481\n",
       "6    notAutorenew_&_cancel    0.027013\n",
       "7   autorenew_&_not_cancel    0.025896\n",
       "8              mem_exp_day    0.023296\n",
       "9                   pay_38    0.019451\n",
       "10              trans_year    0.015965\n",
       "11               trans_day    0.015906\n",
       "12             amt_per_day    0.014449\n",
       "13            mem_exp_year    0.005367\n",
       "14                discount    0.004645\n",
       "15                  pay_41    0.003152\n",
       "16              total_secs    0.002514\n",
       "17                   Reg_4    0.002314\n",
       "18         mem_exp_weekday    0.002239\n",
       "19                   Reg_7    0.002186\n",
       "20                  pay_39    0.002119\n",
       "21           trans_weekday    0.001879\n",
       "22             is_discount    0.001294\n",
       "23                reg_year    0.001206\n",
       "24                 num_unq    0.001118\n",
       "25                  pay_40    0.000798\n",
       "26             percent_100    0.000769\n",
       "27              percent_25    0.000680\n",
       "28              percent_50    0.000487\n",
       "29               reg_month    0.000469\n",
       "30                  City_1    0.000464\n",
       "31           user__weekday    0.000324\n",
       "32                   Reg_9    0.000214\n",
       "33                   Reg_3    0.000133\n",
       "34             user__month    0.000000\n",
       "35              user__year    0.000000"
      ]
     },
     "execution_count": 119,
     "metadata": {},
     "output_type": "execute_result"
    }
   ],
   "source": [
    "base_feature_importances = base_rf_.best_estimator_.feature_importances_\n",
    "\n",
    "# Put the variable names and their feature importances into a data frame\n",
    "base_importances_df = pd.DataFrame({'Variable': X_train.columns,\n",
    "                               'Importance': base_feature_importances})\n",
    "base_importances_df.sort_values(by='Importance', ascending=False, inplace=True, ignore_index=True) # Sort Feature Importance in descending order\n",
    "\n",
    "base_importances_df"
   ]
  },
  {
   "cell_type": "code",
   "execution_count": 120,
   "id": "987df30b",
   "metadata": {
    "scrolled": false
   },
   "outputs": [
    {
     "data": {
      "image/png": "[encoded data removed]",
      "text/plain": [
       "<Figure size 1080x720 with 1 Axes>"
      ]
     },
     "metadata": {
      "needs_background": "light"
     },
     "output_type": "display_data"
    }
   ],
   "source": [
    "plt.figure(figsize=(15,10))\n",
    "\n",
    "plt.barh(down_importances_df['Variable'], down_importances_df['Importance'])\n",
    "plt.title('Base Random Forest Model Feature Importance', fontsize=16)\n",
    "plt.xlabel('Feature Importance')\n",
    "plt.ylabel('Feature')\n",
    "sns.despine()\n",
    "plt.show()"
   ]
  },
  {
   "cell_type": "markdown",
   "id": "09050873",
   "metadata": {},
   "source": [
    "---"
   ]
  },
  {
   "cell_type": "markdown",
   "id": "3152070f",
   "metadata": {},
   "source": [
    "#### Downsampled model"
   ]
  },
  {
   "cell_type": "code",
   "execution_count": 109,
   "id": "0fa170b9",
   "metadata": {},
   "outputs": [
    {
     "data": {
      "text/html": [
       "<div>\n",
       "<style scoped>\n",
       "    .dataframe tbody tr th:only-of-type {\n",
       "        vertical-align: middle;\n",
       "    }\n",
       "\n",
       "    .dataframe tbody tr th {\n",
       "        vertical-align: top;\n",
       "    }\n",
       "\n",
       "    .dataframe thead th {\n",
       "        text-align: right;\n",
       "    }\n",
       "</style>\n",
       "<table border=\"1\" class=\"dataframe\">\n",
       "  <thead>\n",
       "    <tr style=\"text-align: right;\">\n",
       "      <th></th>\n",
       "      <th>Variable</th>\n",
       "      <th>Importance</th>\n",
       "    </tr>\n",
       "  </thead>\n",
       "  <tbody>\n",
       "    <tr>\n",
       "      <th>0</th>\n",
       "      <td>membership_days</td>\n",
       "      <td>0.207877</td>\n",
       "    </tr>\n",
       "    <tr>\n",
       "      <th>1</th>\n",
       "      <td>mem_exp_month</td>\n",
       "      <td>0.159035</td>\n",
       "    </tr>\n",
       "    <tr>\n",
       "      <th>2</th>\n",
       "      <td>autorenew_&amp;_not_cancel</td>\n",
       "      <td>0.147203</td>\n",
       "    </tr>\n",
       "    <tr>\n",
       "      <th>3</th>\n",
       "      <td>notAutorenew_&amp;_cancel</td>\n",
       "      <td>0.126064</td>\n",
       "    </tr>\n",
       "    <tr>\n",
       "      <th>4</th>\n",
       "      <td>last_log_day</td>\n",
       "      <td>0.074272</td>\n",
       "    </tr>\n",
       "    <tr>\n",
       "      <th>5</th>\n",
       "      <td>is_auto_renew</td>\n",
       "      <td>0.069868</td>\n",
       "    </tr>\n",
       "    <tr>\n",
       "      <th>6</th>\n",
       "      <td>pay_38</td>\n",
       "      <td>0.036960</td>\n",
       "    </tr>\n",
       "    <tr>\n",
       "      <th>7</th>\n",
       "      <td>is_cancel</td>\n",
       "      <td>0.035925</td>\n",
       "    </tr>\n",
       "    <tr>\n",
       "      <th>8</th>\n",
       "      <td>mem_exp_year</td>\n",
       "      <td>0.026793</td>\n",
       "    </tr>\n",
       "    <tr>\n",
       "      <th>9</th>\n",
       "      <td>amt_per_day</td>\n",
       "      <td>0.024034</td>\n",
       "    </tr>\n",
       "    <tr>\n",
       "      <th>10</th>\n",
       "      <td>pay_41</td>\n",
       "      <td>0.023411</td>\n",
       "    </tr>\n",
       "    <tr>\n",
       "      <th>11</th>\n",
       "      <td>trans_month</td>\n",
       "      <td>0.019658</td>\n",
       "    </tr>\n",
       "    <tr>\n",
       "      <th>12</th>\n",
       "      <td>trans_day</td>\n",
       "      <td>0.012287</td>\n",
       "    </tr>\n",
       "    <tr>\n",
       "      <th>13</th>\n",
       "      <td>mem_exp_day</td>\n",
       "      <td>0.011708</td>\n",
       "    </tr>\n",
       "    <tr>\n",
       "      <th>14</th>\n",
       "      <td>trans_weekday</td>\n",
       "      <td>0.004569</td>\n",
       "    </tr>\n",
       "    <tr>\n",
       "      <th>15</th>\n",
       "      <td>discount</td>\n",
       "      <td>0.003968</td>\n",
       "    </tr>\n",
       "    <tr>\n",
       "      <th>16</th>\n",
       "      <td>mem_exp_weekday</td>\n",
       "      <td>0.002050</td>\n",
       "    </tr>\n",
       "    <tr>\n",
       "      <th>17</th>\n",
       "      <td>pay_39</td>\n",
       "      <td>0.001674</td>\n",
       "    </tr>\n",
       "    <tr>\n",
       "      <th>18</th>\n",
       "      <td>trans_year</td>\n",
       "      <td>0.001673</td>\n",
       "    </tr>\n",
       "    <tr>\n",
       "      <th>19</th>\n",
       "      <td>City_1</td>\n",
       "      <td>0.001578</td>\n",
       "    </tr>\n",
       "    <tr>\n",
       "      <th>20</th>\n",
       "      <td>total_secs</td>\n",
       "      <td>0.001437</td>\n",
       "    </tr>\n",
       "    <tr>\n",
       "      <th>21</th>\n",
       "      <td>reg_year</td>\n",
       "      <td>0.001329</td>\n",
       "    </tr>\n",
       "    <tr>\n",
       "      <th>22</th>\n",
       "      <td>is_discount</td>\n",
       "      <td>0.001259</td>\n",
       "    </tr>\n",
       "    <tr>\n",
       "      <th>23</th>\n",
       "      <td>num_unq</td>\n",
       "      <td>0.000954</td>\n",
       "    </tr>\n",
       "    <tr>\n",
       "      <th>24</th>\n",
       "      <td>Reg_7</td>\n",
       "      <td>0.000855</td>\n",
       "    </tr>\n",
       "    <tr>\n",
       "      <th>25</th>\n",
       "      <td>pay_40</td>\n",
       "      <td>0.000701</td>\n",
       "    </tr>\n",
       "    <tr>\n",
       "      <th>26</th>\n",
       "      <td>percent_50</td>\n",
       "      <td>0.000653</td>\n",
       "    </tr>\n",
       "    <tr>\n",
       "      <th>27</th>\n",
       "      <td>percent_100</td>\n",
       "      <td>0.000634</td>\n",
       "    </tr>\n",
       "    <tr>\n",
       "      <th>28</th>\n",
       "      <td>percent_25</td>\n",
       "      <td>0.000454</td>\n",
       "    </tr>\n",
       "    <tr>\n",
       "      <th>29</th>\n",
       "      <td>reg_month</td>\n",
       "      <td>0.000373</td>\n",
       "    </tr>\n",
       "    <tr>\n",
       "      <th>30</th>\n",
       "      <td>user__weekday</td>\n",
       "      <td>0.000330</td>\n",
       "    </tr>\n",
       "    <tr>\n",
       "      <th>31</th>\n",
       "      <td>Reg_9</td>\n",
       "      <td>0.000175</td>\n",
       "    </tr>\n",
       "    <tr>\n",
       "      <th>32</th>\n",
       "      <td>Reg_3</td>\n",
       "      <td>0.000165</td>\n",
       "    </tr>\n",
       "    <tr>\n",
       "      <th>33</th>\n",
       "      <td>Reg_4</td>\n",
       "      <td>0.000075</td>\n",
       "    </tr>\n",
       "    <tr>\n",
       "      <th>34</th>\n",
       "      <td>user__month</td>\n",
       "      <td>0.000000</td>\n",
       "    </tr>\n",
       "    <tr>\n",
       "      <th>35</th>\n",
       "      <td>user__year</td>\n",
       "      <td>0.000000</td>\n",
       "    </tr>\n",
       "  </tbody>\n",
       "</table>\n",
       "</div>"
      ],
      "text/plain": [
       "                  Variable  Importance\n",
       "0          membership_days    0.207877\n",
       "1            mem_exp_month    0.159035\n",
       "2   autorenew_&_not_cancel    0.147203\n",
       "3    notAutorenew_&_cancel    0.126064\n",
       "4             last_log_day    0.074272\n",
       "5            is_auto_renew    0.069868\n",
       "6                   pay_38    0.036960\n",
       "7                is_cancel    0.035925\n",
       "8             mem_exp_year    0.026793\n",
       "9              amt_per_day    0.024034\n",
       "10                  pay_41    0.023411\n",
       "11             trans_month    0.019658\n",
       "12               trans_day    0.012287\n",
       "13             mem_exp_day    0.011708\n",
       "14           trans_weekday    0.004569\n",
       "15                discount    0.003968\n",
       "16         mem_exp_weekday    0.002050\n",
       "17                  pay_39    0.001674\n",
       "18              trans_year    0.001673\n",
       "19                  City_1    0.001578\n",
       "20              total_secs    0.001437\n",
       "21                reg_year    0.001329\n",
       "22             is_discount    0.001259\n",
       "23                 num_unq    0.000954\n",
       "24                   Reg_7    0.000855\n",
       "25                  pay_40    0.000701\n",
       "26              percent_50    0.000653\n",
       "27             percent_100    0.000634\n",
       "28              percent_25    0.000454\n",
       "29               reg_month    0.000373\n",
       "30           user__weekday    0.000330\n",
       "31                   Reg_9    0.000175\n",
       "32                   Reg_3    0.000165\n",
       "33                   Reg_4    0.000075\n",
       "34             user__month    0.000000\n",
       "35              user__year    0.000000"
      ]
     },
     "execution_count": 109,
     "metadata": {},
     "output_type": "execute_result"
    }
   ],
   "source": [
    "down_feature_importances = down_rf_model.feature_importances_\n",
    "\n",
    "# Put the variable names and their feature importances into a data frame\n",
    "down_importances_df = pd.DataFrame({'Variable': X_train.columns,\n",
    "                               'Importance': down_feature_importances})\n",
    "down_importances_df.sort_values(by='Importance', ascending=False, inplace=True, ignore_index=True) # Sort Feature Importance in descending order\n",
    "\n",
    "\n",
    "down_importances_df"
   ]
  },
  {
   "cell_type": "code",
   "execution_count": 115,
   "id": "e0a59a49",
   "metadata": {
    "scrolled": false
   },
   "outputs": [
    {
     "data": {
      "image/png": "[encoded data removed]",
      "text/plain": [
       "<Figure size 1080x720 with 1 Axes>"
      ]
     },
     "metadata": {
      "needs_background": "light"
     },
     "output_type": "display_data"
    }
   ],
   "source": [
    "plt.figure(figsize=(15,10))\n",
    "\n",
    "plt.barh(down_importances_df['Variable'], down_importances_df['Importance'])\n",
    "plt.title('Downsampled Random Forest Model Feature Importance', fontsize=16)\n",
    "plt.xlabel('Feature Importance')\n",
    "plt.ylabel('Feature')\n",
    "sns.despine()\n",
    "plt.show()"
   ]
  },
  {
   "cell_type": "markdown",
   "id": "a48dbb7c",
   "metadata": {},
   "source": [
    "---"
   ]
  },
  {
   "cell_type": "markdown",
   "id": "c2ecc256",
   "metadata": {},
   "source": [
    "## Recommendations"
   ]
  },
  {
   "cell_type": "markdown",
   "id": "c27661b4",
   "metadata": {},
   "source": [
    "The most important features that drive churn prediction are: \n",
    "\n",
    "- membership duration\n",
    "- membership expiration month\n",
    "- autorenewing and not cancelling an existing membership\n",
    "- not autorenewing and cancelling an existing membership\n",
    "- the last day a member used KKbox music app\n",
    "- autorenewing an existing membership\n",
    "- payment method 38\n",
    "- membership subscription cancellation\n",
    "\n",
    "\n",
    "This is consistent with our findings of our Logistic Regression Model in the previous notebook. We see again that membership duration has the biggest impact on churn prediction. What is different for our Random Forest Model in comparison to the Logistic Model is that the combinations of autorenewing and not cancelling an existing membership as well as not autorenewing and cancelling an existing membership are top important predictors of churn. We lost this importance in our Logistic Model most likely because they introduced multicollinearity. As we expected, these specific combinations give more information and lead to a better forecasting of churn. It is also interesting to note that the original features autorenewal and cancellation do not drive the prediction as much as their combinations do and offer less insight. It appears that our Random Forest Model picked up on the importance of payment method 38. We can infer that this payment method might not be a credit card so KKBox should consider promoting payment methods that lead to setting up autopay and autorenewal.  "
   ]
  },
  {
   "cell_type": "markdown",
   "id": "a55cbd0b",
   "metadata": {},
   "source": [
    "---"
   ]
  },
  {
   "cell_type": "markdown",
   "id": "2de0b294",
   "metadata": {},
   "source": [
    "### Churn Rate Prediction"
   ]
  },
  {
   "cell_type": "markdown",
   "id": "2ae33603",
   "metadata": {},
   "source": [
    "In this final section, we will use the final test churn prediction from our best Random Forest Model to calculate the churn rate prediction as a percentage. In combination with the revenue we can determine the expected revenue loss from losing customers. We know the revenue from our EDA notebook as it is the actual amount paid for a plan. We will consider paid plan amounts of $150 in our calculation as we know that this is the most frequent plan used. "
   ]
  },
  {
   "cell_type": "markdown",
   "id": "7cee4d54",
   "metadata": {},
   "source": [
    "First, we find the number of members that our model predicted to churn:"
   ]
  },
  {
   "cell_type": "code",
   "execution_count": 34,
   "id": "c96da1b9",
   "metadata": {
    "scrolled": true
   },
   "outputs": [
    {
     "data": {
      "text/plain": [
       "12690"
      ]
     },
     "execution_count": 34,
     "metadata": {},
     "output_type": "execute_result"
    }
   ],
   "source": [
    "churn_members = np.sum(y_pred_test==1)\n",
    "churn_members"
   ]
  },
  {
   "cell_type": "markdown",
   "id": "4a657a4a",
   "metadata": {},
   "source": [
    "Now, we calculate the predicted churn rate by dividing the number of predicted churn members by the total number of members that we had initially in our clean dataset. We know this from our EDA to be 970,960 members. "
   ]
  },
  {
   "cell_type": "code",
   "execution_count": 36,
   "id": "b0ce4e8d",
   "metadata": {
    "scrolled": false
   },
   "outputs": [
    {
     "data": {
      "text/plain": [
       "1.3069539424899068"
      ]
     },
     "execution_count": 36,
     "metadata": {},
     "output_type": "execute_result"
    }
   ],
   "source": [
    "churn_rate = (churn_members/970960)*100\n",
    "churn_rate"
   ]
  },
  {
   "cell_type": "markdown",
   "id": "9cc07b7d",
   "metadata": {},
   "source": [
    "Our churn prediction translates into a revenue loss of:"
   ]
  },
  {
   "cell_type": "code",
   "execution_count": 38,
   "id": "d1b9b1ea",
   "metadata": {
    "scrolled": true
   },
   "outputs": [
    {
     "data": {
      "text/plain": [
       "1903500"
      ]
     },
     "execution_count": 38,
     "metadata": {},
     "output_type": "execute_result"
    }
   ],
   "source": [
    "revenue_loss = churn_members*150\n",
    "revenue_loss"
   ]
  },
  {
   "cell_type": "markdown",
   "id": "4160824b",
   "metadata": {},
   "source": [
    "### Final Concluding Remarks"
   ]
  },
  {
   "cell_type": "markdown",
   "id": "5edd8811",
   "metadata": {},
   "source": [
    "By predicting the churn rate of 1.3%, KKBox can expect a revenue loss of $2 million if customer retention is not improved. These findings help KKbox gain a better understanding of their future expected revenue. Additionally, KKBox can use these results to identify and improve upon areas where customer service is lacking. Their marketing team can understand what preventative steps are necessary to ensure lost revenue is minimized. Particularly, they can focus on the most important features from our Random Forest Modelling results to make improvements in customer lifetime value as well as retention and further reduce the churn rate and revenue loss. "
   ]
  }
 ],
 "metadata": {
  "kernelspec": {
   "display_name": "Python 3 (ipykernel)",
   "language": "python",
   "name": "python3"
  },
  "language_info": {
   "codemirror_mode": {
    "name": "ipython",
    "version": 3
   },
   "file_extension": ".py",
   "mimetype": "text/x-python",
   "name": "python",
   "nbconvert_exporter": "python",
   "pygments_lexer": "ipython3",
   "version": "3.9.12"
  }
 },
 "nbformat": 4,
 "nbformat_minor": 5
}
