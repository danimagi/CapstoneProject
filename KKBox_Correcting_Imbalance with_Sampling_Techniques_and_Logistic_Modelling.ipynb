{
 "cells": [
  {
   "cell_type": "markdown",
   "id": "24ec2070",
   "metadata": {},
   "source": [
    "# Correcting Imbalance with Sampling Techniques and Logistic Modelling"
   ]
  },
  {
   "cell_type": "markdown",
   "id": "12bac99b",
   "metadata": {},
   "source": [
    "In this notebook, we apply upsampling and downsampling techniques to rectify the imbalance in our binary target variable, churn, where we have much more data on no churn than we do on churn. Afterwards, we fit a base logistic model to our imbalanced dataset to have a baseline score unto which to compare the other models to. Then we fit logistic models to the upsampled and downsampled datasets and analyze if there is any increase in model performance on the validation. Finally, we use a pipeline and grid search to optimize the hyperparameter C for each logistic model. We then apply the same steps to the other data set from which we did feature selection on in the previous notebook to see if removing features that introduced multicollinearity has an effect on our model performance."
   ]
  },
  {
   "cell_type": "markdown",
   "id": "1582a7b0",
   "metadata": {},
   "source": [
    "---"
   ]
  },
  {
   "cell_type": "markdown",
   "id": "c6fcf995",
   "metadata": {},
   "source": [
    "## Table of Contents"
   ]
  },
  {
   "cell_type": "markdown",
   "id": "f3242aca",
   "metadata": {},
   "source": [
    "## Train-Test Split on Clean Dataset with All Features\n",
    "\n",
    "## Sampling Techniques\n",
    "\n",
    "### Upsampling:\n",
    "### Upsampled Logistic Model with 10% Sampling Rate\n",
    "- Hard Predictions Classification Report and Confusion Matrix\n",
    "- ROC curve and AUC score\n",
    "\n",
    "### Upsampled Logistic Model with 20% Sampling Rate\n",
    "- Hard Predictions Classification Report and Confusion Matrix\n",
    "- ROC curve and AUC score\n",
    "\n",
    "### Downsampling:\n",
    "### Downsampled Logistic Model with 10% Sampling Rate\n",
    "- Hard Predictions Classification Report and Confusion Matrix\n",
    "- ROC curve and AUC score\n",
    "\n",
    "### Downsampled Logistic Model with 20% Sampling Rate\n",
    "- Hard Predictions Classification Report and Confusion Matrix\n",
    "- ROC curve and AUC score\n",
    "\n",
    "## Pipelines and Hyperparameter Optimization on Data with All Features\n",
    "\n",
    "### Base Scaled and Optimized Logistic Model on Data with All Features\n",
    "\n",
    "### Upsampled Scaled and Optimized Logistic Model with 20% sampling rate\n",
    "- Hard Predictions Classification Report and Confusion Matrix\n",
    "- ROC curve and AUC score\n",
    "\n",
    "### Downsampled Scaled and Optimized Logistic Model with 20% sampling rate\n",
    "- Hard Predictions Classification Report and Confusion Matrix\n",
    "- ROC curve and AUC score\n",
    "\n",
    "\n",
    "## Train-Test Split on Clean Dataset with  Feature Selection\n",
    "\n",
    "\n",
    "\n",
    "## Sampling Techniques, Pipelines, and Hyperparameter Optimization on Dataset with  Feature Selection\n",
    "\n",
    "#### Upsampled Scaled and Optimized Logistic Model with 20% sampling rate on Feature Selected Data\n",
    "- Hard Predictions Classification Report and Confusion Matrix\n",
    "- ROC curve and AUC score\n",
    "\n",
    "#### Downsampled Scaled and Optimized Logistic Model with 20% sampling rate on Feature Selected Data\n",
    "- Hard Predictions Classification Report and Confusion Matrix\n",
    "- ROC curve and AUC score\n",
    "\n",
    "## Summary:\n",
    "### Feature Coefficient Importance and Odds Ratio Visualizations\n",
    "- Data with All Features\n",
    "- Data with Feature Seleciton\n",
    "\n",
    "### Logistic Model Table Summary\n"
   ]
  },
  {
   "cell_type": "markdown",
   "id": "dfd36f6b",
   "metadata": {},
   "source": [
    "---"
   ]
  },
  {
   "cell_type": "code",
   "execution_count": 1,
   "id": "0284b583",
   "metadata": {},
   "outputs": [],
   "source": [
    "import numpy as np\n",
    "import pandas as pd\n",
    "import matplotlib.pyplot as plt\n",
    "\n",
    "\n",
    "from sklearn.model_selection import train_test_split\n",
    "from sklearn.utils import resample\n",
    "\n",
    "from sklearn.linear_model import LogisticRegression\n",
    "from sklearn.metrics import plot_confusion_matrix, confusion_matrix\n",
    "from sklearn.metrics import classification_report\n",
    "from sklearn.metrics import roc_curve, roc_auc_score\n",
    "from sklearn.metrics import plot_roc_curve\n",
    "\n",
    "from sklearn.preprocessing import StandardScaler\n",
    "from tempfile import mkdtemp\n",
    "from sklearn.pipeline import Pipeline\n",
    "from sklearn.model_selection import GridSearchCV"
   ]
  },
  {
   "cell_type": "markdown",
   "id": "dd5c818c",
   "metadata": {},
   "source": [
    "### Train-Test Split on Clean Dataset with All Features"
   ]
  },
  {
   "cell_type": "markdown",
   "id": "cd3afd03",
   "metadata": {},
   "source": [
    "We begin by reading in our pickled clean dataset from the previous notebook on Feature Engineering. This dataset contains all features. "
   ]
  },
  {
   "cell_type": "code",
   "execution_count": 93,
   "id": "21850f5e",
   "metadata": {},
   "outputs": [],
   "source": [
    "data = pd.read_pickle('clean_data.pkl')"
   ]
  },
  {
   "cell_type": "code",
   "execution_count": 3,
   "id": "bfaa1e1f",
   "metadata": {},
   "outputs": [
    {
     "data": {
      "text/html": [
       "<div>\n",
       "<style scoped>\n",
       "    .dataframe tbody tr th:only-of-type {\n",
       "        vertical-align: middle;\n",
       "    }\n",
       "\n",
       "    .dataframe tbody tr th {\n",
       "        vertical-align: top;\n",
       "    }\n",
       "\n",
       "    .dataframe thead th {\n",
       "        text-align: right;\n",
       "    }\n",
       "</style>\n",
       "<table border=\"1\" class=\"dataframe\">\n",
       "  <thead>\n",
       "    <tr style=\"text-align: right;\">\n",
       "      <th></th>\n",
       "      <th>Reg_3</th>\n",
       "      <th>Reg_4</th>\n",
       "      <th>Reg_7</th>\n",
       "      <th>Reg_9</th>\n",
       "      <th>City_1</th>\n",
       "      <th>pay_38</th>\n",
       "      <th>pay_39</th>\n",
       "      <th>pay_40</th>\n",
       "      <th>pay_41</th>\n",
       "      <th>msno</th>\n",
       "      <th>...</th>\n",
       "      <th>trans_weekday</th>\n",
       "      <th>trans_month</th>\n",
       "      <th>trans_year</th>\n",
       "      <th>mem_exp_day</th>\n",
       "      <th>mem_exp_weekday</th>\n",
       "      <th>mem_exp_month</th>\n",
       "      <th>mem_exp_year</th>\n",
       "      <th>user__weekday</th>\n",
       "      <th>user__month</th>\n",
       "      <th>user__year</th>\n",
       "    </tr>\n",
       "  </thead>\n",
       "  <tbody>\n",
       "    <tr>\n",
       "      <th>0</th>\n",
       "      <td>1</td>\n",
       "      <td>0</td>\n",
       "      <td>0</td>\n",
       "      <td>0</td>\n",
       "      <td>0</td>\n",
       "      <td>1</td>\n",
       "      <td>0</td>\n",
       "      <td>0</td>\n",
       "      <td>0</td>\n",
       "      <td>ugx0CjOMzazClkFzU2xasmDZaoIqOUAZPsH1q0teWCg=</td>\n",
       "      <td>...</td>\n",
       "      <td>1</td>\n",
       "      <td>2</td>\n",
       "      <td>2017</td>\n",
       "      <td>30</td>\n",
       "      <td>3</td>\n",
       "      <td>3</td>\n",
       "      <td>2017</td>\n",
       "      <td>6</td>\n",
       "      <td>3</td>\n",
       "      <td>2017</td>\n",
       "    </tr>\n",
       "    <tr>\n",
       "      <th>1</th>\n",
       "      <td>1</td>\n",
       "      <td>0</td>\n",
       "      <td>0</td>\n",
       "      <td>0</td>\n",
       "      <td>0</td>\n",
       "      <td>0</td>\n",
       "      <td>0</td>\n",
       "      <td>0</td>\n",
       "      <td>0</td>\n",
       "      <td>f/NmvEzHfhINFEYZTR05prUdr+E+3+oewvweYz9cCQE=</td>\n",
       "      <td>...</td>\n",
       "      <td>5</td>\n",
       "      <td>3</td>\n",
       "      <td>2017</td>\n",
       "      <td>11</td>\n",
       "      <td>1</td>\n",
       "      <td>4</td>\n",
       "      <td>2017</td>\n",
       "      <td>0</td>\n",
       "      <td>3</td>\n",
       "      <td>2017</td>\n",
       "    </tr>\n",
       "    <tr>\n",
       "      <th>2</th>\n",
       "      <td>1</td>\n",
       "      <td>0</td>\n",
       "      <td>0</td>\n",
       "      <td>0</td>\n",
       "      <td>0</td>\n",
       "      <td>0</td>\n",
       "      <td>0</td>\n",
       "      <td>0</td>\n",
       "      <td>0</td>\n",
       "      <td>zLo9f73nGGT1p21ltZC3ChiRnAVvgibMyazbCxvWPcg=</td>\n",
       "      <td>...</td>\n",
       "      <td>1</td>\n",
       "      <td>3</td>\n",
       "      <td>2017</td>\n",
       "      <td>15</td>\n",
       "      <td>3</td>\n",
       "      <td>6</td>\n",
       "      <td>2017</td>\n",
       "      <td>3</td>\n",
       "      <td>3</td>\n",
       "      <td>2017</td>\n",
       "    </tr>\n",
       "    <tr>\n",
       "      <th>4</th>\n",
       "      <td>0</td>\n",
       "      <td>0</td>\n",
       "      <td>1</td>\n",
       "      <td>0</td>\n",
       "      <td>0</td>\n",
       "      <td>0</td>\n",
       "      <td>0</td>\n",
       "      <td>0</td>\n",
       "      <td>1</td>\n",
       "      <td>K6fja4+jmoZ5xG6BypqX80Uw/XKpMgrEMdG2edFOxnA=</td>\n",
       "      <td>...</td>\n",
       "      <td>3</td>\n",
       "      <td>3</td>\n",
       "      <td>2017</td>\n",
       "      <td>18</td>\n",
       "      <td>0</td>\n",
       "      <td>9</td>\n",
       "      <td>2017</td>\n",
       "      <td>5</td>\n",
       "      <td>3</td>\n",
       "      <td>2017</td>\n",
       "    </tr>\n",
       "    <tr>\n",
       "      <th>5</th>\n",
       "      <td>1</td>\n",
       "      <td>0</td>\n",
       "      <td>0</td>\n",
       "      <td>0</td>\n",
       "      <td>0</td>\n",
       "      <td>0</td>\n",
       "      <td>0</td>\n",
       "      <td>1</td>\n",
       "      <td>0</td>\n",
       "      <td>ibIHVYBqxGwrSExE63/omeDD99M5vYB3CN2HzkEY+eM=</td>\n",
       "      <td>...</td>\n",
       "      <td>3</td>\n",
       "      <td>3</td>\n",
       "      <td>2017</td>\n",
       "      <td>14</td>\n",
       "      <td>1</td>\n",
       "      <td>3</td>\n",
       "      <td>2017</td>\n",
       "      <td>2</td>\n",
       "      <td>3</td>\n",
       "      <td>2017</td>\n",
       "    </tr>\n",
       "  </tbody>\n",
       "</table>\n",
       "<p>5 rows × 38 columns</p>\n",
       "</div>"
      ],
      "text/plain": [
       "   Reg_3  Reg_4  Reg_7  Reg_9  City_1  pay_38  pay_39  pay_40  pay_41  \\\n",
       "0      1      0      0      0       0       1       0       0       0   \n",
       "1      1      0      0      0       0       0       0       0       0   \n",
       "2      1      0      0      0       0       0       0       0       0   \n",
       "4      0      0      1      0       0       0       0       0       1   \n",
       "5      1      0      0      0       0       0       0       1       0   \n",
       "\n",
       "                                           msno  ...  trans_weekday  \\\n",
       "0  ugx0CjOMzazClkFzU2xasmDZaoIqOUAZPsH1q0teWCg=  ...              1   \n",
       "1  f/NmvEzHfhINFEYZTR05prUdr+E+3+oewvweYz9cCQE=  ...              5   \n",
       "2  zLo9f73nGGT1p21ltZC3ChiRnAVvgibMyazbCxvWPcg=  ...              1   \n",
       "4  K6fja4+jmoZ5xG6BypqX80Uw/XKpMgrEMdG2edFOxnA=  ...              3   \n",
       "5  ibIHVYBqxGwrSExE63/omeDD99M5vYB3CN2HzkEY+eM=  ...              3   \n",
       "\n",
       "   trans_month  trans_year  mem_exp_day  mem_exp_weekday  mem_exp_month  \\\n",
       "0            2        2017           30                3              3   \n",
       "1            3        2017           11                1              4   \n",
       "2            3        2017           15                3              6   \n",
       "4            3        2017           18                0              9   \n",
       "5            3        2017           14                1              3   \n",
       "\n",
       "   mem_exp_year  user__weekday  user__month  user__year  \n",
       "0          2017              6            3        2017  \n",
       "1          2017              0            3        2017  \n",
       "2          2017              3            3        2017  \n",
       "4          2017              5            3        2017  \n",
       "5          2017              2            3        2017  \n",
       "\n",
       "[5 rows x 38 columns]"
      ]
     },
     "execution_count": 3,
     "metadata": {},
     "output_type": "execute_result"
    }
   ],
   "source": [
    "data.head()"
   ]
  },
  {
   "cell_type": "code",
   "execution_count": 4,
   "id": "e2447497",
   "metadata": {
    "scrolled": true
   },
   "outputs": [
    {
     "data": {
      "text/plain": [
       "(754532, 38)"
      ]
     },
     "execution_count": 4,
     "metadata": {},
     "output_type": "execute_result"
    }
   ],
   "source": [
    "data.shape"
   ]
  },
  {
   "cell_type": "markdown",
   "id": "b113f36d",
   "metadata": {},
   "source": [
    "Since the given test set had only 0 churn rate, we need to split our clean data set into train and test and then work on fixing the imbalance in the train set with upsampling and downsampling techniques. We will also need to split again into train and validation so as to not introduce bias on our test, which we save until the end for scoring our final validation prediction to the test."
   ]
  },
  {
   "cell_type": "code",
   "execution_count": 5,
   "id": "3e7b5f2b",
   "metadata": {},
   "outputs": [],
   "source": [
    "X = data.drop(['is_churn', 'msno'], axis=1)\n",
    "y = data['is_churn']"
   ]
  },
  {
   "cell_type": "code",
   "execution_count": 6,
   "id": "ca17ac15",
   "metadata": {},
   "outputs": [],
   "source": [
    "X_remainder, X_test, y_remainder, y_test = \\\n",
    "    train_test_split(X,y, test_size=0.2, random_state=1)"
   ]
  },
  {
   "cell_type": "code",
   "execution_count": 7,
   "id": "afb43855",
   "metadata": {},
   "outputs": [],
   "source": [
    "# Splitting the remainder in two chunks\n",
    "X_train, X_validation, y_train, y_validation = \\\n",
    "    train_test_split(X_remainder, y_remainder, test_size = 0.3,\n",
    "                     random_state=1, stratify= y_remainder)"
   ]
  },
  {
   "cell_type": "markdown",
   "id": "10a4dbbe",
   "metadata": {},
   "source": [
    "Our final proportions end up being \n",
    "* Test Set: *0.2*\n",
    "* Validation Set:  0.8 * 0.3 = *0.24*\n",
    "* Training Set: 0.8 * 0.7 = *0.56*"
   ]
  },
  {
   "cell_type": "markdown",
   "id": "6a211f9f",
   "metadata": {},
   "source": [
    "We can check the sizes of each chunk. Originally, in the data set we have 754,532 data points. When rounded, we should expect\n",
    "\n",
    "* Test Set: 0.2 * 754,532 = 150,906\n",
    "* Validation Set: 0.24 * 754,532 = 181,088\n",
    "* Training Set: 0.56 * 754,532 = 422,538"
   ]
  },
  {
   "cell_type": "code",
   "execution_count": 8,
   "id": "a5762372",
   "metadata": {},
   "outputs": [
    {
     "data": {
      "text/plain": [
       "((422537, 36), (181088, 36), (422537,), (181088,))"
      ]
     },
     "execution_count": 8,
     "metadata": {},
     "output_type": "execute_result"
    }
   ],
   "source": [
    "#sanity check\n",
    "X_train.shape, X_validation.shape, y_train.shape, y_validation.shape"
   ]
  },
  {
   "cell_type": "code",
   "execution_count": 9,
   "id": "5a576071",
   "metadata": {},
   "outputs": [],
   "source": [
    "# Preserving unsampled split data (remainder and test)\n",
    "X_remainder.to_pickle('X_remainder.pkl')\n",
    "y_remainder.to_pickle(\"y_remainder.pkl\")\n",
    "\n",
    "X_test.to_pickle(\"X_test.pkl\")\n",
    "y_test.to_pickle(\"y_test.pkl\")"
   ]
  },
  {
   "cell_type": "code",
   "execution_count": 10,
   "id": "e3ead779",
   "metadata": {},
   "outputs": [],
   "source": [
    "# Preserving unsampled split data (train and validation)\n",
    "X_train.to_pickle('X_train.pkl')\n",
    "y_train.to_pickle(\"y_train.pkl\")\n",
    "\n",
    "X_validation.to_pickle(\"X_validation.pkl\")\n",
    "y_validation.to_pickle(\"y_validation.pkl\")"
   ]
  },
  {
   "cell_type": "markdown",
   "id": "fd5ad0cf",
   "metadata": {},
   "source": [
    "---"
   ]
  },
  {
   "cell_type": "markdown",
   "id": "9ba6d4b8",
   "metadata": {},
   "source": [
    "## Sampling Techniques"
   ]
  },
  {
   "cell_type": "markdown",
   "id": "abb582eb",
   "metadata": {},
   "source": [
    "### Upsampling\n",
    "\n",
    "To potentially improve our model, we can \"upsample\" the *minority* class. This entails us resampling the observations that belong to the underrepresented class so that our training data consists of equal proportions of each class."
   ]
  },
  {
   "cell_type": "code",
   "execution_count": 15,
   "id": "6437662f",
   "metadata": {
    "scrolled": false
   },
   "outputs": [
    {
     "name": "stdout",
     "output_type": "stream",
     "text": [
      "Number of class 1 examples before: 37934\n",
      "Number of class 1 examples after: 384603\n",
      "Upsampled Sampling Rate: 0.09863157593674517\n"
     ]
    }
   ],
   "source": [
    "print('Number of class 1 examples before:', X_train[y_train == 1].shape[0])\n",
    "\n",
    "# upsample is_churn == 1\n",
    "X_upsampled, y_upsampled = resample(X_train[y_train == 1], \n",
    "                                    y_train[y_train == 1], \n",
    "                                    replace=True, \n",
    "                                    n_samples=X_train[y_train == 0].shape[0], \n",
    "                                    random_state=1)\n",
    "\n",
    "print('Number of class 1 examples after:', X_upsampled.shape[0])\n",
    "print('Upsampled Sampling Rate:', X_train[y_train == 1].shape[0]/X_upsampled.shape[0])\n",
    "\n",
    "\n",
    "# Combine upsample with original data\n",
    "X_train_up_bal = np.vstack((X_train[y_train == 0], X_upsampled))\n",
    "y_train_up_bal = np.hstack((y_train[y_train == 0], y_upsampled))"
   ]
  },
  {
   "cell_type": "code",
   "execution_count": 13,
   "id": "0e5a6966",
   "metadata": {
    "scrolled": true
   },
   "outputs": [
    {
     "data": {
      "text/plain": [
       "((769206, 36), (769206,))"
      ]
     },
     "execution_count": 13,
     "metadata": {},
     "output_type": "execute_result"
    }
   ],
   "source": [
    "X_train_up_bal.shape, y_train_up_bal.shape"
   ]
  },
  {
   "cell_type": "markdown",
   "id": "52a51235",
   "metadata": {},
   "source": [
    "### Upsampled Logistic Model with 10% Sampling Rate"
   ]
  },
  {
   "cell_type": "code",
   "execution_count": 26,
   "id": "7afa9ce1",
   "metadata": {
    "scrolled": false
   },
   "outputs": [
    {
     "name": "stderr",
     "output_type": "stream",
     "text": [
      "/Users/danielamagiricu/opt/anaconda3/lib/python3.9/site-packages/sklearn/base.py:443: UserWarning: X has feature names, but LogisticRegression was fitted without feature names\n",
      "  warnings.warn(\n"
     ]
    },
    {
     "name": "stdout",
     "output_type": "stream",
     "text": [
      "Confusion matrices: \n",
      "=======================================================\n",
      "\n"
     ]
    },
    {
     "name": "stderr",
     "output_type": "stream",
     "text": [
      "/Users/danielamagiricu/opt/anaconda3/lib/python3.9/site-packages/sklearn/utils/deprecation.py:87: FutureWarning: Function plot_confusion_matrix is deprecated; Function `plot_confusion_matrix` is deprecated in 1.0 and will be removed in 1.2. Use one of the class methods: ConfusionMatrixDisplay.from_predictions or ConfusionMatrixDisplay.from_estimator.\n",
      "  warnings.warn(msg, category=FutureWarning)\n",
      "/Users/danielamagiricu/opt/anaconda3/lib/python3.9/site-packages/sklearn/utils/deprecation.py:87: FutureWarning: Function plot_confusion_matrix is deprecated; Function `plot_confusion_matrix` is deprecated in 1.0 and will be removed in 1.2. Use one of the class methods: ConfusionMatrixDisplay.from_predictions or ConfusionMatrixDisplay.from_estimator.\n",
      "  warnings.warn(msg, category=FutureWarning)\n",
      "/Users/danielamagiricu/opt/anaconda3/lib/python3.9/site-packages/sklearn/base.py:443: UserWarning: X has feature names, but LogisticRegression was fitted without feature names\n",
      "  warnings.warn(\n"
     ]
    },
    {
     "data": {
      "image/png": "[encoded data removed]",
      "text/plain": [
       "<Figure size 720x216 with 4 Axes>"
      ]
     },
     "metadata": {
      "needs_background": "light"
     },
     "output_type": "display_data"
    },
    {
     "name": "stdout",
     "output_type": "stream",
     "text": [
      "\n",
      "Original data classification report: \n",
      "=======================================================\n",
      "               precision    recall  f1-score   support\n",
      "\n",
      "           0       0.96      0.99      0.98    164830\n",
      "           1       0.86      0.60      0.70     16258\n",
      "\n",
      "    accuracy                           0.96    181088\n",
      "   macro avg       0.91      0.79      0.84    181088\n",
      "weighted avg       0.95      0.96      0.95    181088\n",
      "\n",
      "\n",
      "Upsampled data classification report: \n",
      "=======================================================\n",
      "               precision    recall  f1-score   support\n",
      "\n",
      "           0       0.99      0.91      0.95    164830\n",
      "           1       0.49      0.90      0.63     16258\n",
      "\n",
      "    accuracy                           0.91    181088\n",
      "   macro avg       0.74      0.90      0.79    181088\n",
      "weighted avg       0.94      0.91      0.92    181088\n",
      "\n"
     ]
    }
   ],
   "source": [
    "#####################\n",
    "### MODEL FITTING ###\n",
    "#####################\n",
    "\n",
    "# on the original data\n",
    "churn_logit = LogisticRegression(solver='lbfgs', random_state=1, max_iter=10000)\n",
    "churn_logit.fit(X_train, y_train)\n",
    "\n",
    "# evaluate on the original test set\n",
    "y_pred = churn_logit.predict(X_validation)\n",
    "\n",
    "# classification report\n",
    "report_initial = classification_report(y_validation, y_pred)\n",
    "\n",
    "\n",
    "# on the upsampled data\n",
    "churn_logit_up_bal = LogisticRegression(solver='lbfgs', random_state=1, max_iter=10000)\n",
    "churn_logit_up_bal.fit(X_train_up_bal, y_train_up_bal)\n",
    "\n",
    "# evaluate on the original test set - NO UPSAMPLING\n",
    "y_pred_up_bal = churn_logit_up_bal.predict(X_validation) \n",
    "\n",
    "# classification report\n",
    "report_upsampled = classification_report(y_validation, y_pred_up_bal)\n",
    "\n",
    "\n",
    "#####################\n",
    "### PRINT RESULTS ###\n",
    "#####################\n",
    "\n",
    "print_line = \"\\n=======================================================\\n\"\n",
    "\n",
    "# Confusion matrices\n",
    "print(\"Confusion matrices:\", print_line)\n",
    "\n",
    "fig, axes = plt.subplots(1, 2, figsize=(10, 3))\n",
    "\n",
    "# Model on the original data\n",
    "plot_confusion_matrix(churn_logit, X_validation, y_validation, ax=axes[0])\n",
    "axes[0].set_title('Original Confusion Matrix')\n",
    "\n",
    "# Model on the upsampled data\n",
    "plot_confusion_matrix(churn_logit_up_bal, X_validation, y_validation, ax=axes[1])\n",
    "axes[1].set_title('Upsampled Confusion Matrix')\n",
    "\n",
    "plt.show()\n",
    "\n",
    "# Classification Reports\n",
    "print(\"\\nOriginal data classification report:\", print_line, report_initial)\n",
    "print(\"\\nUpsampled data classification report:\", print_line, report_upsampled)"
   ]
  },
  {
   "cell_type": "markdown",
   "id": "c4f0b341",
   "metadata": {},
   "source": [
    "Our upsampled logistic model with a sampling rate of 10%, on the data having all features, has not improved model performance on the validation when compared to the original logistic model on the imbalanced data (no sampling). The f1-score has gone down by 7% (from 70% to 63%) and precision has also dropped by 37% (from 86% to 49%). The only metric which has improved is recall which has gone up by 30% (from 60% to 90%)."
   ]
  },
  {
   "cell_type": "markdown",
   "id": "27ecc1fc",
   "metadata": {},
   "source": [
    "---"
   ]
  },
  {
   "cell_type": "markdown",
   "id": "12070739",
   "metadata": {},
   "source": [
    "### Upsampled Logistic Model with 20% Sampling Rate"
   ]
  },
  {
   "cell_type": "markdown",
   "id": "89cc2828",
   "metadata": {},
   "source": [
    "Let'see if we can improve our upsampled model performance on the validation set by increasing the sampling rate by 20%. "
   ]
  },
  {
   "cell_type": "code",
   "execution_count": 16,
   "id": "fb9b6dcc",
   "metadata": {},
   "outputs": [
    {
     "name": "stdout",
     "output_type": "stream",
     "text": [
      "Number of class 1 examples before: 37934\n",
      "Number of class 1 examples after: 189670\n",
      "Upsampled Sampling Rate: 0.2\n"
     ]
    }
   ],
   "source": [
    "X_upsampled_20, y_upsampled_20 = resample(X_train[y_train == 1], \n",
    "                                    y_train[y_train == 1], \n",
    "                                    replace=True, \n",
    "                                    n_samples= round((X_train[y_train == 1].shape[0])/0.2), \n",
    "                                    random_state=1)\n",
    "\n",
    "print('Number of class 1 examples before:', X_train[y_train == 1].shape[0])\n",
    "print('Number of class 1 examples after:', X_upsampled_20.shape[0])\n",
    "print('Upsampled Sampling Rate:', X_train[y_train == 1].shape[0]/X_upsampled_20.shape[0])\n",
    "\n",
    "# Combine upsample with original data\n",
    "X_train_up_bal_20 = np.vstack((X_train[y_train == 0], X_upsampled_20))\n",
    "y_train_up_bal_20 = np.hstack((y_train[y_train == 0], y_upsampled_20))"
   ]
  },
  {
   "cell_type": "code",
   "execution_count": 17,
   "id": "97daaf99",
   "metadata": {},
   "outputs": [
    {
     "name": "stdout",
     "output_type": "stream",
     "text": [
      "Stored 'X_train_up_bal_20' (ndarray)\n",
      "Stored 'y_train_up_bal_20' (ndarray)\n"
     ]
    }
   ],
   "source": [
    "# Storing 20% unsampled split data using magic command %store\n",
    "# Cannot use pandas pickling on numpy array\n",
    "%store X_train_up_bal_20\n",
    "%store y_train_up_bal_20"
   ]
  },
  {
   "cell_type": "code",
   "execution_count": 51,
   "id": "f24958bd",
   "metadata": {
    "scrolled": false
   },
   "outputs": [
    {
     "name": "stderr",
     "output_type": "stream",
     "text": [
      "/Users/danielamagiricu/opt/anaconda3/lib/python3.9/site-packages/sklearn/base.py:443: UserWarning: X has feature names, but LogisticRegression was fitted without feature names\n",
      "  warnings.warn(\n"
     ]
    },
    {
     "name": "stdout",
     "output_type": "stream",
     "text": [
      "Confusion matrices: \n",
      "=======================================================\n",
      "\n"
     ]
    },
    {
     "name": "stderr",
     "output_type": "stream",
     "text": [
      "/Users/danielamagiricu/opt/anaconda3/lib/python3.9/site-packages/sklearn/utils/deprecation.py:87: FutureWarning: Function plot_confusion_matrix is deprecated; Function `plot_confusion_matrix` is deprecated in 1.0 and will be removed in 1.2. Use one of the class methods: ConfusionMatrixDisplay.from_predictions or ConfusionMatrixDisplay.from_estimator.\n",
      "  warnings.warn(msg, category=FutureWarning)\n",
      "/Users/danielamagiricu/opt/anaconda3/lib/python3.9/site-packages/sklearn/utils/deprecation.py:87: FutureWarning: Function plot_confusion_matrix is deprecated; Function `plot_confusion_matrix` is deprecated in 1.0 and will be removed in 1.2. Use one of the class methods: ConfusionMatrixDisplay.from_predictions or ConfusionMatrixDisplay.from_estimator.\n",
      "  warnings.warn(msg, category=FutureWarning)\n",
      "/Users/danielamagiricu/opt/anaconda3/lib/python3.9/site-packages/sklearn/base.py:443: UserWarning: X has feature names, but LogisticRegression was fitted without feature names\n",
      "  warnings.warn(\n"
     ]
    },
    {
     "data": {
      "image/png": "[encoded data removed]",
      "text/plain": [
       "<Figure size 720x216 with 4 Axes>"
      ]
     },
     "metadata": {
      "needs_background": "light"
     },
     "output_type": "display_data"
    },
    {
     "name": "stdout",
     "output_type": "stream",
     "text": [
      "\n",
      "Original data classification report: \n",
      "=======================================================\n",
      "               precision    recall  f1-score   support\n",
      "\n",
      "           0       0.96      0.99      0.98    164830\n",
      "           1       0.86      0.60      0.70     16258\n",
      "\n",
      "    accuracy                           0.96    181088\n",
      "   macro avg       0.91      0.79      0.84    181088\n",
      "weighted avg       0.95      0.96      0.95    181088\n",
      "\n",
      "\n",
      "20% Upsampled data classification report: \n",
      "=======================================================\n",
      "               precision    recall  f1-score   support\n",
      "\n",
      "           0       0.98      0.95      0.97    164830\n",
      "           1       0.64      0.85      0.73     16258\n",
      "\n",
      "    accuracy                           0.94    181088\n",
      "   macro avg       0.81      0.90      0.85    181088\n",
      "weighted avg       0.95      0.94      0.95    181088\n",
      "\n"
     ]
    }
   ],
   "source": [
    "#####################\n",
    "### MODEL FITTING ###\n",
    "#####################\n",
    "\n",
    "# on the upsampled data having 20% upsampling rate\n",
    "churn_logit_up_bal_20 = LogisticRegression(solver='lbfgs', random_state=1, max_iter=10000)\n",
    "churn_logit_up_bal_20.fit(X_train_up_bal_20, y_train_up_bal_20)\n",
    "\n",
    "# evaluate on the original test set - NO UPSAMPLING\n",
    "y_pred_up_bal_20 = churn_logit_up_bal_20.predict(X_validation) \n",
    "\n",
    "# classification report\n",
    "report_upsampled_20 = classification_report(y_validation, y_pred_up_bal_20)\n",
    "\n",
    "\n",
    "#####################\n",
    "### PRINT RESULTS ###\n",
    "#####################\n",
    "\n",
    "print_line = \"\\n=======================================================\\n\"\n",
    "\n",
    "# Confusion matrices\n",
    "print(\"Confusion matrices:\", print_line)\n",
    "\n",
    "fig, axes = plt.subplots(1, 2, figsize=(10, 3))\n",
    "\n",
    "# Model on the original data\n",
    "plot_confusion_matrix(churn_logit, X_validation, y_validation, ax=axes[0])\n",
    "axes[0].set_title('Original Confusion Matrix')\n",
    "\n",
    "# Model on the 20% upsampled data\n",
    "plot_confusion_matrix(churn_logit_up_bal_20, X_validation, y_validation, ax=axes[1])\n",
    "axes[1].set_title('20% Upsampled Confusion Matrix')\n",
    "\n",
    "plt.show()\n",
    "\n",
    "# Classification Reports\n",
    "print(\"\\nOriginal data classification report:\", print_line, report_initial)\n",
    "print(\"\\n20% Upsampled data classification report:\", print_line, report_upsampled_20)"
   ]
  },
  {
   "cell_type": "markdown",
   "id": "8015ddeb",
   "metadata": {},
   "source": [
    "Our upsampled logistic model with a sampling rate of 20%, on the data having all features, has improved model performance on the validation when compared to the original logistic model on the imbalanced data (no sampling). The f1-score has gone up by 3% (from 70% to 73%) and recall has gone up by 25% (from 60% to 85%). However, precision has dropped by 22% (from 86% to 64%). Compared to the 10% upsampled model, there is also improvement especially in the f1-score which has gone up by 10% (from 63% to 73%). Precision has also gone up by 15% (from 49% to 64%) but recall has decreased by 5% (from 90% to 85%). Our next way to improve this will be to apply the same steps but downsample instead. As well, we will optimize and scale in the next section which should  also drive up performance.  "
   ]
  },
  {
   "cell_type": "markdown",
   "id": "d4bf4539",
   "metadata": {},
   "source": [
    "---"
   ]
  },
  {
   "cell_type": "markdown",
   "id": "f03e1f2b",
   "metadata": {},
   "source": [
    "## Downsampling"
   ]
  },
  {
   "cell_type": "markdown",
   "id": "c0f493e7",
   "metadata": {},
   "source": [
    "### Downsampled Logistic Model with 10% Sampling Rate\n",
    "We can also \"downsample\" the *majority* class to have a smaller number of observations to balance out the classes."
   ]
  },
  {
   "cell_type": "code",
   "execution_count": 54,
   "id": "3dc9be8e",
   "metadata": {},
   "outputs": [
    {
     "name": "stdout",
     "output_type": "stream",
     "text": [
      "Number of class 0 examples before: 384603\n",
      "Number of class 0 examples after: 37934\n",
      "Ratio of class 0 after to before: 0.09863157593674517\n"
     ]
    }
   ],
   "source": [
    "# Downsample\n",
    "print('Number of class 0 examples before:', X_train[y_train == 0].shape[0])\n",
    "\n",
    "X_downsampled, y_downsampled = resample(X_train[y_train == 0], \n",
    "                                        y_train[y_train == 0], \n",
    "                                        replace=True, \n",
    "                                        n_samples=X_train[y_train == 1].shape[0], \n",
    "                                        random_state=1)\n",
    "\n",
    "print('Number of class 0 examples after:', X_downsampled.shape[0])\n",
    "\n",
    "print('Ratio of class 0 after to before:', X_downsampled.shape[0]/X_train[y_train == 0].shape[0])\n",
    "# Combine downsample with original data\n",
    "X_train_down_bal = np.vstack((X_train[y_train == 1], X_downsampled))\n",
    "y_train_down_bal = np.hstack((y_train[y_train == 1], y_downsampled))"
   ]
  },
  {
   "cell_type": "code",
   "execution_count": 56,
   "id": "5ce83d5a",
   "metadata": {
    "scrolled": false
   },
   "outputs": [
    {
     "name": "stderr",
     "output_type": "stream",
     "text": [
      "/Users/danielamagiricu/opt/anaconda3/lib/python3.9/site-packages/sklearn/base.py:443: UserWarning: X has feature names, but LogisticRegression was fitted without feature names\n",
      "  warnings.warn(\n"
     ]
    },
    {
     "name": "stdout",
     "output_type": "stream",
     "text": [
      "Confusion matrices: \n",
      "=======================================================\n",
      "\n"
     ]
    },
    {
     "name": "stderr",
     "output_type": "stream",
     "text": [
      "/Users/danielamagiricu/opt/anaconda3/lib/python3.9/site-packages/sklearn/utils/deprecation.py:87: FutureWarning: Function plot_confusion_matrix is deprecated; Function `plot_confusion_matrix` is deprecated in 1.0 and will be removed in 1.2. Use one of the class methods: ConfusionMatrixDisplay.from_predictions or ConfusionMatrixDisplay.from_estimator.\n",
      "  warnings.warn(msg, category=FutureWarning)\n",
      "/Users/danielamagiricu/opt/anaconda3/lib/python3.9/site-packages/sklearn/utils/deprecation.py:87: FutureWarning: Function plot_confusion_matrix is deprecated; Function `plot_confusion_matrix` is deprecated in 1.0 and will be removed in 1.2. Use one of the class methods: ConfusionMatrixDisplay.from_predictions or ConfusionMatrixDisplay.from_estimator.\n",
      "  warnings.warn(msg, category=FutureWarning)\n",
      "/Users/danielamagiricu/opt/anaconda3/lib/python3.9/site-packages/sklearn/base.py:443: UserWarning: X has feature names, but LogisticRegression was fitted without feature names\n",
      "  warnings.warn(\n"
     ]
    },
    {
     "data": {
      "image/png": "[encoded data removed]",
      "text/plain": [
       "<Figure size 720x216 with 4 Axes>"
      ]
     },
     "metadata": {
      "needs_background": "light"
     },
     "output_type": "display_data"
    },
    {
     "name": "stdout",
     "output_type": "stream",
     "text": [
      "\n",
      "Original data classification report: \n",
      "=======================================================\n",
      "               precision    recall  f1-score   support\n",
      "\n",
      "           0       0.96      0.99      0.98    164830\n",
      "           1       0.86      0.60      0.70     16258\n",
      "\n",
      "    accuracy                           0.96    181088\n",
      "   macro avg       0.91      0.79      0.84    181088\n",
      "weighted avg       0.95      0.96      0.95    181088\n",
      "\n",
      "\n",
      "Downsampled data classification report: \n",
      "=======================================================\n",
      "               precision    recall  f1-score   support\n",
      "\n",
      "           0       0.99      0.91      0.95    164830\n",
      "           1       0.50      0.89      0.64     16258\n",
      "\n",
      "    accuracy                           0.91    181088\n",
      "   macro avg       0.74      0.90      0.79    181088\n",
      "weighted avg       0.94      0.91      0.92    181088\n",
      "\n"
     ]
    }
   ],
   "source": [
    "#####################\n",
    "### MODEL FITTING ###\n",
    "#####################\n",
    "\n",
    "# on the downsampled data\n",
    "churn_logit_down_bal = LogisticRegression(solver='lbfgs', random_state=1, max_iter=10000)\n",
    "churn_logit_down_bal.fit(X_train_down_bal, y_train_down_bal)\n",
    "\n",
    "# evaluate downsampled logistic model on the original validation set\n",
    "y_pred_down_bal = churn_logit_down_bal.predict(X_validation) \n",
    "\n",
    "# classification report of downsampled predictions\n",
    "report_downsampled = classification_report(y_validation, y_pred_down_bal)\n",
    "\n",
    "\n",
    "#####################\n",
    "### PRINT RESULTS ###\n",
    "#####################\n",
    "\n",
    "print_line = \"\\n=======================================================\\n\"\n",
    "\n",
    "# Confusion matrices\n",
    "print(\"Confusion matrices:\", print_line)\n",
    "\n",
    "fig, axes = plt.subplots(1, 2, figsize=(10, 3))\n",
    "\n",
    "# Model on the original data\n",
    "plot_confusion_matrix(churn_logit, X_validation, y_validation, ax=axes[0])\n",
    "axes[0].set_title('Original Confusion Matrix')\n",
    "\n",
    "# Model on the upsampled data\n",
    "plot_confusion_matrix(churn_logit_down_bal, X_validation, y_validation, ax=axes[1])\n",
    "axes[1].set_title('Downsampled Confusion Matrix')\n",
    "\n",
    "plt.show()\n",
    "\n",
    "# Classification Reports\n",
    "print(\"\\nOriginal data classification report:\", print_line, report_initial)\n",
    "print(\"\\nDownsampled data classification report:\", print_line, report_downsampled)"
   ]
  },
  {
   "cell_type": "markdown",
   "id": "04cb7cbb",
   "metadata": {},
   "source": [
    "Our downsampled logistic model with a sampling rate of 10%, on the data having all features, has not improved model performance on the validation when compared to the original logistic model on the imbalanced data (no sampling). The f1-score has gone down by 6% and precision has also dropped by 36%. The only metric which has improved is recall which has gone up by 29% (from 60% to 89%). Compared to the 10% upsampled model, there is no difference.    "
   ]
  },
  {
   "cell_type": "markdown",
   "id": "6ba88e05",
   "metadata": {},
   "source": [
    "---"
   ]
  },
  {
   "cell_type": "markdown",
   "id": "88a7c61d",
   "metadata": {},
   "source": [
    "### Downsampled Logistic Model with 20% Sampling Rate"
   ]
  },
  {
   "cell_type": "markdown",
   "id": "ffdabed6",
   "metadata": {},
   "source": [
    "Let's increase our downsampling rate to 20% to see if we can increase model performance on the validation."
   ]
  },
  {
   "cell_type": "code",
   "execution_count": 18,
   "id": "f36b382f",
   "metadata": {
    "scrolled": true
   },
   "outputs": [
    {
     "name": "stdout",
     "output_type": "stream",
     "text": [
      "Number of class 0 examples before: 384603\n",
      "Number of class 0 examples after: 76921\n",
      "Ratio of class 0 after to before: 0.2000010400334891\n"
     ]
    }
   ],
   "source": [
    "# Downsample\n",
    "print('Number of class 0 examples before:', X_train[y_train == 0].shape[0])\n",
    "\n",
    "X_downsampled_20, y_downsampled_20 = resample(X_train[y_train == 0], \n",
    "                                        y_train[y_train == 0], \n",
    "                                        replace=True, \n",
    "                                        n_samples= round(X_train[y_train == 0].shape[0]*0.2), \n",
    "                                        random_state=1)\n",
    "\n",
    "print('Number of class 0 examples after:', X_downsampled_20.shape[0])\n",
    "\n",
    "print('Ratio of class 0 after to before:', X_downsampled_20.shape[0]/X_train[y_train == 0].shape[0])\n",
    "# Combine downsample with original data\n",
    "X_train_down_bal_20 = np.vstack((X_train[y_train == 1], X_downsampled_20))\n",
    "y_train_down_bal_20 = np.hstack((y_train[y_train == 1], y_downsampled_20))"
   ]
  },
  {
   "cell_type": "code",
   "execution_count": 19,
   "id": "8ea06064",
   "metadata": {},
   "outputs": [
    {
     "name": "stdout",
     "output_type": "stream",
     "text": [
      "Stored 'X_train_down_bal_20' (ndarray)\n",
      "Stored 'y_train_down_bal_20' (ndarray)\n"
     ]
    }
   ],
   "source": [
    "# Storing 20% Downsampled train sets\n",
    "%store X_train_down_bal_20\n",
    "%store y_train_down_bal_20"
   ]
  },
  {
   "cell_type": "code",
   "execution_count": 63,
   "id": "ee584aa6",
   "metadata": {
    "scrolled": false
   },
   "outputs": [
    {
     "name": "stderr",
     "output_type": "stream",
     "text": [
      "/Users/danielamagiricu/opt/anaconda3/lib/python3.9/site-packages/sklearn/base.py:443: UserWarning: X has feature names, but LogisticRegression was fitted without feature names\n",
      "  warnings.warn(\n"
     ]
    },
    {
     "name": "stdout",
     "output_type": "stream",
     "text": [
      "Confusion matrices: \n",
      "=======================================================\n",
      "\n"
     ]
    },
    {
     "name": "stderr",
     "output_type": "stream",
     "text": [
      "/Users/danielamagiricu/opt/anaconda3/lib/python3.9/site-packages/sklearn/utils/deprecation.py:87: FutureWarning: Function plot_confusion_matrix is deprecated; Function `plot_confusion_matrix` is deprecated in 1.0 and will be removed in 1.2. Use one of the class methods: ConfusionMatrixDisplay.from_predictions or ConfusionMatrixDisplay.from_estimator.\n",
      "  warnings.warn(msg, category=FutureWarning)\n",
      "/Users/danielamagiricu/opt/anaconda3/lib/python3.9/site-packages/sklearn/utils/deprecation.py:87: FutureWarning: Function plot_confusion_matrix is deprecated; Function `plot_confusion_matrix` is deprecated in 1.0 and will be removed in 1.2. Use one of the class methods: ConfusionMatrixDisplay.from_predictions or ConfusionMatrixDisplay.from_estimator.\n",
      "  warnings.warn(msg, category=FutureWarning)\n",
      "/Users/danielamagiricu/opt/anaconda3/lib/python3.9/site-packages/sklearn/base.py:443: UserWarning: X has feature names, but LogisticRegression was fitted without feature names\n",
      "  warnings.warn(\n"
     ]
    },
    {
     "data": {
      "image/png": "[encoded data removed]",
      "text/plain": [
       "<Figure size 720x216 with 4 Axes>"
      ]
     },
     "metadata": {
      "needs_background": "light"
     },
     "output_type": "display_data"
    },
    {
     "name": "stdout",
     "output_type": "stream",
     "text": [
      "\n",
      "Original data classification report: \n",
      "=======================================================\n",
      "               precision    recall  f1-score   support\n",
      "\n",
      "           0       0.96      0.99      0.98    164830\n",
      "           1       0.86      0.60      0.70     16258\n",
      "\n",
      "    accuracy                           0.96    181088\n",
      "   macro avg       0.91      0.79      0.84    181088\n",
      "weighted avg       0.95      0.96      0.95    181088\n",
      "\n",
      "\n",
      " 20% Downsampled data classification report: \n",
      "=======================================================\n",
      "               precision    recall  f1-score   support\n",
      "\n",
      "           0       0.98      0.94      0.96    164830\n",
      "           1       0.59      0.85      0.69     16258\n",
      "\n",
      "    accuracy                           0.93    181088\n",
      "   macro avg       0.79      0.89      0.83    181088\n",
      "weighted avg       0.95      0.93      0.94    181088\n",
      "\n"
     ]
    }
   ],
   "source": [
    "#####################\n",
    "### MODEL FITTING ###\n",
    "#####################\n",
    "\n",
    "# on the downsampled data\n",
    "churn_logit_down_bal_20 = LogisticRegression(solver='lbfgs', random_state=1, max_iter=10000)\n",
    "churn_logit_down_bal_20.fit(X_train_down_bal_20, y_train_down_bal_20)\n",
    "\n",
    "# evaluate downsampled logistic model on the original validation set\n",
    "y_pred_down_bal_20 = churn_logit_down_bal_20.predict(X_validation) \n",
    "\n",
    "# classification report of downsampled predictions\n",
    "report_downsampled_20 = classification_report(y_validation, y_pred_down_bal_20)\n",
    "\n",
    "\n",
    "#####################\n",
    "### PRINT RESULTS ###\n",
    "#####################\n",
    "\n",
    "print_line = \"\\n=======================================================\\n\"\n",
    "\n",
    "# Confusion matrices\n",
    "print(\"Confusion matrices:\", print_line)\n",
    "\n",
    "fig, axes = plt.subplots(1, 2, figsize=(10, 3))\n",
    "\n",
    "# Model on the original data\n",
    "plot_confusion_matrix(churn_logit, X_validation, y_validation, ax=axes[0])\n",
    "axes[0].set_title('Original Confusion Matrix')\n",
    "\n",
    "# Model on the upsampled data\n",
    "plot_confusion_matrix(churn_logit_down_bal_20, X_validation, y_validation, ax=axes[1])\n",
    "axes[1].set_title('20% Downsampled Confusion Matrix')\n",
    "\n",
    "plt.show()\n",
    "\n",
    "# Classification Reports\n",
    "print(\"\\nOriginal data classification report:\", print_line, report_initial)\n",
    "print(\"\\n 20% Downsampled data classification report:\", print_line, report_downsampled_20)"
   ]
  },
  {
   "cell_type": "markdown",
   "id": "fc8023de",
   "metadata": {},
   "source": [
    "Our initial downsampled logistic model with a sampling rate of 20% has not improved model performance on the validation set when compared to the original model on the imbalanced data. The f1-score has gone down by 1%, and the precision has gone down by 27% but the recall has improved by 25%. Compared to the 10% downsampled model, this model has increased model performance overall: Precision has gone up by 9% (from 50% to 59%) and the f1-score by 5% (from 64% to 69%), while recall has slightly gone down by 4% (from 89% to 85%). Compared to the 20% upsampled model, this model has slightly lower performance. The 20% model has an f1-score of 73%, so it has dropped by 4% for this model. Precision and recall are the same for both this model and the 20% upsampled. Thus, so far the 20% upsampled model is the best. "
   ]
  },
  {
   "cell_type": "markdown",
   "id": "0935f00b",
   "metadata": {},
   "source": [
    "---"
   ]
  },
  {
   "cell_type": "markdown",
   "id": "fc658ac4",
   "metadata": {},
   "source": [
    "## Pipelines and Hyperparameter Optimization on Data with All Features\n"
   ]
  },
  {
   "cell_type": "markdown",
   "id": "210d1439",
   "metadata": {},
   "source": [
    "**Using AUC**\n",
    "\n",
    "Up until now we have been looking at the precision, recall, and f1-scores which all use the hard predictions. We can also consider the AUC score which uses soft predictions. We will apply this here on our scaled and optimized logistic models. \n",
    "\n",
    "**Note**\n",
    "- The reason we do not simply use accuracy is because we have class imbalance. Accuracy measures the fraction of points our model gets correct for a fixed threshold, but this  can lead us to a false sense of confidence.  \n",
    "\n",
    "- AUC, on the other hand, is the probability that when our model is given two random points, one from the positive (churn=1) class and one from the negative (churn=0) class, our model is more confident that the positive churn point belongs to the positive churn class than the negative no churn point belonging to the positive churn class.\n",
    "\n",
    "- With AUC we are protected from class imbalances."
   ]
  },
  {
   "cell_type": "markdown",
   "id": "66c3c3ea",
   "metadata": {},
   "source": [
    "### Base Scaled and Optimized Logistic Model on Data with All Features"
   ]
  },
  {
   "cell_type": "code",
   "execution_count": 81,
   "id": "63daaf1a",
   "metadata": {
    "scrolled": true
   },
   "outputs": [
    {
     "name": "stdout",
     "output_type": "stream",
     "text": [
      "Fitting 5 folds for each of 10 candidates, totalling 50 fits\n",
      "[CV] END model=LogisticRegression(), model__C=1e-05, normalise=StandardScaler(); total time=   2.4s\n",
      "[CV] END model=LogisticRegression(), model__C=1e-05, normalise=StandardScaler(); total time=   1.3s\n",
      "[CV] END model=LogisticRegression(), model__C=1e-05, normalise=StandardScaler(); total time=   1.3s\n",
      "[CV] END model=LogisticRegression(), model__C=1e-05, normalise=StandardScaler(); total time=   1.4s\n",
      "[CV] END model=LogisticRegression(), model__C=1e-05, normalise=StandardScaler(); total time=   1.4s\n",
      "[CV] END model=LogisticRegression(), model__C=0.0001, normalise=StandardScaler(); total time=   1.1s\n",
      "[CV] END model=LogisticRegression(), model__C=0.0001, normalise=StandardScaler(); total time=   1.8s\n",
      "[CV] END model=LogisticRegression(), model__C=0.0001, normalise=StandardScaler(); total time=   1.3s\n",
      "[CV] END model=LogisticRegression(), model__C=0.0001, normalise=StandardScaler(); total time=   1.1s\n",
      "[CV] END model=LogisticRegression(), model__C=0.0001, normalise=StandardScaler(); total time=   1.0s\n",
      "[CV] END model=LogisticRegression(), model__C=0.001, normalise=StandardScaler(); total time=   1.4s\n",
      "[CV] END model=LogisticRegression(), model__C=0.001, normalise=StandardScaler(); total time=   1.5s\n",
      "[CV] END model=LogisticRegression(), model__C=0.001, normalise=StandardScaler(); total time=   2.1s\n",
      "[CV] END model=LogisticRegression(), model__C=0.001, normalise=StandardScaler(); total time=   2.1s\n",
      "[CV] END model=LogisticRegression(), model__C=0.001, normalise=StandardScaler(); total time=   2.6s\n",
      "[CV] END model=LogisticRegression(), model__C=0.01, normalise=StandardScaler(); total time=   3.5s\n",
      "[CV] END model=LogisticRegression(), model__C=0.01, normalise=StandardScaler(); total time=   2.8s\n",
      "[CV] END model=LogisticRegression(), model__C=0.01, normalise=StandardScaler(); total time=   2.5s\n",
      "[CV] END model=LogisticRegression(), model__C=0.01, normalise=StandardScaler(); total time=   2.6s\n",
      "[CV] END model=LogisticRegression(), model__C=0.01, normalise=StandardScaler(); total time=   2.2s\n",
      "[CV] END model=LogisticRegression(), model__C=0.1, normalise=StandardScaler(); total time=   2.3s\n",
      "[CV] END model=LogisticRegression(), model__C=0.1, normalise=StandardScaler(); total time=   4.5s\n",
      "[CV] END model=LogisticRegression(), model__C=0.1, normalise=StandardScaler(); total time=   3.8s\n",
      "[CV] END model=LogisticRegression(), model__C=0.1, normalise=StandardScaler(); total time=   2.7s\n",
      "[CV] END model=LogisticRegression(), model__C=0.1, normalise=StandardScaler(); total time=   2.7s\n",
      "[CV] END model=LogisticRegression(), model__C=1.0, normalise=StandardScaler(); total time=   2.2s\n",
      "[CV] END model=LogisticRegression(), model__C=1.0, normalise=StandardScaler(); total time=   3.6s\n",
      "[CV] END model=LogisticRegression(), model__C=1.0, normalise=StandardScaler(); total time=   3.9s\n",
      "[CV] END model=LogisticRegression(), model__C=1.0, normalise=StandardScaler(); total time=   2.6s\n",
      "[CV] END model=LogisticRegression(), model__C=1.0, normalise=StandardScaler(); total time=   2.8s\n",
      "[CV] END model=LogisticRegression(), model__C=10.0, normalise=StandardScaler(); total time=   2.6s\n",
      "[CV] END model=LogisticRegression(), model__C=10.0, normalise=StandardScaler(); total time=   3.4s\n",
      "[CV] END model=LogisticRegression(), model__C=10.0, normalise=StandardScaler(); total time=   3.8s\n",
      "[CV] END model=LogisticRegression(), model__C=10.0, normalise=StandardScaler(); total time=   2.4s\n"
     ]
    },
    {
     "name": "stderr",
     "output_type": "stream",
     "text": [
      "/Users/danielamagiricu/opt/anaconda3/lib/python3.9/site-packages/sklearn/linear_model/_logistic.py:444: ConvergenceWarning: lbfgs failed to converge (status=1):\n",
      "STOP: TOTAL NO. of ITERATIONS REACHED LIMIT.\n",
      "\n",
      "Increase the number of iterations (max_iter) or scale the data as shown in:\n",
      "    https://scikit-learn.org/stable/modules/preprocessing.html\n",
      "Please also refer to the documentation for alternative solver options:\n",
      "    https://scikit-learn.org/stable/modules/linear_model.html#logistic-regression\n",
      "  n_iter_i = _check_optimize_result(\n"
     ]
    },
    {
     "name": "stdout",
     "output_type": "stream",
     "text": [
      "[CV] END model=LogisticRegression(), model__C=10.0, normalise=StandardScaler(); total time=   3.2s\n",
      "[CV] END model=LogisticRegression(), model__C=100.0, normalise=StandardScaler(); total time=   3.1s\n",
      "[CV] END model=LogisticRegression(), model__C=100.0, normalise=StandardScaler(); total time=   3.7s\n",
      "[CV] END model=LogisticRegression(), model__C=100.0, normalise=StandardScaler(); total time=   3.3s\n",
      "[CV] END model=LogisticRegression(), model__C=100.0, normalise=StandardScaler(); total time=   2.7s\n",
      "[CV] END model=LogisticRegression(), model__C=100.0, normalise=StandardScaler(); total time=   3.5s\n",
      "[CV] END model=LogisticRegression(), model__C=1000.0, normalise=StandardScaler(); total time=   2.8s\n",
      "[CV] END model=LogisticRegression(), model__C=1000.0, normalise=StandardScaler(); total time=   3.1s\n",
      "[CV] END model=LogisticRegression(), model__C=1000.0, normalise=StandardScaler(); total time=   3.6s\n",
      "[CV] END model=LogisticRegression(), model__C=1000.0, normalise=StandardScaler(); total time=   2.8s\n",
      "[CV] END model=LogisticRegression(), model__C=1000.0, normalise=StandardScaler(); total time=   3.2s\n",
      "[CV] END model=LogisticRegression(), model__C=10000.0, normalise=StandardScaler(); total time=   2.9s\n",
      "[CV] END model=LogisticRegression(), model__C=10000.0, normalise=StandardScaler(); total time=   3.2s\n",
      "[CV] END model=LogisticRegression(), model__C=10000.0, normalise=StandardScaler(); total time=   3.7s\n",
      "[CV] END model=LogisticRegression(), model__C=10000.0, normalise=StandardScaler(); total time=   3.2s\n",
      "[CV] END model=LogisticRegression(), model__C=10000.0, normalise=StandardScaler(); total time=   3.5s\n"
     ]
    }
   ],
   "source": [
    "# Logistic Regression Pipeline\n",
    "cachedir = mkdtemp()\n",
    "base_estimators = [('normalise', StandardScaler()),\n",
    "              ('model', LogisticRegression())]\n",
    "\n",
    "pipe = Pipeline(base_estimators, memory = cachedir)\n",
    "\n",
    "param_grid = [\n",
    "            {'model': [LogisticRegression()], \n",
    "             'normalise': [StandardScaler()],\n",
    "             'model__C': 10**np.arange(-5, 5, dtype=float)}\n",
    "]\n",
    "\n",
    "# Gridsearch with 5-fold cross validation \n",
    "# changing the default scoring metric  \n",
    "# now each cv score calculates the AUC score NOT accuracy \n",
    "grid = GridSearchCV(pipe, param_grid, cv = 5, verbose = 2, scoring = 'roc_auc')\n",
    "\n",
    "# Fitting our imbalanced dataset first to have a baseline optimized model\n",
    "fittedgrid = grid.fit(X_train, y_train)"
   ]
  },
  {
   "cell_type": "code",
   "execution_count": 82,
   "id": "918d4a33",
   "metadata": {
    "scrolled": true
   },
   "outputs": [
    {
     "data": {
      "text/html": [
       "<style>#sk-container-id-3 {color: black;background-color: white;}#sk-container-id-3 pre{padding: 0;}#sk-container-id-3 div.sk-toggleable {background-color: white;}#sk-container-id-3 label.sk-toggleable__label {cursor: pointer;display: block;width: 100%;margin-bottom: 0;padding: 0.3em;box-sizing: border-box;text-align: center;}#sk-container-id-3 label.sk-toggleable__label-arrow:before {content: \"▸\";float: left;margin-right: 0.25em;color: #696969;}#sk-container-id-3 label.sk-toggleable__label-arrow:hover:before {color: black;}#sk-container-id-3 div.sk-estimator:hover label.sk-toggleable__label-arrow:before {color: black;}#sk-container-id-3 div.sk-toggleable__content {max-height: 0;max-width: 0;overflow: hidden;text-align: left;background-color: #f0f8ff;}#sk-container-id-3 div.sk-toggleable__content pre {margin: 0.2em;color: black;border-radius: 0.25em;background-color: #f0f8ff;}#sk-container-id-3 input.sk-toggleable__control:checked~div.sk-toggleable__content {max-height: 200px;max-width: 100%;overflow: auto;}#sk-container-id-3 input.sk-toggleable__control:checked~label.sk-toggleable__label-arrow:before {content: \"▾\";}#sk-container-id-3 div.sk-estimator input.sk-toggleable__control:checked~label.sk-toggleable__label {background-color: #d4ebff;}#sk-container-id-3 div.sk-label input.sk-toggleable__control:checked~label.sk-toggleable__label {background-color: #d4ebff;}#sk-container-id-3 input.sk-hidden--visually {border: 0;clip: rect(1px 1px 1px 1px);clip: rect(1px, 1px, 1px, 1px);height: 1px;margin: -1px;overflow: hidden;padding: 0;position: absolute;width: 1px;}#sk-container-id-3 div.sk-estimator {font-family: monospace;background-color: #f0f8ff;border: 1px dotted black;border-radius: 0.25em;box-sizing: border-box;margin-bottom: 0.5em;}#sk-container-id-3 div.sk-estimator:hover {background-color: #d4ebff;}#sk-container-id-3 div.sk-parallel-item::after {content: \"\";width: 100%;border-bottom: 1px solid gray;flex-grow: 1;}#sk-container-id-3 div.sk-label:hover label.sk-toggleable__label {background-color: #d4ebff;}#sk-container-id-3 div.sk-serial::before {content: \"\";position: absolute;border-left: 1px solid gray;box-sizing: border-box;top: 0;bottom: 0;left: 50%;z-index: 0;}#sk-container-id-3 div.sk-serial {display: flex;flex-direction: column;align-items: center;background-color: white;padding-right: 0.2em;padding-left: 0.2em;position: relative;}#sk-container-id-3 div.sk-item {position: relative;z-index: 1;}#sk-container-id-3 div.sk-parallel {display: flex;align-items: stretch;justify-content: center;background-color: white;position: relative;}#sk-container-id-3 div.sk-item::before, #sk-container-id-3 div.sk-parallel-item::before {content: \"\";position: absolute;border-left: 1px solid gray;box-sizing: border-box;top: 0;bottom: 0;left: 50%;z-index: -1;}#sk-container-id-3 div.sk-parallel-item {display: flex;flex-direction: column;z-index: 1;position: relative;background-color: white;}#sk-container-id-3 div.sk-parallel-item:first-child::after {align-self: flex-end;width: 50%;}#sk-container-id-3 div.sk-parallel-item:last-child::after {align-self: flex-start;width: 50%;}#sk-container-id-3 div.sk-parallel-item:only-child::after {width: 0;}#sk-container-id-3 div.sk-dashed-wrapped {border: 1px dashed gray;margin: 0 0.4em 0.5em 0.4em;box-sizing: border-box;padding-bottom: 0.4em;background-color: white;}#sk-container-id-3 div.sk-label label {font-family: monospace;font-weight: bold;display: inline-block;line-height: 1.2em;}#sk-container-id-3 div.sk-label-container {text-align: center;}#sk-container-id-3 div.sk-container {/* jupyter's `normalize.less` sets `[hidden] { display: none; }` but bootstrap.min.css set `[hidden] { display: none !important; }` so we also need the `!important` here to be able to override the default hidden behavior on the sphinx rendered scikit-learn.org. See: https://github.com/scikit-learn/scikit-learn/issues/21755 */display: inline-block !important;position: relative;}#sk-container-id-3 div.sk-text-repr-fallback {display: none;}</style><div id=\"sk-container-id-3\" class=\"sk-top-container\"><div class=\"sk-text-repr-fallback\"><pre>Pipeline(memory=&#x27;/var/folders/5k/bd6ybgj9359gmn4ggk9l01_r0000gn/T/tmp_o2zyifu&#x27;,\n",
       "         steps=[(&#x27;normalise&#x27;, StandardScaler()),\n",
       "                (&#x27;model&#x27;, LogisticRegression(C=100.0))])</pre><b>In a Jupyter environment, please rerun this cell to show the HTML representation or trust the notebook. <br />On GitHub, the HTML representation is unable to render, please try loading this page with nbviewer.org.</b></div><div class=\"sk-container\" hidden><div class=\"sk-item sk-dashed-wrapped\"><div class=\"sk-label-container\"><div class=\"sk-label sk-toggleable\"><input class=\"sk-toggleable__control sk-hidden--visually\" id=\"sk-estimator-id-7\" type=\"checkbox\" ><label for=\"sk-estimator-id-7\" class=\"sk-toggleable__label sk-toggleable__label-arrow\">Pipeline</label><div class=\"sk-toggleable__content\"><pre>Pipeline(memory=&#x27;/var/folders/5k/bd6ybgj9359gmn4ggk9l01_r0000gn/T/tmp_o2zyifu&#x27;,\n",
       "         steps=[(&#x27;normalise&#x27;, StandardScaler()),\n",
       "                (&#x27;model&#x27;, LogisticRegression(C=100.0))])</pre></div></div></div><div class=\"sk-serial\"><div class=\"sk-item\"><div class=\"sk-estimator sk-toggleable\"><input class=\"sk-toggleable__control sk-hidden--visually\" id=\"sk-estimator-id-8\" type=\"checkbox\" ><label for=\"sk-estimator-id-8\" class=\"sk-toggleable__label sk-toggleable__label-arrow\">StandardScaler</label><div class=\"sk-toggleable__content\"><pre>StandardScaler()</pre></div></div></div><div class=\"sk-item\"><div class=\"sk-estimator sk-toggleable\"><input class=\"sk-toggleable__control sk-hidden--visually\" id=\"sk-estimator-id-9\" type=\"checkbox\" ><label for=\"sk-estimator-id-9\" class=\"sk-toggleable__label sk-toggleable__label-arrow\">LogisticRegression</label><div class=\"sk-toggleable__content\"><pre>LogisticRegression(C=100.0)</pre></div></div></div></div></div></div></div>"
      ],
      "text/plain": [
       "Pipeline(memory='/var/folders/5k/bd6ybgj9359gmn4ggk9l01_r0000gn/T/tmp_o2zyifu',\n",
       "         steps=[('normalise', StandardScaler()),\n",
       "                ('model', LogisticRegression(C=100.0))])"
      ]
     },
     "execution_count": 82,
     "metadata": {},
     "output_type": "execute_result"
    }
   ],
   "source": [
    "fittedgrid.best_estimator_"
   ]
  },
  {
   "cell_type": "markdown",
   "id": "ce863b5b",
   "metadata": {},
   "source": [
    "Our base model on the imbalanced data with all features has been optimized with C=100.  "
   ]
  },
  {
   "cell_type": "code",
   "execution_count": 88,
   "id": "bdfa7710",
   "metadata": {
    "scrolled": true
   },
   "outputs": [
    {
     "data": {
      "text/plain": [
       "0.9652054049974961"
      ]
     },
     "execution_count": 88,
     "metadata": {},
     "output_type": "execute_result"
    }
   ],
   "source": [
    "fittedgrid.best_score_"
   ]
  },
  {
   "cell_type": "code",
   "execution_count": 89,
   "id": "209e931d",
   "metadata": {
    "scrolled": true
   },
   "outputs": [
    {
     "data": {
      "text/plain": [
       "array([0.93536127, 0.94687273, 0.96035548, 0.96461261, 0.96517403,\n",
       "       0.96520281, 0.96520433, 0.9652054 , 0.9652052 , 0.9652053 ])"
      ]
     },
     "execution_count": 89,
     "metadata": {},
     "output_type": "execute_result"
    }
   ],
   "source": [
    "fittedgrid.cv_results_['mean_test_score']"
   ]
  },
  {
   "cell_type": "markdown",
   "id": "fa9d26c1",
   "metadata": {},
   "source": [
    "Our scaled and optimized base model on the imbalanced data with all features has the best AUC validation score across all folds of 96.5%. "
   ]
  },
  {
   "cell_type": "code",
   "execution_count": 169,
   "id": "1e5e72d4",
   "metadata": {},
   "outputs": [
    {
     "data": {
      "text/plain": [
       "(1, 22)"
      ]
     },
     "execution_count": 169,
     "metadata": {},
     "output_type": "execute_result"
    }
   ],
   "source": [
    "#sanity check: coefficient and feature shape matchup\n",
    "fittedgrid_coeff.shape"
   ]
  },
  {
   "cell_type": "code",
   "execution_count": 74,
   "id": "4e3c3ef0",
   "metadata": {},
   "outputs": [
    {
     "data": {
      "text/plain": [
       "(422537, 36)"
      ]
     },
     "execution_count": 74,
     "metadata": {},
     "output_type": "execute_result"
    }
   ],
   "source": [
    "X_train.shape"
   ]
  },
  {
   "cell_type": "markdown",
   "id": "fa58d2c2",
   "metadata": {},
   "source": [
    "It looks like our pipline gridsearch did not retain all 36 features. Let's re-fit a base scaled and optimized logistic model."
   ]
  },
  {
   "cell_type": "markdown",
   "id": "56ed9bd2",
   "metadata": {},
   "source": [
    "#### Original Model Fit with Scaling and Hyperparameter Optimization C= 100"
   ]
  },
  {
   "cell_type": "code",
   "execution_count": 177,
   "id": "322afb71",
   "metadata": {},
   "outputs": [],
   "source": [
    "# Scale the imbalanced data\n",
    "original_ss = StandardScaler()\n",
    "original_ss.fit(X_train)\n",
    "X_train_ss = original_ss.transform(X_train)\n",
    "X_validation_original_ss = original_ss.transform(X_validation)"
   ]
  },
  {
   "cell_type": "code",
   "execution_count": 178,
   "id": "2ec2ed13",
   "metadata": {},
   "outputs": [],
   "source": [
    "# on the original data\n",
    "original_ss_C = LogisticRegression(solver='lbfgs', random_state=1, C =100, max_iter=10000)\n",
    "original_ss_C.fit(X_train_ss, y_train)\n",
    "\n",
    "# evaluate on the original test set\n",
    "y_pred_original_ss = original_ss_C.predict(X_validation_original_ss)\n",
    "\n",
    "# classification report\n",
    "original_ss_C_report = classification_report(y_validation, y_pred_original_ss)"
   ]
  },
  {
   "cell_type": "markdown",
   "id": "fe1e1931",
   "metadata": {},
   "source": [
    "---"
   ]
  },
  {
   "cell_type": "markdown",
   "id": "4f3153eb",
   "metadata": {},
   "source": [
    "### Upsampled Scaled and Optimized Logistic Model with 20% sampling rate\n",
    "\n",
    "#### AUC score, ROC_AUC curve, Classification Report of Precision, Recall, F1-Score"
   ]
  },
  {
   "cell_type": "markdown",
   "id": "3f2abf47",
   "metadata": {},
   "source": [
    "Now let's fit the grid on the upsampled dataset (all features). This will normalize using the Standard scaler in the pipeline for every cv fold and give us the best optimal C value. Furthermore, we can get the AUC score on both the upsampled train and validation sets as well as the upsampled classification report. "
   ]
  },
  {
   "cell_type": "code",
   "execution_count": 98,
   "id": "5ea897bd",
   "metadata": {
    "scrolled": true
   },
   "outputs": [
    {
     "name": "stdout",
     "output_type": "stream",
     "text": [
      "Fitting 5 folds for each of 10 candidates, totalling 50 fits\n",
      "[CV] END model=LogisticRegression(C=100.0), model__C=1e-05, normalise=StandardScaler(); total time=   3.2s\n",
      "[CV] END model=LogisticRegression(C=100.0), model__C=1e-05, normalise=StandardScaler(); total time=   1.8s\n",
      "[CV] END model=LogisticRegression(C=100.0), model__C=1e-05, normalise=StandardScaler(); total time=   1.9s\n",
      "[CV] END model=LogisticRegression(C=100.0), model__C=1e-05, normalise=StandardScaler(); total time=   1.9s\n",
      "[CV] END model=LogisticRegression(C=100.0), model__C=1e-05, normalise=StandardScaler(); total time=   1.8s\n",
      "[CV] END model=LogisticRegression(C=100.0), model__C=0.0001, normalise=StandardScaler(); total time=   1.7s\n",
      "[CV] END model=LogisticRegression(C=100.0), model__C=0.0001, normalise=StandardScaler(); total time=   1.5s\n",
      "[CV] END model=LogisticRegression(C=100.0), model__C=0.0001, normalise=StandardScaler(); total time=   2.3s\n",
      "[CV] END model=LogisticRegression(C=100.0), model__C=0.0001, normalise=StandardScaler(); total time=   1.4s\n",
      "[CV] END model=LogisticRegression(C=100.0), model__C=0.0001, normalise=StandardScaler(); total time=   1.5s\n",
      "[CV] END model=LogisticRegression(C=100.0), model__C=0.001, normalise=StandardScaler(); total time=   2.2s\n",
      "[CV] END model=LogisticRegression(C=100.0), model__C=0.001, normalise=StandardScaler(); total time=   2.1s\n",
      "[CV] END model=LogisticRegression(C=100.0), model__C=0.001, normalise=StandardScaler(); total time=   2.7s\n",
      "[CV] END model=LogisticRegression(C=100.0), model__C=0.001, normalise=StandardScaler(); total time=   2.3s\n",
      "[CV] END model=LogisticRegression(C=100.0), model__C=0.001, normalise=StandardScaler(); total time=   2.4s\n",
      "[CV] END model=LogisticRegression(C=100.0), model__C=0.01, normalise=StandardScaler(); total time=   3.3s\n",
      "[CV] END model=LogisticRegression(C=100.0), model__C=0.01, normalise=StandardScaler(); total time=   3.4s\n",
      "[CV] END model=LogisticRegression(C=100.0), model__C=0.01, normalise=StandardScaler(); total time=   5.2s\n",
      "[CV] END model=LogisticRegression(C=100.0), model__C=0.01, normalise=StandardScaler(); total time=   4.6s\n",
      "[CV] END model=LogisticRegression(C=100.0), model__C=0.01, normalise=StandardScaler(); total time=   3.3s\n",
      "[CV] END model=LogisticRegression(C=100.0), model__C=0.1, normalise=StandardScaler(); total time=   5.1s\n",
      "[CV] END model=LogisticRegression(C=100.0), model__C=0.1, normalise=StandardScaler(); total time=   3.9s\n",
      "[CV] END model=LogisticRegression(C=100.0), model__C=0.1, normalise=StandardScaler(); total time=   4.8s\n",
      "[CV] END model=LogisticRegression(C=100.0), model__C=0.1, normalise=StandardScaler(); total time=   4.3s\n",
      "[CV] END model=LogisticRegression(C=100.0), model__C=0.1, normalise=StandardScaler(); total time=   3.5s\n",
      "[CV] END model=LogisticRegression(C=100.0), model__C=1.0, normalise=StandardScaler(); total time=   4.0s\n",
      "[CV] END model=LogisticRegression(C=100.0), model__C=1.0, normalise=StandardScaler(); total time=   4.3s\n",
      "[CV] END model=LogisticRegression(C=100.0), model__C=1.0, normalise=StandardScaler(); total time=   3.1s\n",
      "[CV] END model=LogisticRegression(C=100.0), model__C=1.0, normalise=StandardScaler(); total time=   3.5s\n",
      "[CV] END model=LogisticRegression(C=100.0), model__C=1.0, normalise=StandardScaler(); total time=   3.8s\n",
      "[CV] END model=LogisticRegression(C=100.0), model__C=10.0, normalise=StandardScaler(); total time=   3.0s\n",
      "[CV] END model=LogisticRegression(C=100.0), model__C=10.0, normalise=StandardScaler(); total time=   4.1s\n",
      "[CV] END model=LogisticRegression(C=100.0), model__C=10.0, normalise=StandardScaler(); total time=   4.0s\n",
      "[CV] END model=LogisticRegression(C=100.0), model__C=10.0, normalise=StandardScaler(); total time=   4.9s\n",
      "[CV] END model=LogisticRegression(C=100.0), model__C=10.0, normalise=StandardScaler(); total time=   5.0s\n",
      "[CV] END model=LogisticRegression(C=100.0), model__C=100.0, normalise=StandardScaler(); total time=   3.5s\n",
      "[CV] END model=LogisticRegression(C=100.0), model__C=100.0, normalise=StandardScaler(); total time=   3.8s\n",
      "[CV] END model=LogisticRegression(C=100.0), model__C=100.0, normalise=StandardScaler(); total time=   4.1s\n",
      "[CV] END model=LogisticRegression(C=100.0), model__C=100.0, normalise=StandardScaler(); total time=   4.4s\n",
      "[CV] END model=LogisticRegression(C=100.0), model__C=100.0, normalise=StandardScaler(); total time=   4.0s\n",
      "[CV] END model=LogisticRegression(C=100.0), model__C=1000.0, normalise=StandardScaler(); total time=   3.6s\n",
      "[CV] END model=LogisticRegression(C=100.0), model__C=1000.0, normalise=StandardScaler(); total time=   3.7s\n",
      "[CV] END model=LogisticRegression(C=100.0), model__C=1000.0, normalise=StandardScaler(); total time=   4.0s\n",
      "[CV] END model=LogisticRegression(C=100.0), model__C=1000.0, normalise=StandardScaler(); total time=   3.5s\n",
      "[CV] END model=LogisticRegression(C=100.0), model__C=1000.0, normalise=StandardScaler(); total time=   2.6s\n",
      "[CV] END model=LogisticRegression(C=100.0), model__C=10000.0, normalise=StandardScaler(); total time=   3.4s\n",
      "[CV] END model=LogisticRegression(C=100.0), model__C=10000.0, normalise=StandardScaler(); total time=   4.0s\n",
      "[CV] END model=LogisticRegression(C=100.0), model__C=10000.0, normalise=StandardScaler(); total time=   3.6s\n",
      "[CV] END model=LogisticRegression(C=100.0), model__C=10000.0, normalise=StandardScaler(); total time=   4.2s\n",
      "[CV] END model=LogisticRegression(C=100.0), model__C=10000.0, normalise=StandardScaler(); total time=   3.3s\n"
     ]
    }
   ],
   "source": [
    "up_bal_20_model= grid.fit(X_train_up_bal_20, y_train_up_bal_20)"
   ]
  },
  {
   "cell_type": "code",
   "execution_count": 99,
   "id": "9bdafa14",
   "metadata": {
    "scrolled": false
   },
   "outputs": [
    {
     "data": {
      "text/html": [
       "<style>#sk-container-id-4 {color: black;background-color: white;}#sk-container-id-4 pre{padding: 0;}#sk-container-id-4 div.sk-toggleable {background-color: white;}#sk-container-id-4 label.sk-toggleable__label {cursor: pointer;display: block;width: 100%;margin-bottom: 0;padding: 0.3em;box-sizing: border-box;text-align: center;}#sk-container-id-4 label.sk-toggleable__label-arrow:before {content: \"▸\";float: left;margin-right: 0.25em;color: #696969;}#sk-container-id-4 label.sk-toggleable__label-arrow:hover:before {color: black;}#sk-container-id-4 div.sk-estimator:hover label.sk-toggleable__label-arrow:before {color: black;}#sk-container-id-4 div.sk-toggleable__content {max-height: 0;max-width: 0;overflow: hidden;text-align: left;background-color: #f0f8ff;}#sk-container-id-4 div.sk-toggleable__content pre {margin: 0.2em;color: black;border-radius: 0.25em;background-color: #f0f8ff;}#sk-container-id-4 input.sk-toggleable__control:checked~div.sk-toggleable__content {max-height: 200px;max-width: 100%;overflow: auto;}#sk-container-id-4 input.sk-toggleable__control:checked~label.sk-toggleable__label-arrow:before {content: \"▾\";}#sk-container-id-4 div.sk-estimator input.sk-toggleable__control:checked~label.sk-toggleable__label {background-color: #d4ebff;}#sk-container-id-4 div.sk-label input.sk-toggleable__control:checked~label.sk-toggleable__label {background-color: #d4ebff;}#sk-container-id-4 input.sk-hidden--visually {border: 0;clip: rect(1px 1px 1px 1px);clip: rect(1px, 1px, 1px, 1px);height: 1px;margin: -1px;overflow: hidden;padding: 0;position: absolute;width: 1px;}#sk-container-id-4 div.sk-estimator {font-family: monospace;background-color: #f0f8ff;border: 1px dotted black;border-radius: 0.25em;box-sizing: border-box;margin-bottom: 0.5em;}#sk-container-id-4 div.sk-estimator:hover {background-color: #d4ebff;}#sk-container-id-4 div.sk-parallel-item::after {content: \"\";width: 100%;border-bottom: 1px solid gray;flex-grow: 1;}#sk-container-id-4 div.sk-label:hover label.sk-toggleable__label {background-color: #d4ebff;}#sk-container-id-4 div.sk-serial::before {content: \"\";position: absolute;border-left: 1px solid gray;box-sizing: border-box;top: 0;bottom: 0;left: 50%;z-index: 0;}#sk-container-id-4 div.sk-serial {display: flex;flex-direction: column;align-items: center;background-color: white;padding-right: 0.2em;padding-left: 0.2em;position: relative;}#sk-container-id-4 div.sk-item {position: relative;z-index: 1;}#sk-container-id-4 div.sk-parallel {display: flex;align-items: stretch;justify-content: center;background-color: white;position: relative;}#sk-container-id-4 div.sk-item::before, #sk-container-id-4 div.sk-parallel-item::before {content: \"\";position: absolute;border-left: 1px solid gray;box-sizing: border-box;top: 0;bottom: 0;left: 50%;z-index: -1;}#sk-container-id-4 div.sk-parallel-item {display: flex;flex-direction: column;z-index: 1;position: relative;background-color: white;}#sk-container-id-4 div.sk-parallel-item:first-child::after {align-self: flex-end;width: 50%;}#sk-container-id-4 div.sk-parallel-item:last-child::after {align-self: flex-start;width: 50%;}#sk-container-id-4 div.sk-parallel-item:only-child::after {width: 0;}#sk-container-id-4 div.sk-dashed-wrapped {border: 1px dashed gray;margin: 0 0.4em 0.5em 0.4em;box-sizing: border-box;padding-bottom: 0.4em;background-color: white;}#sk-container-id-4 div.sk-label label {font-family: monospace;font-weight: bold;display: inline-block;line-height: 1.2em;}#sk-container-id-4 div.sk-label-container {text-align: center;}#sk-container-id-4 div.sk-container {/* jupyter's `normalize.less` sets `[hidden] { display: none; }` but bootstrap.min.css set `[hidden] { display: none !important; }` so we also need the `!important` here to be able to override the default hidden behavior on the sphinx rendered scikit-learn.org. See: https://github.com/scikit-learn/scikit-learn/issues/21755 */display: inline-block !important;position: relative;}#sk-container-id-4 div.sk-text-repr-fallback {display: none;}</style><div id=\"sk-container-id-4\" class=\"sk-top-container\"><div class=\"sk-text-repr-fallback\"><pre>Pipeline(memory=&#x27;/var/folders/5k/bd6ybgj9359gmn4ggk9l01_r0000gn/T/tmp_o2zyifu&#x27;,\n",
       "         steps=[(&#x27;normalise&#x27;, StandardScaler()),\n",
       "                (&#x27;model&#x27;, LogisticRegression(C=1000.0))])</pre><b>In a Jupyter environment, please rerun this cell to show the HTML representation or trust the notebook. <br />On GitHub, the HTML representation is unable to render, please try loading this page with nbviewer.org.</b></div><div class=\"sk-container\" hidden><div class=\"sk-item sk-dashed-wrapped\"><div class=\"sk-label-container\"><div class=\"sk-label sk-toggleable\"><input class=\"sk-toggleable__control sk-hidden--visually\" id=\"sk-estimator-id-10\" type=\"checkbox\" ><label for=\"sk-estimator-id-10\" class=\"sk-toggleable__label sk-toggleable__label-arrow\">Pipeline</label><div class=\"sk-toggleable__content\"><pre>Pipeline(memory=&#x27;/var/folders/5k/bd6ybgj9359gmn4ggk9l01_r0000gn/T/tmp_o2zyifu&#x27;,\n",
       "         steps=[(&#x27;normalise&#x27;, StandardScaler()),\n",
       "                (&#x27;model&#x27;, LogisticRegression(C=1000.0))])</pre></div></div></div><div class=\"sk-serial\"><div class=\"sk-item\"><div class=\"sk-estimator sk-toggleable\"><input class=\"sk-toggleable__control sk-hidden--visually\" id=\"sk-estimator-id-11\" type=\"checkbox\" ><label for=\"sk-estimator-id-11\" class=\"sk-toggleable__label sk-toggleable__label-arrow\">StandardScaler</label><div class=\"sk-toggleable__content\"><pre>StandardScaler()</pre></div></div></div><div class=\"sk-item\"><div class=\"sk-estimator sk-toggleable\"><input class=\"sk-toggleable__control sk-hidden--visually\" id=\"sk-estimator-id-12\" type=\"checkbox\" ><label for=\"sk-estimator-id-12\" class=\"sk-toggleable__label sk-toggleable__label-arrow\">LogisticRegression</label><div class=\"sk-toggleable__content\"><pre>LogisticRegression(C=1000.0)</pre></div></div></div></div></div></div></div>"
      ],
      "text/plain": [
       "Pipeline(memory='/var/folders/5k/bd6ybgj9359gmn4ggk9l01_r0000gn/T/tmp_o2zyifu',\n",
       "         steps=[('normalise', StandardScaler()),\n",
       "                ('model', LogisticRegression(C=1000.0))])"
      ]
     },
     "execution_count": 99,
     "metadata": {},
     "output_type": "execute_result"
    }
   ],
   "source": [
    "up_bal_20_model.best_estimator_"
   ]
  },
  {
   "cell_type": "markdown",
   "id": "dd880e2b",
   "metadata": {},
   "source": [
    "The best upsampled model has been scaled and optimized with C= 1000 for the data with all features."
   ]
  },
  {
   "cell_type": "code",
   "execution_count": 101,
   "id": "c5e552fa",
   "metadata": {
    "scrolled": false
   },
   "outputs": [
    {
     "data": {
      "text/plain": [
       "array([0.93090815, 0.94750115, 0.96244231, 0.96823649, 0.96903428,\n",
       "       0.96907952, 0.96908492, 0.9690844 , 0.96908521, 0.96908507])"
      ]
     },
     "execution_count": 101,
     "metadata": {},
     "output_type": "execute_result"
    }
   ],
   "source": [
    "up_bal_20_model.cv_results_['mean_test_score']"
   ]
  },
  {
   "cell_type": "code",
   "execution_count": 100,
   "id": "daa415f2",
   "metadata": {
    "scrolled": true
   },
   "outputs": [
    {
     "data": {
      "text/plain": [
       "0.9690852091615703"
      ]
     },
     "execution_count": 100,
     "metadata": {},
     "output_type": "execute_result"
    }
   ],
   "source": [
    "up_bal_20_model.best_score_"
   ]
  },
  {
   "cell_type": "markdown",
   "id": "cf20eedd",
   "metadata": {},
   "source": [
    "The best AUC validation score for this model is 97%! This is an improvement from the base."
   ]
  },
  {
   "cell_type": "code",
   "execution_count": 173,
   "id": "8dc46e1b",
   "metadata": {},
   "outputs": [],
   "source": [
    "up_bal_20_model_coeff= up_bal_20_model.best_estimator_.named_steps[\"model\"].coef_"
   ]
  },
  {
   "cell_type": "code",
   "execution_count": 174,
   "id": "97cd0c90",
   "metadata": {
    "scrolled": true
   },
   "outputs": [
    {
     "data": {
      "text/plain": [
       "(1, 22)"
      ]
     },
     "execution_count": 174,
     "metadata": {},
     "output_type": "execute_result"
    }
   ],
   "source": [
    "up_bal_20_model_coeff.shape"
   ]
  },
  {
   "cell_type": "markdown",
   "id": "29d9814e",
   "metadata": {},
   "source": [
    "As expected, he pipeline gridsearch did not retain all of the features. This will not affect the ROC curve or AUC scores by much but it will be a problem for the final feature coefficient importance and odds ratio since the coefficients will not match up with the features in X_train. So, let's re-fit a Logistic Model with C=1000 on our 20% upsampled data and calculate the AUC score, classification report, and plot out the confusion matrix and ROC curves. "
   ]
  },
  {
   "cell_type": "markdown",
   "id": "d4fef40d",
   "metadata": {},
   "source": [
    "### Upsampled Model Fit With Hyperparameter Optimization"
   ]
  },
  {
   "cell_type": "code",
   "execution_count": 179,
   "id": "b1d8cb37",
   "metadata": {},
   "outputs": [
    {
     "name": "stderr",
     "output_type": "stream",
     "text": [
      "/Users/danielamagiricu/opt/anaconda3/lib/python3.9/site-packages/sklearn/base.py:443: UserWarning: X has feature names, but StandardScaler was fitted without feature names\n",
      "  warnings.warn(\n"
     ]
    }
   ],
   "source": [
    "# Scale the upsampled data\n",
    "my_ss = StandardScaler()\n",
    "my_ss.fit(X_train_up_bal_20)\n",
    "X_train_up_bal_20_ss = my_ss.transform(X_train_up_bal_20)\n",
    "X_validation_ss = my_ss.transform(X_validation)"
   ]
  },
  {
   "cell_type": "code",
   "execution_count": 180,
   "id": "c9061a2f",
   "metadata": {},
   "outputs": [],
   "source": [
    "#####################\n",
    "### MODEL FITTING ###\n",
    "#####################\n",
    "# Fit Logistic model on the upsampled data having 20% upsampling rate\n",
    "churn_logit_up_bal_20_C = LogisticRegression(solver='lbfgs', random_state=1, C=1000, max_iter=10000)\n",
    "churn_logit_up_bal_20_C.fit(X_train_up_bal_20_ss, y_train_up_bal_20)\n",
    "\n",
    "# evaluate on the transformed validation set\n",
    "y_pred_up_bal_20_ss = churn_logit_up_bal_20_C.predict(X_validation_ss) \n",
    "\n",
    "# validation classification report\n",
    "report_upsampled_20_ss = classification_report(y_validation, y_pred_up_bal_20_ss)"
   ]
  },
  {
   "cell_type": "markdown",
   "id": "143c8f43",
   "metadata": {},
   "source": [
    "### Confusion Matrix, Classification Reports, and ROC_AUC Score of Original and 20% Upsampled after Scaling and Optimizing Hyperparameter C"
   ]
  },
  {
   "cell_type": "code",
   "execution_count": 184,
   "id": "86755a59",
   "metadata": {
    "scrolled": false
   },
   "outputs": [
    {
     "name": "stdout",
     "output_type": "stream",
     "text": [
      "Confusion matrices: \n",
      "=======================================================\n",
      "\n"
     ]
    },
    {
     "name": "stderr",
     "output_type": "stream",
     "text": [
      "/Users/danielamagiricu/opt/anaconda3/lib/python3.9/site-packages/sklearn/utils/deprecation.py:87: FutureWarning: Function plot_confusion_matrix is deprecated; Function `plot_confusion_matrix` is deprecated in 1.0 and will be removed in 1.2. Use one of the class methods: ConfusionMatrixDisplay.from_predictions or ConfusionMatrixDisplay.from_estimator.\n",
      "  warnings.warn(msg, category=FutureWarning)\n",
      "/Users/danielamagiricu/opt/anaconda3/lib/python3.9/site-packages/sklearn/utils/deprecation.py:87: FutureWarning: Function plot_confusion_matrix is deprecated; Function `plot_confusion_matrix` is deprecated in 1.0 and will be removed in 1.2. Use one of the class methods: ConfusionMatrixDisplay.from_predictions or ConfusionMatrixDisplay.from_estimator.\n",
      "  warnings.warn(msg, category=FutureWarning)\n"
     ]
    },
    {
     "data": {
      "image/png": "[encoded data removed]",
      "text/plain": [
       "<Figure size 720x216 with 4 Axes>"
      ]
     },
     "metadata": {
      "needs_background": "light"
     },
     "output_type": "display_data"
    },
    {
     "name": "stdout",
     "output_type": "stream",
     "text": [
      "\n",
      "Original imbalanced data scaled and tuned (C=100) having all features classification report: \n",
      "=======================================================\n",
      "               precision    recall  f1-score   support\n",
      "\n",
      "           0       0.97      0.99      0.98    164830\n",
      "           1       0.86      0.67      0.76     16258\n",
      "\n",
      "    accuracy                           0.96    181088\n",
      "   macro avg       0.91      0.83      0.87    181088\n",
      "weighted avg       0.96      0.96      0.96    181088\n",
      "\n",
      "\n",
      " 20% Upsampled data scaled and tuned (C=1000) having all features classification report: \n",
      "=======================================================\n",
      "               precision    recall  f1-score   support\n",
      "\n",
      "           0       0.99      0.97      0.98    164830\n",
      "           1       0.74      0.85      0.79     16258\n",
      "\n",
      "    accuracy                           0.96    181088\n",
      "   macro avg       0.86      0.91      0.88    181088\n",
      "weighted avg       0.96      0.96      0.96    181088\n",
      "\n"
     ]
    }
   ],
   "source": [
    "#####################\n",
    "### PRINT RESULTS ###\n",
    "#####################\n",
    "\n",
    "print_line = \"\\n=======================================================\\n\"\n",
    "\n",
    "# Confusion matrices\n",
    "print(\"Confusion matrices:\", print_line)\n",
    "\n",
    "fig, axes = plt.subplots(1, 2, figsize=(10, 3))\n",
    "\n",
    "# Model on the original data\n",
    "plot_confusion_matrix(original_ss_C, X_validation_original_ss, y_validation, ax=axes[0])\n",
    "axes[0].set_title('Scaled and Tuned Imbalanced Confusion Matrix')\n",
    "\n",
    "# Model on the 20% upsampled data\n",
    "plot_confusion_matrix(churn_logit_up_bal_20_C, X_validation_ss, y_validation, ax=axes[1])\n",
    "axes[1].set_title('20% Upsampled Scaled and Tuned Confusion Matrix')\n",
    "\n",
    "plt.show()\n",
    "\n",
    "# Classification Reports\n",
    "print(\"\\nOriginal imbalanced data scaled and tuned (C=100) having all features classification report:\", print_line, original_ss_C_report)\n",
    "print(\"\\n 20% Upsampled data scaled and tuned (C=1000) having all features classification report:\", print_line, report_upsampled_20_ss)"
   ]
  },
  {
   "cell_type": "markdown",
   "id": "4270c68c",
   "metadata": {},
   "source": [
    "After scaling and optimizing the C parameter, our upsampled logistic model with a sampling rate of 20% has improved model performance on the validation set. The baseline scaled and optimized model (C=100) on the imbalanced data has an f1-score of 76%, so our upsampled model has improved this by 3%, coming in at an f1-score of 79%. The recall has also improved from 67% baseline to 85% while precision went from 86% baseline to 74%. Compared to the previous upsampled model with a sampling rate of 20% that was not scaled or optimized, this model has improved on all metrics. Our biggest problem area was in precision, which has gone up by 10% (from 64% to 74%). The f1-score has also improved by 6% (from 73% to 79%). Overall, this is our best model. But, let's check downsampling as well (though we do not expect a difference). "
   ]
  },
  {
   "cell_type": "markdown",
   "id": "d829ea90",
   "metadata": {},
   "source": [
    "---"
   ]
  },
  {
   "cell_type": "markdown",
   "id": "00193a4c",
   "metadata": {},
   "source": [
    "**ROC_AUC Score**"
   ]
  },
  {
   "cell_type": "code",
   "execution_count": 215,
   "id": "2be8c21e",
   "metadata": {
    "scrolled": true
   },
   "outputs": [
    {
     "name": "stdout",
     "output_type": "stream",
     "text": [
      "20% Upsampled Scaled and Tuned Train AUC score: {0.969}\n",
      "20% Upsampled Scaled and Tuned Validation AUC score: {0.969}\n"
     ]
    }
   ],
   "source": [
    "y_proba_train_up_bal_20_ss = churn_logit_up_bal_20_C.predict_proba(X_train_up_bal_20_ss)[:, 1]\n",
    "y_proba_val_up_bal_20_ss = churn_logit_up_bal_20_C.predict_proba(X_validation_ss)[:, 1]\n",
    "\n",
    " # Score (AUC)\n",
    "auc_train = np.round(roc_auc_score(y_train_up_bal_20, y_proba_train_up_bal_20_ss), 3)\n",
    "auc_val = np.round(roc_auc_score(y_validation, y_proba_val_up_bal_20_ss), 3)\n",
    "\n",
    "print(f'20% Upsampled Scaled and Tuned Train AUC score:',{auc_train})\n",
    "print(f'20% Upsampled Scaled and Tuned Validation AUC score:',{auc_val})"
   ]
  },
  {
   "cell_type": "code",
   "execution_count": 223,
   "id": "41745608",
   "metadata": {},
   "outputs": [
    {
     "name": "stderr",
     "output_type": "stream",
     "text": [
      "/Users/danielamagiricu/opt/anaconda3/lib/python3.9/site-packages/sklearn/utils/deprecation.py:87: FutureWarning: Function plot_roc_curve is deprecated; Function :func:`plot_roc_curve` is deprecated in 1.0 and will be removed in 1.2. Use one of the class methods: :meth:`sklearn.metric.RocCurveDisplay.from_predictions` or :meth:`sklearn.metric.RocCurveDisplay.from_estimator`.\n",
      "  warnings.warn(msg, category=FutureWarning)\n",
      "/Users/danielamagiricu/opt/anaconda3/lib/python3.9/site-packages/sklearn/utils/deprecation.py:87: FutureWarning: Function plot_roc_curve is deprecated; Function :func:`plot_roc_curve` is deprecated in 1.0 and will be removed in 1.2. Use one of the class methods: :meth:`sklearn.metric.RocCurveDisplay.from_predictions` or :meth:`sklearn.metric.RocCurveDisplay.from_estimator`.\n",
      "  warnings.warn(msg, category=FutureWarning)\n"
     ]
    },
    {
     "name": "stdout",
     "output_type": "stream",
     "text": [
      "Area under curve (AUC):0.969\n"
     ]
    },
    {
     "data": {
      "image/png": "[encoded data removed]",
      "text/plain": [
       "<Figure size 1008x360 with 2 Axes>"
      ]
     },
     "metadata": {
      "needs_background": "light"
     },
     "output_type": "display_data"
    }
   ],
   "source": [
    "fig, axes = plt.subplots(1,2, figsize=(14, 5))\n",
    "plot_roc_curve(churn_logit_up_bal_20_C, X_train_up_bal_20_ss, y_train_up_bal_20, ax=axes[0], marker='.', label='train AUC = %0.2f' % auc_train)\n",
    "plot_roc_curve(churn_logit_up_bal_20_C, X_validation_ss, y_validation, ax=axes[1], marker='.', label='validation AUC = %0.2f' % auc_val)\n",
    "print(f'Area under curve (AUC):{auc_train}')\n",
    "plt.show()"
   ]
  },
  {
   "cell_type": "markdown",
   "id": "b4efc5cc",
   "metadata": {},
   "source": [
    "---"
   ]
  },
  {
   "cell_type": "markdown",
   "id": "685f9b95",
   "metadata": {},
   "source": [
    "### 20% Downsample Logistic Regression Pipeline Hyperparameter Optimization on Dataset with All Features\n",
    "#### AUC score, ROC_AUC curve, Classification Report of Precision, Recall, F1-Score"
   ]
  },
  {
   "cell_type": "code",
   "execution_count": 128,
   "id": "3a73603b",
   "metadata": {},
   "outputs": [
    {
     "name": "stdout",
     "output_type": "stream",
     "text": [
      "Fitting 5 folds for each of 10 candidates, totalling 50 fits\n",
      "[CV] END model=LogisticRegression(C=1000.0), model__C=1e-05, normalise=StandardScaler(); total time=   0.6s\n",
      "[CV] END model=LogisticRegression(C=1000.0), model__C=1e-05, normalise=StandardScaler(); total time=   0.3s\n",
      "[CV] END model=LogisticRegression(C=1000.0), model__C=1e-05, normalise=StandardScaler(); total time=   0.3s\n",
      "[CV] END model=LogisticRegression(C=1000.0), model__C=1e-05, normalise=StandardScaler(); total time=   0.3s\n",
      "[CV] END model=LogisticRegression(C=1000.0), model__C=1e-05, normalise=StandardScaler(); total time=   0.3s\n",
      "[CV] END model=LogisticRegression(C=1000.0), model__C=0.0001, normalise=StandardScaler(); total time=   0.2s\n",
      "[CV] END model=LogisticRegression(C=1000.0), model__C=0.0001, normalise=StandardScaler(); total time=   0.2s\n",
      "[CV] END model=LogisticRegression(C=1000.0), model__C=0.0001, normalise=StandardScaler(); total time=   0.2s\n",
      "[CV] END model=LogisticRegression(C=1000.0), model__C=0.0001, normalise=StandardScaler(); total time=   0.2s\n",
      "[CV] END model=LogisticRegression(C=1000.0), model__C=0.0001, normalise=StandardScaler(); total time=   0.2s\n",
      "[CV] END model=LogisticRegression(C=1000.0), model__C=0.001, normalise=StandardScaler(); total time=   0.3s\n",
      "[CV] END model=LogisticRegression(C=1000.0), model__C=0.001, normalise=StandardScaler(); total time=   0.3s\n",
      "[CV] END model=LogisticRegression(C=1000.0), model__C=0.001, normalise=StandardScaler(); total time=   0.3s\n",
      "[CV] END model=LogisticRegression(C=1000.0), model__C=0.001, normalise=StandardScaler(); total time=   0.3s\n",
      "[CV] END model=LogisticRegression(C=1000.0), model__C=0.001, normalise=StandardScaler(); total time=   0.3s\n",
      "[CV] END model=LogisticRegression(C=1000.0), model__C=0.01, normalise=StandardScaler(); total time=   0.5s\n",
      "[CV] END model=LogisticRegression(C=1000.0), model__C=0.01, normalise=StandardScaler(); total time=   0.5s\n",
      "[CV] END model=LogisticRegression(C=1000.0), model__C=0.01, normalise=StandardScaler(); total time=   0.4s\n",
      "[CV] END model=LogisticRegression(C=1000.0), model__C=0.01, normalise=StandardScaler(); total time=   0.5s\n",
      "[CV] END model=LogisticRegression(C=1000.0), model__C=0.01, normalise=StandardScaler(); total time=   0.5s\n",
      "[CV] END model=LogisticRegression(C=1000.0), model__C=0.1, normalise=StandardScaler(); total time=   0.6s\n",
      "[CV] END model=LogisticRegression(C=1000.0), model__C=0.1, normalise=StandardScaler(); total time=   0.6s\n",
      "[CV] END model=LogisticRegression(C=1000.0), model__C=0.1, normalise=StandardScaler(); total time=   0.6s\n",
      "[CV] END model=LogisticRegression(C=1000.0), model__C=0.1, normalise=StandardScaler(); total time=   0.7s\n",
      "[CV] END model=LogisticRegression(C=1000.0), model__C=0.1, normalise=StandardScaler(); total time=   0.7s\n",
      "[CV] END model=LogisticRegression(C=1000.0), model__C=1.0, normalise=StandardScaler(); total time=   0.8s\n",
      "[CV] END model=LogisticRegression(C=1000.0), model__C=1.0, normalise=StandardScaler(); total time=   0.7s\n",
      "[CV] END model=LogisticRegression(C=1000.0), model__C=1.0, normalise=StandardScaler(); total time=   0.7s\n",
      "[CV] END model=LogisticRegression(C=1000.0), model__C=1.0, normalise=StandardScaler(); total time=   0.7s\n",
      "[CV] END model=LogisticRegression(C=1000.0), model__C=1.0, normalise=StandardScaler(); total time=   0.7s\n",
      "[CV] END model=LogisticRegression(C=1000.0), model__C=10.0, normalise=StandardScaler(); total time=   0.6s\n",
      "[CV] END model=LogisticRegression(C=1000.0), model__C=10.0, normalise=StandardScaler(); total time=   0.7s\n",
      "[CV] END model=LogisticRegression(C=1000.0), model__C=10.0, normalise=StandardScaler(); total time=   0.8s\n",
      "[CV] END model=LogisticRegression(C=1000.0), model__C=10.0, normalise=StandardScaler(); total time=   0.6s\n",
      "[CV] END model=LogisticRegression(C=1000.0), model__C=10.0, normalise=StandardScaler(); total time=   0.8s\n",
      "[CV] END model=LogisticRegression(C=1000.0), model__C=100.0, normalise=StandardScaler(); total time=   0.6s\n",
      "[CV] END model=LogisticRegression(C=1000.0), model__C=100.0, normalise=StandardScaler(); total time=   0.7s\n",
      "[CV] END model=LogisticRegression(C=1000.0), model__C=100.0, normalise=StandardScaler(); total time=   0.7s\n",
      "[CV] END model=LogisticRegression(C=1000.0), model__C=100.0, normalise=StandardScaler(); total time=   0.7s\n",
      "[CV] END model=LogisticRegression(C=1000.0), model__C=100.0, normalise=StandardScaler(); total time=   0.8s\n",
      "[CV] END model=LogisticRegression(C=1000.0), model__C=1000.0, normalise=StandardScaler(); total time=   0.8s\n",
      "[CV] END model=LogisticRegression(C=1000.0), model__C=1000.0, normalise=StandardScaler(); total time=   0.7s\n"
     ]
    },
    {
     "name": "stderr",
     "output_type": "stream",
     "text": [
      "/Users/danielamagiricu/opt/anaconda3/lib/python3.9/site-packages/sklearn/linear_model/_logistic.py:444: ConvergenceWarning: lbfgs failed to converge (status=1):\n",
      "STOP: TOTAL NO. of ITERATIONS REACHED LIMIT.\n",
      "\n",
      "Increase the number of iterations (max_iter) or scale the data as shown in:\n",
      "    https://scikit-learn.org/stable/modules/preprocessing.html\n",
      "Please also refer to the documentation for alternative solver options:\n",
      "    https://scikit-learn.org/stable/modules/linear_model.html#logistic-regression\n",
      "  n_iter_i = _check_optimize_result(\n"
     ]
    },
    {
     "name": "stdout",
     "output_type": "stream",
     "text": [
      "[CV] END model=LogisticRegression(C=1000.0), model__C=1000.0, normalise=StandardScaler(); total time=   0.8s\n",
      "[CV] END model=LogisticRegression(C=1000.0), model__C=1000.0, normalise=StandardScaler(); total time=   0.7s\n",
      "[CV] END model=LogisticRegression(C=1000.0), model__C=1000.0, normalise=StandardScaler(); total time=   0.8s\n",
      "[CV] END model=LogisticRegression(C=1000.0), model__C=10000.0, normalise=StandardScaler(); total time=   0.8s\n",
      "[CV] END model=LogisticRegression(C=1000.0), model__C=10000.0, normalise=StandardScaler(); total time=   0.7s\n",
      "[CV] END model=LogisticRegression(C=1000.0), model__C=10000.0, normalise=StandardScaler(); total time=   0.8s\n",
      "[CV] END model=LogisticRegression(C=1000.0), model__C=10000.0, normalise=StandardScaler(); total time=   0.7s\n",
      "[CV] END model=LogisticRegression(C=1000.0), model__C=10000.0, normalise=StandardScaler(); total time=   0.6s\n"
     ]
    }
   ],
   "source": [
    "down_bal_20_model= grid.fit(X_train_down_bal_20, y_train_down_bal_20)"
   ]
  },
  {
   "cell_type": "code",
   "execution_count": 129,
   "id": "f46017a0",
   "metadata": {},
   "outputs": [
    {
     "data": {
      "text/html": [
       "<style>#sk-container-id-6 {color: black;background-color: white;}#sk-container-id-6 pre{padding: 0;}#sk-container-id-6 div.sk-toggleable {background-color: white;}#sk-container-id-6 label.sk-toggleable__label {cursor: pointer;display: block;width: 100%;margin-bottom: 0;padding: 0.3em;box-sizing: border-box;text-align: center;}#sk-container-id-6 label.sk-toggleable__label-arrow:before {content: \"▸\";float: left;margin-right: 0.25em;color: #696969;}#sk-container-id-6 label.sk-toggleable__label-arrow:hover:before {color: black;}#sk-container-id-6 div.sk-estimator:hover label.sk-toggleable__label-arrow:before {color: black;}#sk-container-id-6 div.sk-toggleable__content {max-height: 0;max-width: 0;overflow: hidden;text-align: left;background-color: #f0f8ff;}#sk-container-id-6 div.sk-toggleable__content pre {margin: 0.2em;color: black;border-radius: 0.25em;background-color: #f0f8ff;}#sk-container-id-6 input.sk-toggleable__control:checked~div.sk-toggleable__content {max-height: 200px;max-width: 100%;overflow: auto;}#sk-container-id-6 input.sk-toggleable__control:checked~label.sk-toggleable__label-arrow:before {content: \"▾\";}#sk-container-id-6 div.sk-estimator input.sk-toggleable__control:checked~label.sk-toggleable__label {background-color: #d4ebff;}#sk-container-id-6 div.sk-label input.sk-toggleable__control:checked~label.sk-toggleable__label {background-color: #d4ebff;}#sk-container-id-6 input.sk-hidden--visually {border: 0;clip: rect(1px 1px 1px 1px);clip: rect(1px, 1px, 1px, 1px);height: 1px;margin: -1px;overflow: hidden;padding: 0;position: absolute;width: 1px;}#sk-container-id-6 div.sk-estimator {font-family: monospace;background-color: #f0f8ff;border: 1px dotted black;border-radius: 0.25em;box-sizing: border-box;margin-bottom: 0.5em;}#sk-container-id-6 div.sk-estimator:hover {background-color: #d4ebff;}#sk-container-id-6 div.sk-parallel-item::after {content: \"\";width: 100%;border-bottom: 1px solid gray;flex-grow: 1;}#sk-container-id-6 div.sk-label:hover label.sk-toggleable__label {background-color: #d4ebff;}#sk-container-id-6 div.sk-serial::before {content: \"\";position: absolute;border-left: 1px solid gray;box-sizing: border-box;top: 0;bottom: 0;left: 50%;z-index: 0;}#sk-container-id-6 div.sk-serial {display: flex;flex-direction: column;align-items: center;background-color: white;padding-right: 0.2em;padding-left: 0.2em;position: relative;}#sk-container-id-6 div.sk-item {position: relative;z-index: 1;}#sk-container-id-6 div.sk-parallel {display: flex;align-items: stretch;justify-content: center;background-color: white;position: relative;}#sk-container-id-6 div.sk-item::before, #sk-container-id-6 div.sk-parallel-item::before {content: \"\";position: absolute;border-left: 1px solid gray;box-sizing: border-box;top: 0;bottom: 0;left: 50%;z-index: -1;}#sk-container-id-6 div.sk-parallel-item {display: flex;flex-direction: column;z-index: 1;position: relative;background-color: white;}#sk-container-id-6 div.sk-parallel-item:first-child::after {align-self: flex-end;width: 50%;}#sk-container-id-6 div.sk-parallel-item:last-child::after {align-self: flex-start;width: 50%;}#sk-container-id-6 div.sk-parallel-item:only-child::after {width: 0;}#sk-container-id-6 div.sk-dashed-wrapped {border: 1px dashed gray;margin: 0 0.4em 0.5em 0.4em;box-sizing: border-box;padding-bottom: 0.4em;background-color: white;}#sk-container-id-6 div.sk-label label {font-family: monospace;font-weight: bold;display: inline-block;line-height: 1.2em;}#sk-container-id-6 div.sk-label-container {text-align: center;}#sk-container-id-6 div.sk-container {/* jupyter's `normalize.less` sets `[hidden] { display: none; }` but bootstrap.min.css set `[hidden] { display: none !important; }` so we also need the `!important` here to be able to override the default hidden behavior on the sphinx rendered scikit-learn.org. See: https://github.com/scikit-learn/scikit-learn/issues/21755 */display: inline-block !important;position: relative;}#sk-container-id-6 div.sk-text-repr-fallback {display: none;}</style><div id=\"sk-container-id-6\" class=\"sk-top-container\"><div class=\"sk-text-repr-fallback\"><pre>Pipeline(memory=&#x27;/var/folders/5k/bd6ybgj9359gmn4ggk9l01_r0000gn/T/tmp_o2zyifu&#x27;,\n",
       "         steps=[(&#x27;normalise&#x27;, StandardScaler()),\n",
       "                (&#x27;model&#x27;, LogisticRegression(C=1000.0))])</pre><b>In a Jupyter environment, please rerun this cell to show the HTML representation or trust the notebook. <br />On GitHub, the HTML representation is unable to render, please try loading this page with nbviewer.org.</b></div><div class=\"sk-container\" hidden><div class=\"sk-item sk-dashed-wrapped\"><div class=\"sk-label-container\"><div class=\"sk-label sk-toggleable\"><input class=\"sk-toggleable__control sk-hidden--visually\" id=\"sk-estimator-id-14\" type=\"checkbox\" ><label for=\"sk-estimator-id-14\" class=\"sk-toggleable__label sk-toggleable__label-arrow\">Pipeline</label><div class=\"sk-toggleable__content\"><pre>Pipeline(memory=&#x27;/var/folders/5k/bd6ybgj9359gmn4ggk9l01_r0000gn/T/tmp_o2zyifu&#x27;,\n",
       "         steps=[(&#x27;normalise&#x27;, StandardScaler()),\n",
       "                (&#x27;model&#x27;, LogisticRegression(C=1000.0))])</pre></div></div></div><div class=\"sk-serial\"><div class=\"sk-item\"><div class=\"sk-estimator sk-toggleable\"><input class=\"sk-toggleable__control sk-hidden--visually\" id=\"sk-estimator-id-15\" type=\"checkbox\" ><label for=\"sk-estimator-id-15\" class=\"sk-toggleable__label sk-toggleable__label-arrow\">StandardScaler</label><div class=\"sk-toggleable__content\"><pre>StandardScaler()</pre></div></div></div><div class=\"sk-item\"><div class=\"sk-estimator sk-toggleable\"><input class=\"sk-toggleable__control sk-hidden--visually\" id=\"sk-estimator-id-16\" type=\"checkbox\" ><label for=\"sk-estimator-id-16\" class=\"sk-toggleable__label sk-toggleable__label-arrow\">LogisticRegression</label><div class=\"sk-toggleable__content\"><pre>LogisticRegression(C=1000.0)</pre></div></div></div></div></div></div></div>"
      ],
      "text/plain": [
       "Pipeline(memory='/var/folders/5k/bd6ybgj9359gmn4ggk9l01_r0000gn/T/tmp_o2zyifu',\n",
       "         steps=[('normalise', StandardScaler()),\n",
       "                ('model', LogisticRegression(C=1000.0))])"
      ]
     },
     "execution_count": 129,
     "metadata": {},
     "output_type": "execute_result"
    }
   ],
   "source": [
    "down_bal_20_model.best_estimator_"
   ]
  },
  {
   "cell_type": "code",
   "execution_count": 130,
   "id": "6b8131e8",
   "metadata": {},
   "outputs": [
    {
     "data": {
      "text/plain": [
       "0.9682420658220448"
      ]
     },
     "execution_count": 130,
     "metadata": {},
     "output_type": "execute_result"
    }
   ],
   "source": [
    "down_bal_20_model.best_score_"
   ]
  },
  {
   "cell_type": "code",
   "execution_count": 131,
   "id": "c1c43578",
   "metadata": {
    "scrolled": false
   },
   "outputs": [
    {
     "data": {
      "text/plain": [
       "array([0.91295344, 0.93778068, 0.95125035, 0.9647771 , 0.96782597,\n",
       "       0.9682118 , 0.96823882, 0.96824141, 0.96824207, 0.96824173])"
      ]
     },
     "execution_count": 131,
     "metadata": {},
     "output_type": "execute_result"
    }
   ],
   "source": [
    "down_bal_20_model.cv_results_['mean_test_score']"
   ]
  },
  {
   "cell_type": "markdown",
   "id": "796c7359",
   "metadata": {},
   "source": [
    "The downsampled scaled an d optimized model has practically the same AUC validation score as the upsampling (roughly 97%). Downsampling is less computationally expensive so it is the best model so far in terms of performance and computation speed. "
   ]
  },
  {
   "cell_type": "code",
   "execution_count": 132,
   "id": "56576c57",
   "metadata": {},
   "outputs": [
    {
     "name": "stderr",
     "output_type": "stream",
     "text": [
      "/Users/danielamagiricu/opt/anaconda3/lib/python3.9/site-packages/sklearn/utils/deprecation.py:87: FutureWarning: Function plot_roc_curve is deprecated; Function :func:`plot_roc_curve` is deprecated in 1.0 and will be removed in 1.2. Use one of the class methods: :meth:`sklearn.metric.RocCurveDisplay.from_predictions` or :meth:`sklearn.metric.RocCurveDisplay.from_estimator`.\n",
      "  warnings.warn(msg, category=FutureWarning)\n",
      "/Users/danielamagiricu/opt/anaconda3/lib/python3.9/site-packages/sklearn/utils/deprecation.py:87: FutureWarning: Function plot_roc_curve is deprecated; Function :func:`plot_roc_curve` is deprecated in 1.0 and will be removed in 1.2. Use one of the class methods: :meth:`sklearn.metric.RocCurveDisplay.from_predictions` or :meth:`sklearn.metric.RocCurveDisplay.from_estimator`.\n",
      "  warnings.warn(msg, category=FutureWarning)\n",
      "/Users/danielamagiricu/opt/anaconda3/lib/python3.9/site-packages/sklearn/base.py:443: UserWarning: X has feature names, but StandardScaler was fitted without feature names\n",
      "  warnings.warn(\n"
     ]
    },
    {
     "data": {
      "image/png": "[encoded data removed]",
      "text/plain": [
       "<Figure size 1008x360 with 2 Axes>"
      ]
     },
     "metadata": {
      "needs_background": "light"
     },
     "output_type": "display_data"
    }
   ],
   "source": [
    "fig, axes = plt.subplots(1,2, figsize=(14, 5))\n",
    "plot_roc_curve(down_bal_20_model, X_train_down_bal_20, y_train_down_bal_20, ax=axes[0], marker='.', label='train')\n",
    "plot_roc_curve(down_bal_20_model, X_validation, y_validation, ax=axes[1], marker='.', label='validation')\n",
    "#print(f'Area under curve (AUC):{roc_auc}')\n",
    "plt.show()"
   ]
  },
  {
   "cell_type": "markdown",
   "id": "6d77a906",
   "metadata": {},
   "source": [
    "### Downsampled Model Fit With Hyperparameter Optimization"
   ]
  },
  {
   "cell_type": "code",
   "execution_count": 225,
   "id": "5a30c308",
   "metadata": {},
   "outputs": [
    {
     "name": "stderr",
     "output_type": "stream",
     "text": [
      "/Users/danielamagiricu/opt/anaconda3/lib/python3.9/site-packages/sklearn/base.py:443: UserWarning: X has feature names, but StandardScaler was fitted without feature names\n",
      "  warnings.warn(\n"
     ]
    }
   ],
   "source": [
    "# Scale the downsampled data\n",
    "my_ss_down = StandardScaler()\n",
    "my_ss_down.fit(X_train_down_bal_20)\n",
    "X_train_down_bal_20_ss = my_ss_down.transform(X_train_down_bal_20)\n",
    "X_validation_down_ss = my_ss_down.transform(X_validation)"
   ]
  },
  {
   "cell_type": "code",
   "execution_count": 226,
   "id": "3c78b7e9",
   "metadata": {},
   "outputs": [],
   "source": [
    "#####################\n",
    "### MODEL FITTING ###\n",
    "#####################\n",
    "# Fit Logistic model on the upsampled data having 20% upsampling rate\n",
    "churn_logit_down_bal_20_C = LogisticRegression(solver='lbfgs', random_state=1, C=1000, max_iter=10000)\n",
    "churn_logit_down_bal_20_C.fit(X_train_down_bal_20_ss, y_train_down_bal_20)\n",
    "\n",
    "# evaluate on the transformed validation set\n",
    "y_pred_down_bal_20_ss = churn_logit_down_bal_20_C.predict(X_validation_down_ss) \n",
    "\n",
    "# validation classification report\n",
    "report_downsampled_20_ss = classification_report(y_validation, y_pred_down_bal_20_ss)"
   ]
  },
  {
   "cell_type": "markdown",
   "id": "82ef1412",
   "metadata": {},
   "source": [
    "### Confusion Matrix, Classification Reports, and ROC_AUC Score of Original and 20% Upsampled after Scaling and Optimizing Hyperparameter C"
   ]
  },
  {
   "cell_type": "code",
   "execution_count": 232,
   "id": "23aea837",
   "metadata": {
    "scrolled": false
   },
   "outputs": [
    {
     "name": "stdout",
     "output_type": "stream",
     "text": [
      "Confusion matrices: \n",
      "=======================================================\n",
      "\n"
     ]
    },
    {
     "name": "stderr",
     "output_type": "stream",
     "text": [
      "/Users/danielamagiricu/opt/anaconda3/lib/python3.9/site-packages/sklearn/utils/deprecation.py:87: FutureWarning: Function plot_confusion_matrix is deprecated; Function `plot_confusion_matrix` is deprecated in 1.0 and will be removed in 1.2. Use one of the class methods: ConfusionMatrixDisplay.from_predictions or ConfusionMatrixDisplay.from_estimator.\n",
      "  warnings.warn(msg, category=FutureWarning)\n",
      "/Users/danielamagiricu/opt/anaconda3/lib/python3.9/site-packages/sklearn/utils/deprecation.py:87: FutureWarning: Function plot_confusion_matrix is deprecated; Function `plot_confusion_matrix` is deprecated in 1.0 and will be removed in 1.2. Use one of the class methods: ConfusionMatrixDisplay.from_predictions or ConfusionMatrixDisplay.from_estimator.\n",
      "  warnings.warn(msg, category=FutureWarning)\n"
     ]
    },
    {
     "data": {
      "image/png": "[encoded data removed]",
      "text/plain": [
       "<Figure size 720x216 with 4 Axes>"
      ]
     },
     "metadata": {
      "needs_background": "light"
     },
     "output_type": "display_data"
    },
    {
     "name": "stdout",
     "output_type": "stream",
     "text": [
      "\n",
      "Original imbalanced data scaled and tuned (C=100) having all features classification report: \n",
      "=======================================================\n",
      "               precision    recall  f1-score   support\n",
      "\n",
      "           0       0.97      0.99      0.98    164830\n",
      "           1       0.86      0.67      0.76     16258\n",
      "\n",
      "    accuracy                           0.96    181088\n",
      "   macro avg       0.91      0.83      0.87    181088\n",
      "weighted avg       0.96      0.96      0.96    181088\n",
      "\n",
      "\n",
      "20% Downsampled data scaled and tuned (C=1000) having all features classification report: \n",
      "=======================================================\n",
      "               precision    recall  f1-score   support\n",
      "\n",
      "           0       0.99      0.97      0.98    164830\n",
      "           1       0.74      0.85      0.79     16258\n",
      "\n",
      "    accuracy                           0.96    181088\n",
      "   macro avg       0.86      0.91      0.88    181088\n",
      "weighted avg       0.96      0.96      0.96    181088\n",
      "\n"
     ]
    }
   ],
   "source": [
    "#####################\n",
    "### PRINT RESULTS ###\n",
    "#####################\n",
    "\n",
    "print_line = \"\\n=======================================================\\n\"\n",
    "\n",
    "# Confusion matrices\n",
    "print(\"Confusion matrices:\", print_line)\n",
    "\n",
    "fig, axes = plt.subplots(1, 2, figsize=(10, 3))\n",
    "\n",
    "# Model on the original data with all features\n",
    "plot_confusion_matrix(original_ss_C, X_validation_original_ss, y_validation, ax=axes[0])\n",
    "axes[0].set_title('Imbalanced C=100 Confusion Matrix')\n",
    "\n",
    "# Model on the 20% downsampled data with all features\n",
    "plot_confusion_matrix(churn_logit_down_bal_20_C, X_validation_down_ss, y_validation, ax=axes[1])\n",
    "axes[1].set_title('20% Downsampled Scaled C=1000 Confusion Matrix')\n",
    "\n",
    "plt.show()\n",
    "\n",
    "# Classification Reports\n",
    "print(\"\\nOriginal imbalanced data scaled and tuned (C=100) having all features classification report:\", print_line, original_ss_C_report)\n",
    "print(\"\\n20% Downsampled data scaled and tuned (C=1000) having all features classification report:\", print_line, report_upsampled_20_ss)"
   ]
  },
  {
   "cell_type": "markdown",
   "id": "a28f2300",
   "metadata": {},
   "source": [
    "After scaling and optimizing the C parameter, our downsampled logistic model with a sampling rate of 20% has improved model performance on the validation set. The baseline scaled and optimized model (C=100) on the imbalanced data has an f1-score of 76%, so our downsampled model has improved this by 3%, coming in at an f1-score of 79%. The recall has also improved from 67% baseline to 85% while precision went from 86% baseline to 74%. Compared to the previous downsampled model that was not scaled or optimized, this model has improved on all metrics. We can especially see a 15% improvement in the precision where the previous 20% downsampled model was lacking (went from 59% to 74% precision). The recall has remained the same. The f1-score has gone up by 10% (from 69% to 79%). Finally, this model is no different than the results we obtained with the 20% upsampled scaled and optimized model so we are safe to between choose either. Since downsampling runs faster this is the only thing we can gain.  "
   ]
  },
  {
   "cell_type": "markdown",
   "id": "4bddbd7a",
   "metadata": {},
   "source": [
    "---"
   ]
  },
  {
   "cell_type": "markdown",
   "id": "bc31070f",
   "metadata": {},
   "source": [
    "### Feature Selected Dataset: Sampling and Logistic Model \n",
    "#### Hyperparameter Optimization with ROC_AUC metric, and Precision, Recall, F1-Score Classification Report"
   ]
  },
  {
   "cell_type": "markdown",
   "id": "d3d2ce1b",
   "metadata": {},
   "source": [
    "In this section, we apply the same sampling techniques and model fits as before but on our other dataset. This dataset was further reduced down to 22 features in the Feature Engineering notebook by removing features that introduced multicollinearity. Our goal in this section is to see if model performance improves (or stays roughly the same) having less features, and hopefully more important features in predicting churn."
   ]
  },
  {
   "cell_type": "markdown",
   "id": "c9408098",
   "metadata": {},
   "source": [
    "We begin by reading in the pickled dataset with feature selection:"
   ]
  },
  {
   "cell_type": "code",
   "execution_count": 37,
   "id": "9baa1359",
   "metadata": {},
   "outputs": [],
   "source": [
    "sel_data = pd.read_pickle('sel_data.pkl')"
   ]
  },
  {
   "cell_type": "code",
   "execution_count": 136,
   "id": "d47bf302",
   "metadata": {
    "scrolled": true
   },
   "outputs": [
    {
     "data": {
      "text/html": [
       "<div>\n",
       "<style scoped>\n",
       "    .dataframe tbody tr th:only-of-type {\n",
       "        vertical-align: middle;\n",
       "    }\n",
       "\n",
       "    .dataframe tbody tr th {\n",
       "        vertical-align: top;\n",
       "    }\n",
       "\n",
       "    .dataframe thead th {\n",
       "        text-align: right;\n",
       "    }\n",
       "</style>\n",
       "<table border=\"1\" class=\"dataframe\">\n",
       "  <thead>\n",
       "    <tr style=\"text-align: right;\">\n",
       "      <th></th>\n",
       "      <th>Reg_3</th>\n",
       "      <th>Reg_4</th>\n",
       "      <th>Reg_9</th>\n",
       "      <th>pay_39</th>\n",
       "      <th>pay_40</th>\n",
       "      <th>msno</th>\n",
       "      <th>is_churn</th>\n",
       "      <th>is_cancel</th>\n",
       "      <th>is_discount</th>\n",
       "      <th>amt_per_day</th>\n",
       "      <th>...</th>\n",
       "      <th>percent_50</th>\n",
       "      <th>reg_month</th>\n",
       "      <th>trans_weekday</th>\n",
       "      <th>trans_month</th>\n",
       "      <th>mem_exp_day</th>\n",
       "      <th>mem_exp_weekday</th>\n",
       "      <th>mem_exp_month</th>\n",
       "      <th>user__weekday</th>\n",
       "      <th>user__month</th>\n",
       "      <th>user__year</th>\n",
       "    </tr>\n",
       "  </thead>\n",
       "  <tbody>\n",
       "    <tr>\n",
       "      <th>0</th>\n",
       "      <td>1</td>\n",
       "      <td>0</td>\n",
       "      <td>0</td>\n",
       "      <td>0</td>\n",
       "      <td>0</td>\n",
       "      <td>ugx0CjOMzazClkFzU2xasmDZaoIqOUAZPsH1q0teWCg=</td>\n",
       "      <td>1</td>\n",
       "      <td>0</td>\n",
       "      <td>0</td>\n",
       "      <td>4.966667</td>\n",
       "      <td>...</td>\n",
       "      <td>0.0000</td>\n",
       "      <td>12</td>\n",
       "      <td>1</td>\n",
       "      <td>2</td>\n",
       "      <td>30</td>\n",
       "      <td>3</td>\n",
       "      <td>3</td>\n",
       "      <td>6</td>\n",
       "      <td>3</td>\n",
       "      <td>2017</td>\n",
       "    </tr>\n",
       "    <tr>\n",
       "      <th>1</th>\n",
       "      <td>1</td>\n",
       "      <td>0</td>\n",
       "      <td>0</td>\n",
       "      <td>0</td>\n",
       "      <td>0</td>\n",
       "      <td>f/NmvEzHfhINFEYZTR05prUdr+E+3+oewvweYz9cCQE=</td>\n",
       "      <td>1</td>\n",
       "      <td>0</td>\n",
       "      <td>0</td>\n",
       "      <td>6.000000</td>\n",
       "      <td>...</td>\n",
       "      <td>0.5000</td>\n",
       "      <td>12</td>\n",
       "      <td>5</td>\n",
       "      <td>3</td>\n",
       "      <td>11</td>\n",
       "      <td>1</td>\n",
       "      <td>4</td>\n",
       "      <td>0</td>\n",
       "      <td>3</td>\n",
       "      <td>2017</td>\n",
       "    </tr>\n",
       "    <tr>\n",
       "      <th>2</th>\n",
       "      <td>1</td>\n",
       "      <td>0</td>\n",
       "      <td>0</td>\n",
       "      <td>0</td>\n",
       "      <td>0</td>\n",
       "      <td>zLo9f73nGGT1p21ltZC3ChiRnAVvgibMyazbCxvWPcg=</td>\n",
       "      <td>1</td>\n",
       "      <td>0</td>\n",
       "      <td>0</td>\n",
       "      <td>3.333333</td>\n",
       "      <td>...</td>\n",
       "      <td>0.0625</td>\n",
       "      <td>12</td>\n",
       "      <td>1</td>\n",
       "      <td>3</td>\n",
       "      <td>15</td>\n",
       "      <td>3</td>\n",
       "      <td>6</td>\n",
       "      <td>3</td>\n",
       "      <td>3</td>\n",
       "      <td>2017</td>\n",
       "    </tr>\n",
       "    <tr>\n",
       "      <th>4</th>\n",
       "      <td>0</td>\n",
       "      <td>0</td>\n",
       "      <td>0</td>\n",
       "      <td>0</td>\n",
       "      <td>0</td>\n",
       "      <td>K6fja4+jmoZ5xG6BypqX80Uw/XKpMgrEMdG2edFOxnA=</td>\n",
       "      <td>1</td>\n",
       "      <td>0</td>\n",
       "      <td>0</td>\n",
       "      <td>3.300000</td>\n",
       "      <td>...</td>\n",
       "      <td>0.0000</td>\n",
       "      <td>1</td>\n",
       "      <td>3</td>\n",
       "      <td>3</td>\n",
       "      <td>18</td>\n",
       "      <td>0</td>\n",
       "      <td>9</td>\n",
       "      <td>5</td>\n",
       "      <td>3</td>\n",
       "      <td>2017</td>\n",
       "    </tr>\n",
       "    <tr>\n",
       "      <th>5</th>\n",
       "      <td>1</td>\n",
       "      <td>0</td>\n",
       "      <td>0</td>\n",
       "      <td>0</td>\n",
       "      <td>1</td>\n",
       "      <td>ibIHVYBqxGwrSExE63/omeDD99M5vYB3CN2HzkEY+eM=</td>\n",
       "      <td>1</td>\n",
       "      <td>1</td>\n",
       "      <td>0</td>\n",
       "      <td>4.966667</td>\n",
       "      <td>...</td>\n",
       "      <td>0.0000</td>\n",
       "      <td>1</td>\n",
       "      <td>3</td>\n",
       "      <td>3</td>\n",
       "      <td>14</td>\n",
       "      <td>1</td>\n",
       "      <td>3</td>\n",
       "      <td>2</td>\n",
       "      <td>3</td>\n",
       "      <td>2017</td>\n",
       "    </tr>\n",
       "  </tbody>\n",
       "</table>\n",
       "<p>5 rows × 24 columns</p>\n",
       "</div>"
      ],
      "text/plain": [
       "   Reg_3  Reg_4  Reg_9  pay_39  pay_40  \\\n",
       "0      1      0      0       0       0   \n",
       "1      1      0      0       0       0   \n",
       "2      1      0      0       0       0   \n",
       "4      0      0      0       0       0   \n",
       "5      1      0      0       0       1   \n",
       "\n",
       "                                           msno  is_churn  is_cancel  \\\n",
       "0  ugx0CjOMzazClkFzU2xasmDZaoIqOUAZPsH1q0teWCg=         1          0   \n",
       "1  f/NmvEzHfhINFEYZTR05prUdr+E+3+oewvweYz9cCQE=         1          0   \n",
       "2  zLo9f73nGGT1p21ltZC3ChiRnAVvgibMyazbCxvWPcg=         1          0   \n",
       "4  K6fja4+jmoZ5xG6BypqX80Uw/XKpMgrEMdG2edFOxnA=         1          0   \n",
       "5  ibIHVYBqxGwrSExE63/omeDD99M5vYB3CN2HzkEY+eM=         1          1   \n",
       "\n",
       "   is_discount  amt_per_day  ...  percent_50  reg_month  trans_weekday  \\\n",
       "0            0     4.966667  ...      0.0000         12              1   \n",
       "1            0     6.000000  ...      0.5000         12              5   \n",
       "2            0     3.333333  ...      0.0625         12              1   \n",
       "4            0     3.300000  ...      0.0000          1              3   \n",
       "5            0     4.966667  ...      0.0000          1              3   \n",
       "\n",
       "   trans_month  mem_exp_day  mem_exp_weekday  mem_exp_month  user__weekday  \\\n",
       "0            2           30                3              3              6   \n",
       "1            3           11                1              4              0   \n",
       "2            3           15                3              6              3   \n",
       "4            3           18                0              9              5   \n",
       "5            3           14                1              3              2   \n",
       "\n",
       "   user__month  user__year  \n",
       "0            3        2017  \n",
       "1            3        2017  \n",
       "2            3        2017  \n",
       "4            3        2017  \n",
       "5            3        2017  \n",
       "\n",
       "[5 rows x 24 columns]"
      ]
     },
     "execution_count": 136,
     "metadata": {},
     "output_type": "execute_result"
    }
   ],
   "source": [
    "sel_data.head()"
   ]
  },
  {
   "cell_type": "code",
   "execution_count": 141,
   "id": "7e423495",
   "metadata": {},
   "outputs": [
    {
     "data": {
      "text/plain": [
       "(754532, 24)"
      ]
     },
     "execution_count": 141,
     "metadata": {},
     "output_type": "execute_result"
    }
   ],
   "source": [
    "sel_data.shape"
   ]
  },
  {
   "cell_type": "markdown",
   "id": "709cf649",
   "metadata": {},
   "source": [
    "Then we separate the data into X and the target variable y (churn):"
   ]
  },
  {
   "cell_type": "code",
   "execution_count": 38,
   "id": "1a2cec16",
   "metadata": {},
   "outputs": [],
   "source": [
    "X_sel = sel_data.drop(['is_churn', 'msno'], axis=1)\n",
    "y_sel = sel_data['is_churn']"
   ]
  },
  {
   "cell_type": "markdown",
   "id": "41ca8a01",
   "metadata": {},
   "source": [
    "Just as before, we perform a remainder-test split and then a train-validation split:"
   ]
  },
  {
   "cell_type": "code",
   "execution_count": 39,
   "id": "8076caf7",
   "metadata": {},
   "outputs": [],
   "source": [
    "X_sel_remainder, X_sel_test, y_sel_remainder, y_sel_test = train_test_split(X_sel,y_sel, test_size=0.2, random_state=1)"
   ]
  },
  {
   "cell_type": "code",
   "execution_count": 40,
   "id": "055b3597",
   "metadata": {},
   "outputs": [],
   "source": [
    "# Splitting the remainder in two chunks\n",
    "X_sel_train, X_sel_val, y_sel_train, y_sel_val = \\\n",
    "    train_test_split(X_sel_remainder, y_sel_remainder, test_size = 0.3,\n",
    "                     random_state=1, stratify= y_sel_remainder)"
   ]
  },
  {
   "cell_type": "code",
   "execution_count": 140,
   "id": "8ac6b4a2",
   "metadata": {},
   "outputs": [
    {
     "data": {
      "text/plain": [
       "((422537, 22), (181088, 22), (422537,), (181088,))"
      ]
     },
     "execution_count": 140,
     "metadata": {},
     "output_type": "execute_result"
    }
   ],
   "source": [
    "X_sel_train.shape, X_sel_val.shape, y_sel_train.shape, y_sel_val.shape"
   ]
  },
  {
   "cell_type": "markdown",
   "id": "4de3bfb3",
   "metadata": {},
   "source": [
    "---"
   ]
  },
  {
   "cell_type": "markdown",
   "id": "137b056d",
   "metadata": {},
   "source": [
    "### Upsampling on Selected Dataset"
   ]
  },
  {
   "cell_type": "code",
   "execution_count": 142,
   "id": "fada9e5f",
   "metadata": {},
   "outputs": [
    {
     "name": "stdout",
     "output_type": "stream",
     "text": [
      "Number of class 1 examples of dataset with feature selction before sampling: 37934\n"
     ]
    }
   ],
   "source": [
    "print('Number of class 1 examples of dataset with feature selction before sampling:', X_sel_train[y_sel_train == 1].shape[0])"
   ]
  },
  {
   "cell_type": "code",
   "execution_count": 143,
   "id": "972be481",
   "metadata": {
    "scrolled": true
   },
   "outputs": [
    {
     "name": "stdout",
     "output_type": "stream",
     "text": [
      "Number of class 1 examples of dataset with feature selction after upsampling: 189670\n"
     ]
    }
   ],
   "source": [
    "X_sel_upsampled_20, y_sel_upsampled_20 = resample(X_sel_train[y_sel_train == 1], \n",
    "                                    y_sel_train[y_sel_train == 1], \n",
    "                                    replace=True, \n",
    "                                    n_samples= round((X_sel_train[y_sel_train == 1].shape[0])/0.2), \n",
    "                                    random_state=1)\n",
    "\n",
    "print('Number of class 1 examples of dataset with feature selction after upsampling:', X_sel_upsampled_20.shape[0])\n",
    "\n",
    "# Combine upsample with original data\n",
    "X_sel_train_up_bal_20 = np.vstack((X_sel_train[y_sel_train == 0], X_sel_upsampled_20))\n",
    "y_sel_train_up_bal_20 = np.hstack((y_sel_train[y_sel_train == 0], y_sel_upsampled_20))"
   ]
  },
  {
   "cell_type": "markdown",
   "id": "0a0fb417",
   "metadata": {},
   "source": [
    "### Downsampling on Selected Dataset"
   ]
  },
  {
   "cell_type": "code",
   "execution_count": 145,
   "id": "f43ebd2b",
   "metadata": {
    "scrolled": true
   },
   "outputs": [
    {
     "name": "stdout",
     "output_type": "stream",
     "text": [
      "Number of class 0 examples on dataset with feature selection before downsampling: 384603\n",
      "Number of class 0 examples on dataset with feature selection after downsampling: 76921\n",
      "Downsampling Rate: 0.2000010400334891\n"
     ]
    }
   ],
   "source": [
    "# Downsample\n",
    "print('Number of class 0 examples on dataset with feature selection before downsampling:', X_sel_train[y_sel_train == 0].shape[0])\n",
    "\n",
    "X_sel_downsampled_20, y_sel_downsampled_20 = resample(X_sel_train[y_sel_train == 0], \n",
    "                                        y_sel_train[y_sel_train == 0], \n",
    "                                        replace=True, \n",
    "                                        n_samples= round(X_sel_train[y_sel_train == 0].shape[0]*0.2), \n",
    "                                        random_state=1)\n",
    "\n",
    "print('Number of class 0 examples on dataset with feature selection after downsampling:', X_sel_downsampled_20.shape[0])\n",
    "\n",
    "print('Downsampling Rate:', X_sel_downsampled_20.shape[0]/X_sel_train[y_sel_train == 0].shape[0])\n",
    "# Combine downsample with original data\n",
    "X_sel_train_down_bal_20 = np.vstack((X_sel_train[y_train == 1], X_sel_downsampled_20))\n",
    "y_sel_train_down_bal_20 = np.hstack((y_sel_train[y_train == 1], y_sel_downsampled_20))"
   ]
  },
  {
   "cell_type": "markdown",
   "id": "3725d582",
   "metadata": {},
   "source": [
    "---"
   ]
  },
  {
   "cell_type": "markdown",
   "id": "8e5f0f1d",
   "metadata": {},
   "source": [
    "### Base Logistic Model using Pipeline and Hyperparameter Optimization on Data with Feature Selection"
   ]
  },
  {
   "cell_type": "code",
   "execution_count": 144,
   "id": "0624042a",
   "metadata": {
    "scrolled": true
   },
   "outputs": [
    {
     "name": "stdout",
     "output_type": "stream",
     "text": [
      "Fitting 5 folds for each of 10 candidates, totalling 50 fits\n",
      "[CV] END model=LogisticRegression(C=1000.0), model__C=1e-05, normalise=StandardScaler(); total time=   1.2s\n",
      "[CV] END model=LogisticRegression(C=1000.0), model__C=1e-05, normalise=StandardScaler(); total time=   1.2s\n",
      "[CV] END model=LogisticRegression(C=1000.0), model__C=1e-05, normalise=StandardScaler(); total time=   1.6s\n",
      "[CV] END model=LogisticRegression(C=1000.0), model__C=1e-05, normalise=StandardScaler(); total time=   1.4s\n",
      "[CV] END model=LogisticRegression(C=1000.0), model__C=1e-05, normalise=StandardScaler(); total time=   1.1s\n",
      "[CV] END model=LogisticRegression(C=1000.0), model__C=0.0001, normalise=StandardScaler(); total time=   1.2s\n",
      "[CV] END model=LogisticRegression(C=1000.0), model__C=0.0001, normalise=StandardScaler(); total time=   1.1s\n",
      "[CV] END model=LogisticRegression(C=1000.0), model__C=0.0001, normalise=StandardScaler(); total time=   1.0s\n",
      "[CV] END model=LogisticRegression(C=1000.0), model__C=0.0001, normalise=StandardScaler(); total time=   1.3s\n",
      "[CV] END model=LogisticRegression(C=1000.0), model__C=0.0001, normalise=StandardScaler(); total time=   1.4s\n",
      "[CV] END model=LogisticRegression(C=1000.0), model__C=0.001, normalise=StandardScaler(); total time=   2.1s\n",
      "[CV] END model=LogisticRegression(C=1000.0), model__C=0.001, normalise=StandardScaler(); total time=   1.2s\n",
      "[CV] END model=LogisticRegression(C=1000.0), model__C=0.001, normalise=StandardScaler(); total time=   0.9s\n",
      "[CV] END model=LogisticRegression(C=1000.0), model__C=0.001, normalise=StandardScaler(); total time=   1.4s\n",
      "[CV] END model=LogisticRegression(C=1000.0), model__C=0.001, normalise=StandardScaler(); total time=   2.0s\n",
      "[CV] END model=LogisticRegression(C=1000.0), model__C=0.01, normalise=StandardScaler(); total time=   2.1s\n",
      "[CV] END model=LogisticRegression(C=1000.0), model__C=0.01, normalise=StandardScaler(); total time=   2.1s\n",
      "[CV] END model=LogisticRegression(C=1000.0), model__C=0.01, normalise=StandardScaler(); total time=   1.8s\n",
      "[CV] END model=LogisticRegression(C=1000.0), model__C=0.01, normalise=StandardScaler(); total time=   2.5s\n",
      "[CV] END model=LogisticRegression(C=1000.0), model__C=0.01, normalise=StandardScaler(); total time=   2.1s\n",
      "[CV] END model=LogisticRegression(C=1000.0), model__C=0.1, normalise=StandardScaler(); total time=   1.5s\n",
      "[CV] END model=LogisticRegression(C=1000.0), model__C=0.1, normalise=StandardScaler(); total time=   1.0s\n",
      "[CV] END model=LogisticRegression(C=1000.0), model__C=0.1, normalise=StandardScaler(); total time=   1.4s\n",
      "[CV] END model=LogisticRegression(C=1000.0), model__C=0.1, normalise=StandardScaler(); total time=   1.0s\n",
      "[CV] END model=LogisticRegression(C=1000.0), model__C=0.1, normalise=StandardScaler(); total time=   1.2s\n",
      "[CV] END model=LogisticRegression(C=1000.0), model__C=1.0, normalise=StandardScaler(); total time=   1.3s\n",
      "[CV] END model=LogisticRegression(C=1000.0), model__C=1.0, normalise=StandardScaler(); total time=   1.0s\n",
      "[CV] END model=LogisticRegression(C=1000.0), model__C=1.0, normalise=StandardScaler(); total time=   1.0s\n",
      "[CV] END model=LogisticRegression(C=1000.0), model__C=1.0, normalise=StandardScaler(); total time=   1.0s\n",
      "[CV] END model=LogisticRegression(C=1000.0), model__C=1.0, normalise=StandardScaler(); total time=   1.0s\n",
      "[CV] END model=LogisticRegression(C=1000.0), model__C=10.0, normalise=StandardScaler(); total time=   1.0s\n",
      "[CV] END model=LogisticRegression(C=1000.0), model__C=10.0, normalise=StandardScaler(); total time=   1.1s\n",
      "[CV] END model=LogisticRegression(C=1000.0), model__C=10.0, normalise=StandardScaler(); total time=   1.6s\n",
      "[CV] END model=LogisticRegression(C=1000.0), model__C=10.0, normalise=StandardScaler(); total time=   1.1s\n",
      "[CV] END model=LogisticRegression(C=1000.0), model__C=10.0, normalise=StandardScaler(); total time=   1.4s\n",
      "[CV] END model=LogisticRegression(C=1000.0), model__C=100.0, normalise=StandardScaler(); total time=   1.2s\n",
      "[CV] END model=LogisticRegression(C=1000.0), model__C=100.0, normalise=StandardScaler(); total time=   1.2s\n",
      "[CV] END model=LogisticRegression(C=1000.0), model__C=100.0, normalise=StandardScaler(); total time=   1.5s\n",
      "[CV] END model=LogisticRegression(C=1000.0), model__C=100.0, normalise=StandardScaler(); total time=   1.3s\n",
      "[CV] END model=LogisticRegression(C=1000.0), model__C=100.0, normalise=StandardScaler(); total time=   2.1s\n",
      "[CV] END model=LogisticRegression(C=1000.0), model__C=1000.0, normalise=StandardScaler(); total time=   1.8s\n",
      "[CV] END model=LogisticRegression(C=1000.0), model__C=1000.0, normalise=StandardScaler(); total time=   1.2s\n",
      "[CV] END model=LogisticRegression(C=1000.0), model__C=1000.0, normalise=StandardScaler(); total time=   2.1s\n",
      "[CV] END model=LogisticRegression(C=1000.0), model__C=1000.0, normalise=StandardScaler(); total time=   2.2s\n",
      "[CV] END model=LogisticRegression(C=1000.0), model__C=1000.0, normalise=StandardScaler(); total time=   1.7s\n",
      "[CV] END model=LogisticRegression(C=1000.0), model__C=10000.0, normalise=StandardScaler(); total time=   1.7s\n",
      "[CV] END model=LogisticRegression(C=1000.0), model__C=10000.0, normalise=StandardScaler(); total time=   1.1s\n",
      "[CV] END model=LogisticRegression(C=1000.0), model__C=10000.0, normalise=StandardScaler(); total time=   1.3s\n",
      "[CV] END model=LogisticRegression(C=1000.0), model__C=10000.0, normalise=StandardScaler(); total time=   1.1s\n",
      "[CV] END model=LogisticRegression(C=1000.0), model__C=10000.0, normalise=StandardScaler(); total time=   1.3s\n"
     ]
    }
   ],
   "source": [
    "base_sel_model= grid.fit(X_sel_train, y_sel_train)"
   ]
  },
  {
   "cell_type": "code",
   "execution_count": 146,
   "id": "3c75379b",
   "metadata": {
    "scrolled": true
   },
   "outputs": [
    {
     "data": {
      "text/html": [
       "<style>#sk-container-id-7 {color: black;background-color: white;}#sk-container-id-7 pre{padding: 0;}#sk-container-id-7 div.sk-toggleable {background-color: white;}#sk-container-id-7 label.sk-toggleable__label {cursor: pointer;display: block;width: 100%;margin-bottom: 0;padding: 0.3em;box-sizing: border-box;text-align: center;}#sk-container-id-7 label.sk-toggleable__label-arrow:before {content: \"▸\";float: left;margin-right: 0.25em;color: #696969;}#sk-container-id-7 label.sk-toggleable__label-arrow:hover:before {color: black;}#sk-container-id-7 div.sk-estimator:hover label.sk-toggleable__label-arrow:before {color: black;}#sk-container-id-7 div.sk-toggleable__content {max-height: 0;max-width: 0;overflow: hidden;text-align: left;background-color: #f0f8ff;}#sk-container-id-7 div.sk-toggleable__content pre {margin: 0.2em;color: black;border-radius: 0.25em;background-color: #f0f8ff;}#sk-container-id-7 input.sk-toggleable__control:checked~div.sk-toggleable__content {max-height: 200px;max-width: 100%;overflow: auto;}#sk-container-id-7 input.sk-toggleable__control:checked~label.sk-toggleable__label-arrow:before {content: \"▾\";}#sk-container-id-7 div.sk-estimator input.sk-toggleable__control:checked~label.sk-toggleable__label {background-color: #d4ebff;}#sk-container-id-7 div.sk-label input.sk-toggleable__control:checked~label.sk-toggleable__label {background-color: #d4ebff;}#sk-container-id-7 input.sk-hidden--visually {border: 0;clip: rect(1px 1px 1px 1px);clip: rect(1px, 1px, 1px, 1px);height: 1px;margin: -1px;overflow: hidden;padding: 0;position: absolute;width: 1px;}#sk-container-id-7 div.sk-estimator {font-family: monospace;background-color: #f0f8ff;border: 1px dotted black;border-radius: 0.25em;box-sizing: border-box;margin-bottom: 0.5em;}#sk-container-id-7 div.sk-estimator:hover {background-color: #d4ebff;}#sk-container-id-7 div.sk-parallel-item::after {content: \"\";width: 100%;border-bottom: 1px solid gray;flex-grow: 1;}#sk-container-id-7 div.sk-label:hover label.sk-toggleable__label {background-color: #d4ebff;}#sk-container-id-7 div.sk-serial::before {content: \"\";position: absolute;border-left: 1px solid gray;box-sizing: border-box;top: 0;bottom: 0;left: 50%;z-index: 0;}#sk-container-id-7 div.sk-serial {display: flex;flex-direction: column;align-items: center;background-color: white;padding-right: 0.2em;padding-left: 0.2em;position: relative;}#sk-container-id-7 div.sk-item {position: relative;z-index: 1;}#sk-container-id-7 div.sk-parallel {display: flex;align-items: stretch;justify-content: center;background-color: white;position: relative;}#sk-container-id-7 div.sk-item::before, #sk-container-id-7 div.sk-parallel-item::before {content: \"\";position: absolute;border-left: 1px solid gray;box-sizing: border-box;top: 0;bottom: 0;left: 50%;z-index: -1;}#sk-container-id-7 div.sk-parallel-item {display: flex;flex-direction: column;z-index: 1;position: relative;background-color: white;}#sk-container-id-7 div.sk-parallel-item:first-child::after {align-self: flex-end;width: 50%;}#sk-container-id-7 div.sk-parallel-item:last-child::after {align-self: flex-start;width: 50%;}#sk-container-id-7 div.sk-parallel-item:only-child::after {width: 0;}#sk-container-id-7 div.sk-dashed-wrapped {border: 1px dashed gray;margin: 0 0.4em 0.5em 0.4em;box-sizing: border-box;padding-bottom: 0.4em;background-color: white;}#sk-container-id-7 div.sk-label label {font-family: monospace;font-weight: bold;display: inline-block;line-height: 1.2em;}#sk-container-id-7 div.sk-label-container {text-align: center;}#sk-container-id-7 div.sk-container {/* jupyter's `normalize.less` sets `[hidden] { display: none; }` but bootstrap.min.css set `[hidden] { display: none !important; }` so we also need the `!important` here to be able to override the default hidden behavior on the sphinx rendered scikit-learn.org. See: https://github.com/scikit-learn/scikit-learn/issues/21755 */display: inline-block !important;position: relative;}#sk-container-id-7 div.sk-text-repr-fallback {display: none;}</style><div id=\"sk-container-id-7\" class=\"sk-top-container\"><div class=\"sk-text-repr-fallback\"><pre>Pipeline(memory=&#x27;/var/folders/5k/bd6ybgj9359gmn4ggk9l01_r0000gn/T/tmp_o2zyifu&#x27;,\n",
       "         steps=[(&#x27;normalise&#x27;, StandardScaler()),\n",
       "                (&#x27;model&#x27;, LogisticRegression(C=10000.0))])</pre><b>In a Jupyter environment, please rerun this cell to show the HTML representation or trust the notebook. <br />On GitHub, the HTML representation is unable to render, please try loading this page with nbviewer.org.</b></div><div class=\"sk-container\" hidden><div class=\"sk-item sk-dashed-wrapped\"><div class=\"sk-label-container\"><div class=\"sk-label sk-toggleable\"><input class=\"sk-toggleable__control sk-hidden--visually\" id=\"sk-estimator-id-17\" type=\"checkbox\" ><label for=\"sk-estimator-id-17\" class=\"sk-toggleable__label sk-toggleable__label-arrow\">Pipeline</label><div class=\"sk-toggleable__content\"><pre>Pipeline(memory=&#x27;/var/folders/5k/bd6ybgj9359gmn4ggk9l01_r0000gn/T/tmp_o2zyifu&#x27;,\n",
       "         steps=[(&#x27;normalise&#x27;, StandardScaler()),\n",
       "                (&#x27;model&#x27;, LogisticRegression(C=10000.0))])</pre></div></div></div><div class=\"sk-serial\"><div class=\"sk-item\"><div class=\"sk-estimator sk-toggleable\"><input class=\"sk-toggleable__control sk-hidden--visually\" id=\"sk-estimator-id-18\" type=\"checkbox\" ><label for=\"sk-estimator-id-18\" class=\"sk-toggleable__label sk-toggleable__label-arrow\">StandardScaler</label><div class=\"sk-toggleable__content\"><pre>StandardScaler()</pre></div></div></div><div class=\"sk-item\"><div class=\"sk-estimator sk-toggleable\"><input class=\"sk-toggleable__control sk-hidden--visually\" id=\"sk-estimator-id-19\" type=\"checkbox\" ><label for=\"sk-estimator-id-19\" class=\"sk-toggleable__label sk-toggleable__label-arrow\">LogisticRegression</label><div class=\"sk-toggleable__content\"><pre>LogisticRegression(C=10000.0)</pre></div></div></div></div></div></div></div>"
      ],
      "text/plain": [
       "Pipeline(memory='/var/folders/5k/bd6ybgj9359gmn4ggk9l01_r0000gn/T/tmp_o2zyifu',\n",
       "         steps=[('normalise', StandardScaler()),\n",
       "                ('model', LogisticRegression(C=10000.0))])"
      ]
     },
     "execution_count": 146,
     "metadata": {},
     "output_type": "execute_result"
    }
   ],
   "source": [
    "base_sel_model.best_estimator_"
   ]
  },
  {
   "cell_type": "code",
   "execution_count": 147,
   "id": "e75b8bdf",
   "metadata": {},
   "outputs": [
    {
     "data": {
      "text/plain": [
       "0.9558903739301432"
      ]
     },
     "execution_count": 147,
     "metadata": {},
     "output_type": "execute_result"
    }
   ],
   "source": [
    "base_sel_model.best_score_"
   ]
  },
  {
   "cell_type": "code",
   "execution_count": 148,
   "id": "6bbf25c4",
   "metadata": {
    "scrolled": false
   },
   "outputs": [
    {
     "data": {
      "text/plain": [
       "array([0.93291926, 0.93815224, 0.94707652, 0.95442826, 0.95570937,\n",
       "       0.95587214, 0.95588854, 0.95589019, 0.95589036, 0.95589037])"
      ]
     },
     "execution_count": 148,
     "metadata": {},
     "output_type": "execute_result"
    }
   ],
   "source": [
    "base_sel_model.cv_results_['mean_test_score']"
   ]
  },
  {
   "cell_type": "markdown",
   "id": "8d37f154",
   "metadata": {},
   "source": [
    "Our base scaled and optimized logistic model (C=10,000) has a best AUC validation score across all 5 cv folds of 95.6% for our imbalanced data with feature selection. This result is not different from when we had all features, so we would be safe so far in having less features and still retaining a high AUC score. "
   ]
  },
  {
   "cell_type": "code",
   "execution_count": 154,
   "id": "5e600e55",
   "metadata": {},
   "outputs": [
    {
     "name": "stderr",
     "output_type": "stream",
     "text": [
      "/Users/danielamagiricu/opt/anaconda3/lib/python3.9/site-packages/sklearn/utils/deprecation.py:87: FutureWarning: Function plot_roc_curve is deprecated; Function :func:`plot_roc_curve` is deprecated in 1.0 and will be removed in 1.2. Use one of the class methods: :meth:`sklearn.metric.RocCurveDisplay.from_predictions` or :meth:`sklearn.metric.RocCurveDisplay.from_estimator`.\n",
      "  warnings.warn(msg, category=FutureWarning)\n",
      "/Users/danielamagiricu/opt/anaconda3/lib/python3.9/site-packages/sklearn/base.py:443: UserWarning: X has feature names, but StandardScaler was fitted without feature names\n",
      "  warnings.warn(\n",
      "/Users/danielamagiricu/opt/anaconda3/lib/python3.9/site-packages/sklearn/utils/deprecation.py:87: FutureWarning: Function plot_roc_curve is deprecated; Function :func:`plot_roc_curve` is deprecated in 1.0 and will be removed in 1.2. Use one of the class methods: :meth:`sklearn.metric.RocCurveDisplay.from_predictions` or :meth:`sklearn.metric.RocCurveDisplay.from_estimator`.\n",
      "  warnings.warn(msg, category=FutureWarning)\n",
      "/Users/danielamagiricu/opt/anaconda3/lib/python3.9/site-packages/sklearn/base.py:443: UserWarning: X has feature names, but StandardScaler was fitted without feature names\n",
      "  warnings.warn(\n"
     ]
    },
    {
     "data": {
      "image/png": "[encoded data removed]",
      "text/plain": [
       "<Figure size 1008x360 with 2 Axes>"
      ]
     },
     "metadata": {
      "needs_background": "light"
     },
     "output_type": "display_data"
    }
   ],
   "source": [
    "fig, axes = plt.subplots(1,2, figsize=(14, 5))\n",
    "plot_roc_curve(base_sel_model, X_sel_train, y_sel_train, ax=axes[0], marker='.', label='train')\n",
    "plot_roc_curve(base_sel_model, X_sel_val, y_sel_val, ax=axes[1], marker='.', label='validation')\n",
    "#print(f'Area under curve (AUC):{roc_auc}')\n",
    "plt.show()"
   ]
  },
  {
   "cell_type": "markdown",
   "id": "3f128afd",
   "metadata": {},
   "source": [
    "---"
   ]
  },
  {
   "cell_type": "markdown",
   "id": "b0e785a8",
   "metadata": {},
   "source": [
    "### Base Model Fit with Hyperparameter Optimization on Dataset with Feature Selection"
   ]
  },
  {
   "cell_type": "code",
   "execution_count": 244,
   "id": "c1b08559",
   "metadata": {},
   "outputs": [],
   "source": [
    "# Scale the imbalanced data\n",
    "base_ss = StandardScaler()\n",
    "base_ss.fit(X_sel_train)\n",
    "X_sel_train_ss = base_ss.transform(X_sel_train)\n",
    "X_sel_val_base_ss = base_ss.transform(X_sel_val)"
   ]
  },
  {
   "cell_type": "code",
   "execution_count": 245,
   "id": "8c68c00f",
   "metadata": {},
   "outputs": [],
   "source": [
    "# fit base model with C= 10,000\n",
    "base_ss_C = LogisticRegression(solver='lbfgs', random_state=1, C =10000, max_iter=10000)\n",
    "base_ss_C.fit(X_sel_train_ss, y_sel_train)\n",
    "\n",
    "# evaluate on the original test set\n",
    "y_pred_base_ss = base_ss_C.predict(X_sel_val_base_ss)\n",
    "\n",
    "# classification report\n",
    "base_ss_C_report = classification_report(y_sel_val, y_pred_base_ss)"
   ]
  },
  {
   "cell_type": "markdown",
   "id": "5429d860",
   "metadata": {},
   "source": [
    "---"
   ]
  },
  {
   "cell_type": "markdown",
   "id": "2a2b8edf",
   "metadata": {},
   "source": [
    "### Upsample Pipeline Hyperparameter Optimization on Feature Selected Data"
   ]
  },
  {
   "cell_type": "code",
   "execution_count": 149,
   "id": "d15bf4be",
   "metadata": {
    "scrolled": true
   },
   "outputs": [
    {
     "name": "stdout",
     "output_type": "stream",
     "text": [
      "Fitting 5 folds for each of 10 candidates, totalling 50 fits\n",
      "[CV] END model=LogisticRegression(C=10000.0), model__C=1e-05, normalise=StandardScaler(); total time=   1.8s\n",
      "[CV] END model=LogisticRegression(C=10000.0), model__C=1e-05, normalise=StandardScaler(); total time=   2.2s\n",
      "[CV] END model=LogisticRegression(C=10000.0), model__C=1e-05, normalise=StandardScaler(); total time=   2.9s\n",
      "[CV] END model=LogisticRegression(C=10000.0), model__C=1e-05, normalise=StandardScaler(); total time=   1.6s\n",
      "[CV] END model=LogisticRegression(C=10000.0), model__C=1e-05, normalise=StandardScaler(); total time=   1.7s\n",
      "[CV] END model=LogisticRegression(C=10000.0), model__C=0.0001, normalise=StandardScaler(); total time=   0.8s\n",
      "[CV] END model=LogisticRegression(C=10000.0), model__C=0.0001, normalise=StandardScaler(); total time=   0.8s\n",
      "[CV] END model=LogisticRegression(C=10000.0), model__C=0.0001, normalise=StandardScaler(); total time=   1.0s\n",
      "[CV] END model=LogisticRegression(C=10000.0), model__C=0.0001, normalise=StandardScaler(); total time=   0.8s\n",
      "[CV] END model=LogisticRegression(C=10000.0), model__C=0.0001, normalise=StandardScaler(); total time=   0.8s\n",
      "[CV] END model=LogisticRegression(C=10000.0), model__C=0.001, normalise=StandardScaler(); total time=   0.9s\n",
      "[CV] END model=LogisticRegression(C=10000.0), model__C=0.001, normalise=StandardScaler(); total time=   1.0s\n",
      "[CV] END model=LogisticRegression(C=10000.0), model__C=0.001, normalise=StandardScaler(); total time=   1.4s\n",
      "[CV] END model=LogisticRegression(C=10000.0), model__C=0.001, normalise=StandardScaler(); total time=   1.1s\n",
      "[CV] END model=LogisticRegression(C=10000.0), model__C=0.001, normalise=StandardScaler(); total time=   0.9s\n",
      "[CV] END model=LogisticRegression(C=10000.0), model__C=0.01, normalise=StandardScaler(); total time=   1.1s\n",
      "[CV] END model=LogisticRegression(C=10000.0), model__C=0.01, normalise=StandardScaler(); total time=   1.1s\n",
      "[CV] END model=LogisticRegression(C=10000.0), model__C=0.01, normalise=StandardScaler(); total time=   1.0s\n",
      "[CV] END model=LogisticRegression(C=10000.0), model__C=0.01, normalise=StandardScaler(); total time=   1.2s\n",
      "[CV] END model=LogisticRegression(C=10000.0), model__C=0.01, normalise=StandardScaler(); total time=   1.1s\n",
      "[CV] END model=LogisticRegression(C=10000.0), model__C=0.1, normalise=StandardScaler(); total time=   1.1s\n",
      "[CV] END model=LogisticRegression(C=10000.0), model__C=0.1, normalise=StandardScaler(); total time=   1.1s\n",
      "[CV] END model=LogisticRegression(C=10000.0), model__C=0.1, normalise=StandardScaler(); total time=   1.1s\n",
      "[CV] END model=LogisticRegression(C=10000.0), model__C=0.1, normalise=StandardScaler(); total time=   1.2s\n",
      "[CV] END model=LogisticRegression(C=10000.0), model__C=0.1, normalise=StandardScaler(); total time=   1.6s\n",
      "[CV] END model=LogisticRegression(C=10000.0), model__C=1.0, normalise=StandardScaler(); total time=   1.5s\n",
      "[CV] END model=LogisticRegression(C=10000.0), model__C=1.0, normalise=StandardScaler(); total time=   1.3s\n",
      "[CV] END model=LogisticRegression(C=10000.0), model__C=1.0, normalise=StandardScaler(); total time=   1.2s\n",
      "[CV] END model=LogisticRegression(C=10000.0), model__C=1.0, normalise=StandardScaler(); total time=   1.4s\n",
      "[CV] END model=LogisticRegression(C=10000.0), model__C=1.0, normalise=StandardScaler(); total time=   1.6s\n",
      "[CV] END model=LogisticRegression(C=10000.0), model__C=10.0, normalise=StandardScaler(); total time=   1.5s\n",
      "[CV] END model=LogisticRegression(C=10000.0), model__C=10.0, normalise=StandardScaler(); total time=   1.4s\n",
      "[CV] END model=LogisticRegression(C=10000.0), model__C=10.0, normalise=StandardScaler(); total time=   1.2s\n",
      "[CV] END model=LogisticRegression(C=10000.0), model__C=10.0, normalise=StandardScaler(); total time=   1.5s\n",
      "[CV] END model=LogisticRegression(C=10000.0), model__C=10.0, normalise=StandardScaler(); total time=   1.1s\n",
      "[CV] END model=LogisticRegression(C=10000.0), model__C=100.0, normalise=StandardScaler(); total time=   1.2s\n",
      "[CV] END model=LogisticRegression(C=10000.0), model__C=100.0, normalise=StandardScaler(); total time=   1.1s\n",
      "[CV] END model=LogisticRegression(C=10000.0), model__C=100.0, normalise=StandardScaler(); total time=   1.3s\n",
      "[CV] END model=LogisticRegression(C=10000.0), model__C=100.0, normalise=StandardScaler(); total time=   1.8s\n",
      "[CV] END model=LogisticRegression(C=10000.0), model__C=100.0, normalise=StandardScaler(); total time=   1.3s\n",
      "[CV] END model=LogisticRegression(C=10000.0), model__C=1000.0, normalise=StandardScaler(); total time=   1.3s\n",
      "[CV] END model=LogisticRegression(C=10000.0), model__C=1000.0, normalise=StandardScaler(); total time=   1.1s\n",
      "[CV] END model=LogisticRegression(C=10000.0), model__C=1000.0, normalise=StandardScaler(); total time=   1.1s\n",
      "[CV] END model=LogisticRegression(C=10000.0), model__C=1000.0, normalise=StandardScaler(); total time=   1.1s\n",
      "[CV] END model=LogisticRegression(C=10000.0), model__C=1000.0, normalise=StandardScaler(); total time=   1.1s\n",
      "[CV] END model=LogisticRegression(C=10000.0), model__C=10000.0, normalise=StandardScaler(); total time=   1.2s\n",
      "[CV] END model=LogisticRegression(C=10000.0), model__C=10000.0, normalise=StandardScaler(); total time=   1.1s\n",
      "[CV] END model=LogisticRegression(C=10000.0), model__C=10000.0, normalise=StandardScaler(); total time=   1.6s\n",
      "[CV] END model=LogisticRegression(C=10000.0), model__C=10000.0, normalise=StandardScaler(); total time=   1.4s\n",
      "[CV] END model=LogisticRegression(C=10000.0), model__C=10000.0, normalise=StandardScaler(); total time=   1.6s\n"
     ]
    }
   ],
   "source": [
    "up_sel_bal_20_model= grid.fit(X_sel_train_up_bal_20, y_sel_train_up_bal_20)"
   ]
  },
  {
   "cell_type": "code",
   "execution_count": 151,
   "id": "a5952c85",
   "metadata": {
    "scrolled": false
   },
   "outputs": [
    {
     "data": {
      "text/html": [
       "<style>#sk-container-id-8 {color: black;background-color: white;}#sk-container-id-8 pre{padding: 0;}#sk-container-id-8 div.sk-toggleable {background-color: white;}#sk-container-id-8 label.sk-toggleable__label {cursor: pointer;display: block;width: 100%;margin-bottom: 0;padding: 0.3em;box-sizing: border-box;text-align: center;}#sk-container-id-8 label.sk-toggleable__label-arrow:before {content: \"▸\";float: left;margin-right: 0.25em;color: #696969;}#sk-container-id-8 label.sk-toggleable__label-arrow:hover:before {color: black;}#sk-container-id-8 div.sk-estimator:hover label.sk-toggleable__label-arrow:before {color: black;}#sk-container-id-8 div.sk-toggleable__content {max-height: 0;max-width: 0;overflow: hidden;text-align: left;background-color: #f0f8ff;}#sk-container-id-8 div.sk-toggleable__content pre {margin: 0.2em;color: black;border-radius: 0.25em;background-color: #f0f8ff;}#sk-container-id-8 input.sk-toggleable__control:checked~div.sk-toggleable__content {max-height: 200px;max-width: 100%;overflow: auto;}#sk-container-id-8 input.sk-toggleable__control:checked~label.sk-toggleable__label-arrow:before {content: \"▾\";}#sk-container-id-8 div.sk-estimator input.sk-toggleable__control:checked~label.sk-toggleable__label {background-color: #d4ebff;}#sk-container-id-8 div.sk-label input.sk-toggleable__control:checked~label.sk-toggleable__label {background-color: #d4ebff;}#sk-container-id-8 input.sk-hidden--visually {border: 0;clip: rect(1px 1px 1px 1px);clip: rect(1px, 1px, 1px, 1px);height: 1px;margin: -1px;overflow: hidden;padding: 0;position: absolute;width: 1px;}#sk-container-id-8 div.sk-estimator {font-family: monospace;background-color: #f0f8ff;border: 1px dotted black;border-radius: 0.25em;box-sizing: border-box;margin-bottom: 0.5em;}#sk-container-id-8 div.sk-estimator:hover {background-color: #d4ebff;}#sk-container-id-8 div.sk-parallel-item::after {content: \"\";width: 100%;border-bottom: 1px solid gray;flex-grow: 1;}#sk-container-id-8 div.sk-label:hover label.sk-toggleable__label {background-color: #d4ebff;}#sk-container-id-8 div.sk-serial::before {content: \"\";position: absolute;border-left: 1px solid gray;box-sizing: border-box;top: 0;bottom: 0;left: 50%;z-index: 0;}#sk-container-id-8 div.sk-serial {display: flex;flex-direction: column;align-items: center;background-color: white;padding-right: 0.2em;padding-left: 0.2em;position: relative;}#sk-container-id-8 div.sk-item {position: relative;z-index: 1;}#sk-container-id-8 div.sk-parallel {display: flex;align-items: stretch;justify-content: center;background-color: white;position: relative;}#sk-container-id-8 div.sk-item::before, #sk-container-id-8 div.sk-parallel-item::before {content: \"\";position: absolute;border-left: 1px solid gray;box-sizing: border-box;top: 0;bottom: 0;left: 50%;z-index: -1;}#sk-container-id-8 div.sk-parallel-item {display: flex;flex-direction: column;z-index: 1;position: relative;background-color: white;}#sk-container-id-8 div.sk-parallel-item:first-child::after {align-self: flex-end;width: 50%;}#sk-container-id-8 div.sk-parallel-item:last-child::after {align-self: flex-start;width: 50%;}#sk-container-id-8 div.sk-parallel-item:only-child::after {width: 0;}#sk-container-id-8 div.sk-dashed-wrapped {border: 1px dashed gray;margin: 0 0.4em 0.5em 0.4em;box-sizing: border-box;padding-bottom: 0.4em;background-color: white;}#sk-container-id-8 div.sk-label label {font-family: monospace;font-weight: bold;display: inline-block;line-height: 1.2em;}#sk-container-id-8 div.sk-label-container {text-align: center;}#sk-container-id-8 div.sk-container {/* jupyter's `normalize.less` sets `[hidden] { display: none; }` but bootstrap.min.css set `[hidden] { display: none !important; }` so we also need the `!important` here to be able to override the default hidden behavior on the sphinx rendered scikit-learn.org. See: https://github.com/scikit-learn/scikit-learn/issues/21755 */display: inline-block !important;position: relative;}#sk-container-id-8 div.sk-text-repr-fallback {display: none;}</style><div id=\"sk-container-id-8\" class=\"sk-top-container\"><div class=\"sk-text-repr-fallback\"><pre>Pipeline(memory=&#x27;/var/folders/5k/bd6ybgj9359gmn4ggk9l01_r0000gn/T/tmp_o2zyifu&#x27;,\n",
       "         steps=[(&#x27;normalise&#x27;, StandardScaler()),\n",
       "                (&#x27;model&#x27;, LogisticRegression(C=0.1))])</pre><b>In a Jupyter environment, please rerun this cell to show the HTML representation or trust the notebook. <br />On GitHub, the HTML representation is unable to render, please try loading this page with nbviewer.org.</b></div><div class=\"sk-container\" hidden><div class=\"sk-item sk-dashed-wrapped\"><div class=\"sk-label-container\"><div class=\"sk-label sk-toggleable\"><input class=\"sk-toggleable__control sk-hidden--visually\" id=\"sk-estimator-id-20\" type=\"checkbox\" ><label for=\"sk-estimator-id-20\" class=\"sk-toggleable__label sk-toggleable__label-arrow\">Pipeline</label><div class=\"sk-toggleable__content\"><pre>Pipeline(memory=&#x27;/var/folders/5k/bd6ybgj9359gmn4ggk9l01_r0000gn/T/tmp_o2zyifu&#x27;,\n",
       "         steps=[(&#x27;normalise&#x27;, StandardScaler()),\n",
       "                (&#x27;model&#x27;, LogisticRegression(C=0.1))])</pre></div></div></div><div class=\"sk-serial\"><div class=\"sk-item\"><div class=\"sk-estimator sk-toggleable\"><input class=\"sk-toggleable__control sk-hidden--visually\" id=\"sk-estimator-id-21\" type=\"checkbox\" ><label for=\"sk-estimator-id-21\" class=\"sk-toggleable__label sk-toggleable__label-arrow\">StandardScaler</label><div class=\"sk-toggleable__content\"><pre>StandardScaler()</pre></div></div></div><div class=\"sk-item\"><div class=\"sk-estimator sk-toggleable\"><input class=\"sk-toggleable__control sk-hidden--visually\" id=\"sk-estimator-id-22\" type=\"checkbox\" ><label for=\"sk-estimator-id-22\" class=\"sk-toggleable__label sk-toggleable__label-arrow\">LogisticRegression</label><div class=\"sk-toggleable__content\"><pre>LogisticRegression(C=0.1)</pre></div></div></div></div></div></div></div>"
      ],
      "text/plain": [
       "Pipeline(memory='/var/folders/5k/bd6ybgj9359gmn4ggk9l01_r0000gn/T/tmp_o2zyifu',\n",
       "         steps=[('normalise', StandardScaler()),\n",
       "                ('model', LogisticRegression(C=0.1))])"
      ]
     },
     "execution_count": 151,
     "metadata": {},
     "output_type": "execute_result"
    }
   ],
   "source": [
    "up_sel_bal_20_model.best_estimator_"
   ]
  },
  {
   "cell_type": "code",
   "execution_count": 152,
   "id": "1f76596f",
   "metadata": {
    "scrolled": true
   },
   "outputs": [
    {
     "data": {
      "text/plain": [
       "0.9589974436194467"
      ]
     },
     "execution_count": 152,
     "metadata": {},
     "output_type": "execute_result"
    }
   ],
   "source": [
    "up_sel_bal_20_model.best_score_"
   ]
  },
  {
   "cell_type": "code",
   "execution_count": 153,
   "id": "8e748deb",
   "metadata": {
    "scrolled": false
   },
   "outputs": [
    {
     "data": {
      "text/plain": [
       "array([0.93193731, 0.94011564, 0.94876819, 0.95881878, 0.95899744,\n",
       "       0.95895581, 0.9589516 , 0.95895116, 0.95895112, 0.95895111])"
      ]
     },
     "execution_count": 153,
     "metadata": {},
     "output_type": "execute_result"
    }
   ],
   "source": [
    "up_sel_bal_20_model.cv_results_['mean_test_score']"
   ]
  },
  {
   "cell_type": "markdown",
   "id": "720f95dc",
   "metadata": {},
   "source": [
    "The upsampled scaled and optimized (C=0.1) with a sampling rate of 20% on the data with feature selction has a best AUC validation score across all 5 cv folds of about 96% (slight improvement from base which had 95.5% to now 95.9%, but not significant increase). "
   ]
  },
  {
   "cell_type": "code",
   "execution_count": 155,
   "id": "c0c61b7b",
   "metadata": {
    "scrolled": false
   },
   "outputs": [
    {
     "name": "stderr",
     "output_type": "stream",
     "text": [
      "/Users/danielamagiricu/opt/anaconda3/lib/python3.9/site-packages/sklearn/utils/deprecation.py:87: FutureWarning: Function plot_roc_curve is deprecated; Function :func:`plot_roc_curve` is deprecated in 1.0 and will be removed in 1.2. Use one of the class methods: :meth:`sklearn.metric.RocCurveDisplay.from_predictions` or :meth:`sklearn.metric.RocCurveDisplay.from_estimator`.\n",
      "  warnings.warn(msg, category=FutureWarning)\n",
      "/Users/danielamagiricu/opt/anaconda3/lib/python3.9/site-packages/sklearn/utils/deprecation.py:87: FutureWarning: Function plot_roc_curve is deprecated; Function :func:`plot_roc_curve` is deprecated in 1.0 and will be removed in 1.2. Use one of the class methods: :meth:`sklearn.metric.RocCurveDisplay.from_predictions` or :meth:`sklearn.metric.RocCurveDisplay.from_estimator`.\n",
      "  warnings.warn(msg, category=FutureWarning)\n",
      "/Users/danielamagiricu/opt/anaconda3/lib/python3.9/site-packages/sklearn/base.py:443: UserWarning: X has feature names, but StandardScaler was fitted without feature names\n",
      "  warnings.warn(\n"
     ]
    },
    {
     "data": {
      "image/png": "[encoded data removed]",
      "text/plain": [
       "<Figure size 1008x360 with 2 Axes>"
      ]
     },
     "metadata": {
      "needs_background": "light"
     },
     "output_type": "display_data"
    }
   ],
   "source": [
    "fig, axes = plt.subplots(1,2, figsize=(14, 5))\n",
    "plot_roc_curve(up_sel_bal_20_model, X_sel_train_up_bal_20, y_sel_train_up_bal_20, ax=axes[0], marker='.', label='train')\n",
    "plot_roc_curve(up_sel_bal_20_model, X_sel_val, y_sel_val, ax=axes[1], marker='.', label='validation')\n",
    "#print(f'Area under curve (AUC):{roc_auc}')\n",
    "plt.show()"
   ]
  },
  {
   "cell_type": "markdown",
   "id": "5dd8585e",
   "metadata": {},
   "source": [
    "---"
   ]
  },
  {
   "cell_type": "markdown",
   "id": "eab2eab0",
   "metadata": {},
   "source": [
    "### Upsampled Model Fit With Hyperparameter Optimization C=0.1 on Dataset with Feature Selection"
   ]
  },
  {
   "cell_type": "code",
   "execution_count": 246,
   "id": "b9b7be1c",
   "metadata": {},
   "outputs": [
    {
     "name": "stderr",
     "output_type": "stream",
     "text": [
      "/Users/danielamagiricu/opt/anaconda3/lib/python3.9/site-packages/sklearn/base.py:443: UserWarning: X has feature names, but StandardScaler was fitted without feature names\n",
      "  warnings.warn(\n"
     ]
    }
   ],
   "source": [
    "# Scale the upsampled data\n",
    "my_ss_up = StandardScaler()\n",
    "my_ss_up.fit(X_sel_train_up_bal_20)\n",
    "X_sel_train_up_bal_20_ss = my_ss_up.transform(X_sel_train_up_bal_20)\n",
    "X_sel_val_ss = my_ss_up.transform(X_sel_val)"
   ]
  },
  {
   "cell_type": "code",
   "execution_count": 250,
   "id": "496337b4",
   "metadata": {},
   "outputs": [],
   "source": [
    "#####################\n",
    "### MODEL FITTING ###\n",
    "#####################\n",
    "# Fit Logistic model on the upsampled data having 20% upsampling rate\n",
    "churn_logit_sel_up_bal_20_C = LogisticRegression(solver='lbfgs', random_state=1, C=0.1, max_iter=10000)\n",
    "churn_logit_sel_up_bal_20_C.fit(X_sel_train_up_bal_20_ss, y_sel_train_up_bal_20)\n",
    "\n",
    "# evaluate on the transformed validation set\n",
    "y_pred_sel_up_bal_20_ss = churn_logit_sel_up_bal_20_C.predict(X_sel_val_ss) \n",
    "\n",
    "# validation classification report\n",
    "report_sel_upsampled_20_ss = classification_report(y_sel_val, y_pred_sel_up_bal_20_ss)"
   ]
  },
  {
   "cell_type": "code",
   "execution_count": null,
   "id": "278026fe",
   "metadata": {},
   "outputs": [],
   "source": []
  },
  {
   "cell_type": "markdown",
   "id": "760cee61",
   "metadata": {},
   "source": [
    "### Confusion Matrix, Classification Reports, and ROC_AUC Score of Base and 20% Upsampled after Scaling and Optimizing Hyperparameter C for Feature Selected Data"
   ]
  },
  {
   "cell_type": "code",
   "execution_count": 253,
   "id": "a2927b2b",
   "metadata": {
    "scrolled": false
   },
   "outputs": [
    {
     "name": "stdout",
     "output_type": "stream",
     "text": [
      "Confusion matrices: \n",
      "=======================================================\n",
      "\n"
     ]
    },
    {
     "name": "stderr",
     "output_type": "stream",
     "text": [
      "/Users/danielamagiricu/opt/anaconda3/lib/python3.9/site-packages/sklearn/utils/deprecation.py:87: FutureWarning: Function plot_confusion_matrix is deprecated; Function `plot_confusion_matrix` is deprecated in 1.0 and will be removed in 1.2. Use one of the class methods: ConfusionMatrixDisplay.from_predictions or ConfusionMatrixDisplay.from_estimator.\n",
      "  warnings.warn(msg, category=FutureWarning)\n",
      "/Users/danielamagiricu/opt/anaconda3/lib/python3.9/site-packages/sklearn/utils/deprecation.py:87: FutureWarning: Function plot_confusion_matrix is deprecated; Function `plot_confusion_matrix` is deprecated in 1.0 and will be removed in 1.2. Use one of the class methods: ConfusionMatrixDisplay.from_predictions or ConfusionMatrixDisplay.from_estimator.\n",
      "  warnings.warn(msg, category=FutureWarning)\n"
     ]
    },
    {
     "data": {
      "image/png": "[encoded data removed]",
      "text/plain": [
       "<Figure size 720x216 with 4 Axes>"
      ]
     },
     "metadata": {
      "needs_background": "light"
     },
     "output_type": "display_data"
    },
    {
     "name": "stdout",
     "output_type": "stream",
     "text": [
      "\n",
      "Base imbalanced data scaled and tuned (C=10,000) selected features classification report: \n",
      "=======================================================\n",
      "               precision    recall  f1-score   support\n",
      "\n",
      "           0       0.96      0.99      0.97    164830\n",
      "           1       0.85      0.57      0.68     16258\n",
      "\n",
      "    accuracy                           0.95    181088\n",
      "   macro avg       0.90      0.78      0.83    181088\n",
      "weighted avg       0.95      0.95      0.95    181088\n",
      "\n",
      "\n",
      " 20% Upsampled data scaled and tuned (C=0.1) selected features classification report: \n",
      "=======================================================\n",
      "               precision    recall  f1-score   support\n",
      "\n",
      "           0       0.98      0.95      0.96    164830\n",
      "           1       0.61      0.84      0.70     16258\n",
      "\n",
      "    accuracy                           0.94    181088\n",
      "   macro avg       0.80      0.89      0.83    181088\n",
      "weighted avg       0.95      0.94      0.94    181088\n",
      "\n"
     ]
    }
   ],
   "source": [
    "#####################\n",
    "### PRINT RESULTS ###\n",
    "#####################\n",
    "\n",
    "print_line = \"\\n=======================================================\\n\"\n",
    "\n",
    "# Confusion matrices\n",
    "print(\"Confusion matrices:\", print_line)\n",
    "\n",
    "fig, axes = plt.subplots(1, 2, figsize=(10, 3))\n",
    "\n",
    "# Model on the original data\n",
    "plot_confusion_matrix(base_ss_C, X_sel_val_base_ss, y_sel_val, ax=axes[0])\n",
    "axes[0].set_title('Scaled C=10,000 Imbalanced Confusion Matrix')\n",
    "\n",
    "# Model on the 20% upsampled data\n",
    "plot_confusion_matrix(churn_logit_sel_up_bal_20_C, X_sel_val_ss, y_sel_val, ax=axes[1])\n",
    "axes[1].set_title('20% Upsampled Scaled C=0.1 Confusion Matrix')\n",
    "\n",
    "plt.show()\n",
    "\n",
    "# Classification Reports\n",
    "print(\"\\nBase imbalanced data scaled and tuned (C=10,000) selected features classification report:\", print_line, base_ss_C_report)\n",
    "print(\"\\n 20% Upsampled data scaled and tuned (C=0.1) selected features classification report:\", print_line, report_sel_upsampled_20_ss)"
   ]
  },
  {
   "cell_type": "markdown",
   "id": "f71acf88",
   "metadata": {},
   "source": [
    "We did slightly increase the f1-score on our upsampled model (from 68% to 70%), and recall improved a lot (from 57% to 84%) but in turn precision decreased (from 85% to 61%). There is not much deviation overall between the two models. If we choose f1-score as our overarching metric here, as it combines the precision and recall of a classifier into a single metric by taking their harmonic mean, then we can conclude that f1-score has gone up by 2% for our upsampled logistic model of the data with selected features. As well, the AUC score has remained at 96%. When compared to the 20% upsampled optimized logistic model on our data with all features, we do see slightly worse model performance: the f1-score has decreased by 9% (from 79% to 70%), the precision has dropped by 6% (from 86% to 80%), while the recall has dropped by 1% (from 85% to 84%).  "
   ]
  },
  {
   "cell_type": "markdown",
   "id": "45893cc0",
   "metadata": {},
   "source": [
    "---"
   ]
  },
  {
   "cell_type": "markdown",
   "id": "a6ee9f5a",
   "metadata": {},
   "source": [
    "### Downsample Pipeline Hyperparameter Optimization on Feature Selected Data"
   ]
  },
  {
   "cell_type": "code",
   "execution_count": 157,
   "id": "f4403611",
   "metadata": {},
   "outputs": [
    {
     "name": "stdout",
     "output_type": "stream",
     "text": [
      "Fitting 5 folds for each of 10 candidates, totalling 50 fits\n",
      "[CV] END model=LogisticRegression(C=0.1), model__C=1e-05, normalise=StandardScaler(); total time=   0.3s\n",
      "[CV] END model=LogisticRegression(C=0.1), model__C=1e-05, normalise=StandardScaler(); total time=   0.4s\n",
      "[CV] END model=LogisticRegression(C=0.1), model__C=1e-05, normalise=StandardScaler(); total time=   0.3s\n",
      "[CV] END model=LogisticRegression(C=0.1), model__C=1e-05, normalise=StandardScaler(); total time=   0.4s\n",
      "[CV] END model=LogisticRegression(C=0.1), model__C=1e-05, normalise=StandardScaler(); total time=   0.3s\n",
      "[CV] END model=LogisticRegression(C=0.1), model__C=0.0001, normalise=StandardScaler(); total time=   0.2s\n",
      "[CV] END model=LogisticRegression(C=0.1), model__C=0.0001, normalise=StandardScaler(); total time=   0.2s\n",
      "[CV] END model=LogisticRegression(C=0.1), model__C=0.0001, normalise=StandardScaler(); total time=   0.2s\n",
      "[CV] END model=LogisticRegression(C=0.1), model__C=0.0001, normalise=StandardScaler(); total time=   0.1s\n",
      "[CV] END model=LogisticRegression(C=0.1), model__C=0.0001, normalise=StandardScaler(); total time=   0.1s\n",
      "[CV] END model=LogisticRegression(C=0.1), model__C=0.001, normalise=StandardScaler(); total time=   0.2s\n",
      "[CV] END model=LogisticRegression(C=0.1), model__C=0.001, normalise=StandardScaler(); total time=   0.3s\n",
      "[CV] END model=LogisticRegression(C=0.1), model__C=0.001, normalise=StandardScaler(); total time=   0.2s\n",
      "[CV] END model=LogisticRegression(C=0.1), model__C=0.001, normalise=StandardScaler(); total time=   0.2s\n",
      "[CV] END model=LogisticRegression(C=0.1), model__C=0.001, normalise=StandardScaler(); total time=   0.2s\n",
      "[CV] END model=LogisticRegression(C=0.1), model__C=0.01, normalise=StandardScaler(); total time=   0.5s\n",
      "[CV] END model=LogisticRegression(C=0.1), model__C=0.01, normalise=StandardScaler(); total time=   0.5s\n",
      "[CV] END model=LogisticRegression(C=0.1), model__C=0.01, normalise=StandardScaler(); total time=   0.2s\n",
      "[CV] END model=LogisticRegression(C=0.1), model__C=0.01, normalise=StandardScaler(); total time=   0.3s\n",
      "[CV] END model=LogisticRegression(C=0.1), model__C=0.01, normalise=StandardScaler(); total time=   0.2s\n",
      "[CV] END model=LogisticRegression(C=0.1), model__C=0.1, normalise=StandardScaler(); total time=   0.3s\n",
      "[CV] END model=LogisticRegression(C=0.1), model__C=0.1, normalise=StandardScaler(); total time=   0.2s\n",
      "[CV] END model=LogisticRegression(C=0.1), model__C=0.1, normalise=StandardScaler(); total time=   0.3s\n",
      "[CV] END model=LogisticRegression(C=0.1), model__C=0.1, normalise=StandardScaler(); total time=   0.3s\n",
      "[CV] END model=LogisticRegression(C=0.1), model__C=0.1, normalise=StandardScaler(); total time=   0.2s\n",
      "[CV] END model=LogisticRegression(C=0.1), model__C=1.0, normalise=StandardScaler(); total time=   0.2s\n",
      "[CV] END model=LogisticRegression(C=0.1), model__C=1.0, normalise=StandardScaler(); total time=   0.3s\n",
      "[CV] END model=LogisticRegression(C=0.1), model__C=1.0, normalise=StandardScaler(); total time=   0.2s\n",
      "[CV] END model=LogisticRegression(C=0.1), model__C=1.0, normalise=StandardScaler(); total time=   0.4s\n",
      "[CV] END model=LogisticRegression(C=0.1), model__C=1.0, normalise=StandardScaler(); total time=   0.4s\n",
      "[CV] END model=LogisticRegression(C=0.1), model__C=10.0, normalise=StandardScaler(); total time=   0.4s\n",
      "[CV] END model=LogisticRegression(C=0.1), model__C=10.0, normalise=StandardScaler(); total time=   0.2s\n",
      "[CV] END model=LogisticRegression(C=0.1), model__C=10.0, normalise=StandardScaler(); total time=   0.2s\n",
      "[CV] END model=LogisticRegression(C=0.1), model__C=10.0, normalise=StandardScaler(); total time=   0.2s\n",
      "[CV] END model=LogisticRegression(C=0.1), model__C=10.0, normalise=StandardScaler(); total time=   0.3s\n",
      "[CV] END model=LogisticRegression(C=0.1), model__C=100.0, normalise=StandardScaler(); total time=   0.2s\n",
      "[CV] END model=LogisticRegression(C=0.1), model__C=100.0, normalise=StandardScaler(); total time=   0.3s\n",
      "[CV] END model=LogisticRegression(C=0.1), model__C=100.0, normalise=StandardScaler(); total time=   0.3s\n",
      "[CV] END model=LogisticRegression(C=0.1), model__C=100.0, normalise=StandardScaler(); total time=   0.4s\n",
      "[CV] END model=LogisticRegression(C=0.1), model__C=100.0, normalise=StandardScaler(); total time=   0.9s\n",
      "[CV] END model=LogisticRegression(C=0.1), model__C=1000.0, normalise=StandardScaler(); total time=   0.4s\n",
      "[CV] END model=LogisticRegression(C=0.1), model__C=1000.0, normalise=StandardScaler(); total time=   0.2s\n",
      "[CV] END model=LogisticRegression(C=0.1), model__C=1000.0, normalise=StandardScaler(); total time=   0.3s\n",
      "[CV] END model=LogisticRegression(C=0.1), model__C=1000.0, normalise=StandardScaler(); total time=   0.3s\n",
      "[CV] END model=LogisticRegression(C=0.1), model__C=1000.0, normalise=StandardScaler(); total time=   0.3s\n",
      "[CV] END model=LogisticRegression(C=0.1), model__C=10000.0, normalise=StandardScaler(); total time=   0.3s\n",
      "[CV] END model=LogisticRegression(C=0.1), model__C=10000.0, normalise=StandardScaler(); total time=   0.3s\n",
      "[CV] END model=LogisticRegression(C=0.1), model__C=10000.0, normalise=StandardScaler(); total time=   0.3s\n",
      "[CV] END model=LogisticRegression(C=0.1), model__C=10000.0, normalise=StandardScaler(); total time=   0.2s\n",
      "[CV] END model=LogisticRegression(C=0.1), model__C=10000.0, normalise=StandardScaler(); total time=   0.2s\n"
     ]
    }
   ],
   "source": [
    "down_sel_bal_20_model= grid.fit(X_sel_train_down_bal_20, y_sel_train_down_bal_20)"
   ]
  },
  {
   "cell_type": "code",
   "execution_count": 158,
   "id": "e8c69f43",
   "metadata": {},
   "outputs": [
    {
     "data": {
      "text/html": [
       "<style>#sk-container-id-9 {color: black;background-color: white;}#sk-container-id-9 pre{padding: 0;}#sk-container-id-9 div.sk-toggleable {background-color: white;}#sk-container-id-9 label.sk-toggleable__label {cursor: pointer;display: block;width: 100%;margin-bottom: 0;padding: 0.3em;box-sizing: border-box;text-align: center;}#sk-container-id-9 label.sk-toggleable__label-arrow:before {content: \"▸\";float: left;margin-right: 0.25em;color: #696969;}#sk-container-id-9 label.sk-toggleable__label-arrow:hover:before {color: black;}#sk-container-id-9 div.sk-estimator:hover label.sk-toggleable__label-arrow:before {color: black;}#sk-container-id-9 div.sk-toggleable__content {max-height: 0;max-width: 0;overflow: hidden;text-align: left;background-color: #f0f8ff;}#sk-container-id-9 div.sk-toggleable__content pre {margin: 0.2em;color: black;border-radius: 0.25em;background-color: #f0f8ff;}#sk-container-id-9 input.sk-toggleable__control:checked~div.sk-toggleable__content {max-height: 200px;max-width: 100%;overflow: auto;}#sk-container-id-9 input.sk-toggleable__control:checked~label.sk-toggleable__label-arrow:before {content: \"▾\";}#sk-container-id-9 div.sk-estimator input.sk-toggleable__control:checked~label.sk-toggleable__label {background-color: #d4ebff;}#sk-container-id-9 div.sk-label input.sk-toggleable__control:checked~label.sk-toggleable__label {background-color: #d4ebff;}#sk-container-id-9 input.sk-hidden--visually {border: 0;clip: rect(1px 1px 1px 1px);clip: rect(1px, 1px, 1px, 1px);height: 1px;margin: -1px;overflow: hidden;padding: 0;position: absolute;width: 1px;}#sk-container-id-9 div.sk-estimator {font-family: monospace;background-color: #f0f8ff;border: 1px dotted black;border-radius: 0.25em;box-sizing: border-box;margin-bottom: 0.5em;}#sk-container-id-9 div.sk-estimator:hover {background-color: #d4ebff;}#sk-container-id-9 div.sk-parallel-item::after {content: \"\";width: 100%;border-bottom: 1px solid gray;flex-grow: 1;}#sk-container-id-9 div.sk-label:hover label.sk-toggleable__label {background-color: #d4ebff;}#sk-container-id-9 div.sk-serial::before {content: \"\";position: absolute;border-left: 1px solid gray;box-sizing: border-box;top: 0;bottom: 0;left: 50%;z-index: 0;}#sk-container-id-9 div.sk-serial {display: flex;flex-direction: column;align-items: center;background-color: white;padding-right: 0.2em;padding-left: 0.2em;position: relative;}#sk-container-id-9 div.sk-item {position: relative;z-index: 1;}#sk-container-id-9 div.sk-parallel {display: flex;align-items: stretch;justify-content: center;background-color: white;position: relative;}#sk-container-id-9 div.sk-item::before, #sk-container-id-9 div.sk-parallel-item::before {content: \"\";position: absolute;border-left: 1px solid gray;box-sizing: border-box;top: 0;bottom: 0;left: 50%;z-index: -1;}#sk-container-id-9 div.sk-parallel-item {display: flex;flex-direction: column;z-index: 1;position: relative;background-color: white;}#sk-container-id-9 div.sk-parallel-item:first-child::after {align-self: flex-end;width: 50%;}#sk-container-id-9 div.sk-parallel-item:last-child::after {align-self: flex-start;width: 50%;}#sk-container-id-9 div.sk-parallel-item:only-child::after {width: 0;}#sk-container-id-9 div.sk-dashed-wrapped {border: 1px dashed gray;margin: 0 0.4em 0.5em 0.4em;box-sizing: border-box;padding-bottom: 0.4em;background-color: white;}#sk-container-id-9 div.sk-label label {font-family: monospace;font-weight: bold;display: inline-block;line-height: 1.2em;}#sk-container-id-9 div.sk-label-container {text-align: center;}#sk-container-id-9 div.sk-container {/* jupyter's `normalize.less` sets `[hidden] { display: none; }` but bootstrap.min.css set `[hidden] { display: none !important; }` so we also need the `!important` here to be able to override the default hidden behavior on the sphinx rendered scikit-learn.org. See: https://github.com/scikit-learn/scikit-learn/issues/21755 */display: inline-block !important;position: relative;}#sk-container-id-9 div.sk-text-repr-fallback {display: none;}</style><div id=\"sk-container-id-9\" class=\"sk-top-container\"><div class=\"sk-text-repr-fallback\"><pre>Pipeline(memory=&#x27;/var/folders/5k/bd6ybgj9359gmn4ggk9l01_r0000gn/T/tmp_o2zyifu&#x27;,\n",
       "         steps=[(&#x27;normalise&#x27;, StandardScaler()),\n",
       "                (&#x27;model&#x27;, LogisticRegression(C=10000.0))])</pre><b>In a Jupyter environment, please rerun this cell to show the HTML representation or trust the notebook. <br />On GitHub, the HTML representation is unable to render, please try loading this page with nbviewer.org.</b></div><div class=\"sk-container\" hidden><div class=\"sk-item sk-dashed-wrapped\"><div class=\"sk-label-container\"><div class=\"sk-label sk-toggleable\"><input class=\"sk-toggleable__control sk-hidden--visually\" id=\"sk-estimator-id-23\" type=\"checkbox\" ><label for=\"sk-estimator-id-23\" class=\"sk-toggleable__label sk-toggleable__label-arrow\">Pipeline</label><div class=\"sk-toggleable__content\"><pre>Pipeline(memory=&#x27;/var/folders/5k/bd6ybgj9359gmn4ggk9l01_r0000gn/T/tmp_o2zyifu&#x27;,\n",
       "         steps=[(&#x27;normalise&#x27;, StandardScaler()),\n",
       "                (&#x27;model&#x27;, LogisticRegression(C=10000.0))])</pre></div></div></div><div class=\"sk-serial\"><div class=\"sk-item\"><div class=\"sk-estimator sk-toggleable\"><input class=\"sk-toggleable__control sk-hidden--visually\" id=\"sk-estimator-id-24\" type=\"checkbox\" ><label for=\"sk-estimator-id-24\" class=\"sk-toggleable__label sk-toggleable__label-arrow\">StandardScaler</label><div class=\"sk-toggleable__content\"><pre>StandardScaler()</pre></div></div></div><div class=\"sk-item\"><div class=\"sk-estimator sk-toggleable\"><input class=\"sk-toggleable__control sk-hidden--visually\" id=\"sk-estimator-id-25\" type=\"checkbox\" ><label for=\"sk-estimator-id-25\" class=\"sk-toggleable__label sk-toggleable__label-arrow\">LogisticRegression</label><div class=\"sk-toggleable__content\"><pre>LogisticRegression(C=10000.0)</pre></div></div></div></div></div></div></div>"
      ],
      "text/plain": [
       "Pipeline(memory='/var/folders/5k/bd6ybgj9359gmn4ggk9l01_r0000gn/T/tmp_o2zyifu',\n",
       "         steps=[('normalise', StandardScaler()),\n",
       "                ('model', LogisticRegression(C=10000.0))])"
      ]
     },
     "execution_count": 158,
     "metadata": {},
     "output_type": "execute_result"
    }
   ],
   "source": [
    "down_sel_bal_20_model.best_estimator_"
   ]
  },
  {
   "cell_type": "code",
   "execution_count": 159,
   "id": "b9a6ed19",
   "metadata": {},
   "outputs": [
    {
     "data": {
      "text/plain": [
       "0.9588059262945441"
      ]
     },
     "execution_count": 159,
     "metadata": {},
     "output_type": "execute_result"
    }
   ],
   "source": [
    "down_sel_bal_20_model.best_score_"
   ]
  },
  {
   "cell_type": "code",
   "execution_count": 160,
   "id": "1885ded9",
   "metadata": {
    "scrolled": true
   },
   "outputs": [
    {
     "data": {
      "text/plain": [
       "array([0.92596885, 0.93425046, 0.94140012, 0.9501875 , 0.95806733,\n",
       "       0.95875215, 0.9588011 , 0.95880546, 0.95880587, 0.95880593])"
      ]
     },
     "execution_count": 160,
     "metadata": {},
     "output_type": "execute_result"
    }
   ],
   "source": [
    "down_sel_bal_20_model.cv_results_['mean_test_score']"
   ]
  },
  {
   "cell_type": "markdown",
   "id": "5e9fab05",
   "metadata": {},
   "source": [
    "Our downsampled scaled and optimized (C=10,000) logistic model with a sampling rate of 20% on our data with selected features has a best AUC validation score across all 5 cv folds of 95.9% which is the same as our upsampled model. We did get slightly better AUC scores for our data with all features (97%), but this is still very high so we would be ok in reducing features. "
   ]
  },
  {
   "cell_type": "code",
   "execution_count": 161,
   "id": "1a122666",
   "metadata": {},
   "outputs": [
    {
     "name": "stderr",
     "output_type": "stream",
     "text": [
      "/Users/danielamagiricu/opt/anaconda3/lib/python3.9/site-packages/sklearn/utils/deprecation.py:87: FutureWarning: Function plot_roc_curve is deprecated; Function :func:`plot_roc_curve` is deprecated in 1.0 and will be removed in 1.2. Use one of the class methods: :meth:`sklearn.metric.RocCurveDisplay.from_predictions` or :meth:`sklearn.metric.RocCurveDisplay.from_estimator`.\n",
      "  warnings.warn(msg, category=FutureWarning)\n",
      "/Users/danielamagiricu/opt/anaconda3/lib/python3.9/site-packages/sklearn/utils/deprecation.py:87: FutureWarning: Function plot_roc_curve is deprecated; Function :func:`plot_roc_curve` is deprecated in 1.0 and will be removed in 1.2. Use one of the class methods: :meth:`sklearn.metric.RocCurveDisplay.from_predictions` or :meth:`sklearn.metric.RocCurveDisplay.from_estimator`.\n",
      "  warnings.warn(msg, category=FutureWarning)\n",
      "/Users/danielamagiricu/opt/anaconda3/lib/python3.9/site-packages/sklearn/base.py:443: UserWarning: X has feature names, but StandardScaler was fitted without feature names\n",
      "  warnings.warn(\n"
     ]
    },
    {
     "data": {
      "image/png": "[encoded data removed]",
      "text/plain": [
       "<Figure size 1008x360 with 2 Axes>"
      ]
     },
     "metadata": {
      "needs_background": "light"
     },
     "output_type": "display_data"
    }
   ],
   "source": [
    "fig, axes = plt.subplots(1,2, figsize=(14, 5))\n",
    "plot_roc_curve(down_sel_bal_20_model, X_sel_train_down_bal_20, y_sel_train_down_bal_20, ax=axes[0], marker='.', label='train')\n",
    "plot_roc_curve(down_sel_bal_20_model, X_sel_val, y_sel_val, ax=axes[1], marker='.', label='validation')\n",
    "#print(f'Area under curve (AUC):{roc_auc}')\n",
    "plt.show()"
   ]
  },
  {
   "cell_type": "code",
   "execution_count": 248,
   "id": "6904c01a",
   "metadata": {},
   "outputs": [
    {
     "name": "stderr",
     "output_type": "stream",
     "text": [
      "/Users/danielamagiricu/opt/anaconda3/lib/python3.9/site-packages/sklearn/base.py:443: UserWarning: X has feature names, but StandardScaler was fitted without feature names\n",
      "  warnings.warn(\n"
     ]
    }
   ],
   "source": [
    "# Scale the downsampled data with feature selection\n",
    "my_ss_down = StandardScaler()\n",
    "my_ss_down.fit(X_sel_train_down_bal_20)\n",
    "X_sel_train_down_bal_20_ss = my_ss_down.transform(X_sel_train_down_bal_20)\n",
    "X_sel_val_ss_down = my_ss_down.transform(X_sel_val)"
   ]
  },
  {
   "cell_type": "code",
   "execution_count": 254,
   "id": "7f5a6b73",
   "metadata": {},
   "outputs": [],
   "source": [
    "#####################\n",
    "### MODEL FITTING ###\n",
    "#####################\n",
    "# Fit Logistic model on the downsampled data having 20% downsampling rate and C=10,000\n",
    "churn_logit_sel_down_bal_20_C = LogisticRegression(solver='lbfgs', random_state=1, C=10000, max_iter=10000)\n",
    "churn_logit_sel_down_bal_20_C.fit(X_sel_train_down_bal_20_ss, y_sel_train_down_bal_20)\n",
    "\n",
    "# evaluate on the transformed validation set\n",
    "y_pred_sel_down_bal_20_ss = churn_logit_sel_down_bal_20_C.predict(X_sel_val_ss_down) \n",
    "\n",
    "# validation classification report\n",
    "report_sel_downsampled_20_ss = classification_report(y_sel_val, y_pred_sel_down_bal_20_ss)"
   ]
  },
  {
   "cell_type": "code",
   "execution_count": 255,
   "id": "c7c5e5ff",
   "metadata": {},
   "outputs": [
    {
     "name": "stdout",
     "output_type": "stream",
     "text": [
      "Confusion matrices: \n",
      "=======================================================\n",
      "\n"
     ]
    },
    {
     "name": "stderr",
     "output_type": "stream",
     "text": [
      "/Users/danielamagiricu/opt/anaconda3/lib/python3.9/site-packages/sklearn/utils/deprecation.py:87: FutureWarning: Function plot_confusion_matrix is deprecated; Function `plot_confusion_matrix` is deprecated in 1.0 and will be removed in 1.2. Use one of the class methods: ConfusionMatrixDisplay.from_predictions or ConfusionMatrixDisplay.from_estimator.\n",
      "  warnings.warn(msg, category=FutureWarning)\n",
      "/Users/danielamagiricu/opt/anaconda3/lib/python3.9/site-packages/sklearn/utils/deprecation.py:87: FutureWarning: Function plot_confusion_matrix is deprecated; Function `plot_confusion_matrix` is deprecated in 1.0 and will be removed in 1.2. Use one of the class methods: ConfusionMatrixDisplay.from_predictions or ConfusionMatrixDisplay.from_estimator.\n",
      "  warnings.warn(msg, category=FutureWarning)\n"
     ]
    },
    {
     "data": {
      "image/png": "[encoded data removed]",
      "text/plain": [
       "<Figure size 720x216 with 4 Axes>"
      ]
     },
     "metadata": {
      "needs_background": "light"
     },
     "output_type": "display_data"
    },
    {
     "name": "stdout",
     "output_type": "stream",
     "text": [
      "\n",
      "Base imbalanced data scaled and tuned (C=10,000) selected features classification report: \n",
      "=======================================================\n",
      "               precision    recall  f1-score   support\n",
      "\n",
      "           0       0.96      0.99      0.97    164830\n",
      "           1       0.85      0.57      0.68     16258\n",
      "\n",
      "    accuracy                           0.95    181088\n",
      "   macro avg       0.90      0.78      0.83    181088\n",
      "weighted avg       0.95      0.95      0.95    181088\n",
      "\n",
      "\n",
      " 20% Downsampled data scaled and tuned (C=10,000) selected features classification report: \n",
      "=======================================================\n",
      "               precision    recall  f1-score   support\n",
      "\n",
      "           0       0.98      0.95      0.96    164830\n",
      "           1       0.61      0.84      0.70     16258\n",
      "\n",
      "    accuracy                           0.94    181088\n",
      "   macro avg       0.80      0.89      0.83    181088\n",
      "weighted avg       0.95      0.94      0.94    181088\n",
      "\n"
     ]
    }
   ],
   "source": [
    "#####################\n",
    "### PRINT RESULTS ###\n",
    "#####################\n",
    "\n",
    "print_line = \"\\n=======================================================\\n\"\n",
    "\n",
    "# Confusion matrices\n",
    "print(\"Confusion matrices:\", print_line)\n",
    "\n",
    "fig, axes = plt.subplots(1, 2, figsize=(10, 3))\n",
    "\n",
    "# Model on the original data\n",
    "plot_confusion_matrix(base_ss_C, X_sel_val_base_ss, y_sel_val, ax=axes[0])\n",
    "axes[0].set_title('Scaled C=10,000 Imbalanced Confusion Matrix')\n",
    "\n",
    "# Model on the 20% upsampled data\n",
    "plot_confusion_matrix(churn_logit_sel_down_bal_20_C, X_sel_val_ss_down, y_sel_val, ax=axes[1])\n",
    "axes[1].set_title('20% Downsampled Scaled C=10,000 Confusion Matrix')\n",
    "\n",
    "plt.show()\n",
    "\n",
    "# Classification Reports\n",
    "print(\"\\nBase imbalanced data scaled and tuned (C=10,000) selected features classification report:\", print_line, base_ss_C_report)\n",
    "print(\"\\n 20% Downsampled data scaled and tuned (C=10,000) selected features classification report:\", print_line, report_sel_upsampled_20_ss)"
   ]
  },
  {
   "cell_type": "markdown",
   "id": "12713187",
   "metadata": {},
   "source": [
    "There is no difference in these statistics between upsampling and downsampling. "
   ]
  },
  {
   "cell_type": "markdown",
   "id": "045b36c2",
   "metadata": {},
   "source": [
    "---"
   ]
  },
  {
   "cell_type": "markdown",
   "id": "14e0270b",
   "metadata": {},
   "source": [
    "## Summary"
   ]
  },
  {
   "cell_type": "markdown",
   "id": "6c7ab700",
   "metadata": {},
   "source": [
    "### Best Model:\n",
    "- Our best logistic model is either the scaled and optimized upsampling or downsampling with a sampling rate of 20% on our dataset with all features. \n",
    "\n",
    "- However, we do not lose much performance by reducing features in using our data with 22 selected features so we could also select either scaled and optimized upsampling or downsampling on our dataset with selected features.\n",
    "\n",
    "- Final Decision: Optimized Downsampling with a sampling rate of 20% on our dataset with all features (advantage over upsampling is faster run time)"
   ]
  },
  {
   "cell_type": "markdown",
   "id": "3c28d85d",
   "metadata": {},
   "source": [
    "---"
   ]
  },
  {
   "cell_type": "markdown",
   "id": "55ec2112",
   "metadata": {},
   "source": [
    "### Feature Coefficient Importance and Odds Ratio Visualizations"
   ]
  },
  {
   "cell_type": "markdown",
   "id": "19d54115",
   "metadata": {},
   "source": [
    "Finally, we will investigate the features and their coefficients as well as the odds ratio from our best models for both datasets to analyze which features are most important in driving our churn prediction."
   ]
  },
  {
   "cell_type": "markdown",
   "id": "471b37e4",
   "metadata": {},
   "source": [
    "#### Data with all features: 20% Downsampled Scaled and Optimized Logistic Model Coefficient and Odds Ratio Visuals"
   ]
  },
  {
   "cell_type": "code",
   "execution_count": 86,
   "id": "42278b49",
   "metadata": {
    "scrolled": true
   },
   "outputs": [
    {
     "data": {
      "text/plain": [
       "array([-7.92827700e-02,  4.80715632e-01, -2.04865331e-01, -2.32863997e-01,\n",
       "       -2.65196086e-01, -3.54796257e-01,  1.41057153e-02,  6.83164163e-01,\n",
       "       -2.77421798e-01,  1.12406127e+00,  3.45776996e+00,  2.41828783e-02,\n",
       "       -1.62074603e-02, -2.36348695e-01,  3.29276316e-03, -2.33370869e+00,\n",
       "       -2.33370869e+00, -2.19079547e-03, -1.75885186e-06,  4.37615214e-03,\n",
       "       -3.95932030e-03, -1.50701418e-02, -3.69645805e-02, -3.13686183e-02,\n",
       "       -5.55462093e-02, -8.69077665e-02,  2.27756749e-02, -2.99848231e+00,\n",
       "       -7.66254827e-02,  7.36989117e-02,  1.32888472e-04,  2.90180805e+00,\n",
       "       -1.35644117e-01,  1.77195133e-02,  3.98366181e-04,  2.67834863e-01])"
      ]
     },
     "execution_count": 86,
     "metadata": {},
     "output_type": "execute_result"
    }
   ],
   "source": [
    "down_coef = churn_logit_down_bal_20_C.coef_\n",
    "churn_logit_down_bal_20.coef_[0]"
   ]
  },
  {
   "cell_type": "code",
   "execution_count": 87,
   "id": "bcfd140f",
   "metadata": {
    "scrolled": false
   },
   "outputs": [
    {
     "data": {
      "text/plain": [
       "Index(['Reg_3', 'Reg_4', 'Reg_7', 'Reg_9', 'City_1', 'pay_38', 'pay_39',\n",
       "       'pay_40', 'pay_41', 'is_auto_renew', 'is_cancel', 'discount',\n",
       "       'is_discount', 'amt_per_day', 'membership_days',\n",
       "       'autorenew_&_not_cancel', 'notAutorenew_&_cancel', 'num_unq',\n",
       "       'total_secs', 'percent_25', 'percent_50', 'percent_100', 'last_log_day',\n",
       "       'reg_month', 'reg_year', 'trans_day', 'trans_weekday', 'trans_month',\n",
       "       'trans_year', 'mem_exp_day', 'mem_exp_weekday', 'mem_exp_month',\n",
       "       'mem_exp_year', 'user__weekday', 'user__month', 'user__year'],\n",
       "      dtype='object')"
      ]
     },
     "execution_count": 87,
     "metadata": {},
     "output_type": "execute_result"
    }
   ],
   "source": [
    "X_train.columns"
   ]
  },
  {
   "cell_type": "code",
   "execution_count": 88,
   "id": "f02a8b52",
   "metadata": {},
   "outputs": [
    {
     "data": {
      "text/html": [
       "<div>\n",
       "<style scoped>\n",
       "    .dataframe tbody tr th:only-of-type {\n",
       "        vertical-align: middle;\n",
       "    }\n",
       "\n",
       "    .dataframe tbody tr th {\n",
       "        vertical-align: top;\n",
       "    }\n",
       "\n",
       "    .dataframe thead th {\n",
       "        text-align: right;\n",
       "    }\n",
       "</style>\n",
       "<table border=\"1\" class=\"dataframe\">\n",
       "  <thead>\n",
       "    <tr style=\"text-align: right;\">\n",
       "      <th></th>\n",
       "      <th>Features</th>\n",
       "      <th>Coefficients</th>\n",
       "    </tr>\n",
       "  </thead>\n",
       "  <tbody>\n",
       "    <tr>\n",
       "      <th>0</th>\n",
       "      <td>membership_days</td>\n",
       "      <td>3.250749</td>\n",
       "    </tr>\n",
       "    <tr>\n",
       "      <th>1</th>\n",
       "      <td>mem_exp_month</td>\n",
       "      <td>3.175103</td>\n",
       "    </tr>\n",
       "    <tr>\n",
       "      <th>2</th>\n",
       "      <td>is_cancel</td>\n",
       "      <td>1.394827</td>\n",
       "    </tr>\n",
       "    <tr>\n",
       "      <th>3</th>\n",
       "      <td>last_log_day</td>\n",
       "      <td>1.131152</td>\n",
       "    </tr>\n",
       "    <tr>\n",
       "      <th>4</th>\n",
       "      <td>mem_exp_day</td>\n",
       "      <td>0.515213</td>\n",
       "    </tr>\n",
       "    <tr>\n",
       "      <th>5</th>\n",
       "      <td>discount</td>\n",
       "      <td>0.353013</td>\n",
       "    </tr>\n",
       "    <tr>\n",
       "      <th>6</th>\n",
       "      <td>Reg_4</td>\n",
       "      <td>0.244009</td>\n",
       "    </tr>\n",
       "    <tr>\n",
       "      <th>7</th>\n",
       "      <td>Reg_7</td>\n",
       "      <td>0.189245</td>\n",
       "    </tr>\n",
       "    <tr>\n",
       "      <th>8</th>\n",
       "      <td>Reg_3</td>\n",
       "      <td>0.176322</td>\n",
       "    </tr>\n",
       "    <tr>\n",
       "      <th>9</th>\n",
       "      <td>Reg_9</td>\n",
       "      <td>0.122774</td>\n",
       "    </tr>\n",
       "    <tr>\n",
       "      <th>10</th>\n",
       "      <td>pay_40</td>\n",
       "      <td>0.067686</td>\n",
       "    </tr>\n",
       "    <tr>\n",
       "      <th>11</th>\n",
       "      <td>is_auto_renew</td>\n",
       "      <td>0.047304</td>\n",
       "    </tr>\n",
       "    <tr>\n",
       "      <th>12</th>\n",
       "      <td>user__weekday</td>\n",
       "      <td>0.017206</td>\n",
       "    </tr>\n",
       "    <tr>\n",
       "      <th>13</th>\n",
       "      <td>user__month</td>\n",
       "      <td>0.000000</td>\n",
       "    </tr>\n",
       "    <tr>\n",
       "      <th>14</th>\n",
       "      <td>user__year</td>\n",
       "      <td>0.000000</td>\n",
       "    </tr>\n",
       "    <tr>\n",
       "      <th>15</th>\n",
       "      <td>percent_25</td>\n",
       "      <td>-0.005210</td>\n",
       "    </tr>\n",
       "    <tr>\n",
       "      <th>16</th>\n",
       "      <td>percent_50</td>\n",
       "      <td>-0.008991</td>\n",
       "    </tr>\n",
       "    <tr>\n",
       "      <th>17</th>\n",
       "      <td>trans_weekday</td>\n",
       "      <td>-0.014082</td>\n",
       "    </tr>\n",
       "    <tr>\n",
       "      <th>18</th>\n",
       "      <td>percent_100</td>\n",
       "      <td>-0.019062</td>\n",
       "    </tr>\n",
       "    <tr>\n",
       "      <th>19</th>\n",
       "      <td>total_secs</td>\n",
       "      <td>-0.019608</td>\n",
       "    </tr>\n",
       "    <tr>\n",
       "      <th>20</th>\n",
       "      <td>City_1</td>\n",
       "      <td>-0.019888</td>\n",
       "    </tr>\n",
       "    <tr>\n",
       "      <th>21</th>\n",
       "      <td>num_unq</td>\n",
       "      <td>-0.027386</td>\n",
       "    </tr>\n",
       "    <tr>\n",
       "      <th>22</th>\n",
       "      <td>mem_exp_weekday</td>\n",
       "      <td>-0.043381</td>\n",
       "    </tr>\n",
       "    <tr>\n",
       "      <th>23</th>\n",
       "      <td>reg_month</td>\n",
       "      <td>-0.076865</td>\n",
       "    </tr>\n",
       "    <tr>\n",
       "      <th>24</th>\n",
       "      <td>pay_38</td>\n",
       "      <td>-0.081595</td>\n",
       "    </tr>\n",
       "    <tr>\n",
       "      <th>25</th>\n",
       "      <td>is_discount</td>\n",
       "      <td>-0.127681</td>\n",
       "    </tr>\n",
       "    <tr>\n",
       "      <th>26</th>\n",
       "      <td>reg_year</td>\n",
       "      <td>-0.161091</td>\n",
       "    </tr>\n",
       "    <tr>\n",
       "      <th>27</th>\n",
       "      <td>amt_per_day</td>\n",
       "      <td>-0.280130</td>\n",
       "    </tr>\n",
       "    <tr>\n",
       "      <th>28</th>\n",
       "      <td>pay_39</td>\n",
       "      <td>-0.330039</td>\n",
       "    </tr>\n",
       "    <tr>\n",
       "      <th>29</th>\n",
       "      <td>pay_41</td>\n",
       "      <td>-0.377901</td>\n",
       "    </tr>\n",
       "    <tr>\n",
       "      <th>30</th>\n",
       "      <td>autorenew_&amp;_not_cancel</td>\n",
       "      <td>-0.663071</td>\n",
       "    </tr>\n",
       "    <tr>\n",
       "      <th>31</th>\n",
       "      <td>notAutorenew_&amp;_cancel</td>\n",
       "      <td>-0.663071</td>\n",
       "    </tr>\n",
       "    <tr>\n",
       "      <th>32</th>\n",
       "      <td>trans_day</td>\n",
       "      <td>-1.103090</td>\n",
       "    </tr>\n",
       "    <tr>\n",
       "      <th>33</th>\n",
       "      <td>mem_exp_year</td>\n",
       "      <td>-2.174549</td>\n",
       "    </tr>\n",
       "    <tr>\n",
       "      <th>34</th>\n",
       "      <td>trans_month</td>\n",
       "      <td>-5.815143</td>\n",
       "    </tr>\n",
       "    <tr>\n",
       "      <th>35</th>\n",
       "      <td>trans_year</td>\n",
       "      <td>-8.035654</td>\n",
       "    </tr>\n",
       "  </tbody>\n",
       "</table>\n",
       "</div>"
      ],
      "text/plain": [
       "                  Features  Coefficients\n",
       "0          membership_days      3.250749\n",
       "1            mem_exp_month      3.175103\n",
       "2                is_cancel      1.394827\n",
       "3             last_log_day      1.131152\n",
       "4              mem_exp_day      0.515213\n",
       "5                 discount      0.353013\n",
       "6                    Reg_4      0.244009\n",
       "7                    Reg_7      0.189245\n",
       "8                    Reg_3      0.176322\n",
       "9                    Reg_9      0.122774\n",
       "10                  pay_40      0.067686\n",
       "11           is_auto_renew      0.047304\n",
       "12           user__weekday      0.017206\n",
       "13             user__month      0.000000\n",
       "14              user__year      0.000000\n",
       "15              percent_25     -0.005210\n",
       "16              percent_50     -0.008991\n",
       "17           trans_weekday     -0.014082\n",
       "18             percent_100     -0.019062\n",
       "19              total_secs     -0.019608\n",
       "20                  City_1     -0.019888\n",
       "21                 num_unq     -0.027386\n",
       "22         mem_exp_weekday     -0.043381\n",
       "23               reg_month     -0.076865\n",
       "24                  pay_38     -0.081595\n",
       "25             is_discount     -0.127681\n",
       "26                reg_year     -0.161091\n",
       "27             amt_per_day     -0.280130\n",
       "28                  pay_39     -0.330039\n",
       "29                  pay_41     -0.377901\n",
       "30  autorenew_&_not_cancel     -0.663071\n",
       "31   notAutorenew_&_cancel     -0.663071\n",
       "32               trans_day     -1.103090\n",
       "33            mem_exp_year     -2.174549\n",
       "34             trans_month     -5.815143\n",
       "35              trans_year     -8.035654"
      ]
     },
     "execution_count": 88,
     "metadata": {},
     "output_type": "execute_result"
    }
   ],
   "source": [
    "# Put the feature names and their coefficients into a data frame\n",
    "down_coefficients_df = pd.DataFrame({'Features': X_train.columns,\n",
    "                               'Coefficients': down_coef[0]})\n",
    "down_coefficients_df.sort_values(by='Coefficients', ascending=False, inplace=True, ignore_index=True) # Sort Feature Coefficients in descending order\n",
    "\n",
    "down_coefficients_df"
   ]
  },
  {
   "cell_type": "code",
   "execution_count": 89,
   "id": "29d20bd9",
   "metadata": {},
   "outputs": [
    {
     "data": {
      "image/png": "[encoded data removed]",
      "text/plain": [
       "<Figure size 1440x1440 with 1 Axes>"
      ]
     },
     "metadata": {
      "needs_background": "light"
     },
     "output_type": "display_data"
    }
   ],
   "source": [
    "plt.figure(figsize=(20,20))\n",
    "plt.barh(down_coefficients_df['Features'],down_coefficients_df['Coefficients'])\n",
    "plt.title('Final Downsampled Coefficients on Data with All Features')\n",
    "plt.ylabel('Feature Coefficient Names')\n",
    "plt.xlabel('Negative and Positive Coefficient Values')\n",
    "plt.show()"
   ]
  },
  {
   "cell_type": "code",
   "execution_count": 90,
   "id": "9ec4680e",
   "metadata": {
    "scrolled": true
   },
   "outputs": [
    {
     "data": {
      "text/plain": [
       "array([1.19282209e+00, 1.27635639e+00, 1.20833650e+00, 1.13062892e+00,\n",
       "       9.80308405e-01, 9.21645465e-01, 7.18895362e-01, 1.07002887e+00,\n",
       "       6.85298046e-01, 1.04844070e+00, 4.03427581e+00, 1.42334917e+00,\n",
       "       8.80134013e-01, 7.55685523e-01, 2.58096727e+01, 5.15266437e-01,\n",
       "       5.15266437e-01, 9.72985320e-01, 9.80583181e-01, 9.94803704e-01,\n",
       "       9.91049728e-01, 9.81118278e-01, 3.09922617e+00, 9.26014431e-01,\n",
       "       8.51214565e-01, 3.31843964e-01, 9.86016696e-01, 2.98205496e-03,\n",
       "       3.23712595e-04, 1.67399525e+00, 9.57546506e-01, 2.39292834e+01,\n",
       "       1.13659435e-01, 1.01735441e+00, 1.00000000e+00, 1.00000000e+00])"
      ]
     },
     "execution_count": 90,
     "metadata": {},
     "output_type": "execute_result"
    }
   ],
   "source": [
    "final_odds_ratio_down = np.exp(down_coef[0])\n",
    "final_odds_ratio_down"
   ]
  },
  {
   "cell_type": "code",
   "execution_count": 91,
   "id": "8e4dd0db",
   "metadata": {},
   "outputs": [
    {
     "data": {
      "text/html": [
       "<div>\n",
       "<style scoped>\n",
       "    .dataframe tbody tr th:only-of-type {\n",
       "        vertical-align: middle;\n",
       "    }\n",
       "\n",
       "    .dataframe tbody tr th {\n",
       "        vertical-align: top;\n",
       "    }\n",
       "\n",
       "    .dataframe thead th {\n",
       "        text-align: right;\n",
       "    }\n",
       "</style>\n",
       "<table border=\"1\" class=\"dataframe\">\n",
       "  <thead>\n",
       "    <tr style=\"text-align: right;\">\n",
       "      <th></th>\n",
       "      <th>Features</th>\n",
       "      <th>Odds Ratio</th>\n",
       "    </tr>\n",
       "  </thead>\n",
       "  <tbody>\n",
       "    <tr>\n",
       "      <th>0</th>\n",
       "      <td>membership_days</td>\n",
       "      <td>25.809673</td>\n",
       "    </tr>\n",
       "    <tr>\n",
       "      <th>1</th>\n",
       "      <td>mem_exp_month</td>\n",
       "      <td>23.929283</td>\n",
       "    </tr>\n",
       "    <tr>\n",
       "      <th>2</th>\n",
       "      <td>is_cancel</td>\n",
       "      <td>4.034276</td>\n",
       "    </tr>\n",
       "    <tr>\n",
       "      <th>3</th>\n",
       "      <td>last_log_day</td>\n",
       "      <td>3.099226</td>\n",
       "    </tr>\n",
       "    <tr>\n",
       "      <th>4</th>\n",
       "      <td>mem_exp_day</td>\n",
       "      <td>1.673995</td>\n",
       "    </tr>\n",
       "    <tr>\n",
       "      <th>5</th>\n",
       "      <td>discount</td>\n",
       "      <td>1.423349</td>\n",
       "    </tr>\n",
       "    <tr>\n",
       "      <th>6</th>\n",
       "      <td>Reg_4</td>\n",
       "      <td>1.276356</td>\n",
       "    </tr>\n",
       "    <tr>\n",
       "      <th>7</th>\n",
       "      <td>Reg_7</td>\n",
       "      <td>1.208337</td>\n",
       "    </tr>\n",
       "    <tr>\n",
       "      <th>8</th>\n",
       "      <td>Reg_3</td>\n",
       "      <td>1.192822</td>\n",
       "    </tr>\n",
       "    <tr>\n",
       "      <th>9</th>\n",
       "      <td>Reg_9</td>\n",
       "      <td>1.130629</td>\n",
       "    </tr>\n",
       "    <tr>\n",
       "      <th>10</th>\n",
       "      <td>pay_40</td>\n",
       "      <td>1.070029</td>\n",
       "    </tr>\n",
       "    <tr>\n",
       "      <th>11</th>\n",
       "      <td>is_auto_renew</td>\n",
       "      <td>1.048441</td>\n",
       "    </tr>\n",
       "    <tr>\n",
       "      <th>12</th>\n",
       "      <td>user__weekday</td>\n",
       "      <td>1.017354</td>\n",
       "    </tr>\n",
       "    <tr>\n",
       "      <th>13</th>\n",
       "      <td>user__month</td>\n",
       "      <td>1.000000</td>\n",
       "    </tr>\n",
       "    <tr>\n",
       "      <th>14</th>\n",
       "      <td>user__year</td>\n",
       "      <td>1.000000</td>\n",
       "    </tr>\n",
       "    <tr>\n",
       "      <th>15</th>\n",
       "      <td>percent_25</td>\n",
       "      <td>0.994804</td>\n",
       "    </tr>\n",
       "    <tr>\n",
       "      <th>16</th>\n",
       "      <td>percent_50</td>\n",
       "      <td>0.991050</td>\n",
       "    </tr>\n",
       "    <tr>\n",
       "      <th>17</th>\n",
       "      <td>trans_weekday</td>\n",
       "      <td>0.986017</td>\n",
       "    </tr>\n",
       "    <tr>\n",
       "      <th>18</th>\n",
       "      <td>percent_100</td>\n",
       "      <td>0.981118</td>\n",
       "    </tr>\n",
       "    <tr>\n",
       "      <th>19</th>\n",
       "      <td>total_secs</td>\n",
       "      <td>0.980583</td>\n",
       "    </tr>\n",
       "    <tr>\n",
       "      <th>20</th>\n",
       "      <td>City_1</td>\n",
       "      <td>0.980308</td>\n",
       "    </tr>\n",
       "    <tr>\n",
       "      <th>21</th>\n",
       "      <td>num_unq</td>\n",
       "      <td>0.972985</td>\n",
       "    </tr>\n",
       "    <tr>\n",
       "      <th>22</th>\n",
       "      <td>mem_exp_weekday</td>\n",
       "      <td>0.957547</td>\n",
       "    </tr>\n",
       "    <tr>\n",
       "      <th>23</th>\n",
       "      <td>reg_month</td>\n",
       "      <td>0.926014</td>\n",
       "    </tr>\n",
       "    <tr>\n",
       "      <th>24</th>\n",
       "      <td>pay_38</td>\n",
       "      <td>0.921645</td>\n",
       "    </tr>\n",
       "    <tr>\n",
       "      <th>25</th>\n",
       "      <td>is_discount</td>\n",
       "      <td>0.880134</td>\n",
       "    </tr>\n",
       "    <tr>\n",
       "      <th>26</th>\n",
       "      <td>reg_year</td>\n",
       "      <td>0.851215</td>\n",
       "    </tr>\n",
       "    <tr>\n",
       "      <th>27</th>\n",
       "      <td>amt_per_day</td>\n",
       "      <td>0.755686</td>\n",
       "    </tr>\n",
       "    <tr>\n",
       "      <th>28</th>\n",
       "      <td>pay_39</td>\n",
       "      <td>0.718895</td>\n",
       "    </tr>\n",
       "    <tr>\n",
       "      <th>29</th>\n",
       "      <td>pay_41</td>\n",
       "      <td>0.685298</td>\n",
       "    </tr>\n",
       "    <tr>\n",
       "      <th>30</th>\n",
       "      <td>autorenew_&amp;_not_cancel</td>\n",
       "      <td>0.515266</td>\n",
       "    </tr>\n",
       "    <tr>\n",
       "      <th>31</th>\n",
       "      <td>notAutorenew_&amp;_cancel</td>\n",
       "      <td>0.515266</td>\n",
       "    </tr>\n",
       "    <tr>\n",
       "      <th>32</th>\n",
       "      <td>trans_day</td>\n",
       "      <td>0.331844</td>\n",
       "    </tr>\n",
       "    <tr>\n",
       "      <th>33</th>\n",
       "      <td>mem_exp_year</td>\n",
       "      <td>0.113659</td>\n",
       "    </tr>\n",
       "    <tr>\n",
       "      <th>34</th>\n",
       "      <td>trans_month</td>\n",
       "      <td>0.002982</td>\n",
       "    </tr>\n",
       "    <tr>\n",
       "      <th>35</th>\n",
       "      <td>trans_year</td>\n",
       "      <td>0.000324</td>\n",
       "    </tr>\n",
       "  </tbody>\n",
       "</table>\n",
       "</div>"
      ],
      "text/plain": [
       "                  Features  Odds Ratio\n",
       "0          membership_days   25.809673\n",
       "1            mem_exp_month   23.929283\n",
       "2                is_cancel    4.034276\n",
       "3             last_log_day    3.099226\n",
       "4              mem_exp_day    1.673995\n",
       "5                 discount    1.423349\n",
       "6                    Reg_4    1.276356\n",
       "7                    Reg_7    1.208337\n",
       "8                    Reg_3    1.192822\n",
       "9                    Reg_9    1.130629\n",
       "10                  pay_40    1.070029\n",
       "11           is_auto_renew    1.048441\n",
       "12           user__weekday    1.017354\n",
       "13             user__month    1.000000\n",
       "14              user__year    1.000000\n",
       "15              percent_25    0.994804\n",
       "16              percent_50    0.991050\n",
       "17           trans_weekday    0.986017\n",
       "18             percent_100    0.981118\n",
       "19              total_secs    0.980583\n",
       "20                  City_1    0.980308\n",
       "21                 num_unq    0.972985\n",
       "22         mem_exp_weekday    0.957547\n",
       "23               reg_month    0.926014\n",
       "24                  pay_38    0.921645\n",
       "25             is_discount    0.880134\n",
       "26                reg_year    0.851215\n",
       "27             amt_per_day    0.755686\n",
       "28                  pay_39    0.718895\n",
       "29                  pay_41    0.685298\n",
       "30  autorenew_&_not_cancel    0.515266\n",
       "31   notAutorenew_&_cancel    0.515266\n",
       "32               trans_day    0.331844\n",
       "33            mem_exp_year    0.113659\n",
       "34             trans_month    0.002982\n",
       "35              trans_year    0.000324"
      ]
     },
     "execution_count": 91,
     "metadata": {},
     "output_type": "execute_result"
    }
   ],
   "source": [
    "# Put the feature names and their odds ratio into a data frame\n",
    "down_odds_df = pd.DataFrame({'Features': X_train.columns,\n",
    "                           'Odds Ratio': final_odds_ratio_down})\n",
    "down_odds_df.sort_values(by='Odds Ratio', ascending=False, inplace=True, ignore_index=True) # Sort Feature Coefficients in descending order\n",
    "\n",
    "down_odds_df"
   ]
  },
  {
   "cell_type": "code",
   "execution_count": 92,
   "id": "313c9cfe",
   "metadata": {},
   "outputs": [
    {
     "data": {
      "image/png": "[encoded data removed]",
      "text/plain": [
       "<Figure size 1440x1440 with 1 Axes>"
      ]
     },
     "metadata": {
      "needs_background": "light"
     },
     "output_type": "display_data"
    }
   ],
   "source": [
    "plt.figure(figsize=(20,20))\n",
    "plt.barh(down_odds_df['Features'],down_odds_df['Odds Ratio'])\n",
    "plt.title('Final Downsampled Odds Ratio on Data with All Features')\n",
    "plt.ylabel('Feature Coefficient Names')\n",
    "plt.xlabel('Odds Ratio')\n",
    "plt.show()"
   ]
  },
  {
   "cell_type": "markdown",
   "id": "418ae6a9",
   "metadata": {},
   "source": [
    "### Recommendations\n",
    "\n",
    "**Driving Churn Odds**\n",
    "- The duration of a membership drives up the churn odds by a factor of 26. We can also see that this is reflected in the coefficients plot (churn prediction is most influenced by memership duration)\n",
    "\n",
    "- The membership expiration month increases the odds by a factor of 24 while the membership expiration day increases the odds by a facotr of 1.6. \n",
    "\n",
    "- Discount increases the odds ratio by a factor of 1.4. Further research should be done here to determine an appropriate discount amount such that users are less likely to churn.\n",
    "\n",
    "- Cancellations increase the odds ratio by a factor of 4.\n",
    "\n",
    "- The last day that a user logs in to the KKBox music app increases the odds ratio by a factor of 3. \n",
    "\n",
    "**Negative Effect in Churn Odds**\n",
    "\n",
    "- The transaction year, month, and day have the most negative effect in predicting churn.\n",
    "- Membership expiration year decreases the odds by a factor of 0.1. \n",
    "\n",
    "- The combination of autorenewing and not cancelling, as well as not autorenewing and cancelling surprisingly decrease the odds by a factor of 0.6. "
   ]
  },
  {
   "cell_type": "markdown",
   "id": "1c501467",
   "metadata": {},
   "source": [
    "If we can increase the membership duration (the highest driver of churn) then we can reduce the likelihood or odds that a user will churn. The records where the users last logged in to the app to listen to songs would show an indication of decreased user app activity. This behaviour would signal a red flag that the user might cancel soon, so marketing should target advertising specials to these users to retain them. Then, if the user cancels, marketing can offer new membership sign up promotions or plan discounts as we know that discount also impacts churn odds."
   ]
  },
  {
   "cell_type": "markdown",
   "id": "3d7d292b",
   "metadata": {},
   "source": [
    "---"
   ]
  },
  {
   "cell_type": "markdown",
   "id": "2e3771c0",
   "metadata": {},
   "source": [
    "#### Data with Selected Features: 20% Downsampled Scaled and Optimized Logistic Model Coefficient and Odds Ratio Visuals"
   ]
  },
  {
   "cell_type": "code",
   "execution_count": 44,
   "id": "677b018b",
   "metadata": {
    "scrolled": true
   },
   "outputs": [
    {
     "data": {
      "text/plain": [
       "array([ 1.37303377e-01,  1.74427846e-01,  1.40515681e-01, -3.22006478e-01,\n",
       "        1.81142076e-01,  9.53721298e-01,  2.05656623e-01, -1.07215241e-01,\n",
       "        8.16586975e+00, -1.47143753e+00, -7.13303897e-02, -5.82918330e-03,\n",
       "       -5.08001359e-03, -5.16330245e-02, -2.48841878e-02, -2.61548052e+00,\n",
       "       -1.68255977e-01, -6.06277816e-02,  1.78970401e+00,  2.62464742e-02,\n",
       "        0.00000000e+00,  0.00000000e+00])"
      ]
     },
     "execution_count": 44,
     "metadata": {},
     "output_type": "execute_result"
    }
   ],
   "source": [
    "sel_down_coef = churn_logit_sel_down_bal_20_C.coef_\n",
    "sel_down_coef[0]"
   ]
  },
  {
   "cell_type": "code",
   "execution_count": 41,
   "id": "fb521394",
   "metadata": {},
   "outputs": [
    {
     "data": {
      "text/plain": [
       "Index(['Reg_3', 'Reg_4', 'Reg_9', 'pay_39', 'pay_40', 'is_cancel',\n",
       "       'is_discount', 'amt_per_day', 'membership_days',\n",
       "       'notAutorenew_&_cancel', 'total_secs', 'percent_25', 'percent_50',\n",
       "       'reg_month', 'trans_weekday', 'trans_month', 'mem_exp_day',\n",
       "       'mem_exp_weekday', 'mem_exp_month', 'user__weekday', 'user__month',\n",
       "       'user__year'],\n",
       "      dtype='object')"
      ]
     },
     "execution_count": 41,
     "metadata": {},
     "output_type": "execute_result"
    }
   ],
   "source": [
    "X_sel_train.columns"
   ]
  },
  {
   "cell_type": "code",
   "execution_count": 43,
   "id": "8fea4143",
   "metadata": {},
   "outputs": [
    {
     "data": {
      "text/html": [
       "<div>\n",
       "<style scoped>\n",
       "    .dataframe tbody tr th:only-of-type {\n",
       "        vertical-align: middle;\n",
       "    }\n",
       "\n",
       "    .dataframe tbody tr th {\n",
       "        vertical-align: top;\n",
       "    }\n",
       "\n",
       "    .dataframe thead th {\n",
       "        text-align: right;\n",
       "    }\n",
       "</style>\n",
       "<table border=\"1\" class=\"dataframe\">\n",
       "  <thead>\n",
       "    <tr style=\"text-align: right;\">\n",
       "      <th></th>\n",
       "      <th>Variable</th>\n",
       "      <th>Coefficients</th>\n",
       "    </tr>\n",
       "  </thead>\n",
       "  <tbody>\n",
       "    <tr>\n",
       "      <th>0</th>\n",
       "      <td>membership_days</td>\n",
       "      <td>8.165870</td>\n",
       "    </tr>\n",
       "    <tr>\n",
       "      <th>1</th>\n",
       "      <td>mem_exp_month</td>\n",
       "      <td>1.789704</td>\n",
       "    </tr>\n",
       "    <tr>\n",
       "      <th>2</th>\n",
       "      <td>is_cancel</td>\n",
       "      <td>0.953721</td>\n",
       "    </tr>\n",
       "    <tr>\n",
       "      <th>3</th>\n",
       "      <td>is_discount</td>\n",
       "      <td>0.205657</td>\n",
       "    </tr>\n",
       "    <tr>\n",
       "      <th>4</th>\n",
       "      <td>pay_40</td>\n",
       "      <td>0.181142</td>\n",
       "    </tr>\n",
       "    <tr>\n",
       "      <th>5</th>\n",
       "      <td>Reg_4</td>\n",
       "      <td>0.174428</td>\n",
       "    </tr>\n",
       "    <tr>\n",
       "      <th>6</th>\n",
       "      <td>Reg_9</td>\n",
       "      <td>0.140516</td>\n",
       "    </tr>\n",
       "    <tr>\n",
       "      <th>7</th>\n",
       "      <td>Reg_3</td>\n",
       "      <td>0.137303</td>\n",
       "    </tr>\n",
       "    <tr>\n",
       "      <th>8</th>\n",
       "      <td>user__weekday</td>\n",
       "      <td>0.026246</td>\n",
       "    </tr>\n",
       "    <tr>\n",
       "      <th>9</th>\n",
       "      <td>user__month</td>\n",
       "      <td>0.000000</td>\n",
       "    </tr>\n",
       "    <tr>\n",
       "      <th>10</th>\n",
       "      <td>user__year</td>\n",
       "      <td>0.000000</td>\n",
       "    </tr>\n",
       "    <tr>\n",
       "      <th>11</th>\n",
       "      <td>percent_50</td>\n",
       "      <td>-0.005080</td>\n",
       "    </tr>\n",
       "    <tr>\n",
       "      <th>12</th>\n",
       "      <td>percent_25</td>\n",
       "      <td>-0.005829</td>\n",
       "    </tr>\n",
       "    <tr>\n",
       "      <th>13</th>\n",
       "      <td>trans_weekday</td>\n",
       "      <td>-0.024884</td>\n",
       "    </tr>\n",
       "    <tr>\n",
       "      <th>14</th>\n",
       "      <td>reg_month</td>\n",
       "      <td>-0.051633</td>\n",
       "    </tr>\n",
       "    <tr>\n",
       "      <th>15</th>\n",
       "      <td>mem_exp_weekday</td>\n",
       "      <td>-0.060628</td>\n",
       "    </tr>\n",
       "    <tr>\n",
       "      <th>16</th>\n",
       "      <td>total_secs</td>\n",
       "      <td>-0.071330</td>\n",
       "    </tr>\n",
       "    <tr>\n",
       "      <th>17</th>\n",
       "      <td>amt_per_day</td>\n",
       "      <td>-0.107215</td>\n",
       "    </tr>\n",
       "    <tr>\n",
       "      <th>18</th>\n",
       "      <td>mem_exp_day</td>\n",
       "      <td>-0.168256</td>\n",
       "    </tr>\n",
       "    <tr>\n",
       "      <th>19</th>\n",
       "      <td>pay_39</td>\n",
       "      <td>-0.322006</td>\n",
       "    </tr>\n",
       "    <tr>\n",
       "      <th>20</th>\n",
       "      <td>notAutorenew_&amp;_cancel</td>\n",
       "      <td>-1.471438</td>\n",
       "    </tr>\n",
       "    <tr>\n",
       "      <th>21</th>\n",
       "      <td>trans_month</td>\n",
       "      <td>-2.615481</td>\n",
       "    </tr>\n",
       "  </tbody>\n",
       "</table>\n",
       "</div>"
      ],
      "text/plain": [
       "                 Variable  Coefficients\n",
       "0         membership_days      8.165870\n",
       "1           mem_exp_month      1.789704\n",
       "2               is_cancel      0.953721\n",
       "3             is_discount      0.205657\n",
       "4                  pay_40      0.181142\n",
       "5                   Reg_4      0.174428\n",
       "6                   Reg_9      0.140516\n",
       "7                   Reg_3      0.137303\n",
       "8           user__weekday      0.026246\n",
       "9             user__month      0.000000\n",
       "10             user__year      0.000000\n",
       "11             percent_50     -0.005080\n",
       "12             percent_25     -0.005829\n",
       "13          trans_weekday     -0.024884\n",
       "14              reg_month     -0.051633\n",
       "15        mem_exp_weekday     -0.060628\n",
       "16             total_secs     -0.071330\n",
       "17            amt_per_day     -0.107215\n",
       "18            mem_exp_day     -0.168256\n",
       "19                 pay_39     -0.322006\n",
       "20  notAutorenew_&_cancel     -1.471438\n",
       "21            trans_month     -2.615481"
      ]
     },
     "execution_count": 43,
     "metadata": {},
     "output_type": "execute_result"
    }
   ],
   "source": [
    "# Put the variable names and their feature coefficients into a data frame\n",
    "sel_down_coefficients_df = pd.DataFrame({'Variable': X_sel_train.columns,\n",
    "                               'Coefficients': sel_down_coef[0]})\n",
    "sel_down_coefficients_df.sort_values(by='Coefficients', ascending=False, inplace=True, ignore_index=True) # Sort Feature Coefficients in descending order\n",
    "\n",
    "sel_down_coefficients_df"
   ]
  },
  {
   "cell_type": "code",
   "execution_count": 45,
   "id": "60d74d4f",
   "metadata": {},
   "outputs": [
    {
     "data": {
      "image/png": "[encoded data removed]",
      "text/plain": [
       "<Figure size 1440x1440 with 1 Axes>"
      ]
     },
     "metadata": {
      "needs_background": "light"
     },
     "output_type": "display_data"
    }
   ],
   "source": [
    "plt.figure(figsize=(20,20))\n",
    "plt.barh(sel_down_coefficients_df['Variable'],sel_down_coefficients_df['Coefficients'])\n",
    "plt.title('Final Downsampled Coefficients on Feature Selected Data')\n",
    "plt.ylabel('Selected Feature Coefficient Names')\n",
    "plt.xlabel('Negative and Positive Coefficient Values')\n",
    "plt.show()"
   ]
  },
  {
   "cell_type": "code",
   "execution_count": 71,
   "id": "61db6453",
   "metadata": {
    "scrolled": false
   },
   "outputs": [
    {
     "data": {
      "text/plain": [
       "array([1.14717612e+00, 1.19056484e+00, 1.15086713e+00, 7.24693496e-01,\n",
       "       1.19858546e+00, 2.59534978e+00, 1.22833135e+00, 8.98332294e-01,\n",
       "       3.51878046e+03, 2.29595198e-01, 9.31154198e-01, 9.94187773e-01,\n",
       "       9.94932868e-01, 9.49677311e-01, 9.75422871e-01, 7.31326386e-02,\n",
       "       8.45137471e-01, 9.41173497e-01, 5.98767993e+00, 1.02659395e+00,\n",
       "       1.00000000e+00, 1.00000000e+00])"
      ]
     },
     "execution_count": 71,
     "metadata": {},
     "output_type": "execute_result"
    }
   ],
   "source": [
    "final_odds_ratio_sel_down = np.exp(sel_down_coef[0])\n",
    "final_odds_ratio_sel_down"
   ]
  },
  {
   "cell_type": "code",
   "execution_count": 72,
   "id": "421a2524",
   "metadata": {},
   "outputs": [
    {
     "data": {
      "text/html": [
       "<div>\n",
       "<style scoped>\n",
       "    .dataframe tbody tr th:only-of-type {\n",
       "        vertical-align: middle;\n",
       "    }\n",
       "\n",
       "    .dataframe tbody tr th {\n",
       "        vertical-align: top;\n",
       "    }\n",
       "\n",
       "    .dataframe thead th {\n",
       "        text-align: right;\n",
       "    }\n",
       "</style>\n",
       "<table border=\"1\" class=\"dataframe\">\n",
       "  <thead>\n",
       "    <tr style=\"text-align: right;\">\n",
       "      <th></th>\n",
       "      <th>Variable</th>\n",
       "      <th>Odds Ratio</th>\n",
       "    </tr>\n",
       "  </thead>\n",
       "  <tbody>\n",
       "    <tr>\n",
       "      <th>0</th>\n",
       "      <td>membership_days</td>\n",
       "      <td>3518.780464</td>\n",
       "    </tr>\n",
       "    <tr>\n",
       "      <th>1</th>\n",
       "      <td>mem_exp_month</td>\n",
       "      <td>5.987680</td>\n",
       "    </tr>\n",
       "    <tr>\n",
       "      <th>2</th>\n",
       "      <td>is_cancel</td>\n",
       "      <td>2.595350</td>\n",
       "    </tr>\n",
       "    <tr>\n",
       "      <th>3</th>\n",
       "      <td>is_discount</td>\n",
       "      <td>1.228331</td>\n",
       "    </tr>\n",
       "    <tr>\n",
       "      <th>4</th>\n",
       "      <td>pay_40</td>\n",
       "      <td>1.198585</td>\n",
       "    </tr>\n",
       "    <tr>\n",
       "      <th>5</th>\n",
       "      <td>Reg_4</td>\n",
       "      <td>1.190565</td>\n",
       "    </tr>\n",
       "    <tr>\n",
       "      <th>6</th>\n",
       "      <td>Reg_9</td>\n",
       "      <td>1.150867</td>\n",
       "    </tr>\n",
       "    <tr>\n",
       "      <th>7</th>\n",
       "      <td>Reg_3</td>\n",
       "      <td>1.147176</td>\n",
       "    </tr>\n",
       "    <tr>\n",
       "      <th>8</th>\n",
       "      <td>user__weekday</td>\n",
       "      <td>1.026594</td>\n",
       "    </tr>\n",
       "    <tr>\n",
       "      <th>9</th>\n",
       "      <td>user__month</td>\n",
       "      <td>1.000000</td>\n",
       "    </tr>\n",
       "    <tr>\n",
       "      <th>10</th>\n",
       "      <td>user__year</td>\n",
       "      <td>1.000000</td>\n",
       "    </tr>\n",
       "    <tr>\n",
       "      <th>11</th>\n",
       "      <td>percent_50</td>\n",
       "      <td>0.994933</td>\n",
       "    </tr>\n",
       "    <tr>\n",
       "      <th>12</th>\n",
       "      <td>percent_25</td>\n",
       "      <td>0.994188</td>\n",
       "    </tr>\n",
       "    <tr>\n",
       "      <th>13</th>\n",
       "      <td>trans_weekday</td>\n",
       "      <td>0.975423</td>\n",
       "    </tr>\n",
       "    <tr>\n",
       "      <th>14</th>\n",
       "      <td>reg_month</td>\n",
       "      <td>0.949677</td>\n",
       "    </tr>\n",
       "    <tr>\n",
       "      <th>15</th>\n",
       "      <td>mem_exp_weekday</td>\n",
       "      <td>0.941173</td>\n",
       "    </tr>\n",
       "    <tr>\n",
       "      <th>16</th>\n",
       "      <td>total_secs</td>\n",
       "      <td>0.931154</td>\n",
       "    </tr>\n",
       "    <tr>\n",
       "      <th>17</th>\n",
       "      <td>amt_per_day</td>\n",
       "      <td>0.898332</td>\n",
       "    </tr>\n",
       "    <tr>\n",
       "      <th>18</th>\n",
       "      <td>mem_exp_day</td>\n",
       "      <td>0.845137</td>\n",
       "    </tr>\n",
       "    <tr>\n",
       "      <th>19</th>\n",
       "      <td>pay_39</td>\n",
       "      <td>0.724693</td>\n",
       "    </tr>\n",
       "    <tr>\n",
       "      <th>20</th>\n",
       "      <td>notAutorenew_&amp;_cancel</td>\n",
       "      <td>0.229595</td>\n",
       "    </tr>\n",
       "    <tr>\n",
       "      <th>21</th>\n",
       "      <td>trans_month</td>\n",
       "      <td>0.073133</td>\n",
       "    </tr>\n",
       "  </tbody>\n",
       "</table>\n",
       "</div>"
      ],
      "text/plain": [
       "                 Variable   Odds Ratio\n",
       "0         membership_days  3518.780464\n",
       "1           mem_exp_month     5.987680\n",
       "2               is_cancel     2.595350\n",
       "3             is_discount     1.228331\n",
       "4                  pay_40     1.198585\n",
       "5                   Reg_4     1.190565\n",
       "6                   Reg_9     1.150867\n",
       "7                   Reg_3     1.147176\n",
       "8           user__weekday     1.026594\n",
       "9             user__month     1.000000\n",
       "10             user__year     1.000000\n",
       "11             percent_50     0.994933\n",
       "12             percent_25     0.994188\n",
       "13          trans_weekday     0.975423\n",
       "14              reg_month     0.949677\n",
       "15        mem_exp_weekday     0.941173\n",
       "16             total_secs     0.931154\n",
       "17            amt_per_day     0.898332\n",
       "18            mem_exp_day     0.845137\n",
       "19                 pay_39     0.724693\n",
       "20  notAutorenew_&_cancel     0.229595\n",
       "21            trans_month     0.073133"
      ]
     },
     "execution_count": 72,
     "metadata": {},
     "output_type": "execute_result"
    }
   ],
   "source": [
    "# Put the variable names and their odds ratio into a data frame\n",
    "sel_down_odds_df = pd.DataFrame({'Variable': X_sel_train.columns,\n",
    "                           'Odds Ratio': final_odds_ratio_sel_down})\n",
    "sel_down_odds_df.sort_values(by='Odds Ratio', ascending=False, inplace=True, ignore_index=True) # Sort Feature Coefficients in descending order\n",
    "\n",
    "sel_down_odds_df"
   ]
  },
  {
   "cell_type": "code",
   "execution_count": 73,
   "id": "90282e2f",
   "metadata": {},
   "outputs": [
    {
     "data": {
      "image/png": "[encoded data removed]",
      "text/plain": [
       "<Figure size 1440x1440 with 1 Axes>"
      ]
     },
     "metadata": {
      "needs_background": "light"
     },
     "output_type": "display_data"
    }
   ],
   "source": [
    "plt.figure(figsize=(20,20))\n",
    "plt.barh(sel_down_odds_df['Variable'],sel_down_odds_df['Odds Ratio'])\n",
    "plt.title('Final Downsampled Odds Ratio on Feature Selected Data')\n",
    "plt.ylabel('Selected Feature Coefficient Names')\n",
    "plt.xlabel('Odds Ratio')\n",
    "plt.show()"
   ]
  },
  {
   "cell_type": "markdown",
   "id": "7dcaffdb",
   "metadata": {},
   "source": [
    "Similar trends can be observed for our final best logistic model on the data with feature selection. What is interesting is that the membership duration is especially significant and highly correlated with churn. "
   ]
  },
  {
   "cell_type": "markdown",
   "id": "a788937f",
   "metadata": {},
   "source": [
    "### Saving all Models"
   ]
  },
  {
   "cell_type": "code",
   "execution_count": 271,
   "id": "b49f5cb1",
   "metadata": {},
   "outputs": [
    {
     "data": {
      "text/plain": [
       "['churn_logit_down_bal_20_C.pkl']"
      ]
     },
     "execution_count": 271,
     "metadata": {},
     "output_type": "execute_result"
    }
   ],
   "source": [
    "import joblib\n",
    "\n",
    "###################\n",
    "### ALL FEATURES ##\n",
    "###################\n",
    "\n",
    "####################\n",
    "## Initial models ##\n",
    "####################\n",
    "\n",
    "#original\n",
    "joblib.dump(churn_logit, 'churn_logit.pkl')\n",
    "\n",
    "#upsample with 10% sampling rate\n",
    "joblib.dump(churn_logit_up_bal, 'churn_logit_up_bal.pkl') \n",
    "#upsample with 20% sampling rate\n",
    "joblib.dump(churn_logit_up_bal_20, 'churn_logit_up_bal_20.pkl') \n",
    "\n",
    "#downsample with 10% sampling rate\n",
    "joblib.dump(churn_logit_down_bal, 'churn_logit_down_bal.pkl')\n",
    "#downsample with 20% sampling rate\n",
    "joblib.dump(churn_logit_down_bal_20, 'churn_logit_down_bal_20.pkl')\n",
    "\n",
    "##############################\n",
    "###### Pipeline Models #######\n",
    "##############################\n",
    "\n",
    "#original fittedgrid pipeline \n",
    "joblib.dump(fittedgrid, 'fittedgrid.pkl')\n",
    "\n",
    "#upsample with 20% sampling rate pipeline model\n",
    "joblib.dump(up_bal_20_model, 'up_bal_20_model.pkl')\n",
    "\n",
    "#downsample with 20% sampling rate pipeline model\n",
    "joblib.dump(down_bal_20_model, 'down_bal_20_model.pkl')\n",
    "\n",
    "####################\n",
    "### Final models ###\n",
    "####################\n",
    "\n",
    "# base C=10,000\n",
    "joblib.dump(original_ss_C, 'original_ss_C.pkl')\n",
    "\n",
    "# upsample with 20% sampling rate C=0.1\n",
    "joblib.dump(churn_logit_up_bal_20_C, 'churn_logit_up_bal_20_C.pkl')\n",
    "\n",
    "#downsample with 20% sampling rate C=10,000\n",
    "joblib.dump(churn_logit_down_bal_20_C, 'churn_logit_down_bal_20_C.pkl')"
   ]
  },
  {
   "cell_type": "code",
   "execution_count": 272,
   "id": "d4403af5",
   "metadata": {},
   "outputs": [
    {
     "data": {
      "text/plain": [
       "['churn_logit_sel_down_bal_20_C.pkl']"
      ]
     },
     "execution_count": 272,
     "metadata": {},
     "output_type": "execute_result"
    }
   ],
   "source": [
    "#########################\n",
    "### SELECTED FEATURES ###\n",
    "#########################\n",
    "\n",
    "\n",
    "##############################\n",
    "###### Pipeline Models #######\n",
    "##############################\n",
    "\n",
    "#base pipeline \n",
    "joblib.dump(base_sel_model, 'base_sel_model.pkl')\n",
    "\n",
    "#upsample with 20% sampling rate pipeline model\n",
    "joblib.dump(up_sel_bal_20_model, 'up_sel_bal_20_model.pkl')\n",
    "\n",
    "#downsample with 20% sampling rate pipeline model\n",
    "joblib.dump(down_sel_bal_20_model, 'down_sel_bal_20_model.pkl')\n",
    "\n",
    "####################\n",
    "### Final models ###\n",
    "####################\n",
    "\n",
    "# base C=10,000\n",
    "joblib.dump(base_ss_C, 'base_ss_C.pkl')\n",
    "\n",
    "# upsample with 20% sampling rate C=0.1\n",
    "joblib.dump(churn_logit_sel_up_bal_20_C, 'churn_logit_sel_up_bal_20_C.pkl')\n",
    "\n",
    "#downsample with 20% sampling rate C=10,000\n",
    "joblib.dump(churn_logit_sel_down_bal_20_C, 'churn_logit_sel_down_bal_20_C.pkl')"
   ]
  },
  {
   "cell_type": "code",
   "execution_count": null,
   "id": "efcc056a",
   "metadata": {},
   "outputs": [],
   "source": []
  }
 ],
 "metadata": {
  "kernelspec": {
   "display_name": "Python 3 (ipykernel)",
   "language": "python",
   "name": "python3"
  },
  "language_info": {
   "codemirror_mode": {
    "name": "ipython",
    "version": 3
   },
   "file_extension": ".py",
   "mimetype": "text/x-python",
   "name": "python",
   "nbconvert_exporter": "python",
   "pygments_lexer": "ipython3",
   "version": "3.9.12"
  }
 },
 "nbformat": 4,
 "nbformat_minor": 5
}
