{
 "cells": [
  {
   "cell_type": "markdown",
   "id": "479b4250",
   "metadata": {},
   "source": [
    "## KKBox EDA: Exploratory Data Analysis and Visualizations"
   ]
  },
  {
   "cell_type": "markdown",
   "id": "5f8490f9",
   "metadata": {},
   "source": [
    "In this notebook, we kick things off by exploring the following data sets provided by KKBox:\n",
    "- Members\n",
    "- Transactions\n",
    "- Train\n",
    "\n",
    "\n",
    "Our target variable which we will be predicting is the churn rate. So, our focus in this notebook is to gain understanding on the distributions of the provided features as well as their individual relationships with the churn rate.  "
   ]
  },
  {
   "cell_type": "markdown",
   "id": "35c34e70",
   "metadata": {},
   "source": [
    "---"
   ]
  },
  {
   "cell_type": "markdown",
   "id": "6430c77d",
   "metadata": {},
   "source": [
    "We begin by importing the necessary packages and reading in the csv files. "
   ]
  },
  {
   "cell_type": "code",
   "execution_count": 3,
   "id": "79efc91f",
   "metadata": {},
   "outputs": [],
   "source": [
    "import pandas as pd\n",
    "import numpy as np\n",
    "import matplotlib.pyplot as plt\n",
    "import seaborn as sns\n",
    "from scipy import stats"
   ]
  },
  {
   "cell_type": "code",
   "execution_count": 4,
   "id": "23851f89",
   "metadata": {},
   "outputs": [],
   "source": [
    "members_df= pd.read_csv('data/members_v3.csv')"
   ]
  },
  {
   "cell_type": "code",
   "execution_count": 5,
   "id": "9719ffb6",
   "metadata": {},
   "outputs": [
    {
     "name": "stderr",
     "output_type": "stream",
     "text": [
      "/var/folders/5k/bd6ybgj9359gmn4ggk9l01_r0000gn/T/ipykernel_49369/3232942371.py:4: FutureWarning: The frame.append method is deprecated and will be removed from pandas in a future version. Use pandas.concat instead.\n",
      "  transactions_df =  transactions_v1_df.append(transaction_v2_df)\n"
     ]
    }
   ],
   "source": [
    "train_df = pd.read_csv('data/train_v2.csv')\n",
    "transaction_v2_df = pd.read_csv('data/transactions_v2.csv')\n",
    "transactions_v1_df = pd.read_csv('data/transactions.csv')\n",
    "transactions_df =  transactions_v1_df.append(transaction_v2_df)"
   ]
  },
  {
   "cell_type": "markdown",
   "id": "713974fe",
   "metadata": {},
   "source": [
    "### 1. Exploratory Data Analysis"
   ]
  },
  {
   "cell_type": "code",
   "execution_count": 6,
   "id": "ed58166a",
   "metadata": {},
   "outputs": [
    {
     "data": {
      "text/html": [
       "<div>\n",
       "<style scoped>\n",
       "    .dataframe tbody tr th:only-of-type {\n",
       "        vertical-align: middle;\n",
       "    }\n",
       "\n",
       "    .dataframe tbody tr th {\n",
       "        vertical-align: top;\n",
       "    }\n",
       "\n",
       "    .dataframe thead th {\n",
       "        text-align: right;\n",
       "    }\n",
       "</style>\n",
       "<table border=\"1\" class=\"dataframe\">\n",
       "  <thead>\n",
       "    <tr style=\"text-align: right;\">\n",
       "      <th></th>\n",
       "      <th>msno</th>\n",
       "      <th>is_churn</th>\n",
       "    </tr>\n",
       "  </thead>\n",
       "  <tbody>\n",
       "    <tr>\n",
       "      <th>0</th>\n",
       "      <td>ugx0CjOMzazClkFzU2xasmDZaoIqOUAZPsH1q0teWCg=</td>\n",
       "      <td>1</td>\n",
       "    </tr>\n",
       "    <tr>\n",
       "      <th>1</th>\n",
       "      <td>f/NmvEzHfhINFEYZTR05prUdr+E+3+oewvweYz9cCQE=</td>\n",
       "      <td>1</td>\n",
       "    </tr>\n",
       "    <tr>\n",
       "      <th>2</th>\n",
       "      <td>zLo9f73nGGT1p21ltZC3ChiRnAVvgibMyazbCxvWPcg=</td>\n",
       "      <td>1</td>\n",
       "    </tr>\n",
       "    <tr>\n",
       "      <th>3</th>\n",
       "      <td>8iF/+8HY8lJKFrTc7iR9ZYGCG2Ecrogbc2Vy5YhsfhQ=</td>\n",
       "      <td>1</td>\n",
       "    </tr>\n",
       "    <tr>\n",
       "      <th>4</th>\n",
       "      <td>K6fja4+jmoZ5xG6BypqX80Uw/XKpMgrEMdG2edFOxnA=</td>\n",
       "      <td>1</td>\n",
       "    </tr>\n",
       "  </tbody>\n",
       "</table>\n",
       "</div>"
      ],
      "text/plain": [
       "                                           msno  is_churn\n",
       "0  ugx0CjOMzazClkFzU2xasmDZaoIqOUAZPsH1q0teWCg=         1\n",
       "1  f/NmvEzHfhINFEYZTR05prUdr+E+3+oewvweYz9cCQE=         1\n",
       "2  zLo9f73nGGT1p21ltZC3ChiRnAVvgibMyazbCxvWPcg=         1\n",
       "3  8iF/+8HY8lJKFrTc7iR9ZYGCG2Ecrogbc2Vy5YhsfhQ=         1\n",
       "4  K6fja4+jmoZ5xG6BypqX80Uw/XKpMgrEMdG2edFOxnA=         1"
      ]
     },
     "execution_count": 6,
     "metadata": {},
     "output_type": "execute_result"
    }
   ],
   "source": [
    "train_df.head()"
   ]
  },
  {
   "cell_type": "code",
   "execution_count": 7,
   "id": "2537aade",
   "metadata": {},
   "outputs": [
    {
     "name": "stdout",
     "output_type": "stream",
     "text": [
      "<class 'pandas.core.frame.DataFrame'>\n",
      "RangeIndex: 970960 entries, 0 to 970959\n",
      "Data columns (total 2 columns):\n",
      " #   Column    Non-Null Count   Dtype \n",
      "---  ------    --------------   ----- \n",
      " 0   msno      970960 non-null  object\n",
      " 1   is_churn  970960 non-null  int64 \n",
      "dtypes: int64(1), object(1)\n",
      "memory usage: 14.8+ MB\n"
     ]
    }
   ],
   "source": [
    "train_df.info()"
   ]
  },
  {
   "cell_type": "code",
   "execution_count": 8,
   "id": "b0e16309",
   "metadata": {},
   "outputs": [
    {
     "data": {
      "text/html": [
       "<div>\n",
       "<style scoped>\n",
       "    .dataframe tbody tr th:only-of-type {\n",
       "        vertical-align: middle;\n",
       "    }\n",
       "\n",
       "    .dataframe tbody tr th {\n",
       "        vertical-align: top;\n",
       "    }\n",
       "\n",
       "    .dataframe thead th {\n",
       "        text-align: right;\n",
       "    }\n",
       "</style>\n",
       "<table border=\"1\" class=\"dataframe\">\n",
       "  <thead>\n",
       "    <tr style=\"text-align: right;\">\n",
       "      <th></th>\n",
       "      <th>is_churn</th>\n",
       "    </tr>\n",
       "  </thead>\n",
       "  <tbody>\n",
       "    <tr>\n",
       "      <th>count</th>\n",
       "      <td>970960.000000</td>\n",
       "    </tr>\n",
       "    <tr>\n",
       "      <th>mean</th>\n",
       "      <td>0.089942</td>\n",
       "    </tr>\n",
       "    <tr>\n",
       "      <th>std</th>\n",
       "      <td>0.286099</td>\n",
       "    </tr>\n",
       "    <tr>\n",
       "      <th>min</th>\n",
       "      <td>0.000000</td>\n",
       "    </tr>\n",
       "    <tr>\n",
       "      <th>25%</th>\n",
       "      <td>0.000000</td>\n",
       "    </tr>\n",
       "    <tr>\n",
       "      <th>50%</th>\n",
       "      <td>0.000000</td>\n",
       "    </tr>\n",
       "    <tr>\n",
       "      <th>75%</th>\n",
       "      <td>0.000000</td>\n",
       "    </tr>\n",
       "    <tr>\n",
       "      <th>max</th>\n",
       "      <td>1.000000</td>\n",
       "    </tr>\n",
       "  </tbody>\n",
       "</table>\n",
       "</div>"
      ],
      "text/plain": [
       "            is_churn\n",
       "count  970960.000000\n",
       "mean        0.089942\n",
       "std         0.286099\n",
       "min         0.000000\n",
       "25%         0.000000\n",
       "50%         0.000000\n",
       "75%         0.000000\n",
       "max         1.000000"
      ]
     },
     "execution_count": 8,
     "metadata": {},
     "output_type": "execute_result"
    }
   ],
   "source": [
    "train_df.describe()"
   ]
  },
  {
   "cell_type": "code",
   "execution_count": 9,
   "id": "e6c68425",
   "metadata": {},
   "outputs": [
    {
     "data": {
      "text/plain": [
       "87330"
      ]
     },
     "execution_count": 9,
     "metadata": {},
     "output_type": "execute_result"
    }
   ],
   "source": [
    "#Determine number of churn entries in train dataset\n",
    "(train_df['is_churn']==1).sum()"
   ]
  },
  {
   "cell_type": "code",
   "execution_count": 10,
   "id": "6aef6105",
   "metadata": {},
   "outputs": [
    {
     "data": {
      "text/plain": [
       "883630"
      ]
     },
     "execution_count": 10,
     "metadata": {},
     "output_type": "execute_result"
    }
   ],
   "source": [
    "#Determine number of no churn entries in train dataset\n",
    "(train_df['is_churn']==0).sum()"
   ]
  },
  {
   "cell_type": "markdown",
   "id": "01a3680b",
   "metadata": {},
   "source": [
    "The *train* file contains 970960 user(msno) entries, with the binary classification as 1 (churn) and 0 ( no churn). The majority of users are in no churn category (0) - about 92%, and about 8% of users have not churned."
   ]
  },
  {
   "cell_type": "markdown",
   "id": "50d098f2",
   "metadata": {},
   "source": [
    "### 1.1 Members Data Analysis"
   ]
  },
  {
   "cell_type": "code",
   "execution_count": 11,
   "id": "1298ae5d",
   "metadata": {},
   "outputs": [],
   "source": [
    "train_df = train_df.merge(members_df, on = 'msno', how = 'left')"
   ]
  },
  {
   "cell_type": "code",
   "execution_count": 12,
   "id": "981391d5",
   "metadata": {},
   "outputs": [
    {
     "data": {
      "text/html": [
       "<div>\n",
       "<style scoped>\n",
       "    .dataframe tbody tr th:only-of-type {\n",
       "        vertical-align: middle;\n",
       "    }\n",
       "\n",
       "    .dataframe tbody tr th {\n",
       "        vertical-align: top;\n",
       "    }\n",
       "\n",
       "    .dataframe thead th {\n",
       "        text-align: right;\n",
       "    }\n",
       "</style>\n",
       "<table border=\"1\" class=\"dataframe\">\n",
       "  <thead>\n",
       "    <tr style=\"text-align: right;\">\n",
       "      <th></th>\n",
       "      <th>msno</th>\n",
       "      <th>is_churn</th>\n",
       "      <th>city</th>\n",
       "      <th>bd</th>\n",
       "      <th>gender</th>\n",
       "      <th>registered_via</th>\n",
       "      <th>registration_init_time</th>\n",
       "    </tr>\n",
       "  </thead>\n",
       "  <tbody>\n",
       "    <tr>\n",
       "      <th>0</th>\n",
       "      <td>ugx0CjOMzazClkFzU2xasmDZaoIqOUAZPsH1q0teWCg=</td>\n",
       "      <td>1</td>\n",
       "      <td>5.0</td>\n",
       "      <td>28.0</td>\n",
       "      <td>male</td>\n",
       "      <td>3.0</td>\n",
       "      <td>20131223.0</td>\n",
       "    </tr>\n",
       "    <tr>\n",
       "      <th>1</th>\n",
       "      <td>f/NmvEzHfhINFEYZTR05prUdr+E+3+oewvweYz9cCQE=</td>\n",
       "      <td>1</td>\n",
       "      <td>13.0</td>\n",
       "      <td>20.0</td>\n",
       "      <td>male</td>\n",
       "      <td>3.0</td>\n",
       "      <td>20131223.0</td>\n",
       "    </tr>\n",
       "    <tr>\n",
       "      <th>2</th>\n",
       "      <td>zLo9f73nGGT1p21ltZC3ChiRnAVvgibMyazbCxvWPcg=</td>\n",
       "      <td>1</td>\n",
       "      <td>13.0</td>\n",
       "      <td>18.0</td>\n",
       "      <td>male</td>\n",
       "      <td>3.0</td>\n",
       "      <td>20131227.0</td>\n",
       "    </tr>\n",
       "    <tr>\n",
       "      <th>3</th>\n",
       "      <td>8iF/+8HY8lJKFrTc7iR9ZYGCG2Ecrogbc2Vy5YhsfhQ=</td>\n",
       "      <td>1</td>\n",
       "      <td>1.0</td>\n",
       "      <td>0.0</td>\n",
       "      <td>NaN</td>\n",
       "      <td>7.0</td>\n",
       "      <td>20140109.0</td>\n",
       "    </tr>\n",
       "    <tr>\n",
       "      <th>4</th>\n",
       "      <td>K6fja4+jmoZ5xG6BypqX80Uw/XKpMgrEMdG2edFOxnA=</td>\n",
       "      <td>1</td>\n",
       "      <td>13.0</td>\n",
       "      <td>35.0</td>\n",
       "      <td>female</td>\n",
       "      <td>7.0</td>\n",
       "      <td>20140125.0</td>\n",
       "    </tr>\n",
       "  </tbody>\n",
       "</table>\n",
       "</div>"
      ],
      "text/plain": [
       "                                           msno  is_churn  city    bd  gender  \\\n",
       "0  ugx0CjOMzazClkFzU2xasmDZaoIqOUAZPsH1q0teWCg=         1   5.0  28.0    male   \n",
       "1  f/NmvEzHfhINFEYZTR05prUdr+E+3+oewvweYz9cCQE=         1  13.0  20.0    male   \n",
       "2  zLo9f73nGGT1p21ltZC3ChiRnAVvgibMyazbCxvWPcg=         1  13.0  18.0    male   \n",
       "3  8iF/+8HY8lJKFrTc7iR9ZYGCG2Ecrogbc2Vy5YhsfhQ=         1   1.0   0.0     NaN   \n",
       "4  K6fja4+jmoZ5xG6BypqX80Uw/XKpMgrEMdG2edFOxnA=         1  13.0  35.0  female   \n",
       "\n",
       "   registered_via  registration_init_time  \n",
       "0             3.0              20131223.0  \n",
       "1             3.0              20131223.0  \n",
       "2             3.0              20131227.0  \n",
       "3             7.0              20140109.0  \n",
       "4             7.0              20140125.0  "
      ]
     },
     "execution_count": 12,
     "metadata": {},
     "output_type": "execute_result"
    }
   ],
   "source": [
    "train_df.head()"
   ]
  },
  {
   "cell_type": "code",
   "execution_count": 13,
   "id": "e0221e5d",
   "metadata": {},
   "outputs": [
    {
     "name": "stdout",
     "output_type": "stream",
     "text": [
      "<class 'pandas.core.frame.DataFrame'>\n",
      "Int64Index: 970960 entries, 0 to 970959\n",
      "Data columns (total 7 columns):\n",
      " #   Column                  Non-Null Count   Dtype  \n",
      "---  ------                  --------------   -----  \n",
      " 0   msno                    970960 non-null  object \n",
      " 1   is_churn                970960 non-null  int64  \n",
      " 2   city                    860967 non-null  float64\n",
      " 3   bd                      860967 non-null  float64\n",
      " 4   gender                  388905 non-null  object \n",
      " 5   registered_via          860967 non-null  float64\n",
      " 6   registration_init_time  860967 non-null  float64\n",
      "dtypes: float64(4), int64(1), object(2)\n",
      "memory usage: 59.3+ MB\n"
     ]
    }
   ],
   "source": [
    "train_df.info()"
   ]
  },
  {
   "cell_type": "markdown",
   "id": "729892f8",
   "metadata": {},
   "source": [
    "The *members* data contains the kind of information typically found in a user profile (age, city, gender) together registration dates and methods."
   ]
  },
  {
   "cell_type": "markdown",
   "id": "25c8b1c9",
   "metadata": {},
   "source": [
    "In the merged dataset, the maximum non-null entries apart from is_churn is 860967 (city, bd, registered_via, registration_init_time).There are 109993 entries without any data (about 11%). The gender column contains most null entries (60%). We could fill the missing values with 0 (or unknown) but for now, we will not do this. First we will check the existing distribution between male and female, and then decide if it's worth keeping. "
   ]
  },
  {
   "cell_type": "markdown",
   "id": "6d77080f",
   "metadata": {},
   "source": [
    "To deal with the missing values in `city` and `registered_via`(registration method)we will create a function that fills null values with the mode. We choose the mode since we do not have consistent data for replacing with the mean or median and would run into the problem of large uncertainties. We will deal with age later, as we need to check for outliers first."
   ]
  },
  {
   "cell_type": "code",
   "execution_count": 14,
   "id": "6ca5090d",
   "metadata": {},
   "outputs": [],
   "source": [
    "# This function uses mode to replace NaN values on train_df\n",
    "def replacemode(i):\n",
    "    train_df[i] = train_df[i].fillna(train_df[i].value_counts().index[0])\n",
    "    return \n",
    "\n",
    "replacemode('city')\n",
    "replacemode('registered_via')\n",
    "#replacemode('bd')"
   ]
  },
  {
   "cell_type": "markdown",
   "id": "75f8429c",
   "metadata": {},
   "source": [
    "We will convert the numeric columns from float to int:"
   ]
  },
  {
   "cell_type": "code",
   "execution_count": 15,
   "id": "6b3dcbea",
   "metadata": {},
   "outputs": [],
   "source": [
    "# change the data type of city, bd and registered_via from float to int \n",
    "train_df['city'] = train_df['city'].astype(int)"
   ]
  },
  {
   "cell_type": "code",
   "execution_count": 16,
   "id": "5472d7d0",
   "metadata": {},
   "outputs": [],
   "source": [
    "train_df['registered_via'] = train_df['registered_via'].astype(int)"
   ]
  },
  {
   "cell_type": "markdown",
   "id": "e063b805",
   "metadata": {},
   "source": [
    "We will convert `registration_init_time` to datetime:"
   ]
  },
  {
   "cell_type": "code",
   "execution_count": 17,
   "id": "ebc02010",
   "metadata": {},
   "outputs": [],
   "source": [
    "# convert registration_init_time to datetime\n",
    "train_df['registration_init_time'] = pd.to_datetime(train_df['registration_init_time'], format = '%Y%m%d')"
   ]
  },
  {
   "cell_type": "markdown",
   "id": "8f8da23e",
   "metadata": {},
   "source": [
    "The cities in the dataset are the following:"
   ]
  },
  {
   "cell_type": "code",
   "execution_count": 18,
   "id": "f726255e",
   "metadata": {
    "scrolled": false
   },
   "outputs": [
    {
     "data": {
      "text/plain": [
       "array([ 5, 13,  1, 22,  9, 12,  6, 14,  4, 15, 18,  3, 21,  8,  7, 17, 11,\n",
       "       10, 20, 16, 19])"
      ]
     },
     "execution_count": 18,
     "metadata": {},
     "output_type": "execute_result"
    }
   ],
   "source": [
    "train_df['city'].unique()"
   ]
  },
  {
   "cell_type": "code",
   "execution_count": 19,
   "id": "8b047be5",
   "metadata": {
    "scrolled": true
   },
   "outputs": [
    {
     "data": {
      "text/html": [
       "<div>\n",
       "<style scoped>\n",
       "    .dataframe tbody tr th:only-of-type {\n",
       "        vertical-align: middle;\n",
       "    }\n",
       "\n",
       "    .dataframe tbody tr th {\n",
       "        vertical-align: top;\n",
       "    }\n",
       "\n",
       "    .dataframe thead th {\n",
       "        text-align: right;\n",
       "    }\n",
       "</style>\n",
       "<table border=\"1\" class=\"dataframe\">\n",
       "  <thead>\n",
       "    <tr style=\"text-align: right;\">\n",
       "      <th></th>\n",
       "      <th>msno</th>\n",
       "      <th>is_churn</th>\n",
       "      <th>city</th>\n",
       "      <th>bd</th>\n",
       "      <th>gender</th>\n",
       "      <th>registered_via</th>\n",
       "      <th>registration_init_time</th>\n",
       "    </tr>\n",
       "  </thead>\n",
       "  <tbody>\n",
       "    <tr>\n",
       "      <th>0</th>\n",
       "      <td>ugx0CjOMzazClkFzU2xasmDZaoIqOUAZPsH1q0teWCg=</td>\n",
       "      <td>1</td>\n",
       "      <td>5</td>\n",
       "      <td>28.0</td>\n",
       "      <td>male</td>\n",
       "      <td>3</td>\n",
       "      <td>2013-12-23</td>\n",
       "    </tr>\n",
       "    <tr>\n",
       "      <th>1</th>\n",
       "      <td>f/NmvEzHfhINFEYZTR05prUdr+E+3+oewvweYz9cCQE=</td>\n",
       "      <td>1</td>\n",
       "      <td>13</td>\n",
       "      <td>20.0</td>\n",
       "      <td>male</td>\n",
       "      <td>3</td>\n",
       "      <td>2013-12-23</td>\n",
       "    </tr>\n",
       "    <tr>\n",
       "      <th>2</th>\n",
       "      <td>zLo9f73nGGT1p21ltZC3ChiRnAVvgibMyazbCxvWPcg=</td>\n",
       "      <td>1</td>\n",
       "      <td>13</td>\n",
       "      <td>18.0</td>\n",
       "      <td>male</td>\n",
       "      <td>3</td>\n",
       "      <td>2013-12-27</td>\n",
       "    </tr>\n",
       "    <tr>\n",
       "      <th>3</th>\n",
       "      <td>8iF/+8HY8lJKFrTc7iR9ZYGCG2Ecrogbc2Vy5YhsfhQ=</td>\n",
       "      <td>1</td>\n",
       "      <td>1</td>\n",
       "      <td>0.0</td>\n",
       "      <td>NaN</td>\n",
       "      <td>7</td>\n",
       "      <td>2014-01-09</td>\n",
       "    </tr>\n",
       "    <tr>\n",
       "      <th>4</th>\n",
       "      <td>K6fja4+jmoZ5xG6BypqX80Uw/XKpMgrEMdG2edFOxnA=</td>\n",
       "      <td>1</td>\n",
       "      <td>13</td>\n",
       "      <td>35.0</td>\n",
       "      <td>female</td>\n",
       "      <td>7</td>\n",
       "      <td>2014-01-25</td>\n",
       "    </tr>\n",
       "  </tbody>\n",
       "</table>\n",
       "</div>"
      ],
      "text/plain": [
       "                                           msno  is_churn  city    bd  gender  \\\n",
       "0  ugx0CjOMzazClkFzU2xasmDZaoIqOUAZPsH1q0teWCg=         1     5  28.0    male   \n",
       "1  f/NmvEzHfhINFEYZTR05prUdr+E+3+oewvweYz9cCQE=         1    13  20.0    male   \n",
       "2  zLo9f73nGGT1p21ltZC3ChiRnAVvgibMyazbCxvWPcg=         1    13  18.0    male   \n",
       "3  8iF/+8HY8lJKFrTc7iR9ZYGCG2Ecrogbc2Vy5YhsfhQ=         1     1   0.0     NaN   \n",
       "4  K6fja4+jmoZ5xG6BypqX80Uw/XKpMgrEMdG2edFOxnA=         1    13  35.0  female   \n",
       "\n",
       "   registered_via registration_init_time  \n",
       "0               3             2013-12-23  \n",
       "1               3             2013-12-23  \n",
       "2               3             2013-12-27  \n",
       "3               7             2014-01-09  \n",
       "4               7             2014-01-25  "
      ]
     },
     "execution_count": 19,
     "metadata": {},
     "output_type": "execute_result"
    }
   ],
   "source": [
    "train_df.head()"
   ]
  },
  {
   "cell_type": "markdown",
   "id": "27a5ce73",
   "metadata": {},
   "source": [
    "---"
   ]
  },
  {
   "cell_type": "markdown",
   "id": "b3946569",
   "metadata": {},
   "source": [
    "### 1.2 Members Data Visualization"
   ]
  },
  {
   "cell_type": "markdown",
   "id": "8dca619a",
   "metadata": {},
   "source": [
    "In this section, we will explore the frequency distributions of the features in our dataset, beginning with `city`."
   ]
  },
  {
   "cell_type": "code",
   "execution_count": 20,
   "id": "1fa356b7",
   "metadata": {},
   "outputs": [
    {
     "data": {
      "image/png": "[encoded data removed]",
      "text/plain": [
       "<Figure size 864x864 with 1 Axes>"
      ]
     },
     "metadata": {
      "needs_background": "light"
     },
     "output_type": "display_data"
    }
   ],
   "source": [
    "# City Distribution\n",
    "plt.figure(figsize=(12,12))\n",
    "plt.subplot(411)\n",
    "city_order = train_df['city'].unique()\n",
    "city_order=sorted(city_order, key=lambda x: float(x))\n",
    "sns.countplot(x=\"city\", data=train_df , order = city_order, color= 'coral')\n",
    "plt.ylabel('Count', fontsize=12)\n",
    "plt.xlabel('City', fontsize=12)\n",
    "plt.xticks(rotation='vertical')\n",
    "plt.title(\"City Distribution\", fontsize=12)\n",
    "plt.show()"
   ]
  },
  {
   "cell_type": "markdown",
   "id": "ed4c2b34",
   "metadata": {},
   "source": [
    "There are a total of 21 cities encoded. City \"2\" does not exist in the data set. Most users live in city \"1\". "
   ]
  },
  {
   "cell_type": "markdown",
   "id": "5e6c8596",
   "metadata": {},
   "source": [
    "Now we will investigate the distribution of `registered_via`."
   ]
  },
  {
   "cell_type": "code",
   "execution_count": 21,
   "id": "86af2668",
   "metadata": {},
   "outputs": [
    {
     "data": {
      "image/png": "[encoded data removed]",
      "text/plain": [
       "<Figure size 864x864 with 1 Axes>"
      ]
     },
     "metadata": {
      "needs_background": "light"
     },
     "output_type": "display_data"
    }
   ],
   "source": [
    "#Registered Via Count\n",
    "plt.figure(figsize=(12,12))\n",
    "plt.subplot(412)\n",
    "sns.countplot(x=\"registered_via\", data=train_df, color= 'cornflowerblue')\n",
    "plt.ylabel('Count', fontsize=12)\n",
    "plt.xlabel('Registered Via', fontsize=12)\n",
    "plt.xticks(rotation='vertical')\n",
    "plt.title(\"Registration Method Distribution\", fontsize=12)\n",
    "plt.show()"
   ]
  },
  {
   "cell_type": "markdown",
   "id": "5008de8f",
   "metadata": {},
   "source": [
    "There are 5 different *registration_via* methods: method \"7\" is clearly the most frequent one. Methods \"3\", \"4\", and \"9\" have similar frequencies that are still high. Method \"13\" is not popular.\n"
   ]
  },
  {
   "cell_type": "markdown",
   "id": "15cb0090",
   "metadata": {},
   "source": [
    "Let's see the gender distribution:"
   ]
  },
  {
   "cell_type": "code",
   "execution_count": 22,
   "id": "f0392b07",
   "metadata": {},
   "outputs": [
    {
     "data": {
      "image/png": "[encoded data removed]",
      "text/plain": [
       "<Figure size 576x864 with 1 Axes>"
      ]
     },
     "metadata": {
      "needs_background": "light"
     },
     "output_type": "display_data"
    }
   ],
   "source": [
    "#Gender count\n",
    "plt.figure(figsize=(8,12))\n",
    "plt.subplot(413)\n",
    "sns.countplot(x=\"gender\", data=train_df)\n",
    "plt.ylabel('Count', fontsize=12)\n",
    "plt.xlabel('Gender', fontsize=12)\n",
    "plt.xticks(rotation='vertical')\n",
    "plt.title(\"Gender Distribution\", fontsize=12)\n",
    "plt.show()"
   ]
  },
  {
   "cell_type": "markdown",
   "id": "51341c5c",
   "metadata": {},
   "source": [
    "While the majority of users (60%) did not provide information on their *gender*, those who did are pretty evenly split with just a sligthly higher number of \"male\" over \"female\" users. We will later check the relationship between gender and churn rate to see if they are correlated. "
   ]
  },
  {
   "cell_type": "markdown",
   "id": "b0c305c9",
   "metadata": {},
   "source": [
    "---"
   ]
  },
  {
   "cell_type": "markdown",
   "id": "f09b8034",
   "metadata": {},
   "source": [
    "Now that we have converted `registration_init_time` into datetime we can split it into year, month, and weekday and then plot out the distributions of each."
   ]
  },
  {
   "cell_type": "code",
   "execution_count": 23,
   "id": "24441e8a",
   "metadata": {},
   "outputs": [
    {
     "data": {
      "image/png": "[encoded data removed]",
      "text/plain": [
       "<Figure size 864x864 with 1 Axes>"
      ]
     },
     "metadata": {
      "needs_background": "light"
     },
     "output_type": "display_data"
    },
    {
     "data": {
      "image/png": "[encoded data removed]",
      "text/plain": [
       "<Figure size 864x864 with 1 Axes>"
      ]
     },
     "metadata": {
      "needs_background": "light"
     },
     "output_type": "display_data"
    },
    {
     "data": {
      "image/png": "[encoded data removed]",
      "text/plain": [
       "<Figure size 864x864 with 1 Axes>"
      ]
     },
     "metadata": {
      "needs_background": "light"
     },
     "output_type": "display_data"
    }
   ],
   "source": [
    "#registration_init_time yearly trend\n",
    "train_df['registration_init_time_year'] = pd.DatetimeIndex(train_df['registration_init_time']).year\n",
    "train_df['registration_init_time_year'] = train_df.registration_init_time_year.apply(lambda x: int(x) if pd.notnull(x) else \"NAN\")\n",
    "year_count=train_df['registration_init_time_year'].value_counts()\n",
    "#print(year_count)\n",
    "plt.figure(figsize=(12,12))\n",
    "plt.subplot(311)\n",
    "year_order = train_df['registration_init_time_year'].unique()\n",
    "year_order=sorted(year_order, key=lambda x: str(x))\n",
    "year_order = sorted(year_order, key=lambda x: float(x))\n",
    "sns.barplot(x=year_count.index,y=year_count.values,order=year_order, color='cornflowerblue')\n",
    "plt.ylabel('Count', fontsize=12)\n",
    "plt.xlabel('Year', fontsize=12)\n",
    "plt.xticks(rotation='vertical')\n",
    "plt.title(\"Yearly Trend of registration_init_time\", fontsize=12)\n",
    "plt.show()\n",
    "\n",
    "#registration_init_time monthly trend\n",
    "train_df['registration_init_time_month'] = pd.DatetimeIndex(train_df['registration_init_time']).month\n",
    "train_df['registration_init_time_month'] = train_df.registration_init_time_month.apply(lambda x: int(x) if pd.notnull(x) else \"NAN\" )\n",
    "month_count=train_df['registration_init_time_month'].value_counts()\n",
    "plt.figure(figsize=(12,12))\n",
    "plt.subplot(312)\n",
    "month_order = train_df['registration_init_time_month'].unique()\n",
    "month_order = sorted(month_order, key=lambda x: str(x))\n",
    "month_order = sorted(month_order, key=lambda x: float(x))\n",
    "sns.barplot(x= month_count.index, y= month_count.values,order=month_order, color='coral')\n",
    "plt.ylabel('Count', fontsize=12)\n",
    "plt.xlabel('Month', fontsize=12)\n",
    "plt.xticks(rotation='vertical')\n",
    "plt.title(\"Monthly Trend of registration_init_time\", fontsize=12)\n",
    "plt.show()\n",
    "\n",
    "#registration_init_time day wise trend\n",
    "train_df['registration_init_time_weekday'] = train_df['registration_init_time'].dt.day_name()\n",
    "train_df['registration_init_time_weekday'] = train_df.registration_init_time_weekday.apply(lambda x: str(x) if pd.notnull(x) else \"NAN\")\n",
    "day_count=train_df['registration_init_time_weekday'].value_counts()\n",
    "plt.figure(figsize=(12,12))\n",
    "plt.subplot(313)\n",
    "day_order = ['Monday','Tuesday','Wednesday','Thursday','Friday','Saturday','Sunday','NAN']\n",
    "sns.barplot(x=day_count.index, y=day_count.values, order=day_order, color='orchid')\n",
    "plt.ylabel('Count', fontsize=12)\n",
    "plt.xlabel('Day', fontsize=12)\n",
    "plt.xticks(rotation='vertical')\n",
    "plt.title(\"Day-wise Trend of registration_init_time\", fontsize=12)\n",
    "plt.show()"
   ]
  },
  {
   "cell_type": "markdown",
   "id": "d7ce93b8",
   "metadata": {},
   "source": [
    "After a slow start from 2004-2009, the popularity started rising slowly after 2010, with a dip in 2014, and increased strongly after 2015. The dataset has only the first quarter data for 2017. \n",
    "\n",
    "The monthly trend shows that Jan, Feb, and Oct-Dec have higher number of initial registrations than the rest of the months. Apr and May are the least popular months. \n",
    "\n",
    "We see that the weekend (Saturday and Sunday) have higher initial registration than the rest of the week. Amongs the weekdays only, Friday has higher registration numbers."
   ]
  },
  {
   "cell_type": "markdown",
   "id": "b9294396",
   "metadata": {},
   "source": [
    "In order to use these time data, we have to deal with the null values. One method we can try is to replace the null values with the most common year, month, and day respectively. For example, when looking at the years, 2016 has the highest frequency so we can replace the null values with 2016.  "
   ]
  },
  {
   "cell_type": "markdown",
   "id": "86541db1",
   "metadata": {},
   "source": [
    "---"
   ]
  },
  {
   "cell_type": "markdown",
   "id": "68b6db5a",
   "metadata": {},
   "source": [
    "Now, we investigate the outliers and null values in the age feature, and then plot it's distribution."
   ]
  },
  {
   "cell_type": "code",
   "execution_count": 24,
   "id": "47c39fe5",
   "metadata": {
    "scrolled": false
   },
   "outputs": [
    {
     "name": "stdout",
     "output_type": "stream",
     "text": [
      "count    860967.000000\n",
      "mean         13.583854\n",
      "std          20.064040\n",
      "min       -3152.000000\n",
      "25%           0.000000\n",
      "50%           0.000000\n",
      "75%          27.000000\n",
      "max        2016.000000\n",
      "Name: bd, dtype: float64\n"
     ]
    }
   ],
   "source": [
    "# there are many outliers present for the age column\n",
    "print(train_df['bd'].describe())"
   ]
  },
  {
   "cell_type": "markdown",
   "id": "3ec8eccb",
   "metadata": {},
   "source": [
    "The minimum and maximum age values do not make any sense at all. We will need to replace these outliers by keeping a more sensible age range between 1-100. Let's determine what the most frequent age is to use this metric as a way to replace missing values and outliers."
   ]
  },
  {
   "cell_type": "code",
   "execution_count": 25,
   "id": "a55e78fa",
   "metadata": {},
   "outputs": [
    {
     "data": {
      "text/plain": [
       "388"
      ]
     },
     "execution_count": 25,
     "metadata": {},
     "output_type": "execute_result"
    }
   ],
   "source": [
    "len( train_df[ train_df['bd']  > 104 ] )"
   ]
  },
  {
   "cell_type": "code",
   "execution_count": 26,
   "id": "49e15fb1",
   "metadata": {
    "scrolled": false
   },
   "outputs": [
    {
     "data": {
      "text/plain": [
       "0.0     473729\n",
       "27.0     22786\n",
       "26.0     21829\n",
       "25.0     20651\n",
       "24.0     20296\n",
       "Name: bd, dtype: int64"
      ]
     },
     "execution_count": 26,
     "metadata": {},
     "output_type": "execute_result"
    }
   ],
   "source": [
    "tmp_1=train_df.bd.value_counts()\n",
    "tmp_1.head()"
   ]
  },
  {
   "cell_type": "markdown",
   "id": "33a9607b",
   "metadata": {},
   "source": [
    "Since age 0 is the most common, it is not going to be useful for replacing. We can now see that the age ranges of users are between 20 (if we go with the standard deviation) and 27 (mode besides 0) with a mean of 13. The mean is not a good choice because it is skewed by the outliers. The safest age to choose would be 20 because it is in the middle. "
   ]
  },
  {
   "cell_type": "code",
   "execution_count": 27,
   "id": "f8e06b2d",
   "metadata": {},
   "outputs": [],
   "source": [
    "train_df['bd'] = train_df.bd.apply(lambda x: int(x) if pd.notnull(x) else \"NAN\")"
   ]
  },
  {
   "cell_type": "code",
   "execution_count": 28,
   "id": "58957f7c",
   "metadata": {},
   "outputs": [],
   "source": [
    "# replace outliers with std (alternatively could be replaced with 75%)\n",
    "train_df['bd'] = train_df.bd.apply(lambda x: 20 if float(x)<=1 else x )\n",
    "train_df['bd'] = train_df.bd.apply(lambda x: 20 if float(x)>=100 else x )"
   ]
  },
  {
   "cell_type": "markdown",
   "id": "2473de16",
   "metadata": {},
   "source": [
    "Now that we have replaced the missing values and outliers, we can look at the distribution again and get more realistic mean and median values. "
   ]
  },
  {
   "cell_type": "code",
   "execution_count": 29,
   "id": "37cb5488",
   "metadata": {},
   "outputs": [
    {
     "name": "stdout",
     "output_type": "stream",
     "text": [
      "Mean of Birth Date = 24.44805433890033\n",
      "Median of Birth Date = 20.0\n"
     ]
    },
    {
     "data": {
      "image/png": "[encoded data removed]",
      "text/plain": [
       "<Figure size 576x576 with 1 Axes>"
      ]
     },
     "metadata": {
      "needs_background": "light"
     },
     "output_type": "display_data"
    }
   ],
   "source": [
    "#Birth Date count in training Data Set without outliers and NAN\n",
    "tmp_bd = train_df[(train_df.bd != \"NAN\")] \n",
    "print(\"Mean of Birth Date = \" +str(np.mean(tmp_bd['bd'])))\n",
    "print(\"Median of Birth Date = \" +str(np.median(tmp_bd['bd'])))\n",
    "plt.figure(figsize=(8,8))\n",
    "plt.subplot(211)\n",
    "bd_order = tmp_bd['bd'].unique()\n",
    "bd_order = sorted(bd_order, key=lambda x: float(x))\n",
    "#sns.countplot(x=\"bd\", data=tmp_bd , order = bd_order)\n",
    "sns.histplot(tmp_bd['bd'],bins=20,color='r')\n",
    "plt.ylabel('Count', fontsize=12)\n",
    "plt.xlabel('BD', fontsize=12)\n",
    "plt.xlim(15,70)\n",
    "plt.xticks(rotation='vertical')\n",
    "plt.title(\"Frequency of Age Count\", fontsize=12)\n",
    "plt.show()"
   ]
  },
  {
   "cell_type": "markdown",
   "id": "1c9ea454",
   "metadata": {},
   "source": [
    "The most common users are young adults between 20-30 years old. After which the age distribution declines towards 60."
   ]
  },
  {
   "cell_type": "markdown",
   "id": "a79f4434",
   "metadata": {},
   "source": [
    "### 1.3 Exploring Members Dataset and Churn"
   ]
  },
  {
   "cell_type": "markdown",
   "id": "c17b5876",
   "metadata": {},
   "source": [
    "Now we will look into the isolated relationships between churn and a given feature from the members data to investigate member behaviour regarding churn. First we investigate the ages and whether or not the users of a given age are more likely to churn. "
   ]
  },
  {
   "cell_type": "code",
   "execution_count": 30,
   "id": "c708d3e5",
   "metadata": {
    "scrolled": false
   },
   "outputs": [
    {
     "data": {
      "text/plain": [
       "Text(0.5, 1.0, 'Churn Distribution by Age')"
      ]
     },
     "execution_count": 30,
     "metadata": {},
     "output_type": "execute_result"
    },
    {
     "data": {
      "image/png": "[encoded data removed]",
      "text/plain": [
       "<Figure size 432x288 with 1 Axes>"
      ]
     },
     "metadata": {
      "needs_background": "light"
     },
     "output_type": "display_data"
    }
   ],
   "source": [
    "sns.histplot(data= tmp_bd, x= 'bd', hue = 'is_churn', bins=20)\n",
    "plt.yscale('log')\n",
    "plt.ylabel('Number of Users')\n",
    "plt.xlabel('Age')\n",
    "plt.title('Churn Distribution by Age')"
   ]
  },
  {
   "cell_type": "markdown",
   "id": "fb01bd9f",
   "metadata": {},
   "source": [
    "We knew from our previous plot that 20-30 year olds were the most frequent users. We looked into the churn distribution by age to see if there are any noticeable patterns or differences between churning and not churning based on age. We can see that the distributions follow the same right-skewed distribution where 20-30 year olds are the most likely to both churn and not churn. This is because they are the most frequent users. But at least we gained information that there's no unexpected sudden change in pattern. "
   ]
  },
  {
   "cell_type": "markdown",
   "id": "ad09fceb",
   "metadata": {},
   "source": [
    "Now let's determine the churn distribution by city. "
   ]
  },
  {
   "cell_type": "code",
   "execution_count": 32,
   "id": "fdc238f5",
   "metadata": {},
   "outputs": [
    {
     "data": {
      "text/plain": [
       "city\n",
       "1     0.066041\n",
       "3     0.153250\n",
       "4     0.148154\n",
       "5     0.152070\n",
       "6     0.147877\n",
       "7     0.125637\n",
       "8     0.155451\n",
       "9     0.144127\n",
       "10    0.152887\n",
       "11    0.136285\n",
       "12    0.161768\n",
       "13    0.140281\n",
       "14    0.134331\n",
       "15    0.147096\n",
       "16    0.123810\n",
       "17    0.116412\n",
       "18    0.132723\n",
       "19    0.138211\n",
       "20    0.119008\n",
       "21    0.172530\n",
       "22    0.143951\n",
       "Name: Ratio, dtype: float64"
      ]
     },
     "execution_count": 32,
     "metadata": {},
     "output_type": "execute_result"
    },
    {
     "data": {
      "image/png": "[encoded data removed]",
      "text/plain": [
       "<Figure size 432x288 with 1 Axes>"
      ]
     },
     "metadata": {
      "needs_background": "light"
     },
     "output_type": "display_data"
    }
   ],
   "source": [
    "#city\n",
    "city_crosstab=pd.crosstab(train_df['city'],train_df['is_churn'])\n",
    "city_crosstab[\"Ratio\"] =  city_crosstab[1] / city_crosstab[0]\n",
    "city_crosstab[\"Ratio\"].plot(kind='bar', stacked=True)\n",
    "\n",
    "plt.ylabel('Ratio of Users Who Churn vs. Not Churn')\n",
    "plt.xlabel('City')\n",
    "plt.title('Churn Distribution by City')\n",
    "\n",
    "city_crosstab[\"Ratio\"]"
   ]
  },
  {
   "cell_type": "markdown",
   "id": "e6ad7f63",
   "metadata": {},
   "source": [
    "We can see that city 1 has the highest number of users who do not churn, which we know from our previous city frequency distribution that this city has the most members. All of the cities have an imblanced split of more users who do not churn vs. users who churn. This is a good thing for the business! The churn rate across all cities except city 1 vary between 6% and 17%. City 1 has a churn rate of 6%. What is interesting is that the mean across all cities when we include city 1 is 9%. City 1 has the greatest influence as this is where most of the members live."
   ]
  },
  {
   "cell_type": "code",
   "execution_count": 42,
   "id": "dc86c04a",
   "metadata": {},
   "outputs": [
    {
     "data": {
      "text/plain": [
       "0.0"
      ]
     },
     "execution_count": 42,
     "metadata": {},
     "output_type": "execute_result"
    }
   ],
   "source": [
    "stats.chi2_contingency(city_crosstab)[1]"
   ]
  },
  {
   "cell_type": "markdown",
   "id": "4b7ba9a6",
   "metadata": {},
   "source": [
    "With a p-value of 0, we can reject the null hypothesis that `city` and `is_churn` are independent. It appears that there is a statistically significant difference between `city` and `is_churn` since the p-value is less than 0.05. "
   ]
  },
  {
   "cell_type": "markdown",
   "id": "65e94f74",
   "metadata": {},
   "source": [
    "Next we can visualize the churn distribution by registration method."
   ]
  },
  {
   "cell_type": "code",
   "execution_count": 34,
   "id": "f7f7ec1b",
   "metadata": {},
   "outputs": [
    {
     "data": {
      "text/html": [
       "<div>\n",
       "<style scoped>\n",
       "    .dataframe tbody tr th:only-of-type {\n",
       "        vertical-align: middle;\n",
       "    }\n",
       "\n",
       "    .dataframe tbody tr th {\n",
       "        vertical-align: top;\n",
       "    }\n",
       "\n",
       "    .dataframe thead th {\n",
       "        text-align: right;\n",
       "    }\n",
       "</style>\n",
       "<table border=\"1\" class=\"dataframe\">\n",
       "  <thead>\n",
       "    <tr style=\"text-align: right;\">\n",
       "      <th>is_churn</th>\n",
       "      <th>0</th>\n",
       "      <th>1</th>\n",
       "      <th>Ratio</th>\n",
       "    </tr>\n",
       "    <tr>\n",
       "      <th>registered_via</th>\n",
       "      <th></th>\n",
       "      <th></th>\n",
       "      <th></th>\n",
       "    </tr>\n",
       "  </thead>\n",
       "  <tbody>\n",
       "    <tr>\n",
       "      <th>3</th>\n",
       "      <td>88121</td>\n",
       "      <td>18338</td>\n",
       "      <td>0.208100</td>\n",
       "    </tr>\n",
       "    <tr>\n",
       "      <th>4</th>\n",
       "      <td>40559</td>\n",
       "      <td>12185</td>\n",
       "      <td>0.300427</td>\n",
       "    </tr>\n",
       "    <tr>\n",
       "      <th>7</th>\n",
       "      <td>546098</td>\n",
       "      <td>26579</td>\n",
       "      <td>0.048671</td>\n",
       "    </tr>\n",
       "    <tr>\n",
       "      <th>9</th>\n",
       "      <td>205796</td>\n",
       "      <td>29893</td>\n",
       "      <td>0.145255</td>\n",
       "    </tr>\n",
       "    <tr>\n",
       "      <th>13</th>\n",
       "      <td>3056</td>\n",
       "      <td>335</td>\n",
       "      <td>0.109620</td>\n",
       "    </tr>\n",
       "  </tbody>\n",
       "</table>\n",
       "</div>"
      ],
      "text/plain": [
       "is_churn             0      1     Ratio\n",
       "registered_via                         \n",
       "3                88121  18338  0.208100\n",
       "4                40559  12185  0.300427\n",
       "7               546098  26579  0.048671\n",
       "9               205796  29893  0.145255\n",
       "13                3056    335  0.109620"
      ]
     },
     "execution_count": 34,
     "metadata": {},
     "output_type": "execute_result"
    },
    {
     "data": {
      "image/png": "[encoded data removed]",
      "text/plain": [
       "<Figure size 432x288 with 1 Axes>"
      ]
     },
     "metadata": {
      "needs_background": "light"
     },
     "output_type": "display_data"
    }
   ],
   "source": [
    "#Registered Via\n",
    "registered_via_crosstab=pd.crosstab(train_df['registered_via'],train_df['is_churn'])\n",
    "registered_via_crosstab.plot(kind='bar', stacked=True)\n",
    "\n",
    "plt.ylabel('Number of Users')\n",
    "plt.xlabel('Registration Method')\n",
    "plt.title('Churn Distribution by Registration Method')\n",
    "registered_via_crosstab[\"Ratio\"] =  registered_via_crosstab[1] / registered_via_crosstab[0]\n",
    "registered_via_crosstab"
   ]
  },
  {
   "cell_type": "markdown",
   "id": "cf713520",
   "metadata": {},
   "source": [
    "It appears that registration method gives us some insight into user churn behaviour. When comparing the ratios of churn rate across the registration methods used, we find that for the second least used method, 4, the churn rate is highest at 30% while the most used method 7 has the lowest churn rate of 4%. Method 9 is the second most used method and has a churn rate of 14.5%. This feature is a good candidate for our churn model prediction. "
   ]
  },
  {
   "cell_type": "code",
   "execution_count": 41,
   "id": "5a99c4b1",
   "metadata": {},
   "outputs": [
    {
     "data": {
      "text/plain": [
       "(38822.75138632618,\n",
       " 0.0,\n",
       " 8,\n",
       " array([[9.68839822e+04, 9.57513684e+03, 8.90382941e-02],\n",
       "        [4.80003370e+04, 4.74391932e+03, 4.41132582e-02],\n",
       "        [5.21168943e+05, 5.15076263e+04, 4.78964558e-01],\n",
       "        [2.14490633e+05, 2.11983149e+04, 1.97121130e-01],\n",
       "        [3.08610415e+03, 3.05002632e+02, 2.83619070e-03]]))"
      ]
     },
     "execution_count": 41,
     "metadata": {},
     "output_type": "execute_result"
    }
   ],
   "source": [
    "stats.chi2_contingency(registered_via_crosstab)"
   ]
  },
  {
   "cell_type": "markdown",
   "id": "40dd4a81",
   "metadata": {},
   "source": [
    "With a p-value of 0, we can reject the null hypothesis that `registered_via` and `is_churn` are independent. It appears that there is a statistically significant difference between `registered_via` and `is_churn` since the p-value is less than 0.05. "
   ]
  },
  {
   "cell_type": "markdown",
   "id": "29c45337",
   "metadata": {},
   "source": [
    "We now turn our attention to `gender` to see if there are any differences in the churn rate. "
   ]
  },
  {
   "cell_type": "code",
   "execution_count": 37,
   "id": "abf3afd7",
   "metadata": {},
   "outputs": [
    {
     "data": {
      "text/html": [
       "<div>\n",
       "<style scoped>\n",
       "    .dataframe tbody tr th:only-of-type {\n",
       "        vertical-align: middle;\n",
       "    }\n",
       "\n",
       "    .dataframe tbody tr th {\n",
       "        vertical-align: top;\n",
       "    }\n",
       "\n",
       "    .dataframe thead th {\n",
       "        text-align: right;\n",
       "    }\n",
       "</style>\n",
       "<table border=\"1\" class=\"dataframe\">\n",
       "  <thead>\n",
       "    <tr style=\"text-align: right;\">\n",
       "      <th>is_churn</th>\n",
       "      <th>0</th>\n",
       "      <th>1</th>\n",
       "      <th>Ratio</th>\n",
       "    </tr>\n",
       "    <tr>\n",
       "      <th>gender</th>\n",
       "      <th></th>\n",
       "      <th></th>\n",
       "      <th></th>\n",
       "    </tr>\n",
       "  </thead>\n",
       "  <tbody>\n",
       "    <tr>\n",
       "      <th>female</th>\n",
       "      <td>160404</td>\n",
       "      <td>23940</td>\n",
       "      <td>0.149248</td>\n",
       "    </tr>\n",
       "    <tr>\n",
       "      <th>male</th>\n",
       "      <td>178165</td>\n",
       "      <td>26396</td>\n",
       "      <td>0.148155</td>\n",
       "    </tr>\n",
       "  </tbody>\n",
       "</table>\n",
       "</div>"
      ],
      "text/plain": [
       "is_churn       0      1     Ratio\n",
       "gender                           \n",
       "female    160404  23940  0.149248\n",
       "male      178165  26396  0.148155"
      ]
     },
     "execution_count": 37,
     "metadata": {},
     "output_type": "execute_result"
    },
    {
     "data": {
      "image/png": "[encoded data removed]",
      "text/plain": [
       "<Figure size 432x288 with 1 Axes>"
      ]
     },
     "metadata": {
      "needs_background": "light"
     },
     "output_type": "display_data"
    }
   ],
   "source": [
    "#Gender\n",
    "gender_crosstab=pd.crosstab(train_df['gender'],train_df['is_churn'])\n",
    "gender_crosstab.plot(kind='bar')\n",
    "gender_crosstab[\"Ratio\"] =  gender_crosstab[1] / gender_crosstab[0]\n",
    "gender_crosstab"
   ]
  },
  {
   "cell_type": "markdown",
   "id": "6c841485",
   "metadata": {},
   "source": [
    "Since the churn rate is the same for both users, gender does not appear to tell us much about churn. We can probably drop this feature since it also contains many null values. "
   ]
  },
  {
   "cell_type": "code",
   "execution_count": 39,
   "id": "4ffc0691",
   "metadata": {
    "scrolled": true
   },
   "outputs": [
    {
     "data": {
      "text/plain": [
       "0.7438813248251515"
      ]
     },
     "execution_count": 39,
     "metadata": {},
     "output_type": "execute_result"
    }
   ],
   "source": [
    "stats.chi2_contingency(gender_crosstab)[1]"
   ]
  },
  {
   "cell_type": "markdown",
   "id": "ad6c9f6f",
   "metadata": {},
   "source": [
    "With a p-value of 0.7, we cannot reject the null hypothesis because `gender` and `is_churn` are dependent. It appears that there is no statistical significant difference between `gender` and `is_churn` since the p-value is greater than 0.05. This is as we expected and so now we have statistical grounds for our decision in dropping gender. "
   ]
  },
  {
   "cell_type": "markdown",
   "id": "96cbd66f",
   "metadata": {},
   "source": [
    "Now we can look at the churn rate across the dates, beginning with the yearly initial registration. "
   ]
  },
  {
   "cell_type": "code",
   "execution_count": 43,
   "id": "4683aa8b",
   "metadata": {},
   "outputs": [
    {
     "data": {
      "text/html": [
       "<div>\n",
       "<style scoped>\n",
       "    .dataframe tbody tr th:only-of-type {\n",
       "        vertical-align: middle;\n",
       "    }\n",
       "\n",
       "    .dataframe tbody tr th {\n",
       "        vertical-align: top;\n",
       "    }\n",
       "\n",
       "    .dataframe thead th {\n",
       "        text-align: right;\n",
       "    }\n",
       "</style>\n",
       "<table border=\"1\" class=\"dataframe\">\n",
       "  <thead>\n",
       "    <tr style=\"text-align: right;\">\n",
       "      <th>is_churn</th>\n",
       "      <th>0</th>\n",
       "      <th>1</th>\n",
       "      <th>Ratio</th>\n",
       "    </tr>\n",
       "    <tr>\n",
       "      <th>registration_init_time_year</th>\n",
       "      <th></th>\n",
       "      <th></th>\n",
       "      <th></th>\n",
       "    </tr>\n",
       "  </thead>\n",
       "  <tbody>\n",
       "    <tr>\n",
       "      <th>2004</th>\n",
       "      <td>7598</td>\n",
       "      <td>732</td>\n",
       "      <td>0.096341</td>\n",
       "    </tr>\n",
       "    <tr>\n",
       "      <th>2005</th>\n",
       "      <td>14553</td>\n",
       "      <td>1063</td>\n",
       "      <td>0.073043</td>\n",
       "    </tr>\n",
       "    <tr>\n",
       "      <th>2006</th>\n",
       "      <td>16579</td>\n",
       "      <td>1469</td>\n",
       "      <td>0.088606</td>\n",
       "    </tr>\n",
       "    <tr>\n",
       "      <th>2007</th>\n",
       "      <td>23792</td>\n",
       "      <td>2366</td>\n",
       "      <td>0.099445</td>\n",
       "    </tr>\n",
       "    <tr>\n",
       "      <th>2008</th>\n",
       "      <td>15909</td>\n",
       "      <td>1776</td>\n",
       "      <td>0.111635</td>\n",
       "    </tr>\n",
       "    <tr>\n",
       "      <th>2009</th>\n",
       "      <td>13987</td>\n",
       "      <td>1744</td>\n",
       "      <td>0.124687</td>\n",
       "    </tr>\n",
       "    <tr>\n",
       "      <th>2010</th>\n",
       "      <td>34143</td>\n",
       "      <td>4497</td>\n",
       "      <td>0.131711</td>\n",
       "    </tr>\n",
       "    <tr>\n",
       "      <th>2011</th>\n",
       "      <td>55366</td>\n",
       "      <td>5332</td>\n",
       "      <td>0.096305</td>\n",
       "    </tr>\n",
       "    <tr>\n",
       "      <th>2012</th>\n",
       "      <td>67327</td>\n",
       "      <td>7168</td>\n",
       "      <td>0.106465</td>\n",
       "    </tr>\n",
       "    <tr>\n",
       "      <th>2013</th>\n",
       "      <td>101915</td>\n",
       "      <td>11529</td>\n",
       "      <td>0.113124</td>\n",
       "    </tr>\n",
       "    <tr>\n",
       "      <th>2014</th>\n",
       "      <td>79880</td>\n",
       "      <td>9452</td>\n",
       "      <td>0.118327</td>\n",
       "    </tr>\n",
       "    <tr>\n",
       "      <th>2015</th>\n",
       "      <td>141159</td>\n",
       "      <td>13217</td>\n",
       "      <td>0.093632</td>\n",
       "    </tr>\n",
       "    <tr>\n",
       "      <th>2016</th>\n",
       "      <td>177914</td>\n",
       "      <td>17270</td>\n",
       "      <td>0.097069</td>\n",
       "    </tr>\n",
       "    <tr>\n",
       "      <th>2017</th>\n",
       "      <td>29397</td>\n",
       "      <td>3833</td>\n",
       "      <td>0.130387</td>\n",
       "    </tr>\n",
       "    <tr>\n",
       "      <th>NAN</th>\n",
       "      <td>104111</td>\n",
       "      <td>5882</td>\n",
       "      <td>0.056497</td>\n",
       "    </tr>\n",
       "  </tbody>\n",
       "</table>\n",
       "</div>"
      ],
      "text/plain": [
       "is_churn                          0      1     Ratio\n",
       "registration_init_time_year                         \n",
       "2004                           7598    732  0.096341\n",
       "2005                          14553   1063  0.073043\n",
       "2006                          16579   1469  0.088606\n",
       "2007                          23792   2366  0.099445\n",
       "2008                          15909   1776  0.111635\n",
       "2009                          13987   1744  0.124687\n",
       "2010                          34143   4497  0.131711\n",
       "2011                          55366   5332  0.096305\n",
       "2012                          67327   7168  0.106465\n",
       "2013                         101915  11529  0.113124\n",
       "2014                          79880   9452  0.118327\n",
       "2015                         141159  13217  0.093632\n",
       "2016                         177914  17270  0.097069\n",
       "2017                          29397   3833  0.130387\n",
       "NAN                          104111   5882  0.056497"
      ]
     },
     "execution_count": 43,
     "metadata": {},
     "output_type": "execute_result"
    },
    {
     "data": {
      "image/png": "[encoded data removed]",
      "text/plain": [
       "<Figure size 432x288 with 1 Axes>"
      ]
     },
     "metadata": {
      "needs_background": "light"
     },
     "output_type": "display_data"
    }
   ],
   "source": [
    "# initial registration year\n",
    "reg_crosstab_year=pd.crosstab(train_df['registration_init_time_year'],train_df['is_churn'])\n",
    "reg_crosstab_year.plot(kind='bar', stacked= True)\n",
    "plt.xlabel('Initial Registration Year')\n",
    "plt.ylabel('Number of Users')\n",
    "plt.title('Churn Distribution by Yearly Initial Registration')\n",
    "reg_crosstab_year[\"Ratio\"] =  reg_crosstab_year[1] / reg_crosstab_year[0]\n",
    "reg_crosstab_year"
   ]
  },
  {
   "cell_type": "markdown",
   "id": "cb0cef35",
   "metadata": {},
   "source": [
    "The churn ratio for yearly initial registration range between 7% and 13%. Users were churning less in earlier years, but after the app gained more popularity we also see the churn rate trend going up for users who registered in 2010 and 2017 with the highest churn rate at 13%. This is also a good candidate for our churn model prediction. "
   ]
  },
  {
   "cell_type": "code",
   "execution_count": 45,
   "id": "281d71d8",
   "metadata": {
    "scrolled": true
   },
   "outputs": [
    {
     "data": {
      "text/plain": [
       "(3140.245188741987,\n",
       " 0.0,\n",
       " 28,\n",
       " array([[7.58085954e+03, 7.49223616e+02, 1.31886356e-02],\n",
       "        [1.42115111e+04, 1.40453726e+03, 2.47241674e-02],\n",
       "        [1.64247830e+04, 1.62327705e+03, 2.85746592e-02],\n",
       "        [2.38053522e+04, 2.35270578e+03, 4.14148441e-02],\n",
       "        [1.60944534e+04, 1.59063026e+03, 2.79999754e-02],\n",
       "        [1.43162146e+04, 1.41488521e+03, 2.49063231e-02],\n",
       "        [3.51647087e+04, 3.47536187e+03, 6.11770375e-02],\n",
       "        [5.52387059e+04, 5.45929426e+03, 9.61003379e-02],\n",
       "        [6.77947667e+04, 6.70022179e+03, 1.17944472e-01],\n",
       "        [1.03240569e+05, 1.02033644e+04, 1.79610536e-01],\n",
       "        [8.12972880e+04, 8.03468891e+03, 1.41435190e-01],\n",
       "        [1.40490990e+05, 1.38848592e+04, 2.44416146e-01],\n",
       "        [1.77628585e+05, 1.75552033e+04, 3.09025469e-01],\n",
       "        [3.02413010e+04, 2.98877677e+03, 5.26116461e-02],\n",
       "        [1.00099912e+05, 9.89297027e+03, 1.74146646e-01]]))"
      ]
     },
     "execution_count": 45,
     "metadata": {},
     "output_type": "execute_result"
    }
   ],
   "source": [
    "stats.chi2_contingency(reg_crosstab_year)"
   ]
  },
  {
   "cell_type": "markdown",
   "id": "21946d79",
   "metadata": {},
   "source": [
    "With a p-value of 0, we can reject the null hypothesis that `registered_via` and `is_churn` are independent. It appears that there is a statistically significant difference between `registered_via` and `is_churn` since the p-value is less than 0.05. "
   ]
  },
  {
   "cell_type": "markdown",
   "id": "0b6b3f86",
   "metadata": {},
   "source": [
    "Now we look at the months to see if users churn in particular months. "
   ]
  },
  {
   "cell_type": "code",
   "execution_count": 47,
   "id": "4e1cd9ab",
   "metadata": {},
   "outputs": [
    {
     "data": {
      "text/html": [
       "<div>\n",
       "<style scoped>\n",
       "    .dataframe tbody tr th:only-of-type {\n",
       "        vertical-align: middle;\n",
       "    }\n",
       "\n",
       "    .dataframe tbody tr th {\n",
       "        vertical-align: top;\n",
       "    }\n",
       "\n",
       "    .dataframe thead th {\n",
       "        text-align: right;\n",
       "    }\n",
       "</style>\n",
       "<table border=\"1\" class=\"dataframe\">\n",
       "  <thead>\n",
       "    <tr style=\"text-align: right;\">\n",
       "      <th>is_churn</th>\n",
       "      <th>0</th>\n",
       "      <th>1</th>\n",
       "      <th>Ratio</th>\n",
       "    </tr>\n",
       "    <tr>\n",
       "      <th>registration_init_time_month</th>\n",
       "      <th></th>\n",
       "      <th></th>\n",
       "      <th></th>\n",
       "    </tr>\n",
       "  </thead>\n",
       "  <tbody>\n",
       "    <tr>\n",
       "      <th>1</th>\n",
       "      <td>80691</td>\n",
       "      <td>8949</td>\n",
       "      <td>0.110905</td>\n",
       "    </tr>\n",
       "    <tr>\n",
       "      <th>2</th>\n",
       "      <td>76593</td>\n",
       "      <td>9035</td>\n",
       "      <td>0.117961</td>\n",
       "    </tr>\n",
       "    <tr>\n",
       "      <th>3</th>\n",
       "      <td>58027</td>\n",
       "      <td>7911</td>\n",
       "      <td>0.136333</td>\n",
       "    </tr>\n",
       "    <tr>\n",
       "      <th>4</th>\n",
       "      <td>45004</td>\n",
       "      <td>4728</td>\n",
       "      <td>0.105057</td>\n",
       "    </tr>\n",
       "    <tr>\n",
       "      <th>5</th>\n",
       "      <td>50419</td>\n",
       "      <td>5025</td>\n",
       "      <td>0.099665</td>\n",
       "    </tr>\n",
       "    <tr>\n",
       "      <th>6</th>\n",
       "      <td>53218</td>\n",
       "      <td>5364</td>\n",
       "      <td>0.100793</td>\n",
       "    </tr>\n",
       "    <tr>\n",
       "      <th>7</th>\n",
       "      <td>67361</td>\n",
       "      <td>5843</td>\n",
       "      <td>0.086742</td>\n",
       "    </tr>\n",
       "    <tr>\n",
       "      <th>8</th>\n",
       "      <td>68437</td>\n",
       "      <td>6631</td>\n",
       "      <td>0.096892</td>\n",
       "    </tr>\n",
       "    <tr>\n",
       "      <th>9</th>\n",
       "      <td>61383</td>\n",
       "      <td>6602</td>\n",
       "      <td>0.107554</td>\n",
       "    </tr>\n",
       "    <tr>\n",
       "      <th>10</th>\n",
       "      <td>73268</td>\n",
       "      <td>7260</td>\n",
       "      <td>0.099088</td>\n",
       "    </tr>\n",
       "    <tr>\n",
       "      <th>11</th>\n",
       "      <td>71233</td>\n",
       "      <td>6755</td>\n",
       "      <td>0.094830</td>\n",
       "    </tr>\n",
       "    <tr>\n",
       "      <th>12</th>\n",
       "      <td>73885</td>\n",
       "      <td>7345</td>\n",
       "      <td>0.099411</td>\n",
       "    </tr>\n",
       "    <tr>\n",
       "      <th>NAN</th>\n",
       "      <td>104111</td>\n",
       "      <td>5882</td>\n",
       "      <td>0.056497</td>\n",
       "    </tr>\n",
       "  </tbody>\n",
       "</table>\n",
       "</div>"
      ],
      "text/plain": [
       "is_churn                           0     1     Ratio\n",
       "registration_init_time_month                        \n",
       "1                              80691  8949  0.110905\n",
       "2                              76593  9035  0.117961\n",
       "3                              58027  7911  0.136333\n",
       "4                              45004  4728  0.105057\n",
       "5                              50419  5025  0.099665\n",
       "6                              53218  5364  0.100793\n",
       "7                              67361  5843  0.086742\n",
       "8                              68437  6631  0.096892\n",
       "9                              61383  6602  0.107554\n",
       "10                             73268  7260  0.099088\n",
       "11                             71233  6755  0.094830\n",
       "12                             73885  7345  0.099411\n",
       "NAN                           104111  5882  0.056497"
      ]
     },
     "execution_count": 47,
     "metadata": {},
     "output_type": "execute_result"
    },
    {
     "data": {
      "image/png": "[encoded data removed]",
      "text/plain": [
       "<Figure size 432x288 with 1 Axes>"
      ]
     },
     "metadata": {
      "needs_background": "light"
     },
     "output_type": "display_data"
    }
   ],
   "source": [
    "# initial registration month\n",
    "reg_crosstab_month=pd.crosstab(train_df['registration_init_time_month'],train_df['is_churn'])\n",
    "reg_crosstab_month.plot(kind='bar', stacked=True)\n",
    "plt.xlabel('Initial Registration Month')\n",
    "plt.ylabel('Number of Users')\n",
    "plt.title('Churn Distribution by Monthly Initial Registration')\n",
    "reg_crosstab_month[\"Ratio\"] =  reg_crosstab_month[1] / reg_crosstab_month[0]\n",
    "reg_crosstab_month"
   ]
  },
  {
   "cell_type": "markdown",
   "id": "d7e1f056",
   "metadata": {},
   "source": [
    "The churn ratios for monthly initial registration range between 8% and 13%. Users who registered in March have the highest churn rate at 13%. We know from earlier that the monthly distribution showed us that the most frequent months of registration were the fall and winter months from October-February. This can also be a good candidate for churn prediction. "
   ]
  },
  {
   "cell_type": "code",
   "execution_count": 48,
   "id": "fe0894f4",
   "metadata": {},
   "outputs": [
    {
     "data": {
      "text/plain": [
       "(3040.2574519323566,\n",
       " 0.0,\n",
       " 24,\n",
       " array([[8.15775976e+04, 8.06239218e+03, 1.21100058e-01],\n",
       "        [7.79264559e+04, 7.70154635e+03, 1.15680023e-01],\n",
       "        [6.00074531e+04, 5.93059412e+03, 8.90796771e-02],\n",
       "        [4.52590432e+04, 4.47299463e+03, 6.71860036e-02],\n",
       "        [5.04572831e+04, 4.98674166e+03, 7.49026705e-02],\n",
       "        [5.33130425e+04, 5.26897910e+03, 7.91419794e-02],\n",
       "        [6.66198811e+04, 6.58410672e+03, 9.88956737e-02],\n",
       "        [6.83162363e+04, 6.75175913e+03, 1.01413874e-01],\n",
       "        [6.18703133e+04, 6.11470238e+03, 9.18450500e-02],\n",
       "        [7.32851488e+04, 7.24284151e+03, 1.08790109e-01],\n",
       "        [7.09736005e+04, 7.01438898e+03, 1.05358669e-01],\n",
       "        [7.39240090e+04, 7.30598068e+03, 1.09738483e-01],\n",
       "        [1.00099935e+05, 9.89297257e+03, 1.48596040e-01]]))"
      ]
     },
     "execution_count": 48,
     "metadata": {},
     "output_type": "execute_result"
    }
   ],
   "source": [
    "stats.chi2_contingency(reg_crosstab_month)"
   ]
  },
  {
   "cell_type": "markdown",
   "id": "fc9ddc0b",
   "metadata": {},
   "source": [
    "Now let's look in the weekdays."
   ]
  },
  {
   "cell_type": "code",
   "execution_count": 49,
   "id": "fb4fb84a",
   "metadata": {},
   "outputs": [
    {
     "data": {
      "text/html": [
       "<div>\n",
       "<style scoped>\n",
       "    .dataframe tbody tr th:only-of-type {\n",
       "        vertical-align: middle;\n",
       "    }\n",
       "\n",
       "    .dataframe tbody tr th {\n",
       "        vertical-align: top;\n",
       "    }\n",
       "\n",
       "    .dataframe thead th {\n",
       "        text-align: right;\n",
       "    }\n",
       "</style>\n",
       "<table border=\"1\" class=\"dataframe\">\n",
       "  <thead>\n",
       "    <tr style=\"text-align: right;\">\n",
       "      <th>is_churn</th>\n",
       "      <th>0</th>\n",
       "      <th>1</th>\n",
       "      <th>Ratio</th>\n",
       "    </tr>\n",
       "    <tr>\n",
       "      <th>registration_init_time_weekday</th>\n",
       "      <th></th>\n",
       "      <th></th>\n",
       "      <th></th>\n",
       "    </tr>\n",
       "  </thead>\n",
       "  <tbody>\n",
       "    <tr>\n",
       "      <th>Friday</th>\n",
       "      <td>111931</td>\n",
       "      <td>11707</td>\n",
       "      <td>0.104591</td>\n",
       "    </tr>\n",
       "    <tr>\n",
       "      <th>Monday</th>\n",
       "      <td>108717</td>\n",
       "      <td>11176</td>\n",
       "      <td>0.102799</td>\n",
       "    </tr>\n",
       "    <tr>\n",
       "      <th>NAN</th>\n",
       "      <td>104111</td>\n",
       "      <td>5882</td>\n",
       "      <td>0.056497</td>\n",
       "    </tr>\n",
       "    <tr>\n",
       "      <th>Saturday</th>\n",
       "      <td>126299</td>\n",
       "      <td>12969</td>\n",
       "      <td>0.102685</td>\n",
       "    </tr>\n",
       "    <tr>\n",
       "      <th>Sunday</th>\n",
       "      <td>109904</td>\n",
       "      <td>12283</td>\n",
       "      <td>0.111761</td>\n",
       "    </tr>\n",
       "    <tr>\n",
       "      <th>Thursday</th>\n",
       "      <td>107685</td>\n",
       "      <td>11196</td>\n",
       "      <td>0.103970</td>\n",
       "    </tr>\n",
       "    <tr>\n",
       "      <th>Tuesday</th>\n",
       "      <td>108724</td>\n",
       "      <td>11060</td>\n",
       "      <td>0.101725</td>\n",
       "    </tr>\n",
       "    <tr>\n",
       "      <th>Wednesday</th>\n",
       "      <td>106259</td>\n",
       "      <td>11057</td>\n",
       "      <td>0.104057</td>\n",
       "    </tr>\n",
       "  </tbody>\n",
       "</table>\n",
       "</div>"
      ],
      "text/plain": [
       "is_churn                             0      1     Ratio\n",
       "registration_init_time_weekday                         \n",
       "Friday                          111931  11707  0.104591\n",
       "Monday                          108717  11176  0.102799\n",
       "NAN                             104111   5882  0.056497\n",
       "Saturday                        126299  12969  0.102685\n",
       "Sunday                          109904  12283  0.111761\n",
       "Thursday                        107685  11196  0.103970\n",
       "Tuesday                         108724  11060  0.101725\n",
       "Wednesday                       106259  11057  0.104057"
      ]
     },
     "execution_count": 49,
     "metadata": {},
     "output_type": "execute_result"
    },
    {
     "data": {
      "image/png": "[encoded data removed]",
      "text/plain": [
       "<Figure size 432x288 with 1 Axes>"
      ]
     },
     "metadata": {
      "needs_background": "light"
     },
     "output_type": "display_data"
    }
   ],
   "source": [
    "reg_crosstab_weekday=pd.crosstab(train_df['registration_init_time_weekday'],train_df['is_churn'])\n",
    "reg_crosstab_weekday.plot(kind='bar', stacked=True)\n",
    "plt.xlabel('Initial Registration Day')\n",
    "plt.ylabel('Number of Users')\n",
    "plt.title('Churn Distribution by Daily Initial Registration')\n",
    "reg_crosstab_weekday[\"Ratio\"] =  reg_crosstab_weekday[1] / reg_crosstab_weekday[0]\n",
    "reg_crosstab_weekday"
   ]
  },
  {
   "cell_type": "markdown",
   "id": "c13273b1",
   "metadata": {},
   "source": [
    "The churn ratios are very similar for initial registration throughout the weekdays ranging from 10% to 11% across all days of the week. Since there are no differences, this feature does not seem to be a good predictor of churn. "
   ]
  },
  {
   "cell_type": "code",
   "execution_count": 50,
   "id": "40de262b",
   "metadata": {},
   "outputs": [
    {
     "data": {
      "text/plain": [
       "(2082.136420366195,\n",
       " 0.0,\n",
       " 14,\n",
       " array([[1.12517766e+05, 1.11202386e+04, 1.00351609e-01],\n",
       "        [1.09109599e+05, 1.07834063e+04, 9.73119558e-02],\n",
       "        [1.00099989e+05, 9.89297791e+03, 8.92765239e-02],\n",
       "        [1.26741960e+05, 1.25260294e+04, 1.13037791e-01],\n",
       "        [1.11197279e+05, 1.09897337e+04, 9.91739020e-02],\n",
       "        [1.08188622e+05, 1.06923853e+04, 9.64905609e-02],\n",
       "        [1.09010402e+05, 1.07736025e+04, 9.72234845e-02],\n",
       "        [1.06764383e+05, 1.05516263e+04, 9.52203194e-02]]))"
      ]
     },
     "execution_count": 50,
     "metadata": {},
     "output_type": "execute_result"
    }
   ],
   "source": [
    "stats.chi2_contingency(reg_crosstab_weekday)"
   ]
  },
  {
   "cell_type": "markdown",
   "id": "5962c28c",
   "metadata": {},
   "source": [
    "### 1.4 Transactions Dataset Analysis "
   ]
  },
  {
   "cell_type": "markdown",
   "id": "4e3f1af6",
   "metadata": {},
   "source": [
    "In the transactions dataset we find payment and membership related information. In this section, we look for unique msno (member id) transaction behaviour as well as any missing values. "
   ]
  },
  {
   "cell_type": "code",
   "execution_count": 51,
   "id": "fe7b7fe7",
   "metadata": {},
   "outputs": [
    {
     "data": {
      "text/html": [
       "<div>\n",
       "<style scoped>\n",
       "    .dataframe tbody tr th:only-of-type {\n",
       "        vertical-align: middle;\n",
       "    }\n",
       "\n",
       "    .dataframe tbody tr th {\n",
       "        vertical-align: top;\n",
       "    }\n",
       "\n",
       "    .dataframe thead th {\n",
       "        text-align: right;\n",
       "    }\n",
       "</style>\n",
       "<table border=\"1\" class=\"dataframe\">\n",
       "  <thead>\n",
       "    <tr style=\"text-align: right;\">\n",
       "      <th></th>\n",
       "      <th>msno</th>\n",
       "      <th>payment_method_id</th>\n",
       "      <th>payment_plan_days</th>\n",
       "      <th>plan_list_price</th>\n",
       "      <th>actual_amount_paid</th>\n",
       "      <th>is_auto_renew</th>\n",
       "      <th>transaction_date</th>\n",
       "      <th>membership_expire_date</th>\n",
       "      <th>is_cancel</th>\n",
       "    </tr>\n",
       "  </thead>\n",
       "  <tbody>\n",
       "    <tr>\n",
       "      <th>0</th>\n",
       "      <td>YyO+tlZtAXYXoZhNr3Vg3+dfVQvrBVGO8j1mfqe4ZHc=</td>\n",
       "      <td>41</td>\n",
       "      <td>30</td>\n",
       "      <td>129</td>\n",
       "      <td>129</td>\n",
       "      <td>1</td>\n",
       "      <td>20150930</td>\n",
       "      <td>20151101</td>\n",
       "      <td>0</td>\n",
       "    </tr>\n",
       "    <tr>\n",
       "      <th>1</th>\n",
       "      <td>AZtu6Wl0gPojrEQYB8Q3vBSmE2wnZ3hi1FbK1rQQ0A4=</td>\n",
       "      <td>41</td>\n",
       "      <td>30</td>\n",
       "      <td>149</td>\n",
       "      <td>149</td>\n",
       "      <td>1</td>\n",
       "      <td>20150930</td>\n",
       "      <td>20151031</td>\n",
       "      <td>0</td>\n",
       "    </tr>\n",
       "    <tr>\n",
       "      <th>2</th>\n",
       "      <td>UkDFI97Qb6+s2LWcijVVv4rMAsORbVDT2wNXF0aVbns=</td>\n",
       "      <td>41</td>\n",
       "      <td>30</td>\n",
       "      <td>129</td>\n",
       "      <td>129</td>\n",
       "      <td>1</td>\n",
       "      <td>20150930</td>\n",
       "      <td>20160427</td>\n",
       "      <td>0</td>\n",
       "    </tr>\n",
       "    <tr>\n",
       "      <th>3</th>\n",
       "      <td>M1C56ijxozNaGD0t2h68PnH2xtx5iO5iR2MVYQB6nBI=</td>\n",
       "      <td>39</td>\n",
       "      <td>30</td>\n",
       "      <td>149</td>\n",
       "      <td>149</td>\n",
       "      <td>1</td>\n",
       "      <td>20150930</td>\n",
       "      <td>20151128</td>\n",
       "      <td>0</td>\n",
       "    </tr>\n",
       "    <tr>\n",
       "      <th>4</th>\n",
       "      <td>yvj6zyBUaqdbUQSrKsrZ+xNDVM62knauSZJzakS9OW4=</td>\n",
       "      <td>39</td>\n",
       "      <td>30</td>\n",
       "      <td>149</td>\n",
       "      <td>149</td>\n",
       "      <td>1</td>\n",
       "      <td>20150930</td>\n",
       "      <td>20151121</td>\n",
       "      <td>0</td>\n",
       "    </tr>\n",
       "  </tbody>\n",
       "</table>\n",
       "</div>"
      ],
      "text/plain": [
       "                                           msno  payment_method_id  \\\n",
       "0  YyO+tlZtAXYXoZhNr3Vg3+dfVQvrBVGO8j1mfqe4ZHc=                 41   \n",
       "1  AZtu6Wl0gPojrEQYB8Q3vBSmE2wnZ3hi1FbK1rQQ0A4=                 41   \n",
       "2  UkDFI97Qb6+s2LWcijVVv4rMAsORbVDT2wNXF0aVbns=                 41   \n",
       "3  M1C56ijxozNaGD0t2h68PnH2xtx5iO5iR2MVYQB6nBI=                 39   \n",
       "4  yvj6zyBUaqdbUQSrKsrZ+xNDVM62knauSZJzakS9OW4=                 39   \n",
       "\n",
       "   payment_plan_days  plan_list_price  actual_amount_paid  is_auto_renew  \\\n",
       "0                 30              129                 129              1   \n",
       "1                 30              149                 149              1   \n",
       "2                 30              129                 129              1   \n",
       "3                 30              149                 149              1   \n",
       "4                 30              149                 149              1   \n",
       "\n",
       "   transaction_date  membership_expire_date  is_cancel  \n",
       "0          20150930                20151101          0  \n",
       "1          20150930                20151031          0  \n",
       "2          20150930                20160427          0  \n",
       "3          20150930                20151128          0  \n",
       "4          20150930                20151121          0  "
      ]
     },
     "execution_count": 51,
     "metadata": {},
     "output_type": "execute_result"
    }
   ],
   "source": [
    "transactions_df.head()"
   ]
  },
  {
   "cell_type": "code",
   "execution_count": 52,
   "id": "690f51b6",
   "metadata": {
    "scrolled": false
   },
   "outputs": [
    {
     "name": "stdout",
     "output_type": "stream",
     "text": [
      "<class 'pandas.core.frame.DataFrame'>\n",
      "Int64Index: 22978755 entries, 0 to 1431008\n",
      "Data columns (total 9 columns):\n",
      " #   Column                  Dtype \n",
      "---  ------                  ----- \n",
      " 0   msno                    object\n",
      " 1   payment_method_id       int64 \n",
      " 2   payment_plan_days       int64 \n",
      " 3   plan_list_price         int64 \n",
      " 4   actual_amount_paid      int64 \n",
      " 5   is_auto_renew           int64 \n",
      " 6   transaction_date        int64 \n",
      " 7   membership_expire_date  int64 \n",
      " 8   is_cancel               int64 \n",
      "dtypes: int64(8), object(1)\n",
      "memory usage: 1.7+ GB\n"
     ]
    }
   ],
   "source": [
    "transactions_df.info()"
   ]
  },
  {
   "cell_type": "code",
   "execution_count": 53,
   "id": "ab07ad58",
   "metadata": {
    "scrolled": true
   },
   "outputs": [
    {
     "data": {
      "text/plain": [
       "(22978755, 9)"
      ]
     },
     "execution_count": 53,
     "metadata": {},
     "output_type": "execute_result"
    }
   ],
   "source": [
    "transactions_df.shape"
   ]
  },
  {
   "cell_type": "markdown",
   "id": "82c6f54f",
   "metadata": {},
   "source": [
    "There are 22,978,755 entries in trasactions data set, compared to 970,960 entries in training set (about 4%)"
   ]
  },
  {
   "cell_type": "code",
   "execution_count": 54,
   "id": "3e7db616",
   "metadata": {
    "scrolled": true
   },
   "outputs": [
    {
     "data": {
      "text/html": [
       "<div>\n",
       "<style scoped>\n",
       "    .dataframe tbody tr th:only-of-type {\n",
       "        vertical-align: middle;\n",
       "    }\n",
       "\n",
       "    .dataframe tbody tr th {\n",
       "        vertical-align: top;\n",
       "    }\n",
       "\n",
       "    .dataframe thead th {\n",
       "        text-align: right;\n",
       "    }\n",
       "</style>\n",
       "<table border=\"1\" class=\"dataframe\">\n",
       "  <thead>\n",
       "    <tr style=\"text-align: right;\">\n",
       "      <th></th>\n",
       "      <th>msno</th>\n",
       "      <th>payment_method_id</th>\n",
       "      <th>payment_plan_days</th>\n",
       "      <th>plan_list_price</th>\n",
       "      <th>actual_amount_paid</th>\n",
       "      <th>is_auto_renew</th>\n",
       "      <th>transaction_date</th>\n",
       "      <th>membership_expire_date</th>\n",
       "      <th>is_cancel</th>\n",
       "    </tr>\n",
       "  </thead>\n",
       "  <tbody>\n",
       "    <tr>\n",
       "      <th>21168492</th>\n",
       "      <td>LNScSgIQZsX+hC3eVrwGFcdan0nftusOwk0jMAu7q9I=</td>\n",
       "      <td>36</td>\n",
       "      <td>30</td>\n",
       "      <td>150</td>\n",
       "      <td>150</td>\n",
       "      <td>0</td>\n",
       "      <td>20160120</td>\n",
       "      <td>20160219</td>\n",
       "      <td>0</td>\n",
       "    </tr>\n",
       "    <tr>\n",
       "      <th>7190561</th>\n",
       "      <td>LNScSgIQZsX+hC3eVrwGFcdan0nftusOwk0jMAu7q9I=</td>\n",
       "      <td>36</td>\n",
       "      <td>30</td>\n",
       "      <td>150</td>\n",
       "      <td>150</td>\n",
       "      <td>0</td>\n",
       "      <td>20160220</td>\n",
       "      <td>20160321</td>\n",
       "      <td>0</td>\n",
       "    </tr>\n",
       "    <tr>\n",
       "      <th>2677004</th>\n",
       "      <td>LNScSgIQZsX+hC3eVrwGFcdan0nftusOwk0jMAu7q9I=</td>\n",
       "      <td>36</td>\n",
       "      <td>30</td>\n",
       "      <td>150</td>\n",
       "      <td>150</td>\n",
       "      <td>0</td>\n",
       "      <td>20160322</td>\n",
       "      <td>20160421</td>\n",
       "      <td>0</td>\n",
       "    </tr>\n",
       "    <tr>\n",
       "      <th>11056693</th>\n",
       "      <td>LNScSgIQZsX+hC3eVrwGFcdan0nftusOwk0jMAu7q9I=</td>\n",
       "      <td>36</td>\n",
       "      <td>30</td>\n",
       "      <td>180</td>\n",
       "      <td>180</td>\n",
       "      <td>0</td>\n",
       "      <td>20160422</td>\n",
       "      <td>20160522</td>\n",
       "      <td>0</td>\n",
       "    </tr>\n",
       "    <tr>\n",
       "      <th>10331877</th>\n",
       "      <td>LNScSgIQZsX+hC3eVrwGFcdan0nftusOwk0jMAu7q9I=</td>\n",
       "      <td>36</td>\n",
       "      <td>30</td>\n",
       "      <td>180</td>\n",
       "      <td>180</td>\n",
       "      <td>0</td>\n",
       "      <td>20160523</td>\n",
       "      <td>20160622</td>\n",
       "      <td>0</td>\n",
       "    </tr>\n",
       "    <tr>\n",
       "      <th>11867363</th>\n",
       "      <td>LNScSgIQZsX+hC3eVrwGFcdan0nftusOwk0jMAu7q9I=</td>\n",
       "      <td>36</td>\n",
       "      <td>30</td>\n",
       "      <td>180</td>\n",
       "      <td>180</td>\n",
       "      <td>0</td>\n",
       "      <td>20160623</td>\n",
       "      <td>20160723</td>\n",
       "      <td>0</td>\n",
       "    </tr>\n",
       "    <tr>\n",
       "      <th>423621</th>\n",
       "      <td>LNScSgIQZsX+hC3eVrwGFcdan0nftusOwk0jMAu7q9I=</td>\n",
       "      <td>36</td>\n",
       "      <td>30</td>\n",
       "      <td>180</td>\n",
       "      <td>180</td>\n",
       "      <td>0</td>\n",
       "      <td>20160724</td>\n",
       "      <td>20160823</td>\n",
       "      <td>0</td>\n",
       "    </tr>\n",
       "    <tr>\n",
       "      <th>9228113</th>\n",
       "      <td>LNScSgIQZsX+hC3eVrwGFcdan0nftusOwk0jMAu7q9I=</td>\n",
       "      <td>36</td>\n",
       "      <td>30</td>\n",
       "      <td>180</td>\n",
       "      <td>180</td>\n",
       "      <td>0</td>\n",
       "      <td>20160831</td>\n",
       "      <td>20160930</td>\n",
       "      <td>0</td>\n",
       "    </tr>\n",
       "  </tbody>\n",
       "</table>\n",
       "</div>"
      ],
      "text/plain": [
       "                                                  msno  payment_method_id  \\\n",
       "21168492  LNScSgIQZsX+hC3eVrwGFcdan0nftusOwk0jMAu7q9I=                 36   \n",
       "7190561   LNScSgIQZsX+hC3eVrwGFcdan0nftusOwk0jMAu7q9I=                 36   \n",
       "2677004   LNScSgIQZsX+hC3eVrwGFcdan0nftusOwk0jMAu7q9I=                 36   \n",
       "11056693  LNScSgIQZsX+hC3eVrwGFcdan0nftusOwk0jMAu7q9I=                 36   \n",
       "10331877  LNScSgIQZsX+hC3eVrwGFcdan0nftusOwk0jMAu7q9I=                 36   \n",
       "11867363  LNScSgIQZsX+hC3eVrwGFcdan0nftusOwk0jMAu7q9I=                 36   \n",
       "423621    LNScSgIQZsX+hC3eVrwGFcdan0nftusOwk0jMAu7q9I=                 36   \n",
       "9228113   LNScSgIQZsX+hC3eVrwGFcdan0nftusOwk0jMAu7q9I=                 36   \n",
       "\n",
       "          payment_plan_days  plan_list_price  actual_amount_paid  \\\n",
       "21168492                 30              150                 150   \n",
       "7190561                  30              150                 150   \n",
       "2677004                  30              150                 150   \n",
       "11056693                 30              180                 180   \n",
       "10331877                 30              180                 180   \n",
       "11867363                 30              180                 180   \n",
       "423621                   30              180                 180   \n",
       "9228113                  30              180                 180   \n",
       "\n",
       "          is_auto_renew  transaction_date  membership_expire_date  is_cancel  \n",
       "21168492              0          20160120                20160219          0  \n",
       "7190561               0          20160220                20160321          0  \n",
       "2677004               0          20160322                20160421          0  \n",
       "11056693              0          20160422                20160522          0  \n",
       "10331877              0          20160523                20160622          0  \n",
       "11867363              0          20160623                20160723          0  \n",
       "423621                0          20160724                20160823          0  \n",
       "9228113               0          20160831                20160930          0  "
      ]
     },
     "execution_count": 54,
     "metadata": {},
     "output_type": "execute_result"
    }
   ],
   "source": [
    "tmp1=transactions_df[transactions_df.msno==\"LNScSgIQZsX+hC3eVrwGFcdan0nftusOwk0jMAu7q9I=\"]\n",
    "tmp1=tmp1.sort_values('transaction_date')\n",
    "tmp1"
   ]
  },
  {
   "cell_type": "markdown",
   "id": "a24e8a8b",
   "metadata": {},
   "source": [
    "Transactions data set has more than one entry for many users. A member could use a different payment method, sign up for a different plan, or renew on multiple transaction dates. The above sample shows the data of one such user with 8 entries in the data set. This member was in the 150 plan price for three months, and then changed to an 180 plan price for the next 5 months."
   ]
  },
  {
   "cell_type": "code",
   "execution_count": 55,
   "id": "a6797f39",
   "metadata": {
    "scrolled": true
   },
   "outputs": [
    {
     "data": {
      "text/plain": [
       "2426143"
      ]
     },
     "execution_count": 55,
     "metadata": {},
     "output_type": "execute_result"
    }
   ],
   "source": [
    "transactions_df['msno'].nunique()"
   ]
  },
  {
   "cell_type": "markdown",
   "id": "98228e97",
   "metadata": {},
   "source": [
    "Out of all transactions, only 10% represent unique members. This tells us that majority of users have multiple transactions recorded. We will create a new feature that counts the number of transactions per user to see the correlation with churn in the feature engineering notebook. "
   ]
  },
  {
   "cell_type": "code",
   "execution_count": 56,
   "id": "fdd67da2",
   "metadata": {
    "scrolled": true
   },
   "outputs": [
    {
     "data": {
      "text/plain": [
       "msno                      0\n",
       "payment_method_id         0\n",
       "payment_plan_days         0\n",
       "plan_list_price           0\n",
       "actual_amount_paid        0\n",
       "is_auto_renew             0\n",
       "transaction_date          0\n",
       "membership_expire_date    0\n",
       "is_cancel                 0\n",
       "dtype: int64"
      ]
     },
     "execution_count": 56,
     "metadata": {},
     "output_type": "execute_result"
    }
   ],
   "source": [
    "transactions_df.isna().sum()"
   ]
  },
  {
   "cell_type": "markdown",
   "id": "ac06f7e2",
   "metadata": {},
   "source": [
    "There are no missing values. We can proceed to the next section to visualize this dataset."
   ]
  },
  {
   "cell_type": "markdown",
   "id": "86a80030",
   "metadata": {},
   "source": [
    "### 1.5 Transactions Data Visualization"
   ]
  },
  {
   "cell_type": "markdown",
   "id": "f27efcce",
   "metadata": {},
   "source": [
    "In this section, we visualize the frequency distributions of the features in the `transactions` dataset beginning with `payment_method_id`. "
   ]
  },
  {
   "cell_type": "code",
   "execution_count": 57,
   "id": "95e70ec9",
   "metadata": {},
   "outputs": [
    {
     "data": {
      "image/png": "[encoded data removed]",
      "text/plain": [
       "<Figure size 864x432 with 1 Axes>"
      ]
     },
     "metadata": {
      "needs_background": "light"
     },
     "output_type": "display_data"
    }
   ],
   "source": [
    "# payment_method_id count in transactions \n",
    "plt.figure(figsize=(12,6))\n",
    "#plt.subplot(311)\n",
    "sns.countplot(x=\"payment_method_id\", data=transactions_df, color= 'violet')\n",
    "plt.ylabel('Count', fontsize=12)\n",
    "plt.xlabel('payment_method_id', fontsize=12)\n",
    "plt.xticks(rotation='vertical')\n",
    "plt.xlabel('Payment Method')\n",
    "plt.ylabel('Frequency')\n",
    "plt.title(\"Payment Method Frequency Distribution\", fontsize=12)\n",
    "plt.show()"
   ]
  },
  {
   "cell_type": "markdown",
   "id": "9095a5b2",
   "metadata": {},
   "source": [
    "There are 40 payment methods where payment method 9 is missing. Payment method 41 is the most frequently used. Other payment methods beginning from around 34 also contribute a notable fraction compared to those with smaller numbers, but the spike at 41 makes these other methods much less significant."
   ]
  },
  {
   "cell_type": "markdown",
   "id": "79456c23",
   "metadata": {},
   "source": [
    "Now we investigate the distribution of the payment plan days"
   ]
  },
  {
   "cell_type": "code",
   "execution_count": 58,
   "id": "76ac3a3e",
   "metadata": {},
   "outputs": [
    {
     "data": {
      "image/png": "[encoded data removed]",
      "text/plain": [
       "<Figure size 864x432 with 1 Axes>"
      ]
     },
     "metadata": {
      "needs_background": "light"
     },
     "output_type": "display_data"
    }
   ],
   "source": [
    "# payment_plan_days count in transactions \n",
    "plt.figure(figsize=(12,6))\n",
    "sns.countplot(x=\"payment_plan_days\", data=transactions_df, color= 'darkturquoise')\n",
    "plt.ylabel('Count', fontsize=12)\n",
    "plt.xlabel('payment plan days', fontsize=12)\n",
    "plt.xticks(rotation='vertical')\n",
    "plt.title(\"Payment Plan Days Distribution\", fontsize=12)\n",
    "plt.show()"
   ]
  },
  {
   "cell_type": "markdown",
   "id": "c1e06805",
   "metadata": {},
   "source": [
    "As expected, the monthly payment plan is the most frequent. It appears there are also some users who opt for a weekly trial plan, as well as a 0 day trial pass. An insignificant amount of users have 90, 100, 120, 180, 195, 395, and 410 day plans. "
   ]
  },
  {
   "cell_type": "markdown",
   "id": "482f0e86",
   "metadata": {},
   "source": [
    "Next we view the distribution in the plan prices. "
   ]
  },
  {
   "cell_type": "code",
   "execution_count": 59,
   "id": "a5e803dc",
   "metadata": {},
   "outputs": [
    {
     "data": {
      "image/png": "[encoded data removed]",
      "text/plain": [
       "<Figure size 864x432 with 1 Axes>"
      ]
     },
     "metadata": {
      "needs_background": "light"
     },
     "output_type": "display_data"
    }
   ],
   "source": [
    "# plan_list_price count in transactions \n",
    "plt.figure(figsize=(12,6))\n",
    "sns.countplot(x=\"plan_list_price\", data=transactions_df)\n",
    "plt.ylabel('Count', fontsize=12)\n",
    "plt.xlabel('Plan List Price', fontsize=12)\n",
    "plt.xticks(rotation='vertical')\n",
    "plt.title(\"Plan List Price Distribution\", fontsize=12)\n",
    "plt.show()"
   ]
  },
  {
   "cell_type": "markdown",
   "id": "3c4096cc",
   "metadata": {},
   "source": [
    "There are 53 different plan list prices, out of which 149 is the most frequent, followed by 99."
   ]
  },
  {
   "cell_type": "code",
   "execution_count": 60,
   "id": "246d848b",
   "metadata": {},
   "outputs": [
    {
     "data": {
      "image/png": "[encoded data removed]",
      "text/plain": [
       "<Figure size 864x432 with 1 Axes>"
      ]
     },
     "metadata": {
      "needs_background": "light"
     },
     "output_type": "display_data"
    }
   ],
   "source": [
    "# actual_amount_paid  count in transactions \n",
    "plt.figure(figsize=(12,6))\n",
    "sns.countplot(x=\"actual_amount_paid\", data=transactions_df)\n",
    "plt.ylabel('Count', fontsize=12)\n",
    "plt.xlabel('Actual Amount Paid', fontsize=12)\n",
    "plt.xticks(rotation='vertical')\n",
    "plt.title(\"Actual Amount Paid Frequency Distribution\", fontsize=12)\n",
    "plt.show()"
   ]
  },
  {
   "cell_type": "markdown",
   "id": "c2e7f931",
   "metadata": {},
   "source": [
    "The plan list price and the actual amount that users pay for the plans have very similar distributions. A small noticeable difference occurs at a plan of $ 119 where users acually paid this amount. Having these as separate features will distort our prediction for churn because they are telling us the same information. Let's check for correlation to confirm this:"
   ]
  },
  {
   "cell_type": "code",
   "execution_count": 61,
   "id": "b8d6af22",
   "metadata": {},
   "outputs": [
    {
     "data": {
      "text/plain": [
       "0.9635363002049566"
      ]
     },
     "execution_count": 61,
     "metadata": {},
     "output_type": "execute_result"
    }
   ],
   "source": [
    "#Correlation between plan_list_price and actual_amount_paid\n",
    "transactions_df['plan_list_price'].corr(transactions_df['actual_amount_paid'],method='pearson')  "
   ]
  },
  {
   "cell_type": "markdown",
   "id": "afad4709",
   "metadata": {},
   "source": [
    "As expected, there is a high correlation of 96% between the plan list price and the actual amount paid. "
   ]
  },
  {
   "cell_type": "markdown",
   "id": "0eb3f7e6",
   "metadata": {},
   "source": [
    "Now we can check the renewal and cancellation transactions to get a sense of this behaviour. We begin with `is_auto_renew`."
   ]
  },
  {
   "cell_type": "code",
   "execution_count": 62,
   "id": "6d347072",
   "metadata": {},
   "outputs": [
    {
     "data": {
      "image/png": "[encoded data removed]",
      "text/plain": [
       "<Figure size 360x432 with 1 Axes>"
      ]
     },
     "metadata": {
      "needs_background": "light"
     },
     "output_type": "display_data"
    }
   ],
   "source": [
    "# is_auto_renew distribution \n",
    "plt.figure(figsize=(5,6))\n",
    "sns.countplot(x=\"is_auto_renew\", data=transactions_df)\n",
    "plt.ylabel('Frequency', fontsize=12)\n",
    "plt.xlabel('Auto Renew Subscription', fontsize=12)\n",
    "plt.xticks(rotation='vertical')\n",
    "plt.title(\"Frequency of Subscription Autorenewal\", fontsize=12)\n",
    "plt.show()"
   ]
  },
  {
   "cell_type": "markdown",
   "id": "81232f78",
   "metadata": {},
   "source": [
    "We can see that majority of users automatically renew their subscriptions to KKBox."
   ]
  },
  {
   "cell_type": "markdown",
   "id": "b69fcc10",
   "metadata": {},
   "source": [
    "Next we check cancellations. It is important to note that cancellation does not imply churn. Members may cancel one subscription and purchase another. But we do suspect that cancellations can result in churn and will look into this in more detail later. "
   ]
  },
  {
   "cell_type": "code",
   "execution_count": 63,
   "id": "c35551eb",
   "metadata": {},
   "outputs": [
    {
     "data": {
      "image/png": "[encoded data removed]",
      "text/plain": [
       "<Figure size 288x288 with 1 Axes>"
      ]
     },
     "metadata": {
      "needs_background": "light"
     },
     "output_type": "display_data"
    }
   ],
   "source": [
    "# is_cancel count in transactions\n",
    "plt.figure(figsize=(4,4))\n",
    "sns.countplot(x=\"is_cancel\", data=transactions_df)\n",
    "plt.ylabel('Count', fontsize=12)\n",
    "plt.xlabel('Cancellation', fontsize=12)\n",
    "plt.xticks(rotation='vertical')\n",
    "plt.title(\"Cancellation Distribution\", fontsize=12)\n",
    "plt.show()"
   ]
  },
  {
   "cell_type": "markdown",
   "id": "023834e8",
   "metadata": {},
   "source": [
    "Many more users do not cancel their subscriptions vs. users who do cancel. "
   ]
  },
  {
   "cell_type": "markdown",
   "id": "0f6b5bfd",
   "metadata": {},
   "source": [
    "Transactions data set has more than one entry for many users. A member could use a different payment method, sign up for a different plan, or renew on multiple transaction dates. The above sample shows the data of one such user with 8 entries in the data set. This member was in the 150 plan price for three months, and then changed to an 180 plan price for the next 5 months."
   ]
  },
  {
   "cell_type": "markdown",
   "id": "d474fab0",
   "metadata": {},
   "source": [
    "### 1.6 Transaction Features and Churn Visualization"
   ]
  },
  {
   "cell_type": "markdown",
   "id": "67b7762f",
   "metadata": {},
   "source": [
    "In this section, we begin by merging the transaction datset into our main train dataframe. "
   ]
  },
  {
   "cell_type": "code",
   "execution_count": 64,
   "id": "538d138d",
   "metadata": {},
   "outputs": [],
   "source": [
    "# merge transaction dataframe into train\n",
    "train_df = train_df.merge(transactions_df, on = 'msno', how = 'left')"
   ]
  },
  {
   "cell_type": "code",
   "execution_count": 65,
   "id": "25707c54",
   "metadata": {
    "scrolled": false
   },
   "outputs": [
    {
     "data": {
      "text/html": [
       "<div>\n",
       "<style scoped>\n",
       "    .dataframe tbody tr th:only-of-type {\n",
       "        vertical-align: middle;\n",
       "    }\n",
       "\n",
       "    .dataframe tbody tr th {\n",
       "        vertical-align: top;\n",
       "    }\n",
       "\n",
       "    .dataframe thead th {\n",
       "        text-align: right;\n",
       "    }\n",
       "</style>\n",
       "<table border=\"1\" class=\"dataframe\">\n",
       "  <thead>\n",
       "    <tr style=\"text-align: right;\">\n",
       "      <th></th>\n",
       "      <th>msno</th>\n",
       "      <th>is_churn</th>\n",
       "      <th>city</th>\n",
       "      <th>bd</th>\n",
       "      <th>gender</th>\n",
       "      <th>registered_via</th>\n",
       "      <th>registration_init_time</th>\n",
       "      <th>registration_init_time_year</th>\n",
       "      <th>registration_init_time_month</th>\n",
       "      <th>registration_init_time_weekday</th>\n",
       "      <th>payment_method_id</th>\n",
       "      <th>payment_plan_days</th>\n",
       "      <th>plan_list_price</th>\n",
       "      <th>actual_amount_paid</th>\n",
       "      <th>is_auto_renew</th>\n",
       "      <th>transaction_date</th>\n",
       "      <th>membership_expire_date</th>\n",
       "      <th>is_cancel</th>\n",
       "    </tr>\n",
       "  </thead>\n",
       "  <tbody>\n",
       "    <tr>\n",
       "      <th>0</th>\n",
       "      <td>ugx0CjOMzazClkFzU2xasmDZaoIqOUAZPsH1q0teWCg=</td>\n",
       "      <td>1</td>\n",
       "      <td>5</td>\n",
       "      <td>28</td>\n",
       "      <td>male</td>\n",
       "      <td>3</td>\n",
       "      <td>2013-12-23</td>\n",
       "      <td>2013</td>\n",
       "      <td>12</td>\n",
       "      <td>Monday</td>\n",
       "      <td>38</td>\n",
       "      <td>30</td>\n",
       "      <td>149</td>\n",
       "      <td>149</td>\n",
       "      <td>0</td>\n",
       "      <td>20170228</td>\n",
       "      <td>20170330</td>\n",
       "      <td>0</td>\n",
       "    </tr>\n",
       "    <tr>\n",
       "      <th>1</th>\n",
       "      <td>ugx0CjOMzazClkFzU2xasmDZaoIqOUAZPsH1q0teWCg=</td>\n",
       "      <td>1</td>\n",
       "      <td>5</td>\n",
       "      <td>28</td>\n",
       "      <td>male</td>\n",
       "      <td>3</td>\n",
       "      <td>2013-12-23</td>\n",
       "      <td>2013</td>\n",
       "      <td>12</td>\n",
       "      <td>Monday</td>\n",
       "      <td>31</td>\n",
       "      <td>0</td>\n",
       "      <td>0</td>\n",
       "      <td>149</td>\n",
       "      <td>1</td>\n",
       "      <td>20150331</td>\n",
       "      <td>20150430</td>\n",
       "      <td>0</td>\n",
       "    </tr>\n",
       "    <tr>\n",
       "      <th>2</th>\n",
       "      <td>ugx0CjOMzazClkFzU2xasmDZaoIqOUAZPsH1q0teWCg=</td>\n",
       "      <td>1</td>\n",
       "      <td>5</td>\n",
       "      <td>28</td>\n",
       "      <td>male</td>\n",
       "      <td>3</td>\n",
       "      <td>2013-12-23</td>\n",
       "      <td>2013</td>\n",
       "      <td>12</td>\n",
       "      <td>Monday</td>\n",
       "      <td>31</td>\n",
       "      <td>0</td>\n",
       "      <td>0</td>\n",
       "      <td>149</td>\n",
       "      <td>1</td>\n",
       "      <td>20150630</td>\n",
       "      <td>20150731</td>\n",
       "      <td>0</td>\n",
       "    </tr>\n",
       "    <tr>\n",
       "      <th>3</th>\n",
       "      <td>ugx0CjOMzazClkFzU2xasmDZaoIqOUAZPsH1q0teWCg=</td>\n",
       "      <td>1</td>\n",
       "      <td>5</td>\n",
       "      <td>28</td>\n",
       "      <td>male</td>\n",
       "      <td>3</td>\n",
       "      <td>2013-12-23</td>\n",
       "      <td>2013</td>\n",
       "      <td>12</td>\n",
       "      <td>Monday</td>\n",
       "      <td>31</td>\n",
       "      <td>30</td>\n",
       "      <td>149</td>\n",
       "      <td>149</td>\n",
       "      <td>1</td>\n",
       "      <td>20150902</td>\n",
       "      <td>20150901</td>\n",
       "      <td>1</td>\n",
       "    </tr>\n",
       "    <tr>\n",
       "      <th>4</th>\n",
       "      <td>ugx0CjOMzazClkFzU2xasmDZaoIqOUAZPsH1q0teWCg=</td>\n",
       "      <td>1</td>\n",
       "      <td>5</td>\n",
       "      <td>28</td>\n",
       "      <td>male</td>\n",
       "      <td>3</td>\n",
       "      <td>2013-12-23</td>\n",
       "      <td>2013</td>\n",
       "      <td>12</td>\n",
       "      <td>Monday</td>\n",
       "      <td>31</td>\n",
       "      <td>0</td>\n",
       "      <td>0</td>\n",
       "      <td>149</td>\n",
       "      <td>1</td>\n",
       "      <td>20150831</td>\n",
       "      <td>20150930</td>\n",
       "      <td>0</td>\n",
       "    </tr>\n",
       "  </tbody>\n",
       "</table>\n",
       "</div>"
      ],
      "text/plain": [
       "                                           msno  is_churn  city  bd gender  \\\n",
       "0  ugx0CjOMzazClkFzU2xasmDZaoIqOUAZPsH1q0teWCg=         1     5  28   male   \n",
       "1  ugx0CjOMzazClkFzU2xasmDZaoIqOUAZPsH1q0teWCg=         1     5  28   male   \n",
       "2  ugx0CjOMzazClkFzU2xasmDZaoIqOUAZPsH1q0teWCg=         1     5  28   male   \n",
       "3  ugx0CjOMzazClkFzU2xasmDZaoIqOUAZPsH1q0teWCg=         1     5  28   male   \n",
       "4  ugx0CjOMzazClkFzU2xasmDZaoIqOUAZPsH1q0teWCg=         1     5  28   male   \n",
       "\n",
       "   registered_via registration_init_time registration_init_time_year  \\\n",
       "0               3             2013-12-23                        2013   \n",
       "1               3             2013-12-23                        2013   \n",
       "2               3             2013-12-23                        2013   \n",
       "3               3             2013-12-23                        2013   \n",
       "4               3             2013-12-23                        2013   \n",
       "\n",
       "  registration_init_time_month registration_init_time_weekday  \\\n",
       "0                           12                         Monday   \n",
       "1                           12                         Monday   \n",
       "2                           12                         Monday   \n",
       "3                           12                         Monday   \n",
       "4                           12                         Monday   \n",
       "\n",
       "   payment_method_id  payment_plan_days  plan_list_price  actual_amount_paid  \\\n",
       "0                 38                 30              149                 149   \n",
       "1                 31                  0                0                 149   \n",
       "2                 31                  0                0                 149   \n",
       "3                 31                 30              149                 149   \n",
       "4                 31                  0                0                 149   \n",
       "\n",
       "   is_auto_renew  transaction_date  membership_expire_date  is_cancel  \n",
       "0              0          20170228                20170330          0  \n",
       "1              1          20150331                20150430          0  \n",
       "2              1          20150630                20150731          0  \n",
       "3              1          20150902                20150901          1  \n",
       "4              1          20150831                20150930          0  "
      ]
     },
     "execution_count": 65,
     "metadata": {},
     "output_type": "execute_result"
    }
   ],
   "source": [
    "train_df.head()"
   ]
  },
  {
   "cell_type": "code",
   "execution_count": 66,
   "id": "f4665590",
   "metadata": {
    "scrolled": true
   },
   "outputs": [
    {
     "data": {
      "text/plain": [
       "(16255622, 18)"
      ]
     },
     "execution_count": 66,
     "metadata": {},
     "output_type": "execute_result"
    }
   ],
   "source": [
    "train_df.shape"
   ]
  },
  {
   "cell_type": "code",
   "execution_count": 67,
   "id": "e79637fa",
   "metadata": {
    "scrolled": true
   },
   "outputs": [
    {
     "data": {
      "text/plain": [
       "msno                                    0\n",
       "is_churn                                0\n",
       "city                                    0\n",
       "bd                                      0\n",
       "gender                            9121083\n",
       "registered_via                          0\n",
       "registration_init_time            1596663\n",
       "registration_init_time_year             0\n",
       "registration_init_time_month            0\n",
       "registration_init_time_weekday          0\n",
       "payment_method_id                       0\n",
       "payment_plan_days                       0\n",
       "plan_list_price                         0\n",
       "actual_amount_paid                      0\n",
       "is_auto_renew                           0\n",
       "transaction_date                        0\n",
       "membership_expire_date                  0\n",
       "is_cancel                               0\n",
       "dtype: int64"
      ]
     },
     "execution_count": 67,
     "metadata": {},
     "output_type": "execute_result"
    }
   ],
   "source": [
    "train_df.isna().sum()"
   ]
  },
  {
   "cell_type": "markdown",
   "id": "4fd9b19b",
   "metadata": {},
   "source": [
    "There are no new missing values. We will be dropping `gender` as previously outlined, and `registration_init_time` since we already split it into year, month, and weekday.  "
   ]
  },
  {
   "cell_type": "markdown",
   "id": "fb9d958b",
   "metadata": {},
   "source": [
    "**Churn Visualizations**"
   ]
  },
  {
   "cell_type": "markdown",
   "id": "f1c39336",
   "metadata": {},
   "source": [
    "First we visualize the relation between the payment method and churn. "
   ]
  },
  {
   "cell_type": "code",
   "execution_count": 69,
   "id": "9011c828",
   "metadata": {},
   "outputs": [
    {
     "data": {
      "text/html": [
       "<div>\n",
       "<style scoped>\n",
       "    .dataframe tbody tr th:only-of-type {\n",
       "        vertical-align: middle;\n",
       "    }\n",
       "\n",
       "    .dataframe tbody tr th {\n",
       "        vertical-align: top;\n",
       "    }\n",
       "\n",
       "    .dataframe thead th {\n",
       "        text-align: right;\n",
       "    }\n",
       "</style>\n",
       "<table border=\"1\" class=\"dataframe\">\n",
       "  <thead>\n",
       "    <tr style=\"text-align: right;\">\n",
       "      <th>is_churn</th>\n",
       "      <th>0</th>\n",
       "      <th>1</th>\n",
       "      <th>Ratio</th>\n",
       "    </tr>\n",
       "    <tr>\n",
       "      <th>payment_method_id</th>\n",
       "      <th></th>\n",
       "      <th></th>\n",
       "      <th></th>\n",
       "    </tr>\n",
       "  </thead>\n",
       "  <tbody>\n",
       "    <tr>\n",
       "      <th>2</th>\n",
       "      <td>6</td>\n",
       "      <td>4</td>\n",
       "      <td>0.666667</td>\n",
       "    </tr>\n",
       "    <tr>\n",
       "      <th>3</th>\n",
       "      <td>24</td>\n",
       "      <td>35</td>\n",
       "      <td>1.458333</td>\n",
       "    </tr>\n",
       "    <tr>\n",
       "      <th>4</th>\n",
       "      <td>1</td>\n",
       "      <td>1</td>\n",
       "      <td>1.000000</td>\n",
       "    </tr>\n",
       "    <tr>\n",
       "      <th>5</th>\n",
       "      <td>58</td>\n",
       "      <td>20</td>\n",
       "      <td>0.344828</td>\n",
       "    </tr>\n",
       "    <tr>\n",
       "      <th>6</th>\n",
       "      <td>47</td>\n",
       "      <td>45</td>\n",
       "      <td>0.957447</td>\n",
       "    </tr>\n",
       "    <tr>\n",
       "      <th>8</th>\n",
       "      <td>138</td>\n",
       "      <td>58</td>\n",
       "      <td>0.420290</td>\n",
       "    </tr>\n",
       "    <tr>\n",
       "      <th>10</th>\n",
       "      <td>1042</td>\n",
       "      <td>108</td>\n",
       "      <td>0.103647</td>\n",
       "    </tr>\n",
       "    <tr>\n",
       "      <th>11</th>\n",
       "      <td>1863</td>\n",
       "      <td>73</td>\n",
       "      <td>0.039184</td>\n",
       "    </tr>\n",
       "    <tr>\n",
       "      <th>12</th>\n",
       "      <td>485</td>\n",
       "      <td>600</td>\n",
       "      <td>1.237113</td>\n",
       "    </tr>\n",
       "    <tr>\n",
       "      <th>13</th>\n",
       "      <td>664</td>\n",
       "      <td>1165</td>\n",
       "      <td>1.754518</td>\n",
       "    </tr>\n",
       "    <tr>\n",
       "      <th>14</th>\n",
       "      <td>12340</td>\n",
       "      <td>319</td>\n",
       "      <td>0.025851</td>\n",
       "    </tr>\n",
       "    <tr>\n",
       "      <th>15</th>\n",
       "      <td>368</td>\n",
       "      <td>2956</td>\n",
       "      <td>8.032609</td>\n",
       "    </tr>\n",
       "    <tr>\n",
       "      <th>16</th>\n",
       "      <td>7455</td>\n",
       "      <td>861</td>\n",
       "      <td>0.115493</td>\n",
       "    </tr>\n",
       "    <tr>\n",
       "      <th>17</th>\n",
       "      <td>594</td>\n",
       "      <td>2684</td>\n",
       "      <td>4.518519</td>\n",
       "    </tr>\n",
       "    <tr>\n",
       "      <th>18</th>\n",
       "      <td>12848</td>\n",
       "      <td>473</td>\n",
       "      <td>0.036815</td>\n",
       "    </tr>\n",
       "    <tr>\n",
       "      <th>19</th>\n",
       "      <td>29650</td>\n",
       "      <td>917</td>\n",
       "      <td>0.030927</td>\n",
       "    </tr>\n",
       "    <tr>\n",
       "      <th>20</th>\n",
       "      <td>3553</td>\n",
       "      <td>5094</td>\n",
       "      <td>1.433718</td>\n",
       "    </tr>\n",
       "    <tr>\n",
       "      <th>21</th>\n",
       "      <td>19430</td>\n",
       "      <td>1151</td>\n",
       "      <td>0.059238</td>\n",
       "    </tr>\n",
       "    <tr>\n",
       "      <th>22</th>\n",
       "      <td>1882</td>\n",
       "      <td>2417</td>\n",
       "      <td>1.284272</td>\n",
       "    </tr>\n",
       "    <tr>\n",
       "      <th>23</th>\n",
       "      <td>34270</td>\n",
       "      <td>1288</td>\n",
       "      <td>0.037584</td>\n",
       "    </tr>\n",
       "    <tr>\n",
       "      <th>24</th>\n",
       "      <td>8442</td>\n",
       "      <td>396</td>\n",
       "      <td>0.046908</td>\n",
       "    </tr>\n",
       "    <tr>\n",
       "      <th>25</th>\n",
       "      <td>2630</td>\n",
       "      <td>879</td>\n",
       "      <td>0.334221</td>\n",
       "    </tr>\n",
       "    <tr>\n",
       "      <th>26</th>\n",
       "      <td>2121</td>\n",
       "      <td>870</td>\n",
       "      <td>0.410184</td>\n",
       "    </tr>\n",
       "    <tr>\n",
       "      <th>27</th>\n",
       "      <td>43576</td>\n",
       "      <td>2002</td>\n",
       "      <td>0.045943</td>\n",
       "    </tr>\n",
       "    <tr>\n",
       "      <th>28</th>\n",
       "      <td>22548</td>\n",
       "      <td>8078</td>\n",
       "      <td>0.358258</td>\n",
       "    </tr>\n",
       "    <tr>\n",
       "      <th>29</th>\n",
       "      <td>80353</td>\n",
       "      <td>14473</td>\n",
       "      <td>0.180118</td>\n",
       "    </tr>\n",
       "    <tr>\n",
       "      <th>30</th>\n",
       "      <td>108509</td>\n",
       "      <td>12090</td>\n",
       "      <td>0.111419</td>\n",
       "    </tr>\n",
       "    <tr>\n",
       "      <th>31</th>\n",
       "      <td>227704</td>\n",
       "      <td>3753</td>\n",
       "      <td>0.016482</td>\n",
       "    </tr>\n",
       "    <tr>\n",
       "      <th>32</th>\n",
       "      <td>15415</td>\n",
       "      <td>26069</td>\n",
       "      <td>1.691145</td>\n",
       "    </tr>\n",
       "    <tr>\n",
       "      <th>33</th>\n",
       "      <td>309719</td>\n",
       "      <td>12302</td>\n",
       "      <td>0.039720</td>\n",
       "    </tr>\n",
       "    <tr>\n",
       "      <th>34</th>\n",
       "      <td>657467</td>\n",
       "      <td>14196</td>\n",
       "      <td>0.021592</td>\n",
       "    </tr>\n",
       "    <tr>\n",
       "      <th>35</th>\n",
       "      <td>26901</td>\n",
       "      <td>10588</td>\n",
       "      <td>0.393591</td>\n",
       "    </tr>\n",
       "    <tr>\n",
       "      <th>36</th>\n",
       "      <td>577980</td>\n",
       "      <td>74325</td>\n",
       "      <td>0.128594</td>\n",
       "    </tr>\n",
       "    <tr>\n",
       "      <th>37</th>\n",
       "      <td>790358</td>\n",
       "      <td>29297</td>\n",
       "      <td>0.037068</td>\n",
       "    </tr>\n",
       "    <tr>\n",
       "      <th>38</th>\n",
       "      <td>577297</td>\n",
       "      <td>191516</td>\n",
       "      <td>0.331746</td>\n",
       "    </tr>\n",
       "    <tr>\n",
       "      <th>39</th>\n",
       "      <td>1192007</td>\n",
       "      <td>81927</td>\n",
       "      <td>0.068730</td>\n",
       "    </tr>\n",
       "    <tr>\n",
       "      <th>40</th>\n",
       "      <td>1528364</td>\n",
       "      <td>105431</td>\n",
       "      <td>0.068983</td>\n",
       "    </tr>\n",
       "    <tr>\n",
       "      <th>41</th>\n",
       "      <td>8866010</td>\n",
       "      <td>483042</td>\n",
       "      <td>0.054482</td>\n",
       "    </tr>\n",
       "  </tbody>\n",
       "</table>\n",
       "</div>"
      ],
      "text/plain": [
       "is_churn                 0       1     Ratio\n",
       "payment_method_id                           \n",
       "2                        6       4  0.666667\n",
       "3                       24      35  1.458333\n",
       "4                        1       1  1.000000\n",
       "5                       58      20  0.344828\n",
       "6                       47      45  0.957447\n",
       "8                      138      58  0.420290\n",
       "10                    1042     108  0.103647\n",
       "11                    1863      73  0.039184\n",
       "12                     485     600  1.237113\n",
       "13                     664    1165  1.754518\n",
       "14                   12340     319  0.025851\n",
       "15                     368    2956  8.032609\n",
       "16                    7455     861  0.115493\n",
       "17                     594    2684  4.518519\n",
       "18                   12848     473  0.036815\n",
       "19                   29650     917  0.030927\n",
       "20                    3553    5094  1.433718\n",
       "21                   19430    1151  0.059238\n",
       "22                    1882    2417  1.284272\n",
       "23                   34270    1288  0.037584\n",
       "24                    8442     396  0.046908\n",
       "25                    2630     879  0.334221\n",
       "26                    2121     870  0.410184\n",
       "27                   43576    2002  0.045943\n",
       "28                   22548    8078  0.358258\n",
       "29                   80353   14473  0.180118\n",
       "30                  108509   12090  0.111419\n",
       "31                  227704    3753  0.016482\n",
       "32                   15415   26069  1.691145\n",
       "33                  309719   12302  0.039720\n",
       "34                  657467   14196  0.021592\n",
       "35                   26901   10588  0.393591\n",
       "36                  577980   74325  0.128594\n",
       "37                  790358   29297  0.037068\n",
       "38                  577297  191516  0.331746\n",
       "39                 1192007   81927  0.068730\n",
       "40                 1528364  105431  0.068983\n",
       "41                 8866010  483042  0.054482"
      ]
     },
     "execution_count": 69,
     "metadata": {},
     "output_type": "execute_result"
    },
    {
     "data": {
      "image/png": "[encoded data removed]",
      "text/plain": [
       "<Figure size 576x432 with 1 Axes>"
      ]
     },
     "metadata": {
      "needs_background": "light"
     },
     "output_type": "display_data"
    }
   ],
   "source": [
    "# Payment method\n",
    "payment_method_crosstab=pd.crosstab(train_df['payment_method_id'],train_df['is_churn'])\n",
    "payment_method_crosstab.plot(kind='bar', stacked=True, figsize=(8, 6))\n",
    "plt.xlabel('Payment Method')\n",
    "plt.ylabel('Number of Transactions')\n",
    "plt.title('Churn Distribution by Payment Method')\n",
    "payment_method_crosstab[\"Ratio\"] =  payment_method_crosstab[1] / payment_method_crosstab[0]\n",
    "\n",
    "payment_method_crosstab"
   ]
  },
  {
   "cell_type": "markdown",
   "id": "778b5a11",
   "metadata": {},
   "source": [
    "The churn rate ratios vary between 1.6% and 39% across the payment methods used from 29 onwards. The most used payment method, 41, has a churn rate of 5%. This seems low at first, however, 5% of 9.35 million total transactions having payment method 41 is 467,452 transactions that resulted in churn. "
   ]
  },
  {
   "cell_type": "code",
   "execution_count": 71,
   "id": "0eebe72c",
   "metadata": {},
   "outputs": [
    {
     "data": {
      "text/plain": [
       "0.0"
      ]
     },
     "execution_count": 71,
     "metadata": {},
     "output_type": "execute_result"
    }
   ],
   "source": [
    "stats.chi2_contingency(payment_method_crosstab)[1]"
   ]
  },
  {
   "cell_type": "markdown",
   "id": "229dfbdd",
   "metadata": {},
   "source": [
    "Next, we visualize the churn distribution by the payment plan days. "
   ]
  },
  {
   "cell_type": "code",
   "execution_count": 72,
   "id": "5c8731dc",
   "metadata": {},
   "outputs": [
    {
     "data": {
      "text/html": [
       "<div>\n",
       "<style scoped>\n",
       "    .dataframe tbody tr th:only-of-type {\n",
       "        vertical-align: middle;\n",
       "    }\n",
       "\n",
       "    .dataframe tbody tr th {\n",
       "        vertical-align: top;\n",
       "    }\n",
       "\n",
       "    .dataframe thead th {\n",
       "        text-align: right;\n",
       "    }\n",
       "</style>\n",
       "<table border=\"1\" class=\"dataframe\">\n",
       "  <thead>\n",
       "    <tr style=\"text-align: right;\">\n",
       "      <th>is_churn</th>\n",
       "      <th>0</th>\n",
       "      <th>1</th>\n",
       "      <th>Ratio</th>\n",
       "    </tr>\n",
       "    <tr>\n",
       "      <th>payment_plan_days</th>\n",
       "      <th></th>\n",
       "      <th></th>\n",
       "      <th></th>\n",
       "    </tr>\n",
       "  </thead>\n",
       "  <tbody>\n",
       "    <tr>\n",
       "      <th>0</th>\n",
       "      <td>551767</td>\n",
       "      <td>29367</td>\n",
       "      <td>0.053224</td>\n",
       "    </tr>\n",
       "    <tr>\n",
       "      <th>1</th>\n",
       "      <td>2102</td>\n",
       "      <td>866</td>\n",
       "      <td>0.411989</td>\n",
       "    </tr>\n",
       "    <tr>\n",
       "      <th>2</th>\n",
       "      <td>3</td>\n",
       "      <td>1</td>\n",
       "      <td>0.333333</td>\n",
       "    </tr>\n",
       "    <tr>\n",
       "      <th>3</th>\n",
       "      <td>5</td>\n",
       "      <td>9</td>\n",
       "      <td>1.800000</td>\n",
       "    </tr>\n",
       "    <tr>\n",
       "      <th>7</th>\n",
       "      <td>29632</td>\n",
       "      <td>15650</td>\n",
       "      <td>0.528145</td>\n",
       "    </tr>\n",
       "    <tr>\n",
       "      <th>10</th>\n",
       "      <td>1984</td>\n",
       "      <td>2548</td>\n",
       "      <td>1.284274</td>\n",
       "    </tr>\n",
       "    <tr>\n",
       "      <th>14</th>\n",
       "      <td>362</td>\n",
       "      <td>229</td>\n",
       "      <td>0.632597</td>\n",
       "    </tr>\n",
       "    <tr>\n",
       "      <th>15</th>\n",
       "      <td>2</td>\n",
       "      <td>1</td>\n",
       "      <td>0.500000</td>\n",
       "    </tr>\n",
       "    <tr>\n",
       "      <th>21</th>\n",
       "      <td>43</td>\n",
       "      <td>51</td>\n",
       "      <td>1.186047</td>\n",
       "    </tr>\n",
       "    <tr>\n",
       "      <th>30</th>\n",
       "      <td>14106902</td>\n",
       "      <td>950903</td>\n",
       "      <td>0.067407</td>\n",
       "    </tr>\n",
       "    <tr>\n",
       "      <th>31</th>\n",
       "      <td>434587</td>\n",
       "      <td>28555</td>\n",
       "      <td>0.065706</td>\n",
       "    </tr>\n",
       "    <tr>\n",
       "      <th>35</th>\n",
       "      <td>133</td>\n",
       "      <td>128</td>\n",
       "      <td>0.962406</td>\n",
       "    </tr>\n",
       "    <tr>\n",
       "      <th>45</th>\n",
       "      <td>475</td>\n",
       "      <td>607</td>\n",
       "      <td>1.277895</td>\n",
       "    </tr>\n",
       "    <tr>\n",
       "      <th>60</th>\n",
       "      <td>1953</td>\n",
       "      <td>2573</td>\n",
       "      <td>1.317460</td>\n",
       "    </tr>\n",
       "    <tr>\n",
       "      <th>66</th>\n",
       "      <td>46</td>\n",
       "      <td>30</td>\n",
       "      <td>0.652174</td>\n",
       "    </tr>\n",
       "    <tr>\n",
       "      <th>70</th>\n",
       "      <td>85</td>\n",
       "      <td>137</td>\n",
       "      <td>1.611765</td>\n",
       "    </tr>\n",
       "    <tr>\n",
       "      <th>80</th>\n",
       "      <td>50</td>\n",
       "      <td>70</td>\n",
       "      <td>1.400000</td>\n",
       "    </tr>\n",
       "    <tr>\n",
       "      <th>90</th>\n",
       "      <td>4298</td>\n",
       "      <td>5975</td>\n",
       "      <td>1.390181</td>\n",
       "    </tr>\n",
       "    <tr>\n",
       "      <th>99</th>\n",
       "      <td>49</td>\n",
       "      <td>49</td>\n",
       "      <td>1.000000</td>\n",
       "    </tr>\n",
       "    <tr>\n",
       "      <th>100</th>\n",
       "      <td>3232</td>\n",
       "      <td>4237</td>\n",
       "      <td>1.310953</td>\n",
       "    </tr>\n",
       "    <tr>\n",
       "      <th>110</th>\n",
       "      <td>44</td>\n",
       "      <td>105</td>\n",
       "      <td>2.386364</td>\n",
       "    </tr>\n",
       "    <tr>\n",
       "      <th>120</th>\n",
       "      <td>1765</td>\n",
       "      <td>2416</td>\n",
       "      <td>1.368839</td>\n",
       "    </tr>\n",
       "    <tr>\n",
       "      <th>180</th>\n",
       "      <td>2271</td>\n",
       "      <td>11380</td>\n",
       "      <td>5.011008</td>\n",
       "    </tr>\n",
       "    <tr>\n",
       "      <th>195</th>\n",
       "      <td>13213</td>\n",
       "      <td>16111</td>\n",
       "      <td>1.219329</td>\n",
       "    </tr>\n",
       "    <tr>\n",
       "      <th>200</th>\n",
       "      <td>528</td>\n",
       "      <td>1207</td>\n",
       "      <td>2.285985</td>\n",
       "    </tr>\n",
       "    <tr>\n",
       "      <th>230</th>\n",
       "      <td>16</td>\n",
       "      <td>14</td>\n",
       "      <td>0.875000</td>\n",
       "    </tr>\n",
       "    <tr>\n",
       "      <th>240</th>\n",
       "      <td>38</td>\n",
       "      <td>1526</td>\n",
       "      <td>40.157895</td>\n",
       "    </tr>\n",
       "    <tr>\n",
       "      <th>270</th>\n",
       "      <td>127</td>\n",
       "      <td>52</td>\n",
       "      <td>0.409449</td>\n",
       "    </tr>\n",
       "    <tr>\n",
       "      <th>360</th>\n",
       "      <td>259</td>\n",
       "      <td>1632</td>\n",
       "      <td>6.301158</td>\n",
       "    </tr>\n",
       "    <tr>\n",
       "      <th>365</th>\n",
       "      <td>16</td>\n",
       "      <td>205</td>\n",
       "      <td>12.812500</td>\n",
       "    </tr>\n",
       "    <tr>\n",
       "      <th>395</th>\n",
       "      <td>442</td>\n",
       "      <td>1372</td>\n",
       "      <td>3.104072</td>\n",
       "    </tr>\n",
       "    <tr>\n",
       "      <th>400</th>\n",
       "      <td>247</td>\n",
       "      <td>393</td>\n",
       "      <td>1.591093</td>\n",
       "    </tr>\n",
       "    <tr>\n",
       "      <th>410</th>\n",
       "      <td>7419</td>\n",
       "      <td>12886</td>\n",
       "      <td>1.736892</td>\n",
       "    </tr>\n",
       "    <tr>\n",
       "      <th>415</th>\n",
       "      <td>1</td>\n",
       "      <td>16</td>\n",
       "      <td>16.000000</td>\n",
       "    </tr>\n",
       "    <tr>\n",
       "      <th>450</th>\n",
       "      <td>23</td>\n",
       "      <td>202</td>\n",
       "      <td>8.782609</td>\n",
       "    </tr>\n",
       "  </tbody>\n",
       "</table>\n",
       "</div>"
      ],
      "text/plain": [
       "is_churn                  0       1      Ratio\n",
       "payment_plan_days                             \n",
       "0                    551767   29367   0.053224\n",
       "1                      2102     866   0.411989\n",
       "2                         3       1   0.333333\n",
       "3                         5       9   1.800000\n",
       "7                     29632   15650   0.528145\n",
       "10                     1984    2548   1.284274\n",
       "14                      362     229   0.632597\n",
       "15                        2       1   0.500000\n",
       "21                       43      51   1.186047\n",
       "30                 14106902  950903   0.067407\n",
       "31                   434587   28555   0.065706\n",
       "35                      133     128   0.962406\n",
       "45                      475     607   1.277895\n",
       "60                     1953    2573   1.317460\n",
       "66                       46      30   0.652174\n",
       "70                       85     137   1.611765\n",
       "80                       50      70   1.400000\n",
       "90                     4298    5975   1.390181\n",
       "99                       49      49   1.000000\n",
       "100                    3232    4237   1.310953\n",
       "110                      44     105   2.386364\n",
       "120                    1765    2416   1.368839\n",
       "180                    2271   11380   5.011008\n",
       "195                   13213   16111   1.219329\n",
       "200                     528    1207   2.285985\n",
       "230                      16      14   0.875000\n",
       "240                      38    1526  40.157895\n",
       "270                     127      52   0.409449\n",
       "360                     259    1632   6.301158\n",
       "365                      16     205  12.812500\n",
       "395                     442    1372   3.104072\n",
       "400                     247     393   1.591093\n",
       "410                    7419   12886   1.736892\n",
       "415                       1      16  16.000000\n",
       "450                      23     202   8.782609"
      ]
     },
     "execution_count": 72,
     "metadata": {},
     "output_type": "execute_result"
    },
    {
     "data": {
      "image/png": "[encoded data removed]",
      "text/plain": [
       "<Figure size 576x432 with 1 Axes>"
      ]
     },
     "metadata": {
      "needs_background": "light"
     },
     "output_type": "display_data"
    }
   ],
   "source": [
    "# Payment plan days churn\n",
    "payment_plan_crosstab=pd.crosstab(train_df['payment_plan_days'],train_df['is_churn'])\n",
    "payment_plan_crosstab.plot(kind='bar', stacked=True, figsize=(8, 6))\n",
    "plt.xlabel('Payment Plan Days')\n",
    "plt.ylabel('Number of Transactions')\n",
    "plt.title('Churn Distribution by Payment Plan Days')\n",
    "payment_plan_crosstab[\"Ratio\"] =  payment_plan_crosstab[1] / payment_plan_crosstab[0]\n",
    "payment_plan_crosstab"
   ]
  },
  {
   "cell_type": "markdown",
   "id": "866c8e96",
   "metadata": {},
   "source": [
    "The lowest churn numbers are associated with the 30-day, 31-day, and (surprisingly) the 0-day memberships. The churn percentage  for 7-day plans is above 50%, and for 14-day plans is 63%. The most popular plan is the 30-day plan, with a churn rate of 6.7%."
   ]
  },
  {
   "cell_type": "code",
   "execution_count": 74,
   "id": "acc999c7",
   "metadata": {},
   "outputs": [
    {
     "data": {
      "text/plain": [
       "0.0"
      ]
     },
     "execution_count": 74,
     "metadata": {},
     "output_type": "execute_result"
    }
   ],
   "source": [
    "stats.chi2_contingency(payment_plan_crosstab)[1]"
   ]
  },
  {
   "cell_type": "markdown",
   "id": "28bc7739",
   "metadata": {},
   "source": [
    "Visualizing the relationship between the price of the plan and the frequency of churn, we obtain the following results:"
   ]
  },
  {
   "cell_type": "code",
   "execution_count": 75,
   "id": "24326da0",
   "metadata": {},
   "outputs": [
    {
     "data": {
      "text/html": [
       "<div>\n",
       "<style scoped>\n",
       "    .dataframe tbody tr th:only-of-type {\n",
       "        vertical-align: middle;\n",
       "    }\n",
       "\n",
       "    .dataframe tbody tr th {\n",
       "        vertical-align: top;\n",
       "    }\n",
       "\n",
       "    .dataframe thead th {\n",
       "        text-align: right;\n",
       "    }\n",
       "</style>\n",
       "<table border=\"1\" class=\"dataframe\">\n",
       "  <thead>\n",
       "    <tr style=\"text-align: right;\">\n",
       "      <th>is_churn</th>\n",
       "      <th>0</th>\n",
       "      <th>1</th>\n",
       "      <th>Ratio</th>\n",
       "    </tr>\n",
       "    <tr>\n",
       "      <th>plan_list_price</th>\n",
       "      <th></th>\n",
       "      <th></th>\n",
       "      <th></th>\n",
       "    </tr>\n",
       "  </thead>\n",
       "  <tbody>\n",
       "    <tr>\n",
       "      <th>0</th>\n",
       "      <td>585417</td>\n",
       "      <td>50718</td>\n",
       "      <td>0.086636</td>\n",
       "    </tr>\n",
       "    <tr>\n",
       "      <th>1</th>\n",
       "      <td>4</td>\n",
       "      <td>19</td>\n",
       "      <td>4.750000</td>\n",
       "    </tr>\n",
       "    <tr>\n",
       "      <th>10</th>\n",
       "      <td>3</td>\n",
       "      <td>1</td>\n",
       "      <td>0.333333</td>\n",
       "    </tr>\n",
       "    <tr>\n",
       "      <th>15</th>\n",
       "      <td>5</td>\n",
       "      <td>1</td>\n",
       "      <td>0.200000</td>\n",
       "    </tr>\n",
       "    <tr>\n",
       "      <th>35</th>\n",
       "      <td>1034</td>\n",
       "      <td>943</td>\n",
       "      <td>0.911992</td>\n",
       "    </tr>\n",
       "    <tr>\n",
       "      <th>50</th>\n",
       "      <td>120</td>\n",
       "      <td>72</td>\n",
       "      <td>0.600000</td>\n",
       "    </tr>\n",
       "    <tr>\n",
       "      <th>70</th>\n",
       "      <td>30</td>\n",
       "      <td>26</td>\n",
       "      <td>0.866667</td>\n",
       "    </tr>\n",
       "    <tr>\n",
       "      <th>99</th>\n",
       "      <td>4493181</td>\n",
       "      <td>157591</td>\n",
       "      <td>0.035073</td>\n",
       "    </tr>\n",
       "    <tr>\n",
       "      <th>100</th>\n",
       "      <td>100790</td>\n",
       "      <td>3417</td>\n",
       "      <td>0.033902</td>\n",
       "    </tr>\n",
       "    <tr>\n",
       "      <th>105</th>\n",
       "      <td>16</td>\n",
       "      <td>42</td>\n",
       "      <td>2.625000</td>\n",
       "    </tr>\n",
       "    <tr>\n",
       "      <th>119</th>\n",
       "      <td>21419</td>\n",
       "      <td>1811</td>\n",
       "      <td>0.084551</td>\n",
       "    </tr>\n",
       "    <tr>\n",
       "      <th>120</th>\n",
       "      <td>1953</td>\n",
       "      <td>265</td>\n",
       "      <td>0.135689</td>\n",
       "    </tr>\n",
       "    <tr>\n",
       "      <th>126</th>\n",
       "      <td>0</td>\n",
       "      <td>63</td>\n",
       "      <td>inf</td>\n",
       "    </tr>\n",
       "    <tr>\n",
       "      <th>129</th>\n",
       "      <td>850769</td>\n",
       "      <td>81848</td>\n",
       "      <td>0.096205</td>\n",
       "    </tr>\n",
       "    <tr>\n",
       "      <th>131</th>\n",
       "      <td>295</td>\n",
       "      <td>17</td>\n",
       "      <td>0.057627</td>\n",
       "    </tr>\n",
       "    <tr>\n",
       "      <th>134</th>\n",
       "      <td>2395</td>\n",
       "      <td>141</td>\n",
       "      <td>0.058873</td>\n",
       "    </tr>\n",
       "    <tr>\n",
       "      <th>143</th>\n",
       "      <td>18</td>\n",
       "      <td>0</td>\n",
       "      <td>0.000000</td>\n",
       "    </tr>\n",
       "    <tr>\n",
       "      <th>149</th>\n",
       "      <td>8392540</td>\n",
       "      <td>639284</td>\n",
       "      <td>0.076173</td>\n",
       "    </tr>\n",
       "    <tr>\n",
       "      <th>150</th>\n",
       "      <td>136302</td>\n",
       "      <td>25092</td>\n",
       "      <td>0.184091</td>\n",
       "    </tr>\n",
       "    <tr>\n",
       "      <th>180</th>\n",
       "      <td>542344</td>\n",
       "      <td>70329</td>\n",
       "      <td>0.129676</td>\n",
       "    </tr>\n",
       "    <tr>\n",
       "      <th>210</th>\n",
       "      <td>0</td>\n",
       "      <td>80</td>\n",
       "      <td>inf</td>\n",
       "    </tr>\n",
       "    <tr>\n",
       "      <th>265</th>\n",
       "      <td>9</td>\n",
       "      <td>2</td>\n",
       "      <td>0.222222</td>\n",
       "    </tr>\n",
       "    <tr>\n",
       "      <th>298</th>\n",
       "      <td>2681</td>\n",
       "      <td>1289</td>\n",
       "      <td>0.480791</td>\n",
       "    </tr>\n",
       "    <tr>\n",
       "      <th>300</th>\n",
       "      <td>1911</td>\n",
       "      <td>2535</td>\n",
       "      <td>1.326531</td>\n",
       "    </tr>\n",
       "    <tr>\n",
       "      <th>350</th>\n",
       "      <td>85</td>\n",
       "      <td>137</td>\n",
       "      <td>1.611765</td>\n",
       "    </tr>\n",
       "    <tr>\n",
       "      <th>400</th>\n",
       "      <td>50</td>\n",
       "      <td>70</td>\n",
       "      <td>1.400000</td>\n",
       "    </tr>\n",
       "    <tr>\n",
       "      <th>447</th>\n",
       "      <td>1115</td>\n",
       "      <td>2086</td>\n",
       "      <td>1.870852</td>\n",
       "    </tr>\n",
       "    <tr>\n",
       "      <th>450</th>\n",
       "      <td>179</td>\n",
       "      <td>293</td>\n",
       "      <td>1.636872</td>\n",
       "    </tr>\n",
       "    <tr>\n",
       "      <th>477</th>\n",
       "      <td>1934</td>\n",
       "      <td>3041</td>\n",
       "      <td>1.572389</td>\n",
       "    </tr>\n",
       "    <tr>\n",
       "      <th>480</th>\n",
       "      <td>3062</td>\n",
       "      <td>4006</td>\n",
       "      <td>1.308295</td>\n",
       "    </tr>\n",
       "    <tr>\n",
       "      <th>500</th>\n",
       "      <td>171</td>\n",
       "      <td>231</td>\n",
       "      <td>1.350877</td>\n",
       "    </tr>\n",
       "    <tr>\n",
       "      <th>536</th>\n",
       "      <td>953</td>\n",
       "      <td>9586</td>\n",
       "      <td>10.058762</td>\n",
       "    </tr>\n",
       "    <tr>\n",
       "      <th>596</th>\n",
       "      <td>34</td>\n",
       "      <td>25</td>\n",
       "      <td>0.735294</td>\n",
       "    </tr>\n",
       "    <tr>\n",
       "      <th>600</th>\n",
       "      <td>4</td>\n",
       "      <td>793</td>\n",
       "      <td>198.250000</td>\n",
       "    </tr>\n",
       "    <tr>\n",
       "      <th>699</th>\n",
       "      <td>451</td>\n",
       "      <td>193</td>\n",
       "      <td>0.427938</td>\n",
       "    </tr>\n",
       "    <tr>\n",
       "      <th>799</th>\n",
       "      <td>594</td>\n",
       "      <td>900</td>\n",
       "      <td>1.515152</td>\n",
       "    </tr>\n",
       "    <tr>\n",
       "      <th>800</th>\n",
       "      <td>0</td>\n",
       "      <td>1</td>\n",
       "      <td>inf</td>\n",
       "    </tr>\n",
       "    <tr>\n",
       "      <th>894</th>\n",
       "      <td>13394</td>\n",
       "      <td>16120</td>\n",
       "      <td>1.203524</td>\n",
       "    </tr>\n",
       "    <tr>\n",
       "      <th>930</th>\n",
       "      <td>462</td>\n",
       "      <td>1070</td>\n",
       "      <td>2.316017</td>\n",
       "    </tr>\n",
       "    <tr>\n",
       "      <th>1000</th>\n",
       "      <td>66</td>\n",
       "      <td>136</td>\n",
       "      <td>2.060606</td>\n",
       "    </tr>\n",
       "    <tr>\n",
       "      <th>1150</th>\n",
       "      <td>16</td>\n",
       "      <td>14</td>\n",
       "      <td>0.875000</td>\n",
       "    </tr>\n",
       "    <tr>\n",
       "      <th>1200</th>\n",
       "      <td>268</td>\n",
       "      <td>2360</td>\n",
       "      <td>8.805970</td>\n",
       "    </tr>\n",
       "    <tr>\n",
       "      <th>1299</th>\n",
       "      <td>1</td>\n",
       "      <td>126</td>\n",
       "      <td>126.000000</td>\n",
       "    </tr>\n",
       "    <tr>\n",
       "      <th>1399</th>\n",
       "      <td>0</td>\n",
       "      <td>6</td>\n",
       "      <td>inf</td>\n",
       "    </tr>\n",
       "    <tr>\n",
       "      <th>1599</th>\n",
       "      <td>646</td>\n",
       "      <td>1686</td>\n",
       "      <td>2.609907</td>\n",
       "    </tr>\n",
       "    <tr>\n",
       "      <th>1788</th>\n",
       "      <td>7388</td>\n",
       "      <td>13013</td>\n",
       "      <td>1.761370</td>\n",
       "    </tr>\n",
       "    <tr>\n",
       "      <th>2000</th>\n",
       "      <td>10</td>\n",
       "      <td>24</td>\n",
       "      <td>2.400000</td>\n",
       "    </tr>\n",
       "  </tbody>\n",
       "</table>\n",
       "</div>"
      ],
      "text/plain": [
       "is_churn               0       1       Ratio\n",
       "plan_list_price                             \n",
       "0                 585417   50718    0.086636\n",
       "1                      4      19    4.750000\n",
       "10                     3       1    0.333333\n",
       "15                     5       1    0.200000\n",
       "35                  1034     943    0.911992\n",
       "50                   120      72    0.600000\n",
       "70                    30      26    0.866667\n",
       "99               4493181  157591    0.035073\n",
       "100               100790    3417    0.033902\n",
       "105                   16      42    2.625000\n",
       "119                21419    1811    0.084551\n",
       "120                 1953     265    0.135689\n",
       "126                    0      63         inf\n",
       "129               850769   81848    0.096205\n",
       "131                  295      17    0.057627\n",
       "134                 2395     141    0.058873\n",
       "143                   18       0    0.000000\n",
       "149              8392540  639284    0.076173\n",
       "150               136302   25092    0.184091\n",
       "180               542344   70329    0.129676\n",
       "210                    0      80         inf\n",
       "265                    9       2    0.222222\n",
       "298                 2681    1289    0.480791\n",
       "300                 1911    2535    1.326531\n",
       "350                   85     137    1.611765\n",
       "400                   50      70    1.400000\n",
       "447                 1115    2086    1.870852\n",
       "450                  179     293    1.636872\n",
       "477                 1934    3041    1.572389\n",
       "480                 3062    4006    1.308295\n",
       "500                  171     231    1.350877\n",
       "536                  953    9586   10.058762\n",
       "596                   34      25    0.735294\n",
       "600                    4     793  198.250000\n",
       "699                  451     193    0.427938\n",
       "799                  594     900    1.515152\n",
       "800                    0       1         inf\n",
       "894                13394   16120    1.203524\n",
       "930                  462    1070    2.316017\n",
       "1000                  66     136    2.060606\n",
       "1150                  16      14    0.875000\n",
       "1200                 268    2360    8.805970\n",
       "1299                   1     126  126.000000\n",
       "1399                   0       6         inf\n",
       "1599                 646    1686    2.609907\n",
       "1788                7388   13013    1.761370\n",
       "2000                  10      24    2.400000"
      ]
     },
     "execution_count": 75,
     "metadata": {},
     "output_type": "execute_result"
    },
    {
     "data": {
      "image/png": "[encoded data removed]",
      "text/plain": [
       "<Figure size 576x432 with 1 Axes>"
      ]
     },
     "metadata": {
      "needs_background": "light"
     },
     "output_type": "display_data"
    }
   ],
   "source": [
    "# plan list price\n",
    "plan_price_crosstab=pd.crosstab(train_df['plan_list_price'],train_df['is_churn'])\n",
    "plan_price_crosstab.plot(kind='bar', stacked=True, figsize=(8, 6))\n",
    "plt.xlabel('Plan List Price')\n",
    "plt.ylabel('Number of Transactions')\n",
    "plt.title('Churn Distribution by Plan List Price')\n",
    "plan_price_crosstab[\"Ratio\"] =  plan_price_crosstab[1] / plan_price_crosstab[0]\n",
    "plan_price_crosstab"
   ]
  },
  {
   "cell_type": "markdown",
   "id": "5bc8de25",
   "metadata": {},
   "source": [
    "The most frequently listed price paid by members for their plan is 149. Members in this payment category have a churn rate of 7%. The second most frequently listed price paid is 99. Members in this payment category have a churn rate of 3.5%. Members paying 129 for their plan have a churn rate of 9%, and the ones paying 180 have a churn rate of 13%.This feature, as well as variations of it, will be an important feature for our churn prediction model as we can classify the types of members that churn based on their plan type by price (and in combination with the previous feature for the plan duration)"
   ]
  },
  {
   "cell_type": "markdown",
   "id": "3749b923",
   "metadata": {},
   "source": [
    "We now look at the transaction behaviour regarding autorenewal and cancellations, and how they relate to churn."
   ]
  },
  {
   "cell_type": "code",
   "execution_count": 77,
   "id": "fe1bc284",
   "metadata": {},
   "outputs": [
    {
     "data": {
      "text/html": [
       "<div>\n",
       "<style scoped>\n",
       "    .dataframe tbody tr th:only-of-type {\n",
       "        vertical-align: middle;\n",
       "    }\n",
       "\n",
       "    .dataframe tbody tr th {\n",
       "        vertical-align: top;\n",
       "    }\n",
       "\n",
       "    .dataframe thead th {\n",
       "        text-align: right;\n",
       "    }\n",
       "</style>\n",
       "<table border=\"1\" class=\"dataframe\">\n",
       "  <thead>\n",
       "    <tr style=\"text-align: right;\">\n",
       "      <th>is_churn</th>\n",
       "      <th>0</th>\n",
       "      <th>1</th>\n",
       "      <th>Ratio</th>\n",
       "    </tr>\n",
       "    <tr>\n",
       "      <th>is_auto_renew</th>\n",
       "      <th></th>\n",
       "      <th></th>\n",
       "      <th></th>\n",
       "    </tr>\n",
       "  </thead>\n",
       "  <tbody>\n",
       "    <tr>\n",
       "      <th>0</th>\n",
       "      <td>964662</td>\n",
       "      <td>317794</td>\n",
       "      <td>0.329436</td>\n",
       "    </tr>\n",
       "    <tr>\n",
       "      <th>1</th>\n",
       "      <td>14199457</td>\n",
       "      <td>773709</td>\n",
       "      <td>0.054489</td>\n",
       "    </tr>\n",
       "  </tbody>\n",
       "</table>\n",
       "</div>"
      ],
      "text/plain": [
       "is_churn              0       1     Ratio\n",
       "is_auto_renew                            \n",
       "0                964662  317794  0.329436\n",
       "1              14199457  773709  0.054489"
      ]
     },
     "execution_count": 77,
     "metadata": {},
     "output_type": "execute_result"
    },
    {
     "data": {
      "image/png": "[encoded data removed]",
      "text/plain": [
       "<Figure size 576x432 with 1 Axes>"
      ]
     },
     "metadata": {
      "needs_background": "light"
     },
     "output_type": "display_data"
    }
   ],
   "source": [
    "# Auto renewal churn\n",
    "auto_renew_crosstab=pd.crosstab(train_df['is_auto_renew'],train_df['is_churn'])\n",
    "auto_renew_crosstab.plot(kind='bar', stacked=True, figsize=(8, 6))\n",
    "plt.xlabel('Auto Renewal')\n",
    "plt.ylabel('Number of Transactions')\n",
    "plt.title('Churn Distribution by Subscription Auto Renewal')\n",
    "auto_renew_crosstab[\"Ratio\"] =  auto_renew_crosstab[1] / auto_renew_crosstab[0]\n",
    "auto_renew_crosstab"
   ]
  },
  {
   "cell_type": "markdown",
   "id": "175002b7",
   "metadata": {},
   "source": [
    "Members on subscription auto renewal have a significantly lower churn rate of 5% over members who are not enrolled in auto renewal with a churn rate of 33%."
   ]
  },
  {
   "cell_type": "code",
   "execution_count": 78,
   "id": "a3aa6450",
   "metadata": {},
   "outputs": [
    {
     "data": {
      "text/plain": [
       "(725435.5859477944,\n",
       " 0.0,\n",
       " 2,\n",
       " array([[1.19634425e+06, 8.61120478e+04, 3.02889698e-02],\n",
       "        [1.39677747e+07, 1.00539095e+06, 3.53635258e-01]]))"
      ]
     },
     "execution_count": 78,
     "metadata": {},
     "output_type": "execute_result"
    }
   ],
   "source": [
    "stats.chi2_contingency(auto_renew_crosstab)"
   ]
  },
  {
   "cell_type": "code",
   "execution_count": 80,
   "id": "77a86245",
   "metadata": {},
   "outputs": [
    {
     "data": {
      "text/html": [
       "<div>\n",
       "<style scoped>\n",
       "    .dataframe tbody tr th:only-of-type {\n",
       "        vertical-align: middle;\n",
       "    }\n",
       "\n",
       "    .dataframe tbody tr th {\n",
       "        vertical-align: top;\n",
       "    }\n",
       "\n",
       "    .dataframe thead th {\n",
       "        text-align: right;\n",
       "    }\n",
       "</style>\n",
       "<table border=\"1\" class=\"dataframe\">\n",
       "  <thead>\n",
       "    <tr style=\"text-align: right;\">\n",
       "      <th>is_churn</th>\n",
       "      <th>0</th>\n",
       "      <th>1</th>\n",
       "      <th>Ratio</th>\n",
       "    </tr>\n",
       "    <tr>\n",
       "      <th>is_cancel</th>\n",
       "      <th></th>\n",
       "      <th></th>\n",
       "      <th></th>\n",
       "    </tr>\n",
       "  </thead>\n",
       "  <tbody>\n",
       "    <tr>\n",
       "      <th>0</th>\n",
       "      <td>14930693</td>\n",
       "      <td>1043633</td>\n",
       "      <td>0.069898</td>\n",
       "    </tr>\n",
       "    <tr>\n",
       "      <th>1</th>\n",
       "      <td>233426</td>\n",
       "      <td>47870</td>\n",
       "      <td>0.205076</td>\n",
       "    </tr>\n",
       "  </tbody>\n",
       "</table>\n",
       "</div>"
      ],
      "text/plain": [
       "is_churn          0        1     Ratio\n",
       "is_cancel                             \n",
       "0          14930693  1043633  0.069898\n",
       "1            233426    47870  0.205076"
      ]
     },
     "execution_count": 80,
     "metadata": {},
     "output_type": "execute_result"
    },
    {
     "data": {
      "image/png": "[encoded data removed]",
      "text/plain": [
       "<Figure size 576x432 with 1 Axes>"
      ]
     },
     "metadata": {
      "needs_background": "light"
     },
     "output_type": "display_data"
    }
   ],
   "source": [
    "# Cancel\n",
    "is_cancel_crosstab=pd.crosstab(train_df['is_cancel'],train_df['is_churn'])\n",
    "is_cancel_crosstab.plot(kind='bar', stacked=True, figsize=(8, 6))\n",
    "plt.xlabel('Cancellations')\n",
    "plt.ylabel('Number of Transactions')\n",
    "plt.title('Churn Distribution by Subscription Cancellations')\n",
    "is_cancel_crosstab[\"Ratio\"] =  is_cancel_crosstab[1] / is_cancel_crosstab[0]\n",
    "is_cancel_crosstab"
   ]
  },
  {
   "cell_type": "markdown",
   "id": "7b015fa0",
   "metadata": {},
   "source": [
    "Members who did not cancel their subscription have a churn ratio of about 7%, while members who did cancel have a higher churn rate of 20%. This is not surprising as it is more likely that members who cancel will probably churn, however they could also subscribe to another plan."
   ]
  },
  {
   "cell_type": "code",
   "execution_count": 81,
   "id": "f24f9aeb",
   "metadata": {},
   "outputs": [
    {
     "data": {
      "text/plain": [
       "(48519.59646407465,\n",
       " 0.0,\n",
       " 2,\n",
       " array([[1.49017108e+07, 1.07261503e+06, 2.70215891e-01],\n",
       "        [2.62408234e+05, 1.88879667e+04, 4.75830432e-03]]))"
      ]
     },
     "execution_count": 81,
     "metadata": {},
     "output_type": "execute_result"
    }
   ],
   "source": [
    "stats.chi2_contingency(is_cancel_crosstab)"
   ]
  }
 ],
 "metadata": {
  "kernelspec": {
   "display_name": "Python 3 (ipykernel)",
   "language": "python",
   "name": "python3"
  },
  "language_info": {
   "codemirror_mode": {
    "name": "ipython",
    "version": 3
   },
   "file_extension": ".py",
   "mimetype": "text/x-python",
   "name": "python",
   "nbconvert_exporter": "python",
   "pygments_lexer": "ipython3",
   "version": "3.9.12"
  }
 },
 "nbformat": 4,
 "nbformat_minor": 5
}
